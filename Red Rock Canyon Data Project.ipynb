{
 "cells": [
  {
   "cell_type": "markdown",
   "id": "3ff1605b",
   "metadata": {},
   "source": [
    "## Red Rock Canyon Data Project\n",
    "\n",
    "Las Vegas is known for many things. The night life, the casinos, it's history with the \"mob\", and of course, the fact that it's a large city plopped down in the middle a desert. Although I've lived here for all of my adult life, I've never been the type of person that was interested in clubs or partying. I'm also not particularly fond of betting or gambling large sums of money. But, if there's one thing that's underrated about Las Vegas, I would sayz it's the nature. Now, I know what you're thinking, what's so cool about a desert landscape? Well, if it was a flat desert, I'd probably just agree with you. However, they call it the Las Vegas *Valley* for a reason. The city is surrounded by mountains. No matter what direction you look in, you can find a mountain range of some sort, and with mountains comes one of my favorite activities, **hiking!** \n",
    "\n",
    "To the west of Las Vegas lies the Red Rock Canyon. Recently, while looking a few hiking trails on the [official Red Rock Canyon website](https://www.redrockcanyonlv.org/), I noticed that each trail had metrics placed on their corresponding web page. Me being the type of person I am (*read: Nerd*), the first thing that came to my mind was, \"This is **DATA**\". So with that, a new project was born. This blog post is going to detail the steps I went through while completing this project. "
   ]
  },
  {
   "cell_type": "markdown",
   "id": "0c844c91",
   "metadata": {},
   "source": [
    "First things first, as with any project, one must lay out their plan and decide what tools they're going to use. This project was pretty small so I only needed to import a handful of libraries. I'm not going to go into detail about each individual library, but here are the ones that I put to use.  "
   ]
  },
  {
   "cell_type": "code",
   "execution_count": 3,
   "id": "e2267dc8",
   "metadata": {},
   "outputs": [],
   "source": [
    "from bs4 import BeautifulSoup\n",
    "import pandas as pd\n",
    "import plotly.express as px\n",
    "import requests\n",
    "import numpy as np\n",
    "import seaborn as sns\n"
   ]
  },
  {
   "cell_type": "markdown",
   "id": "4b863cdd",
   "metadata": {},
   "source": [
    "After importing the above libraries, my next goal was to scrap Red Rock Canyon's web pages for the information needed. A combination of the libraries Requests and bs4/BeautifulSoup  made this fairly simple to do. "
   ]
  },
  {
   "cell_type": "code",
   "execution_count": 4,
   "id": "050781ea",
   "metadata": {},
   "outputs": [],
   "source": [
    "\n",
    "#Setting user agent to prevent errors associated with \"empty\" user agents when doing an http request.\n",
    "user_agent = {'User-agent': 'Mozilla/5.0 (Windows NT 10.0; Win64; x64) AppleWebKit/537.36 (KHTML, like Gecko) Chrome/83.0.4103.97 Safari/537.36'}\n",
    "\n",
    "#Using requests to retrieve both html pages containing the target data. \n",
    "trails_page = requests.get(url = 'https://www.redrockcanyonlv.org/lasvegas/hikes-trails/', headers = user_agent).text\n",
    "trails_page2 = requests.get(url = 'https://www.redrockcanyonlv.org/lasvegas/hikes-trails/page/2/',headers = user_agent).text\n",
    "\n",
    "#Creating BeautifulSoup objects using the html pages we requested.\n",
    "trails_soup = BeautifulSoup(trails_page, 'html.parser')\n",
    "trails_soup2 = BeautifulSoup(trails_page2, 'html.parser')\n",
    "\n",
    "\n",
    "#Two List comprehensions to create a list of \"Trail Urls\" from our trails_soup objects. Finds all h2 tags with the class 'the-title'.\n",
    "#Then uses the object created from find_all() to get 'href' from 'a' tags. \n",
    "page1_list = [x.find(\"a\").get('href') for x in trails_soup.find_all('h2',{'class':'the-title'})]\n",
    "page2_list = [x.find(\"a\").get('href') for x in trails_soup2.find_all('h2',{'class':'the-title'})]\n",
    "\n",
    "\n",
    "#Concatenate the two lists together to make one list of Urls.\n",
    "trail_urls = page1_list + page2_list\n"
   ]
  },
  {
   "cell_type": "markdown",
   "id": "4d6d3335",
   "metadata": {},
   "source": [
    "Checking the results."
   ]
  },
  {
   "cell_type": "code",
   "execution_count": 5,
   "id": "059dca62",
   "metadata": {},
   "outputs": [
    {
     "data": {
      "text/plain": [
       "['https://www.redrockcanyonlv.org/moenkopi-loop/',\n",
       " 'https://www.redrockcanyonlv.org/calico-hills/',\n",
       " 'https://www.redrockcanyonlv.org/calico-tanks/',\n",
       " 'https://www.redrockcanyonlv.org/turtlehead-peak/',\n",
       " 'https://www.redrockcanyonlv.org/keystone-thrust/',\n",
       " 'https://www.redrockcanyonlv.org/white-rock-willow-springs/',\n",
       " 'https://www.redrockcanyonlv.org/grand-circle-loop/',\n",
       " 'https://www.redrockcanyonlv.org/white-rock-la-madre-spring-loop/',\n",
       " 'https://www.redrockcanyonlv.org/willow-springs-loop/',\n",
       " 'https://www.redrockcanyonlv.org/la-madre-spring/',\n",
       " 'https://www.redrockcanyonlv.org/petroglyph-wall-trail/',\n",
       " 'https://www.redrockcanyonlv.org/north-peak-trail/',\n",
       " 'https://www.redrockcanyonlv.org/bridge-mountain-trail/',\n",
       " 'https://www.redrockcanyonlv.org/lost-creek-childrens-discovery/',\n",
       " 'https://www.redrockcanyonlv.org/smyc/',\n",
       " 'https://www.redrockcanyonlv.org/ice-box-canyon/',\n",
       " 'https://www.redrockcanyonlv.org/dales/',\n",
       " 'https://www.redrockcanyonlv.org/pine-creek-canyon/',\n",
       " 'https://www.redrockcanyonlv.org/fire-ecology/',\n",
       " 'https://www.redrockcanyonlv.org/arnight/',\n",
       " 'https://www.redrockcanyonlv.org/knoll/',\n",
       " 'https://www.redrockcanyonlv.org/oak-creek-canyon/',\n",
       " 'https://www.redrockcanyonlv.org/oak-creek-cutoff/',\n",
       " 'https://www.redrockcanyonlv.org/south-oak-creek/',\n",
       " 'https://www.redrockcanyonlv.org/first-creek-canyon/',\n",
       " 'https://www.redrockcanyonlv.org/kraft-boulders/',\n",
       " 'https://www.redrockcanyonlv.org/genes-trail/',\n",
       " 'https://www.redrockcanyonlv.org/calico-overlook/',\n",
       " 'https://www.redrockcanyonlv.org/calico-basin-trail/',\n",
       " 'https://www.redrockcanyonlv.org/girl-scout-trail/',\n",
       " 'https://www.redrockcanyonlv.org/ash-spring-trail/']"
      ]
     },
     "execution_count": 5,
     "metadata": {},
     "output_type": "execute_result"
    }
   ],
   "source": [
    "trail_urls"
   ]
  },
  {
   "cell_type": "markdown",
   "id": "1288c79f",
   "metadata": {},
   "source": [
    "With my list of URLs the next task was to go through each each trail url, and to scrape the necessary information from them. Using list comprehension I created a list of BeautifulSoup objects for each url/webpage that I gathered in the trail_urls list.  "
   ]
  },
  {
   "cell_type": "code",
   "execution_count": 6,
   "id": "6d260895",
   "metadata": {},
   "outputs": [],
   "source": [
    "trail_htmls = [BeautifulSoup(requests.get(url = link ,headers = user_agent).text, 'html.parser') for link in trail_urls]"
   ]
  },
  {
   "cell_type": "markdown",
   "id": "9cf50b35",
   "metadata": {
    "collapsed": true
   },
   "source": [
    "The BeautifulSoup objects that were created above contained the information I needed. The next step was to parse through each object and compile all of the data into one dataframe."
   ]
  },
  {
   "cell_type": "code",
   "execution_count": 7,
   "id": "5dc52048",
   "metadata": {},
   "outputs": [],
   "source": [
    "#Creating DataFrame\n",
    "\n",
    "df = pd.DataFrame({'Name': [],\n",
    "                   'Distance (miles)': [],\n",
    "                   'Average Time (hours)':[],\n",
    "                   'Difficulty':[],\n",
    "                  })\n",
    "#For loop to grab needed data from Beautiful Soup objects created above.\n",
    "\n",
    "for x in trail_htmls:\n",
    "    #This grabs some metrics from the html code and then turns those metrics into a list.\n",
    "    scraped_metrics = x.find_all('div',{'class':'mk-single-content clearfix'})[0].find('p').text.split(';')\n",
    "\n",
    "    \n",
    "    #This grabs <title> of the webpage in order to get the name of the trail. \n",
    "    scraped_name = x.find_all('title')[0].get_text().split('|')[0].strip()\n",
    "\n",
    "    #This adds the trail name to the beggining of the metrics list.\n",
    "    scraped_metrics.insert(0, scraped_name) \n",
    "    \n",
    "    \n",
    "    \n",
    "    #This adds the list of information to the dataframe as row. \n",
    "    df.loc[len(df.index)] = scraped_metrics\n",
    "     "
   ]
  },
  {
   "cell_type": "markdown",
   "id": "c445df5c",
   "metadata": {
    "collapsed": true
   },
   "source": [
    "Taking a look at this data, it quickly becomes obvious that there is some inconsistent formatting going on. My next task was to clean the data in so that it can be used for analysis. First let's take a quick look at how the data frame currently appears."
   ]
  },
  {
   "cell_type": "code",
   "execution_count": 8,
   "id": "fe2ca3fa",
   "metadata": {},
   "outputs": [
    {
     "data": {
      "text/html": [
       "<div>\n",
       "<style scoped>\n",
       "    .dataframe tbody tr th:only-of-type {\n",
       "        vertical-align: middle;\n",
       "    }\n",
       "\n",
       "    .dataframe tbody tr th {\n",
       "        vertical-align: top;\n",
       "    }\n",
       "\n",
       "    .dataframe thead th {\n",
       "        text-align: right;\n",
       "    }\n",
       "</style>\n",
       "<table border=\"1\" class=\"dataframe\">\n",
       "  <thead>\n",
       "    <tr style=\"text-align: right;\">\n",
       "      <th></th>\n",
       "      <th>Name</th>\n",
       "      <th>Distance (miles)</th>\n",
       "      <th>Average Time (hours)</th>\n",
       "      <th>Difficulty</th>\n",
       "    </tr>\n",
       "  </thead>\n",
       "  <tbody>\n",
       "    <tr>\n",
       "      <th>0</th>\n",
       "      <td>Moenkopi Loop</td>\n",
       "      <td>Distance: 2 miles</td>\n",
       "      <td>Average time: 1.5hrs</td>\n",
       "      <td>Difficulty: EASY</td>\n",
       "    </tr>\n",
       "    <tr>\n",
       "      <th>1</th>\n",
       "      <td>Calico Hills</td>\n",
       "      <td>Distance 2-6 miles</td>\n",
       "      <td>Average time: 1.5 – 3.5 hrs</td>\n",
       "      <td>Difficulty: MODERATE</td>\n",
       "    </tr>\n",
       "    <tr>\n",
       "      <th>2</th>\n",
       "      <td>Calico Tanks</td>\n",
       "      <td>Distance 2.2 miles</td>\n",
       "      <td>Average time: 2hrs</td>\n",
       "      <td>Difficulty: MODERATE – STRENUOUS</td>\n",
       "    </tr>\n",
       "    <tr>\n",
       "      <th>3</th>\n",
       "      <td>Turtlehead Peak</td>\n",
       "      <td>Distance 4.6 miles</td>\n",
       "      <td>Average time: 3.5-4.5hrs</td>\n",
       "      <td>Difficulty: STRENUOUS</td>\n",
       "    </tr>\n",
       "    <tr>\n",
       "      <th>4</th>\n",
       "      <td>Keystone Thrust</td>\n",
       "      <td>Distance 2.4 miles</td>\n",
       "      <td>Average time: 1.5hrs</td>\n",
       "      <td>Difficulty: MODERATE</td>\n",
       "    </tr>\n",
       "    <tr>\n",
       "      <th>5</th>\n",
       "      <td>White Rock – Willow Springs</td>\n",
       "      <td>Distance: 4 miles</td>\n",
       "      <td>Average time: 2.5hrs</td>\n",
       "      <td>Difficulty: MODERATE</td>\n",
       "    </tr>\n",
       "    <tr>\n",
       "      <th>6</th>\n",
       "      <td>Grand Circle Loop</td>\n",
       "      <td>Distance: 11.4 miles</td>\n",
       "      <td>Average Time: 6 hrs</td>\n",
       "      <td>Difficulty: Strenuous</td>\n",
       "    </tr>\n",
       "    <tr>\n",
       "      <th>7</th>\n",
       "      <td>White Rock Mountain Loop</td>\n",
       "      <td>Distance 6.2 miles</td>\n",
       "      <td>Average time: 3.5hrs</td>\n",
       "      <td>Difficulty: STRENUOUS</td>\n",
       "    </tr>\n",
       "    <tr>\n",
       "      <th>8</th>\n",
       "      <td>Willow Spring Loop</td>\n",
       "      <td>Distance 1.1 miles</td>\n",
       "      <td>Average time: 1.25hrs</td>\n",
       "      <td>Difficulty: EASY</td>\n",
       "    </tr>\n",
       "    <tr>\n",
       "      <th>9</th>\n",
       "      <td>La Madre Spring</td>\n",
       "      <td>Distance 3.6 miles</td>\n",
       "      <td>Average time: 2hrs</td>\n",
       "      <td>Difficulty: MODERATE</td>\n",
       "    </tr>\n",
       "    <tr>\n",
       "      <th>10</th>\n",
       "      <td>Petroglyph Wall</td>\n",
       "      <td>Distance: 0.20 miles</td>\n",
       "      <td>Average Time: 30 minutes</td>\n",
       "      <td>Difficulty: Easy</td>\n",
       "    </tr>\n",
       "    <tr>\n",
       "      <th>11</th>\n",
       "      <td>North Peak</td>\n",
       "      <td>Distance: 11.8 miles</td>\n",
       "      <td>Average Time: 5 hrs</td>\n",
       "      <td>Difficulty: Strenuous</td>\n",
       "    </tr>\n",
       "    <tr>\n",
       "      <th>12</th>\n",
       "      <td>Bridge Mountain</td>\n",
       "      <td>Distance: 15.8 miles</td>\n",
       "      <td>Average Time: 6-7 hrs</td>\n",
       "      <td>Difficulty: Strenuous</td>\n",
       "    </tr>\n",
       "    <tr>\n",
       "      <th>13</th>\n",
       "      <td>Lost Creek – Children’s Discovery</td>\n",
       "      <td>Distance 0.80 miles</td>\n",
       "      <td>Average time: 1hr</td>\n",
       "      <td>Difficulty: EASY-MODERATE</td>\n",
       "    </tr>\n",
       "    <tr>\n",
       "      <th>14</th>\n",
       "      <td>SMYC</td>\n",
       "      <td>Distance: 2 miles</td>\n",
       "      <td>Average time: 2hrs</td>\n",
       "      <td>Difficulty: MODERATE</td>\n",
       "    </tr>\n",
       "    <tr>\n",
       "      <th>15</th>\n",
       "      <td>Ice Box Canyon</td>\n",
       "      <td>Distance 2.2 miles</td>\n",
       "      <td>Average time: 2 hrs</td>\n",
       "      <td>Difficulty: STRENUOUS</td>\n",
       "    </tr>\n",
       "    <tr>\n",
       "      <th>16</th>\n",
       "      <td>Dale’s</td>\n",
       "      <td>Distance 4 miles</td>\n",
       "      <td>Average time: 2.5hrs</td>\n",
       "      <td>Difficulty: MODERATE</td>\n",
       "    </tr>\n",
       "    <tr>\n",
       "      <th>17</th>\n",
       "      <td>Pine Creek Canyon</td>\n",
       "      <td>Distance 2.4 miles</td>\n",
       "      <td>Average time: 2hrs</td>\n",
       "      <td>Difficulty: EASY-MODERATE</td>\n",
       "    </tr>\n",
       "    <tr>\n",
       "      <th>18</th>\n",
       "      <td>Fire Ecology</td>\n",
       "      <td>Distance: 0.4 miles for loop, 0.9 miles round ...</td>\n",
       "      <td>Average time: 1hr</td>\n",
       "      <td>Difficulty: EASY</td>\n",
       "    </tr>\n",
       "    <tr>\n",
       "      <th>19</th>\n",
       "      <td>Arnight</td>\n",
       "      <td>Distance 2.2 miles</td>\n",
       "      <td>Average time: 1.5hrs</td>\n",
       "      <td>Difficulty: MODERATE</td>\n",
       "    </tr>\n",
       "    <tr>\n",
       "      <th>20</th>\n",
       "      <td>Knoll</td>\n",
       "      <td>Distance 3.6 miles</td>\n",
       "      <td>Average time: 2.5hrs</td>\n",
       "      <td>Difficulty: MODERATE</td>\n",
       "    </tr>\n",
       "    <tr>\n",
       "      <th>21</th>\n",
       "      <td>Oak Creek Canyon</td>\n",
       "      <td>Distance: 2 miles</td>\n",
       "      <td>Average time: 1.5hrs</td>\n",
       "      <td>Difficulty: EASY-MODERATE</td>\n",
       "    </tr>\n",
       "    <tr>\n",
       "      <th>22</th>\n",
       "      <td>Middle Oak Creek</td>\n",
       "      <td>Distance: 3 miles</td>\n",
       "      <td>Average Time: 3 hrs</td>\n",
       "      <td>Difficulty: Moderate</td>\n",
       "    </tr>\n",
       "    <tr>\n",
       "      <th>23</th>\n",
       "      <td>South Oak Creek</td>\n",
       "      <td>Distance: 4.8 miles</td>\n",
       "      <td>Average Time: 3.5 hrs</td>\n",
       "      <td>Difficulty: Moderate</td>\n",
       "    </tr>\n",
       "    <tr>\n",
       "      <th>24</th>\n",
       "      <td>First Creek Canyon</td>\n",
       "      <td>Distance: 4 miles</td>\n",
       "      <td>Average time: 2hrs</td>\n",
       "      <td>Difficulty: EASY-MODERATE</td>\n",
       "    </tr>\n",
       "    <tr>\n",
       "      <th>25</th>\n",
       "      <td>Kraft Mountain Loop Hike</td>\n",
       "      <td>Distance: 3.5 miles</td>\n",
       "      <td>Average Time: 2.5-3 hr</td>\n",
       "      <td>Difficulty: STRENUOUS</td>\n",
       "    </tr>\n",
       "    <tr>\n",
       "      <th>26</th>\n",
       "      <td>Gene’s Trail</td>\n",
       "      <td>Distance: 2.6 miles roundtrip</td>\n",
       "      <td>Average time: 1.5 hours</td>\n",
       "      <td>Difficulty: Moderate</td>\n",
       "    </tr>\n",
       "    <tr>\n",
       "      <th>27</th>\n",
       "      <td>Calico Overlook</td>\n",
       "      <td>Distance: 1.5 miles roundtrip</td>\n",
       "      <td>Average time: 1 hour</td>\n",
       "      <td>Difficulty: Easy to Moderate</td>\n",
       "    </tr>\n",
       "    <tr>\n",
       "      <th>28</th>\n",
       "      <td>Calico Basin Trail</td>\n",
       "      <td>Distance: 1.5 miles roundtrip</td>\n",
       "      <td>Average time: 1 hour</td>\n",
       "      <td>Difficulty: Easy</td>\n",
       "    </tr>\n",
       "    <tr>\n",
       "      <th>29</th>\n",
       "      <td>Girl Scout Trail</td>\n",
       "      <td>Distance: 1.3 miles roundtrip</td>\n",
       "      <td>Average time: 1 hour</td>\n",
       "      <td>Difficulty: Easy</td>\n",
       "    </tr>\n",
       "    <tr>\n",
       "      <th>30</th>\n",
       "      <td>Ash Spring Trail</td>\n",
       "      <td>Distance: 1 mile roundtrip</td>\n",
       "      <td>Average time: ½ hour</td>\n",
       "      <td>Difficulty: Easy</td>\n",
       "    </tr>\n",
       "  </tbody>\n",
       "</table>\n",
       "</div>"
      ],
      "text/plain": [
       "                                 Name  \\\n",
       "0                       Moenkopi Loop   \n",
       "1                        Calico Hills   \n",
       "2                        Calico Tanks   \n",
       "3                     Turtlehead Peak   \n",
       "4                     Keystone Thrust   \n",
       "5         White Rock – Willow Springs   \n",
       "6                   Grand Circle Loop   \n",
       "7            White Rock Mountain Loop   \n",
       "8                  Willow Spring Loop   \n",
       "9                     La Madre Spring   \n",
       "10                    Petroglyph Wall   \n",
       "11                         North Peak   \n",
       "12                    Bridge Mountain   \n",
       "13  Lost Creek – Children’s Discovery   \n",
       "14                               SMYC   \n",
       "15                     Ice Box Canyon   \n",
       "16                             Dale’s   \n",
       "17                  Pine Creek Canyon   \n",
       "18                       Fire Ecology   \n",
       "19                            Arnight   \n",
       "20                              Knoll   \n",
       "21                   Oak Creek Canyon   \n",
       "22                   Middle Oak Creek   \n",
       "23                    South Oak Creek   \n",
       "24                 First Creek Canyon   \n",
       "25           Kraft Mountain Loop Hike   \n",
       "26                       Gene’s Trail   \n",
       "27                    Calico Overlook   \n",
       "28                 Calico Basin Trail   \n",
       "29                   Girl Scout Trail   \n",
       "30                   Ash Spring Trail   \n",
       "\n",
       "                                     Distance (miles)  \\\n",
       "0                                   Distance: 2 miles   \n",
       "1                                  Distance 2-6 miles   \n",
       "2                                  Distance 2.2 miles   \n",
       "3                                  Distance 4.6 miles   \n",
       "4                                  Distance 2.4 miles   \n",
       "5                                   Distance: 4 miles   \n",
       "6                                Distance: 11.4 miles   \n",
       "7                                  Distance 6.2 miles   \n",
       "8                                  Distance 1.1 miles   \n",
       "9                                  Distance 3.6 miles   \n",
       "10                               Distance: 0.20 miles   \n",
       "11                               Distance: 11.8 miles   \n",
       "12                               Distance: 15.8 miles   \n",
       "13                                Distance 0.80 miles   \n",
       "14                                  Distance: 2 miles   \n",
       "15                                 Distance 2.2 miles   \n",
       "16                                   Distance 4 miles   \n",
       "17                                 Distance 2.4 miles   \n",
       "18  Distance: 0.4 miles for loop, 0.9 miles round ...   \n",
       "19                                 Distance 2.2 miles   \n",
       "20                                 Distance 3.6 miles   \n",
       "21                                  Distance: 2 miles   \n",
       "22                                  Distance: 3 miles   \n",
       "23                                Distance: 4.8 miles   \n",
       "24                                  Distance: 4 miles   \n",
       "25                                Distance: 3.5 miles   \n",
       "26                      Distance: 2.6 miles roundtrip   \n",
       "27                      Distance: 1.5 miles roundtrip   \n",
       "28                      Distance: 1.5 miles roundtrip   \n",
       "29                      Distance: 1.3 miles roundtrip   \n",
       "30                         Distance: 1 mile roundtrip   \n",
       "\n",
       "            Average Time (hours)                          Difficulty  \n",
       "0           Average time: 1.5hrs                    Difficulty: EASY  \n",
       "1    Average time: 1.5 – 3.5 hrs                Difficulty: MODERATE  \n",
       "2             Average time: 2hrs   Difficulty: MODERATE – STRENUOUS   \n",
       "3       Average time: 3.5-4.5hrs               Difficulty: STRENUOUS  \n",
       "4           Average time: 1.5hrs                Difficulty: MODERATE  \n",
       "5           Average time: 2.5hrs                Difficulty: MODERATE  \n",
       "6            Average Time: 6 hrs               Difficulty: Strenuous  \n",
       "7           Average time: 3.5hrs               Difficulty: STRENUOUS  \n",
       "8          Average time: 1.25hrs                    Difficulty: EASY  \n",
       "9             Average time: 2hrs                Difficulty: MODERATE  \n",
       "10      Average Time: 30 minutes                    Difficulty: Easy  \n",
       "11           Average Time: 5 hrs               Difficulty: Strenuous  \n",
       "12         Average Time: 6-7 hrs               Difficulty: Strenuous  \n",
       "13             Average time: 1hr           Difficulty: EASY-MODERATE  \n",
       "14            Average time: 2hrs                Difficulty: MODERATE  \n",
       "15           Average time: 2 hrs               Difficulty: STRENUOUS  \n",
       "16          Average time: 2.5hrs                Difficulty: MODERATE  \n",
       "17            Average time: 2hrs           Difficulty: EASY-MODERATE  \n",
       "18             Average time: 1hr                    Difficulty: EASY  \n",
       "19          Average time: 1.5hrs                Difficulty: MODERATE  \n",
       "20          Average time: 2.5hrs                Difficulty: MODERATE  \n",
       "21          Average time: 1.5hrs           Difficulty: EASY-MODERATE  \n",
       "22           Average Time: 3 hrs                Difficulty: Moderate  \n",
       "23         Average Time: 3.5 hrs                Difficulty: Moderate  \n",
       "24            Average time: 2hrs           Difficulty: EASY-MODERATE  \n",
       "25        Average Time: 2.5-3 hr               Difficulty: STRENUOUS  \n",
       "26       Average time: 1.5 hours                Difficulty: Moderate  \n",
       "27          Average time: 1 hour        Difficulty: Easy to Moderate  \n",
       "28          Average time: 1 hour                    Difficulty: Easy  \n",
       "29          Average time: 1 hour                    Difficulty: Easy  \n",
       "30          Average time: ½ hour                    Difficulty: Easy  "
      ]
     },
     "execution_count": 8,
     "metadata": {},
     "output_type": "execute_result"
    }
   ],
   "source": [
    "df"
   ]
  },
  {
   "cell_type": "code",
   "execution_count": 9,
   "id": "02db1165",
   "metadata": {},
   "outputs": [],
   "source": [
    "# Cleaning data.\n",
    "\n",
    "# Grabbing only the numeric value from distance column. \n",
    "for x,y in df.iterrows():\n",
    "    y[1] = y[1].split(' ')[1]\n",
    "    y[1]\n",
    "\n",
    "#Cleaning Average Time data. \n",
    "\n",
    "#Stripping excess information from strings and turning values into numerics. \n",
    "\n",
    "for x,y in df.iterrows():\n",
    "    y[2] = y[2].strip().split(':')[1].split('h')[0].strip()\n",
    "    y[2]=y[2].split('-')[0]\n",
    "\n",
    "\n",
    "#Petroglyph Wall had it's value as '30 minutes'.\n",
    "\n",
    "df.loc[10,'Average Time (hours)'] = .5\n",
    "\n",
    "#Ash Spring trail had it's value as '1/2'\n",
    "df.loc[30,'Average Time (hours)'] = .5\n",
    "\n",
    "\n",
    "# Cleaning to difficulty row and transforming our ordinal variables into numerical data. \n",
    "\n",
    "for x,y in df.iterrows():\n",
    "    y[3]=y[3].split(':')[1].strip().lower()\n",
    "    \n",
    "# For the sake of making this analysis easier, I am turning these variables into numbered strings. \n",
    "for x,y in df.iterrows():   \n",
    "\n",
    "    if df.loc[x,'Difficulty'] == 'easy':\n",
    "        df.loc[x,'Difficulty'] = '0'\n",
    "    elif df.loc[x,'Difficulty'] == 'easy-moderate':\n",
    "        df.loc[x,'Difficulty'] = '1'\n",
    "    elif df.loc[x,'Difficulty'] == 'easy to moderate':\n",
    "        df.loc[x,'Difficulty'] = '1'\n",
    "    elif df.loc[x,'Difficulty'] == 'moderate':\n",
    "        df.loc[x,'Difficulty'] = '2'\n",
    "    elif df.loc[x,'Difficulty'] == 'moderate - strenuous':\n",
    "        df.loc[x,'Difficulty'] = '3'\n",
    "    elif df.loc[x,'Difficulty'] == 'strenuous':\n",
    "        df.loc[x,'Difficulty'] = '4'\n",
    "        \n",
    "df.loc[2,'Difficulty'] = '3'"
   ]
  },
  {
   "cell_type": "markdown",
   "id": "88b560e6",
   "metadata": {},
   "source": [
    "Now let's take a quick look at how our dataframe again. "
   ]
  },
  {
   "cell_type": "code",
   "execution_count": 12,
   "id": "ced0d2fa",
   "metadata": {},
   "outputs": [
    {
     "data": {
      "text/html": [
       "<div>\n",
       "<style scoped>\n",
       "    .dataframe tbody tr th:only-of-type {\n",
       "        vertical-align: middle;\n",
       "    }\n",
       "\n",
       "    .dataframe tbody tr th {\n",
       "        vertical-align: top;\n",
       "    }\n",
       "\n",
       "    .dataframe thead th {\n",
       "        text-align: right;\n",
       "    }\n",
       "</style>\n",
       "<table border=\"1\" class=\"dataframe\">\n",
       "  <thead>\n",
       "    <tr style=\"text-align: right;\">\n",
       "      <th></th>\n",
       "      <th>Name</th>\n",
       "      <th>Distance (miles)</th>\n",
       "      <th>Average Time (hours)</th>\n",
       "      <th>Difficulty</th>\n",
       "    </tr>\n",
       "  </thead>\n",
       "  <tbody>\n",
       "    <tr>\n",
       "      <th>0</th>\n",
       "      <td>Moenkopi Loop</td>\n",
       "      <td>2</td>\n",
       "      <td>1.5</td>\n",
       "      <td>0</td>\n",
       "    </tr>\n",
       "    <tr>\n",
       "      <th>1</th>\n",
       "      <td>Calico Hills</td>\n",
       "      <td>2-6</td>\n",
       "      <td>1.5 – 3.5</td>\n",
       "      <td>2</td>\n",
       "    </tr>\n",
       "    <tr>\n",
       "      <th>2</th>\n",
       "      <td>Calico Tanks</td>\n",
       "      <td>2.2</td>\n",
       "      <td>2</td>\n",
       "      <td>3</td>\n",
       "    </tr>\n",
       "    <tr>\n",
       "      <th>3</th>\n",
       "      <td>Turtlehead Peak</td>\n",
       "      <td>4.6</td>\n",
       "      <td>3.5</td>\n",
       "      <td>4</td>\n",
       "    </tr>\n",
       "    <tr>\n",
       "      <th>4</th>\n",
       "      <td>Keystone Thrust</td>\n",
       "      <td>2.4</td>\n",
       "      <td>1.5</td>\n",
       "      <td>2</td>\n",
       "    </tr>\n",
       "    <tr>\n",
       "      <th>5</th>\n",
       "      <td>White Rock – Willow Springs</td>\n",
       "      <td>4</td>\n",
       "      <td>2.5</td>\n",
       "      <td>2</td>\n",
       "    </tr>\n",
       "    <tr>\n",
       "      <th>6</th>\n",
       "      <td>Grand Circle Loop</td>\n",
       "      <td>11.4</td>\n",
       "      <td>6</td>\n",
       "      <td>4</td>\n",
       "    </tr>\n",
       "    <tr>\n",
       "      <th>7</th>\n",
       "      <td>White Rock Mountain Loop</td>\n",
       "      <td>6.2</td>\n",
       "      <td>3.5</td>\n",
       "      <td>4</td>\n",
       "    </tr>\n",
       "    <tr>\n",
       "      <th>8</th>\n",
       "      <td>Willow Spring Loop</td>\n",
       "      <td>1.1</td>\n",
       "      <td>1.25</td>\n",
       "      <td>0</td>\n",
       "    </tr>\n",
       "    <tr>\n",
       "      <th>9</th>\n",
       "      <td>La Madre Spring</td>\n",
       "      <td>3.6</td>\n",
       "      <td>2</td>\n",
       "      <td>2</td>\n",
       "    </tr>\n",
       "    <tr>\n",
       "      <th>10</th>\n",
       "      <td>Petroglyph Wall</td>\n",
       "      <td>0.20</td>\n",
       "      <td>0.5</td>\n",
       "      <td>0</td>\n",
       "    </tr>\n",
       "    <tr>\n",
       "      <th>11</th>\n",
       "      <td>North Peak</td>\n",
       "      <td>11.8</td>\n",
       "      <td>5</td>\n",
       "      <td>4</td>\n",
       "    </tr>\n",
       "    <tr>\n",
       "      <th>12</th>\n",
       "      <td>Bridge Mountain</td>\n",
       "      <td>15.8</td>\n",
       "      <td>6</td>\n",
       "      <td>4</td>\n",
       "    </tr>\n",
       "    <tr>\n",
       "      <th>13</th>\n",
       "      <td>Lost Creek – Children’s Discovery</td>\n",
       "      <td>0.80</td>\n",
       "      <td>1</td>\n",
       "      <td>1</td>\n",
       "    </tr>\n",
       "    <tr>\n",
       "      <th>14</th>\n",
       "      <td>SMYC</td>\n",
       "      <td>2</td>\n",
       "      <td>2</td>\n",
       "      <td>2</td>\n",
       "    </tr>\n",
       "    <tr>\n",
       "      <th>15</th>\n",
       "      <td>Ice Box Canyon</td>\n",
       "      <td>2.2</td>\n",
       "      <td>2</td>\n",
       "      <td>4</td>\n",
       "    </tr>\n",
       "    <tr>\n",
       "      <th>16</th>\n",
       "      <td>Dale’s</td>\n",
       "      <td>4</td>\n",
       "      <td>2.5</td>\n",
       "      <td>2</td>\n",
       "    </tr>\n",
       "    <tr>\n",
       "      <th>17</th>\n",
       "      <td>Pine Creek Canyon</td>\n",
       "      <td>2.4</td>\n",
       "      <td>2</td>\n",
       "      <td>1</td>\n",
       "    </tr>\n",
       "    <tr>\n",
       "      <th>18</th>\n",
       "      <td>Fire Ecology</td>\n",
       "      <td>0.4</td>\n",
       "      <td>1</td>\n",
       "      <td>0</td>\n",
       "    </tr>\n",
       "    <tr>\n",
       "      <th>19</th>\n",
       "      <td>Arnight</td>\n",
       "      <td>2.2</td>\n",
       "      <td>1.5</td>\n",
       "      <td>2</td>\n",
       "    </tr>\n",
       "    <tr>\n",
       "      <th>20</th>\n",
       "      <td>Knoll</td>\n",
       "      <td>3.6</td>\n",
       "      <td>2.5</td>\n",
       "      <td>2</td>\n",
       "    </tr>\n",
       "    <tr>\n",
       "      <th>21</th>\n",
       "      <td>Oak Creek Canyon</td>\n",
       "      <td>2</td>\n",
       "      <td>1.5</td>\n",
       "      <td>1</td>\n",
       "    </tr>\n",
       "    <tr>\n",
       "      <th>22</th>\n",
       "      <td>Middle Oak Creek</td>\n",
       "      <td>3</td>\n",
       "      <td>3</td>\n",
       "      <td>2</td>\n",
       "    </tr>\n",
       "    <tr>\n",
       "      <th>23</th>\n",
       "      <td>South Oak Creek</td>\n",
       "      <td>4.8</td>\n",
       "      <td>3.5</td>\n",
       "      <td>2</td>\n",
       "    </tr>\n",
       "    <tr>\n",
       "      <th>24</th>\n",
       "      <td>First Creek Canyon</td>\n",
       "      <td>4</td>\n",
       "      <td>2</td>\n",
       "      <td>1</td>\n",
       "    </tr>\n",
       "    <tr>\n",
       "      <th>25</th>\n",
       "      <td>Kraft Mountain Loop Hike</td>\n",
       "      <td>3.5</td>\n",
       "      <td>2.5</td>\n",
       "      <td>4</td>\n",
       "    </tr>\n",
       "    <tr>\n",
       "      <th>26</th>\n",
       "      <td>Gene’s Trail</td>\n",
       "      <td>2.6</td>\n",
       "      <td>1.5</td>\n",
       "      <td>2</td>\n",
       "    </tr>\n",
       "    <tr>\n",
       "      <th>27</th>\n",
       "      <td>Calico Overlook</td>\n",
       "      <td>1.5</td>\n",
       "      <td>1</td>\n",
       "      <td>1</td>\n",
       "    </tr>\n",
       "    <tr>\n",
       "      <th>28</th>\n",
       "      <td>Calico Basin Trail</td>\n",
       "      <td>1.5</td>\n",
       "      <td>1</td>\n",
       "      <td>0</td>\n",
       "    </tr>\n",
       "    <tr>\n",
       "      <th>29</th>\n",
       "      <td>Girl Scout Trail</td>\n",
       "      <td>1.3</td>\n",
       "      <td>1</td>\n",
       "      <td>0</td>\n",
       "    </tr>\n",
       "    <tr>\n",
       "      <th>30</th>\n",
       "      <td>Ash Spring Trail</td>\n",
       "      <td>1</td>\n",
       "      <td>0.5</td>\n",
       "      <td>0</td>\n",
       "    </tr>\n",
       "  </tbody>\n",
       "</table>\n",
       "</div>"
      ],
      "text/plain": [
       "                                 Name Distance (miles) Average Time (hours)  \\\n",
       "0                       Moenkopi Loop                2                  1.5   \n",
       "1                        Calico Hills              2-6            1.5 – 3.5   \n",
       "2                        Calico Tanks              2.2                    2   \n",
       "3                     Turtlehead Peak              4.6                  3.5   \n",
       "4                     Keystone Thrust              2.4                  1.5   \n",
       "5         White Rock – Willow Springs                4                  2.5   \n",
       "6                   Grand Circle Loop             11.4                    6   \n",
       "7            White Rock Mountain Loop              6.2                  3.5   \n",
       "8                  Willow Spring Loop              1.1                 1.25   \n",
       "9                     La Madre Spring              3.6                    2   \n",
       "10                    Petroglyph Wall             0.20                  0.5   \n",
       "11                         North Peak             11.8                    5   \n",
       "12                    Bridge Mountain             15.8                    6   \n",
       "13  Lost Creek – Children’s Discovery             0.80                    1   \n",
       "14                               SMYC                2                    2   \n",
       "15                     Ice Box Canyon              2.2                    2   \n",
       "16                             Dale’s                4                  2.5   \n",
       "17                  Pine Creek Canyon              2.4                    2   \n",
       "18                       Fire Ecology              0.4                    1   \n",
       "19                            Arnight              2.2                  1.5   \n",
       "20                              Knoll              3.6                  2.5   \n",
       "21                   Oak Creek Canyon                2                  1.5   \n",
       "22                   Middle Oak Creek                3                    3   \n",
       "23                    South Oak Creek              4.8                  3.5   \n",
       "24                 First Creek Canyon                4                    2   \n",
       "25           Kraft Mountain Loop Hike              3.5                  2.5   \n",
       "26                       Gene’s Trail              2.6                  1.5   \n",
       "27                    Calico Overlook              1.5                    1   \n",
       "28                 Calico Basin Trail              1.5                    1   \n",
       "29                   Girl Scout Trail              1.3                    1   \n",
       "30                   Ash Spring Trail                1                  0.5   \n",
       "\n",
       "   Difficulty  \n",
       "0           0  \n",
       "1           2  \n",
       "2           3  \n",
       "3           4  \n",
       "4           2  \n",
       "5           2  \n",
       "6           4  \n",
       "7           4  \n",
       "8           0  \n",
       "9           2  \n",
       "10          0  \n",
       "11          4  \n",
       "12          4  \n",
       "13          1  \n",
       "14          2  \n",
       "15          4  \n",
       "16          2  \n",
       "17          1  \n",
       "18          0  \n",
       "19          2  \n",
       "20          2  \n",
       "21          1  \n",
       "22          2  \n",
       "23          2  \n",
       "24          1  \n",
       "25          4  \n",
       "26          2  \n",
       "27          1  \n",
       "28          0  \n",
       "29          0  \n",
       "30          0  "
      ]
     },
     "execution_count": 12,
     "metadata": {},
     "output_type": "execute_result"
    }
   ],
   "source": [
    "df"
   ]
  },
  {
   "cell_type": "markdown",
   "id": "9e2b9479",
   "metadata": {
    "collapsed": true
   },
   "source": [
    "Looking at the above, we can quickly see that the some of the trails have a little bit of \"weirdness\" going on, with their \"Average Times\". The trail \"Calico Hills\" had it's value as '1.5 – 3.5'. According to it's description on the website, this is because there are multiple \"versions\" of the trial. This is the description given directly from the webpage.\n",
    "\n",
    "> This trail runs along the base of the Calico Rocks from Calico Basin to Sandstone Quarry. Distance is variable since the trail can be accessed at either end or from either of the two Calico parking areas. A side trail runs from the fee booth parking lot and connects with this trail (2 – 6 miles, easy to moderate).\n",
    "\n",
    "Now this issue, took much more time than it needed to, completely due to my own indecisiveness. My original plan was to just remove the row. But then I thought that maybe I should include each different \"version\" of the trail while using some sort of imputation to determine each version's Difficulty rating. I initially thought this would be a great idea, but then comes the question of how we determine the Average Time for each trail, am I going to impute that too? Even more, just looking at the [map](https://www.redrockcanyonlv.org/wp-content/uploads/calico-hills.pdf), how did they manage to get a trail length of 2 miles out of any of these sections? At the end the day I decided to just remove the row.\n",
    "\n",
    "In regards to other trails that had non-concrete Average Times (for example Bridge Mountain), I simply chose to keep the first number listed. Unlike Calico Hills, most of these other trails didn't state the reason why they would give average time data in such a way. \n",
    "\n",
    "\n"
   ]
  },
  {
   "cell_type": "code",
   "execution_count": 13,
   "id": "82c1cde1",
   "metadata": {},
   "outputs": [],
   "source": [
    "#Dropping Calico Hills \n",
    "df.drop(index=1,inplace = True)"
   ]
  },
  {
   "cell_type": "markdown",
   "id": "e691050b",
   "metadata": {
    "collapsed": true
   },
   "source": [
    "Lastly we make sure all our continious  are turned to numerics. "
   ]
  },
  {
   "cell_type": "code",
   "execution_count": 14,
   "id": "1d600a49",
   "metadata": {},
   "outputs": [],
   "source": [
    "df['Average Time (hours)'] = pd.to_numeric(df['Average Time (hours)'])\n",
    "df['Distance (miles)'] = pd.to_numeric(df['Distance (miles)'])"
   ]
  },
  {
   "cell_type": "markdown",
   "id": "e0538d1d",
   "metadata": {},
   "source": [
    "Now that our data is all cleaned up, lets take a look at some descriptive statistics. "
   ]
  },
  {
   "cell_type": "code",
   "execution_count": 15,
   "id": "96365913",
   "metadata": {},
   "outputs": [
    {
     "name": "stdout",
     "output_type": "stream",
     "text": [
      "<class 'pandas.core.frame.DataFrame'>\n",
      "Int64Index: 30 entries, 0 to 30\n",
      "Data columns (total 4 columns):\n",
      " #   Column                Non-Null Count  Dtype  \n",
      "---  ------                --------------  -----  \n",
      " 0   Name                  30 non-null     object \n",
      " 1   Distance (miles)      30 non-null     float64\n",
      " 2   Average Time (hours)  30 non-null     float64\n",
      " 3   Difficulty            30 non-null     object \n",
      "dtypes: float64(2), object(2)\n",
      "memory usage: 1.2+ KB\n"
     ]
    }
   ],
   "source": [
    "df.info()"
   ]
  },
  {
   "cell_type": "code",
   "execution_count": 16,
   "id": "8ebafe04",
   "metadata": {},
   "outputs": [
    {
     "data": {
      "text/html": [
       "<div>\n",
       "<style scoped>\n",
       "    .dataframe tbody tr th:only-of-type {\n",
       "        vertical-align: middle;\n",
       "    }\n",
       "\n",
       "    .dataframe tbody tr th {\n",
       "        vertical-align: top;\n",
       "    }\n",
       "\n",
       "    .dataframe thead th {\n",
       "        text-align: right;\n",
       "    }\n",
       "</style>\n",
       "<table border=\"1\" class=\"dataframe\">\n",
       "  <thead>\n",
       "    <tr style=\"text-align: right;\">\n",
       "      <th></th>\n",
       "      <th>Distance (miles)</th>\n",
       "      <th>Average Time (hours)</th>\n",
       "    </tr>\n",
       "  </thead>\n",
       "  <tbody>\n",
       "    <tr>\n",
       "      <th>count</th>\n",
       "      <td>30.000000</td>\n",
       "      <td>30.000000</td>\n",
       "    </tr>\n",
       "    <tr>\n",
       "      <th>mean</th>\n",
       "      <td>3.603333</td>\n",
       "      <td>2.241667</td>\n",
       "    </tr>\n",
       "    <tr>\n",
       "      <th>std</th>\n",
       "      <td>3.529040</td>\n",
       "      <td>1.430100</td>\n",
       "    </tr>\n",
       "    <tr>\n",
       "      <th>min</th>\n",
       "      <td>0.200000</td>\n",
       "      <td>0.500000</td>\n",
       "    </tr>\n",
       "    <tr>\n",
       "      <th>25%</th>\n",
       "      <td>1.625000</td>\n",
       "      <td>1.312500</td>\n",
       "    </tr>\n",
       "    <tr>\n",
       "      <th>50%</th>\n",
       "      <td>2.400000</td>\n",
       "      <td>2.000000</td>\n",
       "    </tr>\n",
       "    <tr>\n",
       "      <th>75%</th>\n",
       "      <td>4.000000</td>\n",
       "      <td>2.500000</td>\n",
       "    </tr>\n",
       "    <tr>\n",
       "      <th>max</th>\n",
       "      <td>15.800000</td>\n",
       "      <td>6.000000</td>\n",
       "    </tr>\n",
       "  </tbody>\n",
       "</table>\n",
       "</div>"
      ],
      "text/plain": [
       "       Distance (miles)  Average Time (hours)\n",
       "count         30.000000             30.000000\n",
       "mean           3.603333              2.241667\n",
       "std            3.529040              1.430100\n",
       "min            0.200000              0.500000\n",
       "25%            1.625000              1.312500\n",
       "50%            2.400000              2.000000\n",
       "75%            4.000000              2.500000\n",
       "max           15.800000              6.000000"
      ]
     },
     "execution_count": 16,
     "metadata": {},
     "output_type": "execute_result"
    }
   ],
   "source": [
    "df.describe()"
   ]
  },
  {
   "cell_type": "markdown",
   "id": "2d22b0a8",
   "metadata": {},
   "source": [
    "Looking at the above table, the first thing that jumped out of me was the large gap between our 75% percentile in Distance (miles) and our max in the same parameter. Without even doing any additional math, it's very obvious that we have at least one outlier when it comes to our Distance parameter. Looking at a box plot, this becomes even more clear."
   ]
  },
  {
   "cell_type": "code",
   "execution_count": 22,
   "id": "36a77637",
   "metadata": {},
   "outputs": [
    {
     "data": {
      "text/plain": [
       "<AxesSubplot:ylabel='Distance (miles)'>"
      ]
     },
     "execution_count": 22,
     "metadata": {},
     "output_type": "execute_result"
    },
    {
     "data": {
      "image/png": "[encoded data removed]",
      "text/plain": [
       "<Figure size 432x288 with 1 Axes>"
      ]
     },
     "metadata": {
      "needs_background": "light"
     },
     "output_type": "display_data"
    }
   ],
   "source": [
    "sns.boxplot(data = df, y=\"Distance (miles)\")"
   ]
  },
  {
   "cell_type": "markdown",
   "id": "a159d55c",
   "metadata": {},
   "source": [
    "A similar, slightly less exageratted, pattern can be seen when looking at the \"Average Time\" columns. "
   ]
  },
  {
   "cell_type": "code",
   "execution_count": 24,
   "id": "2c368dd8",
   "metadata": {},
   "outputs": [
    {
     "data": {
      "text/plain": [
       "<AxesSubplot:ylabel='Average Time (hours)'>"
      ]
     },
     "execution_count": 24,
     "metadata": {},
     "output_type": "execute_result"
    },
    {
     "data": {
      "image/png": "[encoded data removed]",
      "text/plain": [
       "<Figure size 432x288 with 1 Axes>"
      ]
     },
     "metadata": {
      "needs_background": "light"
     },
     "output_type": "display_data"
    }
   ],
   "source": [
    "sns.boxplot(data = df, y=\"Average Time (hours)\")"
   ]
  },
  {
   "cell_type": "code",
   "execution_count": null,
   "id": "ce47cd0c",
   "metadata": {},
   "outputs": [],
   "source": [
    "Using histograms we can see that the distrubutions of these variables are skewed to the right. "
   ]
  },
  {
   "cell_type": "code",
   "execution_count": 34,
   "id": "9683ca9c",
   "metadata": {},
   "outputs": [
    {
     "data": {
      "text/plain": [
       "<AxesSubplot:xlabel='Distance (miles)', ylabel='Count'>"
      ]
     },
     "execution_count": 34,
     "metadata": {},
     "output_type": "execute_result"
    },
    {
     "data": {
      "image/png": "[encoded data removed]",
      "text/plain": [
       "<Figure size 432x288 with 1 Axes>"
      ]
     },
     "metadata": {
      "needs_background": "light"
     },
     "output_type": "display_data"
    }
   ],
   "source": [
    "sns.histplot(data = df, x = \"Distance (miles)\", kde = True)"
   ]
  },
  {
   "cell_type": "code",
   "execution_count": 33,
   "id": "ec3d13dc",
   "metadata": {},
   "outputs": [
    {
     "data": {
      "text/plain": [
       "<AxesSubplot:xlabel='Average Time (hours)', ylabel='Count'>"
      ]
     },
     "execution_count": 33,
     "metadata": {},
     "output_type": "execute_result"
    },
    {
     "data": {
      "image/png": "[encoded data removed]",
      "text/plain": [
       "<Figure size 432x288 with 1 Axes>"
      ]
     },
     "metadata": {
      "needs_background": "light"
     },
     "output_type": "display_data"
    }
   ],
   "source": [
    "sns.histplot(data = df, x = \"Average Time (hours)\", kde = True)"
   ]
  },
  {
   "cell_type": "code",
   "execution_count": null,
   "id": "ff2506cc",
   "metadata": {},
   "outputs": [],
   "source": []
  },
  {
   "cell_type": "code",
   "execution_count": 36,
   "id": "63cc45b4",
   "metadata": {},
   "outputs": [
    {
     "data": {
      "text/plain": [
       "<AxesSubplot:ylabel='Count'>"
      ]
     },
     "execution_count": 36,
     "metadata": {},
     "output_type": "execute_result"
    },
    {
     "data": {
      "image/png": "[encoded data removed]",
      "text/plain": [
       "<Figure size 432x288 with 1 Axes>"
      ]
     },
     "metadata": {
      "needs_background": "light"
     },
     "output_type": "display_data"
    }
   ],
   "source": [
    "sns.histplot(df , x = sorted(df['Difficulty']), kde = True)"
   ]
  },
  {
   "cell_type": "code",
   "execution_count": null,
   "id": "827951c8",
   "metadata": {},
   "outputs": [],
   "source": [
    "px.scatter(df, x = \"Distance (miles)\", y = \"Average Time (hours)\", \n",
    "           color = \"Difficulty\", color_discrete_sequence = px.colors.qualitative.Set1,template = \"plotly_dark\")"
   ]
  },
  {
   "cell_type": "markdown",
   "id": "d54296cc",
   "metadata": {},
   "source": [
    "Looking at this chart it immediatly became clear to me that the samples with a Diffuculty rating of 3 (Strenious), are much different than the trails with lower difficulty ratings. Most ofther ratings have all of their samples seemingly grouped together much more tightly. To further invertigate this, I decided to take a look at the standard deviations when looking at the samples for each individual difficulty rating.  "
   ]
  },
  {
   "cell_type": "code",
   "execution_count": null,
   "id": "36a5398e",
   "metadata": {},
   "outputs": [],
   "source": [
    "df['Difficulty'].unique()"
   ]
  },
  {
   "cell_type": "code",
   "execution_count": null,
   "id": "7eea1a61",
   "metadata": {},
   "outputs": [],
   "source": [
    "for x in sorted(df['Difficulty'].unique()):\n",
    "    print('Difficulty: ' + str(x))\n",
    "    print(df[df['Difficulty'] == x][['Distance (miles)','Average Time (hours)']].describe().std())"
   ]
  },
  {
   "cell_type": "code",
   "execution_count": null,
   "id": "d208b060",
   "metadata": {},
   "outputs": [],
   "source": [
    "#This is the part where I should visualize the STD's of each thingy..."
   ]
  },
  {
   "cell_type": "code",
   "execution_count": null,
   "id": "e68b4c02",
   "metadata": {},
   "outputs": [],
   "source": [
    "from sklearn.cluster import KMeans"
   ]
  },
  {
   "cell_type": "code",
   "execution_count": null,
   "id": "670bac85",
   "metadata": {},
   "outputs": [],
   "source": [
    "k_means_model = KMeans(n_clusters=5)"
   ]
  },
  {
   "cell_type": "code",
   "execution_count": null,
   "id": "c4610242",
   "metadata": {},
   "outputs": [],
   "source": [
    "k_means_model.fit(df[['Distance (miles)','Average Time (hours)']])"
   ]
  },
  {
   "cell_type": "code",
   "execution_count": null,
   "id": "2a404488",
   "metadata": {},
   "outputs": [],
   "source": [
    "k_means_model.labels_"
   ]
  },
  {
   "cell_type": "code",
   "execution_count": null,
   "id": "6f917bb8",
   "metadata": {},
   "outputs": [],
   "source": [
    "px.scatter(df, x = \"Distance (miles)\", y = \"Average Time (hours)\", \n",
    "           color = pd.Series(k_means_model.labels_).astype(str), color_discrete_sequence = px.colors.qualitative.Set1,template = \"plotly_dark\")"
   ]
  },
  {
   "cell_type": "code",
   "execution_count": null,
   "id": "3eea1c4f",
   "metadata": {},
   "outputs": [],
   "source": []
  },
  {
   "cell_type": "code",
   "execution_count": null,
   "id": "3daf23c1",
   "metadata": {},
   "outputs": [],
   "source": []
  },
  {
   "cell_type": "code",
   "execution_count": null,
   "id": "cbe13c5d",
   "metadata": {},
   "outputs": [],
   "source": []
  },
  {
   "cell_type": "code",
   "execution_count": null,
   "id": "919de901",
   "metadata": {},
   "outputs": [],
   "source": [
    "scaler.fit()"
   ]
  },
  {
   "cell_type": "code",
   "execution_count": null,
   "id": "68c4dd28",
   "metadata": {},
   "outputs": [],
   "source": [
    "px.scatter(df, x = \"Difficulty\", y = \"Average Time (hours)\")"
   ]
  },
  {
   "cell_type": "code",
   "execution_count": null,
   "id": "b38e6277",
   "metadata": {},
   "outputs": [],
   "source": [
    "px.scatter(df, x = \"Difficulty\", y = \"Distance (miles)\")"
   ]
  },
  {
   "cell_type": "code",
   "execution_count": null,
   "id": "2c2b7649",
   "metadata": {},
   "outputs": [],
   "source": [
    "px.box(df, y=\"Difficulty\")"
   ]
  },
  {
   "cell_type": "code",
   "execution_count": null,
   "id": "7ad054a3",
   "metadata": {},
   "outputs": [],
   "source": [
    "px.box(df, y=\"Distance (miles)\")"
   ]
  },
  {
   "cell_type": "code",
   "execution_count": null,
   "id": "4651de4c",
   "metadata": {},
   "outputs": [],
   "source": [
    "px.box(df, y=\"Average Time (hours)\")"
   ]
  },
  {
   "cell_type": "code",
   "execution_count": null,
   "id": "1e9f34db",
   "metadata": {},
   "outputs": [],
   "source": []
  }
 ],
 "metadata": {
  "kernelspec": {
   "display_name": "Python 3 (ipykernel)",
   "language": "python",
   "name": "python3"
  },
  "language_info": {
   "codemirror_mode": {
    "name": "ipython",
    "version": 3
   },
   "file_extension": ".py",
   "mimetype": "text/x-python",
   "name": "python",
   "nbconvert_exporter": "python",
   "pygments_lexer": "ipython3",
   "version": "3.10.4"
  }
 },
 "nbformat": 4,
 "nbformat_minor": 5
}
