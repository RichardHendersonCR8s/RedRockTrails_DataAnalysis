{
 "cells": [
  {
   "cell_type": "markdown",
   "id": "3ff1605b",
   "metadata": {},
   "source": [
    "## Red Rock Canyon Data Project\n",
    "\n",
    "Hello. Welcome to my Red Rock Canyon project Notebook.\n",
    "\n",
    "The purpose of this notebook is to display both data scraping, cleaning and visualization skills by using one of my hobbies as a topic. As a Las Vegas local, hiking is one of my favorite parts about the city I live in. In this notebook I will be using the Red Rock Canyon website to data set of hikes/trails located in the canyon. I hope you enjoy. \n",
    "\n",
    "-Richard Henderson"
   ]
  },
  {
   "cell_type": "code",
   "execution_count": 44,
   "id": "e2267dc8",
   "metadata": {},
   "outputs": [],
   "source": [
    "#Importating dependencies...\n",
    "\n",
    "from bs4 import BeautifulSoup\n",
    "import pandas as pd\n",
    "import plotly.express as px\n",
    "import requests\n"
   ]
  },
  {
   "cell_type": "code",
   "execution_count": 20,
   "id": "050781ea",
   "metadata": {},
   "outputs": [
    {
     "name": "stdout",
     "output_type": "stream",
     "text": [
      "<!DOCTYPE html>\n",
      "\n",
      "<html lang=\"en-US\">\n",
      "<head>\n",
      "<meta charset=\"utf-8\"/><meta content=\"width=device-width, initial-scale=1.0, minimum-scale=1.0, maximum-scale=1.0, user-scalable=0\" name=\"viewport\"/><meta content=\"IE=edge,chrome=1\" http-equiv=\"X-UA-Compatible\"/><meta content=\"telephone=no\" name=\"format-detection\"/><title>Hikes &amp; Trails - Round-Trip Distances &amp; Times | Red Rock Canyon Las Vegas</title>\n",
      "<script type=\"text/javascript\">var ajaxurl = \"https://www.redrockcanyonlv.org/wp-admin/admin-ajax.php\";</script>\n",
      "<!-- All in One SEO 4.1.5.3 -->\n",
      "<meta content=\"Hikes are numbered according to their location on the trail map. Georeferenced maps are also included with each trail and can be used with any georeferenced map mobile application.\" name=\"description\">\n",
      "<meta content=\"max-image-preview:large\" name=\"robots\"/>\n",
      "<link href=\"https://www.redrockcanyonlv.org/lasvegas/hikes-trails/\" rel=\"canonical\"/>\n",
      "<link href=\"https://www.redrockcanyonlv.org/lasvegas/hikes-trails/page/2/\" rel=\"next\"/>\n",
      "<script class=\"aioseo-schema\" type=\"application/ld+json\">\n",
      "\t\t\t{\"@context\":\"https:\\/\\/schema.org\",\"@graph\":[{\"@type\":\"WebSite\",\"@id\":\"https:\\/\\/www.redrockcanyonlv.org\\/#website\",\"url\":\"https:\\/\\/www.redrockcanyonlv.org\\/\",\"name\":\"Red Rock Canyon Las Vegas\",\"inLanguage\":\"en-US\",\"publisher\":{\"@id\":\"https:\\/\\/www.redrockcanyonlv.org\\/#organization\"}},{\"@type\":\"Organization\",\"@id\":\"https:\\/\\/www.redrockcanyonlv.org\\/#organization\",\"name\":\"Red Rock Canyon Las Vegas\",\"url\":\"https:\\/\\/www.redrockcanyonlv.org\\/\"},{\"@type\":\"BreadcrumbList\",\"@id\":\"https:\\/\\/www.redrockcanyonlv.org\\/lasvegas\\/hikes-trails\\/#breadcrumblist\",\"itemListElement\":[{\"@type\":\"ListItem\",\"@id\":\"https:\\/\\/www.redrockcanyonlv.org\\/#listItem\",\"position\":1,\"item\":{\"@type\":\"WebPage\",\"@id\":\"https:\\/\\/www.redrockcanyonlv.org\\/\",\"name\":\"Home\",\"description\":\"Red Rock Canyon features a one-way 13-mile scenic drive, a Visitor Center offering information and interpretation about recreation opportunities, hiking and trails, wildlife, vegetation, geology, cultural resources and much more.\",\"url\":\"https:\\/\\/www.redrockcanyonlv.org\\/\"},\"nextItem\":\"https:\\/\\/www.redrockcanyonlv.org\\/lasvegas\\/hikes-trails\\/#listItem\"},{\"@type\":\"ListItem\",\"@id\":\"https:\\/\\/www.redrockcanyonlv.org\\/lasvegas\\/hikes-trails\\/#listItem\",\"position\":2,\"item\":{\"@type\":\"WebPage\",\"@id\":\"https:\\/\\/www.redrockcanyonlv.org\\/lasvegas\\/hikes-trails\\/\",\"name\":\"Hikes &amp; Trails - Round-Trip Distances &amp; Times\",\"description\":\"Hikes are numbered according to their location on the trail map. Georeferenced maps are also included with each trail and can be used with any georeferenced map mobile application.\",\"url\":\"https:\\/\\/www.redrockcanyonlv.org\\/lasvegas\\/hikes-trails\\/\"},\"previousItem\":\"https:\\/\\/www.redrockcanyonlv.org\\/#listItem\"}]},{\"@type\":\"CollectionPage\",\"@id\":\"https:\\/\\/www.redrockcanyonlv.org\\/lasvegas\\/hikes-trails\\/#collectionpage\",\"url\":\"https:\\/\\/www.redrockcanyonlv.org\\/lasvegas\\/hikes-trails\\/\",\"name\":\"Hikes & Trails - Round-Trip Distances & Times | Red Rock Canyon Las Vegas\",\"description\":\"Hikes are numbered according to their location on the trail map. Georeferenced maps are also included with each trail and can be used with any georeferenced map mobile application.\",\"inLanguage\":\"en-US\",\"isPartOf\":{\"@id\":\"https:\\/\\/www.redrockcanyonlv.org\\/#website\"},\"breadcrumb\":{\"@id\":\"https:\\/\\/www.redrockcanyonlv.org\\/lasvegas\\/hikes-trails\\/#breadcrumblist\"}}]}\n",
      "\t\t</script>\n",
      "<!-- All in One SEO -->\n",
      "<style id=\"critical-path-css\" type=\"text/css\">\n",
      "\t\t\tbody,html{width:100%;height:100%;margin:0;padding:0}.page-preloader{top:0;left:0;z-index:999;position:fixed;height:100%;width:100%;text-align:center}.preloader-preview-area{animation-delay:-.2s;top:50%;-ms-transform:translateY(100%);transform:translateY(100%);margin-top:10px;max-height:calc(50% - 20px);opacity:1;width:100%;text-align:center;position:absolute}.preloader-logo{max-width:90%;top:50%;-ms-transform:translateY(-100%);transform:translateY(-100%);margin:-10px auto 0 auto;max-height:calc(50% - 20px);opacity:1;position:relative}.ball-pulse>div{width:15px;height:15px;border-radius:100%;margin:2px;animation-fill-mode:both;display:inline-block;animation:ball-pulse .75s infinite cubic-bezier(.2,.68,.18,1.08)}.ball-pulse>div:nth-child(1){animation-delay:-.36s}.ball-pulse>div:nth-child(2){animation-delay:-.24s}.ball-pulse>div:nth-child(3){animation-delay:-.12s}@keyframes ball-pulse{0%{transform:scale(1);opacity:1}45%{transform:scale(.1);opacity:.7}80%{transform:scale(1);opacity:1}}.ball-clip-rotate-pulse{position:relative;-ms-transform:translateY(-15px) translateX(-10px);transform:translateY(-15px) translateX(-10px);display:inline-block}.ball-clip-rotate-pulse>div{animation-fill-mode:both;position:absolute;top:0;left:0;border-radius:100%}.ball-clip-rotate-pulse>div:first-child{height:36px;width:36px;top:7px;left:-7px;animation:ball-clip-rotate-pulse-scale 1s 0s cubic-bezier(.09,.57,.49,.9) infinite}.ball-clip-rotate-pulse>div:last-child{position:absolute;width:50px;height:50px;left:-16px;top:-2px;background:0 0;border:2px solid;animation:ball-clip-rotate-pulse-rotate 1s 0s cubic-bezier(.09,.57,.49,.9) infinite;animation-duration:1s}@keyframes ball-clip-rotate-pulse-rotate{0%{transform:rotate(0) scale(1)}50%{transform:rotate(180deg) scale(.6)}100%{transform:rotate(360deg) scale(1)}}@keyframes ball-clip-rotate-pulse-scale{30%{transform:scale(.3)}100%{transform:scale(1)}}@keyframes square-spin{25%{transform:perspective(100px) rotateX(180deg) rotateY(0)}50%{transform:perspective(100px) rotateX(180deg) rotateY(180deg)}75%{transform:perspective(100px) rotateX(0) rotateY(180deg)}100%{transform:perspective(100px) rotateX(0) rotateY(0)}}.square-spin{display:inline-block}.square-spin>div{animation-fill-mode:both;width:50px;height:50px;animation:square-spin 3s 0s cubic-bezier(.09,.57,.49,.9) infinite}.cube-transition{position:relative;-ms-transform:translate(-25px,-25px);transform:translate(-25px,-25px);display:inline-block}.cube-transition>div{animation-fill-mode:both;width:15px;height:15px;position:absolute;top:-5px;left:-5px;animation:cube-transition 1.6s 0s infinite ease-in-out}.cube-transition>div:last-child{animation-delay:-.8s}@keyframes cube-transition{25%{transform:translateX(50px) scale(.5) rotate(-90deg)}50%{transform:translate(50px,50px) rotate(-180deg)}75%{transform:translateY(50px) scale(.5) rotate(-270deg)}100%{transform:rotate(-360deg)}}.ball-scale>div{border-radius:100%;margin:2px;animation-fill-mode:both;display:inline-block;height:60px;width:60px;animation:ball-scale 1s 0s ease-in-out infinite}@keyframes ball-scale{0%{transform:scale(0)}100%{transform:scale(1);opacity:0}}.line-scale>div{animation-fill-mode:both;display:inline-block;width:5px;height:50px;border-radius:2px;margin:2px}.line-scale>div:nth-child(1){animation:line-scale 1s -.5s infinite cubic-bezier(.2,.68,.18,1.08)}.line-scale>div:nth-child(2){animation:line-scale 1s -.4s infinite cubic-bezier(.2,.68,.18,1.08)}.line-scale>div:nth-child(3){animation:line-scale 1s -.3s infinite cubic-bezier(.2,.68,.18,1.08)}.line-scale>div:nth-child(4){animation:line-scale 1s -.2s infinite cubic-bezier(.2,.68,.18,1.08)}.line-scale>div:nth-child(5){animation:line-scale 1s -.1s infinite cubic-bezier(.2,.68,.18,1.08)}@keyframes line-scale{0%{transform:scaley(1)}50%{transform:scaley(.4)}100%{transform:scaley(1)}}.ball-scale-multiple{position:relative;-ms-transform:translateY(30px);transform:translateY(30px);display:inline-block}.ball-scale-multiple>div{border-radius:100%;animation-fill-mode:both;margin:2px;position:absolute;left:-30px;top:0;opacity:0;margin:0;width:50px;height:50px;animation:ball-scale-multiple 1s 0s linear infinite}.ball-scale-multiple>div:nth-child(2){animation-delay:-.2s}.ball-scale-multiple>div:nth-child(3){animation-delay:-.2s}@keyframes ball-scale-multiple{0%{transform:scale(0);opacity:0}5%{opacity:1}100%{transform:scale(1);opacity:0}}.ball-pulse-sync{display:inline-block}.ball-pulse-sync>div{width:15px;height:15px;border-radius:100%;margin:2px;animation-fill-mode:both;display:inline-block}.ball-pulse-sync>div:nth-child(1){animation:ball-pulse-sync .6s -.21s infinite ease-in-out}.ball-pulse-sync>div:nth-child(2){animation:ball-pulse-sync .6s -.14s infinite ease-in-out}.ball-pulse-sync>div:nth-child(3){animation:ball-pulse-sync .6s -70ms infinite ease-in-out}@keyframes ball-pulse-sync{33%{transform:translateY(10px)}66%{transform:translateY(-10px)}100%{transform:translateY(0)}}.transparent-circle{display:inline-block;border-top:.5em solid rgba(255,255,255,.2);border-right:.5em solid rgba(255,255,255,.2);border-bottom:.5em solid rgba(255,255,255,.2);border-left:.5em solid #fff;transform:translateZ(0);animation:transparent-circle 1.1s infinite linear;width:50px;height:50px;border-radius:50%}.transparent-circle:after{border-radius:50%;width:10em;height:10em}@keyframes transparent-circle{0%{transform:rotate(0)}100%{transform:rotate(360deg)}}.ball-spin-fade-loader{position:relative;top:-10px;left:-10px;display:inline-block}.ball-spin-fade-loader>div{width:15px;height:15px;border-radius:100%;margin:2px;animation-fill-mode:both;position:absolute;animation:ball-spin-fade-loader 1s infinite linear}.ball-spin-fade-loader>div:nth-child(1){top:25px;left:0;animation-delay:-.84s;-webkit-animation-delay:-.84s}.ball-spin-fade-loader>div:nth-child(2){top:17.05px;left:17.05px;animation-delay:-.72s;-webkit-animation-delay:-.72s}.ball-spin-fade-loader>div:nth-child(3){top:0;left:25px;animation-delay:-.6s;-webkit-animation-delay:-.6s}.ball-spin-fade-loader>div:nth-child(4){top:-17.05px;left:17.05px;animation-delay:-.48s;-webkit-animation-delay:-.48s}.ball-spin-fade-loader>div:nth-child(5){top:-25px;left:0;animation-delay:-.36s;-webkit-animation-delay:-.36s}.ball-spin-fade-loader>div:nth-child(6){top:-17.05px;left:-17.05px;animation-delay:-.24s;-webkit-animation-delay:-.24s}.ball-spin-fade-loader>div:nth-child(7){top:0;left:-25px;animation-delay:-.12s;-webkit-animation-delay:-.12s}.ball-spin-fade-loader>div:nth-child(8){top:17.05px;left:-17.05px;animation-delay:0s;-webkit-animation-delay:0s}@keyframes ball-spin-fade-loader{50%{opacity:.3;transform:scale(.4)}100%{opacity:1;transform:scale(1)}}\t\t</style>\n",
      "<link href=\"//www.google.com\" rel=\"dns-prefetch\"/>\n",
      "<link href=\"//s.w.org\" rel=\"dns-prefetch\"/>\n",
      "<link href=\"https://www.redrockcanyonlv.org/feed/\" rel=\"alternate\" title=\"Red Rock Canyon Las Vegas » Feed\" type=\"application/rss+xml\"/>\n",
      "<link href=\"https://www.redrockcanyonlv.org/comments/feed/\" rel=\"alternate\" title=\"Red Rock Canyon Las Vegas » Comments Feed\" type=\"application/rss+xml\"/>\n",
      "<link href=\"https://www.redrockcanyonlv.org/wp-content/themes/jupiter/assets/images/favicon.png\" rel=\"shortcut icon\"/>\n",
      "<link href=\"https://www.redrockcanyonlv.org/lasvegas/hikes-trails/feed/\" rel=\"alternate\" title=\"Red Rock Canyon Las Vegas » Hikes &amp; Trails - Round-Trip Distances &amp; Times Category Feed\" type=\"application/rss+xml\"/>\n",
      "<script type=\"text/javascript\">window.abb = {};php = {};window.PHP = {};PHP.ajax = \"https://www.redrockcanyonlv.org/wp-admin/admin-ajax.php\";PHP.wp_p_id = \"\";var mk_header_parallax, mk_banner_parallax, mk_page_parallax, mk_footer_parallax, mk_body_parallax;var mk_images_dir = \"https://www.redrockcanyonlv.org/wp-content/themes/jupiter/assets/images\",mk_theme_js_path = \"https://www.redrockcanyonlv.org/wp-content/themes/jupiter/assets/js\",mk_theme_dir = \"https://www.redrockcanyonlv.org/wp-content/themes/jupiter\",mk_captcha_placeholder = \"Enter Captcha\",mk_captcha_invalid_txt = \"Invalid. Try again.\",mk_captcha_correct_txt = \"Captcha correct.\",mk_responsive_nav_width = 1220,mk_vertical_header_back = \"Back\",mk_vertical_header_anim = \"1\",mk_check_rtl = true,mk_grid_width = 1200,mk_ajax_search_option = \"fullscreen_search\",mk_preloader_bg_color = \"#fff\",mk_accent_color = \"#841617\",mk_go_to_top =  \"false\",mk_smooth_scroll =  \"true\",mk_preloader_bar_color = \"#841617\",mk_preloader_logo = \"https://www.redrockcanyonlv.org/wp-content/uploads/red-rock-canyon-las-vegas.png\";mk_typekit_id   = \"\",mk_google_fonts = [\"Cabin:100italic,200italic,300italic,400italic,500italic,600italic,700italic,800italic,900italic,100,200,300,400,500,600,700,800,900\"],mk_global_lazyload = true;</script> <style type=\"text/css\">\n",
      "\t.wp-pagenavi{float:left !important; }\n",
      "\t</style>\n",
      "<link href=\"https://www.redrockcanyonlv.org/wp-includes/css/dashicons.min.css\" id=\"dashicons-css\" media=\"all\" rel=\"stylesheet\" type=\"text/css\"/>\n",
      "<link href=\"https://www.redrockcanyonlv.org/wp-content/plugins/wunderground/assets/css/wunderground.css\" id=\"wunderground-css\" media=\"all\" rel=\"stylesheet\" type=\"text/css\"/>\n",
      "<link href=\"https://www.redrockcanyonlv.org/wp-content/plugins/jquery-colorbox/themes/theme6/colorbox.css\" id=\"colorbox-theme6-css\" media=\"screen\" rel=\"stylesheet\" type=\"text/css\"/>\n",
      "<link href=\"https://www.redrockcanyonlv.org/wp-includes/css/dist/block-library/style.min.css\" id=\"wp-block-library-css\" media=\"all\" rel=\"stylesheet\" type=\"text/css\"/>\n",
      "<style id=\"wp-block-library-theme-inline-css\" type=\"text/css\">\n",
      "#start-resizable-editor-section{display:none}.wp-block-audio figcaption{color:#555;font-size:13px;text-align:center}.is-dark-theme .wp-block-audio figcaption{color:hsla(0,0%,100%,.65)}.wp-block-code{font-family:Menlo,Consolas,monaco,monospace;color:#1e1e1e;padding:.8em 1em;border:1px solid #ddd;border-radius:4px}.wp-block-embed figcaption{color:#555;font-size:13px;text-align:center}.is-dark-theme .wp-block-embed figcaption{color:hsla(0,0%,100%,.65)}.blocks-gallery-caption{color:#555;font-size:13px;text-align:center}.is-dark-theme .blocks-gallery-caption{color:hsla(0,0%,100%,.65)}.wp-block-image figcaption{color:#555;font-size:13px;text-align:center}.is-dark-theme .wp-block-image figcaption{color:hsla(0,0%,100%,.65)}.wp-block-pullquote{border-top:4px solid;border-bottom:4px solid;margin-bottom:1.75em;color:currentColor}.wp-block-pullquote__citation,.wp-block-pullquote cite,.wp-block-pullquote footer{color:currentColor;text-transform:uppercase;font-size:.8125em;font-style:normal}.wp-block-quote{border-left:.25em solid;margin:0 0 1.75em;padding-left:1em}.wp-block-quote cite,.wp-block-quote footer{color:currentColor;font-size:.8125em;position:relative;font-style:normal}.wp-block-quote.has-text-align-right{border-left:none;border-right:.25em solid;padding-left:0;padding-right:1em}.wp-block-quote.has-text-align-center{border:none;padding-left:0}.wp-block-quote.is-large,.wp-block-quote.is-style-large{border:none}.wp-block-search .wp-block-search__label{font-weight:700}.wp-block-group.has-background{padding:1.25em 2.375em;margin-top:0;margin-bottom:0}.wp-block-separator{border:none;border-bottom:2px solid;margin-left:auto;margin-right:auto;opacity:.4}.wp-block-separator:not(.is-style-wide):not(.is-style-dots){width:100px}.wp-block-separator.has-background:not(.is-style-dots){border-bottom:none;height:1px}.wp-block-separator.has-background:not(.is-style-wide):not(.is-style-dots){height:2px}.wp-block-table thead{border-bottom:3px solid}.wp-block-table tfoot{border-top:3px solid}.wp-block-table td,.wp-block-table th{padding:.5em;border:1px solid;word-break:normal}.wp-block-table figcaption{color:#555;font-size:13px;text-align:center}.is-dark-theme .wp-block-table figcaption{color:hsla(0,0%,100%,.65)}.wp-block-video figcaption{color:#555;font-size:13px;text-align:center}.is-dark-theme .wp-block-video figcaption{color:hsla(0,0%,100%,.65)}.wp-block-template-part.has-background{padding:1.25em 2.375em;margin-top:0;margin-bottom:0}#end-resizable-editor-section{display:none}\n",
      "</style>\n",
      "<link href=\"https://www.redrockcanyonlv.org/wp-content/plugins/events-manager/includes/css/events_manager.css\" id=\"events-manager-css\" media=\"all\" rel=\"stylesheet\" type=\"text/css\"/>\n",
      "<link href=\"https://www.redrockcanyonlv.org/wp-content/plugins/wp-fullcalendar/includes/css/main.css\" id=\"wp-fullcalendar-css\" media=\"all\" rel=\"stylesheet\" type=\"text/css\"/>\n",
      "<link href=\"https://www.redrockcanyonlv.org/wp-content/themes/jupiter/assets/stylesheet/min/full-styles.6.10.0.css\" id=\"theme-styles-css\" media=\"all\" rel=\"stylesheet\" type=\"text/css\"/>\n",
      "<style id=\"theme-styles-inline-css\" type=\"text/css\">\n",
      "\n",
      "\t\t\t#wpadminbar {\n",
      "\t\t\t\t-webkit-backface-visibility: hidden;\n",
      "\t\t\t\tbackface-visibility: hidden;\n",
      "\t\t\t\t-webkit-perspective: 1000;\n",
      "\t\t\t\t-ms-perspective: 1000;\n",
      "\t\t\t\tperspective: 1000;\n",
      "\t\t\t\t-webkit-transform: translateZ(0px);\n",
      "\t\t\t\t-ms-transform: translateZ(0px);\n",
      "\t\t\t\ttransform: translateZ(0px);\n",
      "\t\t\t}\n",
      "\t\t\t@media screen and (max-width: 600px) {\n",
      "\t\t\t\t#wpadminbar {\n",
      "\t\t\t\t\tposition: fixed !important;\n",
      "\t\t\t\t}\n",
      "\t\t\t}\n",
      "\t\t\n",
      "body { background-color:#fff; } .hb-custom-header #mk-page-introduce, .mk-header { background-color:#2b6ca3;background-image:url(https://www.redrockcanyonlv.org/wp-content/uploads/red-rock-header-bg.jpg);background-position:center center;background-size:cover;-webkit-background-size:cover;-moz-background-size:cover; } .hb-custom-header > div, .mk-header-bg { background:-webkit-linear-gradient(top,#ffffff 0%, #eeeeee 100%);background:linear-gradient(to bottom,#ffffff 0%, #eeeeee 100%) } .mk-classic-nav-bg { background:-webkit-linear-gradient(top,#ffffff 0%, #eeeeee 100%);background:linear-gradient(to bottom,#ffffff 0%, #eeeeee 100%) } .master-holder-bg { background-color:#fff; } #mk-footer { background-color:#7d909f; } #mk-boxed-layout { -webkit-box-shadow:0 0 px rgba(0, 0, 0, ); -moz-box-shadow:0 0 px rgba(0, 0, 0, ); box-shadow:0 0 px rgba(0, 0, 0, ); } .mk-news-tab .mk-tabs-tabs .is-active a, .mk-fancy-title.pattern-style span, .mk-fancy-title.pattern-style.color-gradient span:after, .page-bg-color { background-color:#fff; } .page-title { font-size:30px; color:#ffffff; text-transform:uppercase; font-weight:700; letter-spacing:2px; } .page-subtitle { font-size:16px; line-height:100%; color:#e5e5e5; font-size:16px; text-transform:none; } .mk-header { border-bottom:1px solid #ededed; } .header-style-1 .mk-header-padding-wrapper, .header-style-2 .mk-header-padding-wrapper, .header-style-3 .mk-header-padding-wrapper { padding-top:136px; } .mk-process-steps[max-width~=\"950px\"] ul::before { display:none !important; } .mk-process-steps[max-width~=\"950px\"] li { margin-bottom:30px !important; width:100% !important; text-align:center; } .mk-event-countdown-ul[max-width~=\"750px\"] li { width:90%; display:block; margin:0 auto 15px; } body { font-family:Cabin } @font-face { font-family:'star'; src:url('https://www.redrockcanyonlv.org/wp-content/themes/jupiter/assets/stylesheet/fonts/star/font.eot'); src:url('https://www.redrockcanyonlv.org/wp-content/themes/jupiter/assets/stylesheet/fonts/star/font.eot?#iefix') format('embedded-opentype'), url('https://www.redrockcanyonlv.org/wp-content/themes/jupiter/assets/stylesheet/fonts/star/font.woff') format('woff'), url('https://www.redrockcanyonlv.org/wp-content/themes/jupiter/assets/stylesheet/fonts/star/font.ttf') format('truetype'), url('https://www.redrockcanyonlv.org/wp-content/themes/jupiter/assets/stylesheet/fonts/star/font.svg#star') format('svg'); font-weight:normal; font-style:normal; } @font-face { font-family:'WooCommerce'; src:url('https://www.redrockcanyonlv.org/wp-content/themes/jupiter/assets/stylesheet/fonts/woocommerce/font.eot'); src:url('https://www.redrockcanyonlv.org/wp-content/themes/jupiter/assets/stylesheet/fonts/woocommerce/font.eot?#iefix') format('embedded-opentype'), url('https://www.redrockcanyonlv.org/wp-content/themes/jupiter/assets/stylesheet/fonts/woocommerce/font.woff') format('woff'), url('https://www.redrockcanyonlv.org/wp-content/themes/jupiter/assets/stylesheet/fonts/woocommerce/font.ttf') format('truetype'), url('https://www.redrockcanyonlv.org/wp-content/themes/jupiter/assets/stylesheet/fonts/woocommerce/font.svg#WooCommerce') format('svg'); font-weight:normal; font-style:normal; }\n",
      "</style>\n",
      "<link href=\"https://www.redrockcanyonlv.org/wp-content/themes/jupiter/header-builder/includes/assets/css/mkhb-render.css\" id=\"mkhb-render-css\" media=\"all\" rel=\"stylesheet\" type=\"text/css\"/>\n",
      "<link href=\"https://www.redrockcanyonlv.org/wp-content/themes/jupiter/header-builder/includes/assets/css/mkhb-row.css\" id=\"mkhb-row-css\" media=\"all\" rel=\"stylesheet\" type=\"text/css\"/>\n",
      "<link href=\"https://www.redrockcanyonlv.org/wp-content/themes/jupiter/header-builder/includes/assets/css/mkhb-column.css\" id=\"mkhb-column-css\" media=\"all\" rel=\"stylesheet\" type=\"text/css\"/>\n",
      "<link href=\"https://www.redrockcanyonlv.org/wp-content/uploads/mk_assets/theme-options-production-1638917485.css\" id=\"theme-options-css\" media=\"all\" rel=\"stylesheet\" type=\"text/css\"/>\n",
      "<link href=\"https://www.redrockcanyonlv.org/wp-content/plugins/jupiter-donut/assets/css/shortcodes-styles.min.css\" id=\"jupiter-donut-shortcodes-css\" media=\"all\" rel=\"stylesheet\" type=\"text/css\"/>\n",
      "<link href=\"https://www.redrockcanyonlv.org/wp-content/themes/jupiter-child/style.css\" id=\"mk-style-css\" media=\"all\" rel=\"stylesheet\" type=\"text/css\"/>\n",
      "<link href=\"https://www.redrockcanyonlv.org/wp-content/plugins/wp-pagenavi-style/css/css3_gray_glossy.css\" id=\"wp-pagenavi-style-css\" media=\"all\" rel=\"stylesheet\" type=\"text/css\"/>\n",
      "<script id=\"jquery-core-js\" src=\"https://www.redrockcanyonlv.org/wp-includes/js/jquery/jquery.min.js\" type=\"text/javascript\"></script>\n",
      "<script id=\"jquery-migrate-js\" src=\"https://www.redrockcanyonlv.org/wp-includes/js/jquery/jquery-migrate.min.js\" type=\"text/javascript\"></script>\n",
      "<script id=\"jquery-ui-core-js\" src=\"https://www.redrockcanyonlv.org/wp-includes/js/jquery/ui/core.min.js\" type=\"text/javascript\"></script>\n",
      "<script id=\"jquery-ui-menu-js\" src=\"https://www.redrockcanyonlv.org/wp-includes/js/jquery/ui/menu.min.js\" type=\"text/javascript\"></script>\n",
      "<script id=\"regenerator-runtime-js\" src=\"https://www.redrockcanyonlv.org/wp-includes/js/dist/vendor/regenerator-runtime.min.js\" type=\"text/javascript\"></script>\n",
      "<script id=\"wp-polyfill-js\" src=\"https://www.redrockcanyonlv.org/wp-includes/js/dist/vendor/wp-polyfill.min.js\" type=\"text/javascript\"></script>\n",
      "<script id=\"wp-dom-ready-js\" src=\"https://www.redrockcanyonlv.org/wp-includes/js/dist/dom-ready.min.js\" type=\"text/javascript\"></script>\n",
      "<script id=\"wp-hooks-js\" src=\"https://www.redrockcanyonlv.org/wp-includes/js/dist/hooks.min.js\" type=\"text/javascript\"></script>\n",
      "<script id=\"wp-i18n-js\" src=\"https://www.redrockcanyonlv.org/wp-includes/js/dist/i18n.min.js\" type=\"text/javascript\"></script>\n",
      "<script id=\"wp-i18n-js-after\" type=\"text/javascript\">\n",
      "wp.i18n.setLocaleData( { 'text direction\\u0004ltr': [ 'ltr' ] } );\n",
      "</script>\n",
      "<script id=\"wp-a11y-js-translations\" type=\"text/javascript\">\n",
      "( function( domain, translations ) {\n",
      "\tvar localeData = translations.locale_data[ domain ] || translations.locale_data.messages;\n",
      "\tlocaleData[\"\"].domain = domain;\n",
      "\twp.i18n.setLocaleData( localeData, domain );\n",
      "} )( \"default\", { \"locale_data\": { \"messages\": { \"\": {} } } } );\n",
      "</script>\n",
      "<script id=\"wp-a11y-js\" src=\"https://www.redrockcanyonlv.org/wp-includes/js/dist/a11y.min.js\" type=\"text/javascript\"></script>\n",
      "<script id=\"jquery-ui-autocomplete-js-extra\" type=\"text/javascript\">\n",
      "/* <![CDATA[ */\n",
      "var uiAutocompleteL10n = {\"noResults\":\"No results found.\",\"oneResult\":\"1 result found. Use up and down arrow keys to navigate.\",\"manyResults\":\"%d results found. Use up and down arrow keys to navigate.\",\"itemSelected\":\"Item selected.\"};\n",
      "/* ]]> */\n",
      "</script>\n",
      "<script id=\"jquery-ui-autocomplete-js\" src=\"https://www.redrockcanyonlv.org/wp-includes/js/jquery/ui/autocomplete.min.js\" type=\"text/javascript\"></script>\n",
      "<script id=\"wunderground-widget-js-extra\" type=\"text/javascript\">\n",
      "/* <![CDATA[ */\n",
      "var WuWidget = {\"apiKey\":\"3ffab52910ec1a0e\",\"_wpnonce\":\"c235c0b79e\",\"ajaxurl\":\"https:\\/\\/www.redrockcanyonlv.org\\/wp-admin\\/admin-ajax.php\",\"is_admin\":\"\",\"subdomain\":\"www\"};\n",
      "/* ]]> */\n",
      "</script>\n",
      "<script id=\"wunderground-widget-js\" src=\"https://www.redrockcanyonlv.org/wp-content/plugins/wunderground/assets/js/widget.min.js\" type=\"text/javascript\"></script>\n",
      "<script id=\"colorbox-js-extra\" type=\"text/javascript\">\n",
      "/* <![CDATA[ */\n",
      "var jQueryColorboxSettingsArray = {\"jQueryColorboxVersion\":\"4.6.2\",\"colorboxInline\":\"false\",\"colorboxIframe\":\"false\",\"colorboxGroupId\":\"\",\"colorboxTitle\":\"\",\"colorboxWidth\":\"false\",\"colorboxHeight\":\"false\",\"colorboxMaxWidth\":\"false\",\"colorboxMaxHeight\":\"false\",\"colorboxSlideshow\":\"false\",\"colorboxSlideshowAuto\":\"false\",\"colorboxScalePhotos\":\"false\",\"colorboxPreloading\":\"false\",\"colorboxOverlayClose\":\"false\",\"colorboxLoop\":\"true\",\"colorboxEscKey\":\"true\",\"colorboxArrowKey\":\"true\",\"colorboxScrolling\":\"true\",\"colorboxOpacity\":\"0.85\",\"colorboxTransition\":\"elastic\",\"colorboxSpeed\":\"350\",\"colorboxSlideshowSpeed\":\"2500\",\"colorboxClose\":\"close\",\"colorboxNext\":\"next\",\"colorboxPrevious\":\"previous\",\"colorboxSlideshowStart\":\"start slideshow\",\"colorboxSlideshowStop\":\"stop slideshow\",\"colorboxCurrent\":\"{current} of {total} images\",\"colorboxXhrError\":\"This content failed to load.\",\"colorboxImgError\":\"This image failed to load.\",\"colorboxImageMaxWidth\":\"false\",\"colorboxImageMaxHeight\":\"false\",\"colorboxImageHeight\":\"false\",\"colorboxImageWidth\":\"false\",\"colorboxLinkHeight\":\"false\",\"colorboxLinkWidth\":\"false\",\"colorboxInitialHeight\":\"100\",\"colorboxInitialWidth\":\"300\",\"autoColorboxJavaScript\":\"\",\"autoHideFlash\":\"true\",\"autoColorbox\":\"\",\"autoColorboxGalleries\":\"true\",\"addZoomOverlay\":\"\",\"useGoogleJQuery\":\"\",\"colorboxAddClassToLinks\":\"\"};\n",
      "/* ]]> */\n",
      "</script>\n",
      "<script id=\"colorbox-js\" src=\"https://www.redrockcanyonlv.org/wp-content/plugins/jquery-colorbox/js/jquery.colorbox-min.js\" type=\"text/javascript\"></script>\n",
      "<script id=\"colorbox-wrapper-js\" src=\"https://www.redrockcanyonlv.org/wp-content/plugins/jquery-colorbox/js/jquery-colorbox-wrapper-min.js\" type=\"text/javascript\"></script>\n",
      "<script id=\"jquery-ui-mouse-js\" src=\"https://www.redrockcanyonlv.org/wp-includes/js/jquery/ui/mouse.min.js\" type=\"text/javascript\"></script>\n",
      "<script id=\"jquery-ui-sortable-js\" src=\"https://www.redrockcanyonlv.org/wp-includes/js/jquery/ui/sortable.min.js\" type=\"text/javascript\"></script>\n",
      "<script data-no-minify=\"\" data-noptimize=\"\" id=\"mk-webfontloader-js\" src=\"https://www.redrockcanyonlv.org/wp-content/themes/jupiter/assets/js/plugins/wp-enqueue/min/webfontloader.js\" type=\"text/javascript\"></script>\n",
      "<script id=\"mk-webfontloader-js-after\" type=\"text/javascript\">\n",
      "WebFontConfig = {\n",
      "\ttimeout: 2000\n",
      "}\n",
      "\n",
      "if ( mk_typekit_id.length > 0 ) {\n",
      "\tWebFontConfig.typekit = {\n",
      "\t\tid: mk_typekit_id\n",
      "\t}\n",
      "}\n",
      "\n",
      "if ( mk_google_fonts.length > 0 ) {\n",
      "\tWebFontConfig.google = {\n",
      "\t\tfamilies:  mk_google_fonts\n",
      "\t}\n",
      "}\n",
      "\n",
      "if ( (mk_google_fonts.length > 0 || mk_typekit_id.length > 0) && navigator.userAgent.indexOf(\"Speed Insights\") == -1) {\n",
      "\tWebFont.load( WebFontConfig );\n",
      "}\n",
      "\t\t\n",
      "</script>\n",
      "<script id=\"jquery-ui-datepicker-js\" src=\"https://www.redrockcanyonlv.org/wp-includes/js/jquery/ui/datepicker.min.js\" type=\"text/javascript\"></script>\n",
      "<script id=\"jquery-ui-datepicker-js-after\" type=\"text/javascript\">\n",
      "jQuery(document).ready(function(jQuery){jQuery.datepicker.setDefaults({\"closeText\":\"Close\",\"currentText\":\"Today\",\"monthNames\":[\"January\",\"February\",\"March\",\"April\",\"May\",\"June\",\"July\",\"August\",\"September\",\"October\",\"November\",\"December\"],\"monthNamesShort\":[\"Jan\",\"Feb\",\"Mar\",\"Apr\",\"May\",\"Jun\",\"Jul\",\"Aug\",\"Sep\",\"Oct\",\"Nov\",\"Dec\"],\"nextText\":\"Next\",\"prevText\":\"Previous\",\"dayNames\":[\"Sunday\",\"Monday\",\"Tuesday\",\"Wednesday\",\"Thursday\",\"Friday\",\"Saturday\"],\"dayNamesShort\":[\"Sun\",\"Mon\",\"Tue\",\"Wed\",\"Thu\",\"Fri\",\"Sat\"],\"dayNamesMin\":[\"S\",\"M\",\"T\",\"W\",\"T\",\"F\",\"S\"],\"dateFormat\":\"MM d, yy\",\"firstDay\":1,\"isRTL\":false});});\n",
      "</script>\n",
      "<script id=\"jquery-ui-resizable-js\" src=\"https://www.redrockcanyonlv.org/wp-includes/js/jquery/ui/resizable.min.js\" type=\"text/javascript\"></script>\n",
      "<script id=\"jquery-ui-draggable-js\" src=\"https://www.redrockcanyonlv.org/wp-includes/js/jquery/ui/draggable.min.js\" type=\"text/javascript\"></script>\n",
      "<script id=\"jquery-ui-controlgroup-js\" src=\"https://www.redrockcanyonlv.org/wp-includes/js/jquery/ui/controlgroup.min.js\" type=\"text/javascript\"></script>\n",
      "<script id=\"jquery-ui-checkboxradio-js\" src=\"https://www.redrockcanyonlv.org/wp-includes/js/jquery/ui/checkboxradio.min.js\" type=\"text/javascript\"></script>\n",
      "<script id=\"jquery-ui-button-js\" src=\"https://www.redrockcanyonlv.org/wp-includes/js/jquery/ui/button.min.js\" type=\"text/javascript\"></script>\n",
      "<script id=\"jquery-ui-dialog-js\" src=\"https://www.redrockcanyonlv.org/wp-includes/js/jquery/ui/dialog.min.js\" type=\"text/javascript\"></script>\n",
      "<script id=\"events-manager-js-extra\" type=\"text/javascript\">\n",
      "/* <![CDATA[ */\n",
      "var EM = {\"ajaxurl\":\"https:\\/\\/www.redrockcanyonlv.org\\/wp-admin\\/admin-ajax.php\",\"locationajaxurl\":\"https:\\/\\/www.redrockcanyonlv.org\\/wp-admin\\/admin-ajax.php?action=locations_search\",\"firstDay\":\"1\",\"locale\":\"en\",\"dateFormat\":\"mm\\/dd\\/yy\",\"ui_css\":\"https:\\/\\/www.redrockcanyonlv.org\\/wp-content\\/plugins\\/events-manager\\/includes\\/css\\/jquery-ui.min.css\",\"show24hours\":\"0\",\"is_ssl\":\"1\",\"txt_search\":\"Search\",\"txt_searching\":\"Searching...\",\"txt_loading\":\"Loading...\"};\n",
      "/* ]]> */\n",
      "</script>\n",
      "<script id=\"events-manager-js\" src=\"https://www.redrockcanyonlv.org/wp-content/plugins/events-manager/includes/js/events-manager.js\" type=\"text/javascript\"></script>\n",
      "<script id=\"jquery-ui-selectmenu-js\" src=\"https://www.redrockcanyonlv.org/wp-includes/js/jquery/ui/selectmenu.min.js\" type=\"text/javascript\"></script>\n",
      "<script id=\"jquery-ui-tooltip-js\" src=\"https://www.redrockcanyonlv.org/wp-includes/js/jquery/ui/tooltip.min.js\" type=\"text/javascript\"></script>\n",
      "<script id=\"moment-js\" src=\"https://www.redrockcanyonlv.org/wp-includes/js/dist/vendor/moment.min.js\" type=\"text/javascript\"></script>\n",
      "<script id=\"moment-js-after\" type=\"text/javascript\">\n",
      "moment.updateLocale( 'en_US', {\"months\":[\"January\",\"February\",\"March\",\"April\",\"May\",\"June\",\"July\",\"August\",\"September\",\"October\",\"November\",\"December\"],\"monthsShort\":[\"Jan\",\"Feb\",\"Mar\",\"Apr\",\"May\",\"Jun\",\"Jul\",\"Aug\",\"Sep\",\"Oct\",\"Nov\",\"Dec\"],\"weekdays\":[\"Sunday\",\"Monday\",\"Tuesday\",\"Wednesday\",\"Thursday\",\"Friday\",\"Saturday\"],\"weekdaysShort\":[\"Sun\",\"Mon\",\"Tue\",\"Wed\",\"Thu\",\"Fri\",\"Sat\"],\"week\":{\"dow\":1},\"longDateFormat\":{\"LT\":\"g:i a\",\"LTS\":null,\"L\":null,\"LL\":\"F j, Y\",\"LLL\":\"F j, Y g:i a\",\"LLLL\":null}} );\n",
      "</script>\n",
      "<script id=\"wp-fullcalendar-js-extra\" type=\"text/javascript\">\n",
      "/* <![CDATA[ */\n",
      "var WPFC = {\"ajaxurl\":\"https:\\/\\/www.redrockcanyonlv.org\\/wp-admin\\/admin-ajax.php?action=WP_FullCalendar\",\"firstDay\":\"1\",\"wpfc_theme\":\"\",\"wpfc_limit\":\"6\",\"wpfc_limit_txt\":\"\",\"timeFormat\":\"h(:mm)a\",\"defaultView\":\"month\",\"weekends\":\"true\",\"header\":{\"left\":\"prev,next today\",\"center\":\"title\",\"right\":\"month,basicWeek,basicDay\"},\"wpfc_qtips\":\"\"};\n",
      "/* ]]> */\n",
      "</script>\n",
      "<script id=\"wp-fullcalendar-js\" src=\"https://www.redrockcanyonlv.org/wp-content/plugins/wp-fullcalendar/includes/js/main.js\" type=\"text/javascript\"></script>\n",
      "<link href=\"https://www.redrockcanyonlv.org/wp-json/\" rel=\"https://api.w.org/\"/><link href=\"https://www.redrockcanyonlv.org/wp-json/wp/v2/categories/7\" rel=\"alternate\" type=\"application/json\"/><link href=\"https://www.redrockcanyonlv.org/xmlrpc.php?rsd\" rel=\"EditURI\" title=\"RSD\" type=\"application/rsd+xml\"/>\n",
      "<link href=\"https://www.redrockcanyonlv.org/wp-includes/wlwmanifest.xml\" rel=\"wlwmanifest\" type=\"application/wlwmanifest+xml\"/>\n",
      "<style type=\"text/css\">\n",
      "\t .wp-pagenavi\n",
      "\t{\n",
      "\t\tfont-size:12px !important;\n",
      "\t}\n",
      "\t</style>\n",
      "<link href=\"/wp-content/uploads/fbrfg/apple-touch-icon.png\" rel=\"apple-touch-icon\" sizes=\"152x152\"/>\n",
      "<link href=\"/wp-content/uploads/fbrfg/favicon-32x32.png\" rel=\"icon\" sizes=\"32x32\" type=\"image/png\"/>\n",
      "<link href=\"/wp-content/uploads/fbrfg/favicon-16x16.png\" rel=\"icon\" sizes=\"16x16\" type=\"image/png\"/>\n",
      "<link href=\"/wp-content/uploads/fbrfg/manifest.json\" rel=\"manifest\"/>\n",
      "<link color=\"#5bbad5\" href=\"/wp-content/uploads/fbrfg/safari-pinned-tab.svg\" rel=\"mask-icon\"/>\n",
      "<link href=\"/wp-content/uploads/fbrfg/favicon.ico\" rel=\"shortcut icon\"/>\n",
      "<meta content=\"/wp-content/uploads/fbrfg/browserconfig.xml\" name=\"msapplication-config\"/>\n",
      "<meta content=\"#ffffff\" name=\"theme-color\"/><meta content=\"\" itemprop=\"author\"><meta content=\"July 27, 2012\" itemprop=\"datePublished\"><meta content=\"February 21, 2020\" itemprop=\"dateModified\"/><meta content=\"Red Rock Canyon Las Vegas\" itemprop=\"publisher\"/><script> var isTest = false; </script><meta content=\"Powered by WPBakery Page Builder - drag and drop page builder for WordPress.\" name=\"generator\"/>\n",
      "<style type=\"text/css\">.grecaptcha-badge {\r\n",
      "    display: none !important;\r\n",
      "}</style><meta content=\"Jupiter Child Theme \" name=\"generator\"/><noscript><style> .wpb_animate_when_almost_visible { opacity: 1; }</style></noscript><script>\n",
      "  (function(i,s,o,g,r,a,m){i['GoogleAnalyticsObject']=r;i[r]=i[r]||function(){\n",
      "  (i[r].q=i[r].q||[]).push(arguments)},i[r].l=1*new Date();a=s.createElement(o),\n",
      "  m=s.getElementsByTagName(o)[0];a.async=1;a.src=g;m.parentNode.insertBefore(a,m)\n",
      "  })(window,document,'script','https://www.google-analytics.com/analytics.js','ga');\n",
      "\n",
      "  ga('create', 'UA-13102530-33', 'auto');\n",
      "  ga('send', 'pageview');\n",
      "\n",
      "</script>\n",
      "</meta></meta></meta></head>\n",
      "<body class=\"archive category category-hikes-trails category-7 wpb-js-composer js-comp-ver-6.7.0 vc_responsive\" data-adminbar=\"\" data-rsssl=\"1\" itemscope=\"itemscope\" itemtype=\"https://schema.org/WebPage\">\n",
      "<!-- Target for scroll anchors to achieve native browser bahaviour + possible enhancements like smooth scrolling -->\n",
      "<div id=\"top-of-page\"></div>\n",
      "<div id=\"mk-boxed-layout\">\n",
      "<div id=\"mk-theme-container\">\n",
      "<header class=\"mk-header header-style-1 header-align-left toolbar-true menu-hover-2 sticky-style-slide mk-background-stretch full-header\" data-header-style=\"1\" data-height=\"100\" data-responsive-height=\"100\" data-sticky-height=\"55\" data-sticky-offset=\"header\" data-sticky-style=\"slide\" data-transparent-skin=\"\" id=\"mk-header-1\" itemscope=\"itemscope\" itemtype=\"https://schema.org/WPHeader\" role=\"banner\">\n",
      "<div class=\"mk-header-holder\">\n",
      "<div class=\"mk-header-toolbar\">\n",
      "<div class=\"mk-header-toolbar-holder\">\n",
      "<span class=\"mk-header-tagline\"><a class=\"button\" href=\"https://goo.gl/maps/X8LKj9bXcMT2\" target=\"_blank\">Driving Directions</a> <a class=\"button\" href=\"https://www.redrockcanyonlv.org/fees/\">Fees &amp; Passes</a></span><div class=\"mk-header-social toolbar-section\"><ul><li><a class=\"mk-simple-rounded facebook-hover\" href=\"https://www.facebook.com/RedRockCanyonLV/\" rel=\"noreferrer noopener\" target=\"_blank\"><svg class=\"mk-svg-icon\" data-cacheid=\"icon-62008c67363c5\" data-name=\"mk-jupiter-icon-simple-facebook\" style=\" height:16px; width: 16px; \" viewbox=\"0 0 512 512\" xmlns=\"http://www.w3.org/2000/svg\"><path d=\"M192.191 92.743v60.485h-63.638v96.181h63.637v256.135h97.069v-256.135h84.168s6.674-51.322 9.885-96.508h-93.666v-42.921c0-8.807 11.565-20.661 23.01-20.661h71.791v-95.719h-83.57c-111.317 0-108.686 86.262-108.686 99.142z\"></path></svg></a></li><li><a class=\"mk-simple-rounded instagram-hover\" href=\"https://www.instagram.com/redrockcanyonlv/\" rel=\"noreferrer noopener\" target=\"_blank\"><svg class=\"mk-svg-icon\" data-cacheid=\"icon-62008c6736444\" data-name=\"mk-jupiter-icon-simple-instagram\" style=\" height:16px; width: 16px; \" viewbox=\"0 0 81.2 81.2\" xmlns=\"http://www.w3.org/2000/svg\"><path d=\"M81,23.9c-0.2-4.3-0.9-7.3-1.9-9.9c-1-2.7-2.4-4.9-4.7-7.2c-2.3-2.3-4.5-3.6-7.2-4.7c-2.6-1-5.5-1.7-9.9-1.9 C53,0,51.6,0,40.6,0c-11,0-12.4,0-16.7,0.2c-4.3,0.2-7.3,0.9-9.9,1.9c-2.7,1-4.9,2.4-7.2,4.7C4.6,9.1,3.2,11.3,2.1,14 c-1,2.6-1.7,5.5-1.9,9.9C0,28.2,0,29.6,0,40.6c0,11,0,12.4,0.2,16.7c0.2,4.3,0.9,7.3,1.9,9.9c1,2.7,2.4,4.9,4.7,7.2 c2.3,2.3,4.5,3.6,7.2,4.7c2.6,1,5.5,1.7,9.9,1.9c4.3,0.2,5.7,0.2,16.7,0.2c11,0,12.4,0,16.7-0.2c4.3-0.2,7.3-0.9,9.9-1.9 c2.7-1,4.9-2.4,7.2-4.7c2.3-2.3,3.6-4.5,4.7-7.2c1-2.6,1.7-5.5,1.9-9.9c0.2-4.3,0.2-5.7,0.2-16.7C81.2,29.6,81.2,28.2,81,23.9z  M73.6,57c-0.2,4-0.8,6.1-1.4,7.5c-0.7,1.9-1.6,3.2-3,4.7c-1.4,1.4-2.8,2.3-4.7,3c-1.4,0.6-3.6,1.2-7.5,1.4 c-4.3,0.2-5.6,0.2-16.4,0.2c-10.8,0-12.1,0-16.4-0.2c-4-0.2-6.1-0.8-7.5-1.4c-1.9-0.7-3.2-1.6-4.7-3c-1.4-1.4-2.3-2.8-3-4.7 C8.4,63.1,7.7,61,7.6,57c-0.2-4.3-0.2-5.6-0.2-16.4c0-10.8,0-12.1,0.2-16.4c0.2-4,0.8-6.1,1.4-7.5c0.7-1.9,1.6-3.2,3-4.7 c1.4-1.4,2.8-2.3,4.7-3c1.4-0.6,3.6-1.2,7.5-1.4c4.3-0.2,5.6-0.2,16.4-0.2c10.8,0,12.1,0,16.4,0.2c4,0.2,6.1,0.8,7.5,1.4 c1.9,0.7,3.2,1.6,4.7,3c1.4,1.4,2.3,2.8,3,4.7c0.6,1.4,1.2,3.6,1.4,7.5c0.2,4.3,0.2,5.6,0.2,16.4C73.9,51.4,73.8,52.7,73.6,57z\"></path><path d=\"M40.6,19.8c-11.5,0-20.8,9.3-20.8,20.8c0,11.5,9.3,20.8,20.8,20.8c11.5,0,20.8-9.3,20.8-20.8 C61.4,29.1,52.1,19.8,40.6,19.8z M40.6,54.1c-7.5,0-13.5-6.1-13.5-13.5c0-7.5,6.1-13.5,13.5-13.5c7.5,0,13.5,6.1,13.5,13.5 C54.1,48.1,48.1,54.1,40.6,54.1z\"></path><circle cx=\"62.3\" cy=\"18.9\" r=\"4.9\"></circle></svg></a></li><li><a class=\"mk-simple-rounded google-hover\" href=\"https://goo.gl/maps/X8LKj9bXcMT2\" rel=\"noreferrer noopener\" target=\"_blank\"><svg class=\"mk-svg-icon\" data-cacheid=\"icon-62008c67364b0\" data-name=\"mk-jupiter-icon-simple-google\" style=\" height:16px; width: 16px; \" viewbox=\"0 0 512 512\" xmlns=\"http://www.w3.org/2000/svg\"><path d=\"M431.474-6.4h-139.076c-36.469 0-82.376 5.372-120.846 36.925-29.069 24.875-43.219 59.114-43.219 90.04 0 52.392 40.522 105.507 112.082 105.507 6.749 0 14.135-.686 21.632-1.328-3.378 8.029-6.793 14.751-6.793 26.189 0 20.838 10.801 33.575 20.253 45.692-30.35 2.007-87.08 5.358-128.964 30.86-39.833 23.57-52.019 57.808-52.019 81.997 0 49.736 47.292 96.121 145.196 96.121 116.149 0 177.591-63.83 177.591-127.039 0-46.312-27.009-69.188-56.7-94.055l-24.327-18.787c-7.394-6.081-17.512-14.11-17.512-28.898 0-14.78 10.119-24.211 18.875-32.941 28.358-22.159 56.716-45.677 56.716-95.397 0-51.086-32.433-77.961-47.959-90.719h41.914l43.158-24.166zm-59.352 411.202c0 41.633-34.476 72.537-99.31 72.537-72.228 0-118.831-34.254-118.831-81.953 0-47.728 43.218-63.815 58.056-69.187 28.38-9.445 64.834-10.774 70.908-10.774 6.756 0 10.119 0 15.542.649 51.351 36.29 73.635 54.474 73.635 88.726zm-54.048-216.363c-10.815 10.737-29.07 18.795-45.945 18.795-58.048 0-84.376-74.589-84.376-119.587 0-17.481 3.378-35.597 14.838-49.72 10.808-13.445 29.706-22.182 47.27-22.182 56.049 0 85.102 75.26 85.102 123.623 0 12.116-1.378 33.59-16.889 49.072z\"></path></svg></a></li><li><a class=\"mk-simple-rounded twitter-hover\" href=\"https://twitter.com/RedRockCynLV\" rel=\"noreferrer noopener\" target=\"_blank\"><svg class=\"mk-svg-icon\" data-cacheid=\"icon-62008c673650e\" data-name=\"mk-jupiter-icon-simple-twitter\" style=\" height:16px; width: 16px; \" viewbox=\"0 0 512 512\" xmlns=\"http://www.w3.org/2000/svg\"><path d=\"M454.058 213.822c28.724-2.382 48.193-15.423 55.683-33.132-10.365 6.373-42.524 13.301-60.269 6.681-.877-4.162-1.835-8.132-2.792-11.706-13.527-49.679-59.846-89.698-108.382-84.865 3.916-1.589 7.914-3.053 11.885-4.388 5.325-1.923 36.678-7.003 31.749-18.079-4.176-9.728-42.471 7.352-49.672 9.597 9.501-3.581 25.26-9.735 26.93-20.667-14.569 1.991-28.901 8.885-39.937 18.908 3.998-4.293 7.01-9.536 7.666-15.171-38.91 24.85-61.624 74.932-80.025 123.523-14.438-13.972-27.239-25.008-38.712-31.114-32.209-17.285-70.722-35.303-131.156-57.736-1.862 19.996 9.899 46.591 43.723 64.273-7.325-.986-20.736 1.219-31.462 3.773 4.382 22.912 18.627 41.805 57.251 50.918-17.642 1.163-26.767 5.182-35.036 13.841 8.043 15.923 27.656 34.709 62.931 30.82-39.225 16.935-15.998 48.234 15.93 43.565-54.444 56.244-140.294 52.123-189.596 5.08 128.712 175.385 408.493 103.724 450.21-65.225 31.23.261 49.605-10.823 60.994-23.05-17.99 3.053-44.072-.095-57.914-5.846z\"></path></svg></a></li></ul><div class=\"clearboth\"></div></div>\n",
      "</div>\n",
      "</div>\n",
      "<div class=\"mk-header-inner add-header-height\">\n",
      "<div class=\"mk-header-bg\"></div>\n",
      "<div class=\"mk-toolbar-resposnive-icon\"><svg class=\"mk-svg-icon\" data-cacheid=\"icon-62008c67365ef\" data-name=\"mk-icon-chevron-down\" viewbox=\"0 0 1792 1792\" xmlns=\"http://www.w3.org/2000/svg\"><path d=\"M1683 808l-742 741q-19 19-45 19t-45-19l-742-741q-19-19-19-45.5t19-45.5l166-165q19-19 45-19t45 19l531 531 531-531q19-19 45-19t45 19l166 165q19 19 19 45.5t-19 45.5z\"></path></svg></div>\n",
      "<div class=\"mk-header-nav-container one-row-style menu-hover-style-2\" itemscope=\"itemscope\" itemtype=\"https://schema.org/SiteNavigationElement\" role=\"navigation\">\n",
      "<nav class=\"mk-main-navigation js-main-nav\"><ul class=\"main-navigation-ul\" id=\"menu-main-menu\"><li class=\"menu-item menu-item-type-post_type menu-item-object-page menu-item-home no-mega-menu\" id=\"menu-item-9249\"><a class=\"menu-item-link js-smooth-scroll\" href=\"https://www.redrockcanyonlv.org/\"><svg class=\"mk-svg-icon\" data-cacheid=\"icon-62008c673d25c\" data-name=\"mk-moon-home-3\" style=\" height:16px; width: 16px; \" viewbox=\"0 0 512 512\" xmlns=\"http://www.w3.org/2000/svg\"><path d=\"M512 304l-96-96v-144h-64v80l-96-96-256 256v16h64v160h160v-96h64v96h160v-160h64z\"></path></svg>Home</a></li>\n",
      "<li class=\"menu-item menu-item-type-taxonomy menu-item-object-category current-menu-ancestor current-menu-parent menu-item-has-children no-mega-menu\" id=\"menu-item-472\"><a class=\"menu-item-link js-smooth-scroll\" href=\"https://www.redrockcanyonlv.org/lasvegas/redrockcanyon/\"><svg class=\"mk-svg-icon\" data-cacheid=\"icon-62008c673d375\" data-name=\"mk-icon-map-marker\" style=\" height:16px; width: 9.1428571428571px; \" viewbox=\"0 0 1024 1792\" xmlns=\"http://www.w3.org/2000/svg\"><path d=\"M768 640q0-106-75-181t-181-75-181 75-75 181 75 181 181 75 181-75 75-181zm256 0q0 109-33 179l-364 774q-16 33-47.5 52t-67.5 19-67.5-19-46.5-52l-365-774q-33-70-33-179 0-212 150-362t362-150 362 150 150 362z\"></path></svg>Plan A Visit</a>\n",
      "<ul class=\"sub-menu\" style=\"\">\n",
      "<li class=\"menu-item menu-item-type-post_type menu-item-object-post\" id=\"menu-item-9251\"><a class=\"menu-item-link js-smooth-scroll\" href=\"https://www.redrockcanyonlv.org/fees/\">Fees &amp; Passes</a></li>\n",
      "<li class=\"menu-item menu-item-type-post_type menu-item-object-post\" id=\"menu-item-511\"><a class=\"menu-item-link js-smooth-scroll\" href=\"https://www.redrockcanyonlv.org/visitor-information/\">Visitor Information</a></li>\n",
      "<li class=\"menu-item menu-item-type-taxonomy menu-item-object-category current-menu-item\" id=\"menu-item-930\"><a class=\"menu-item-link js-smooth-scroll\" href=\"https://www.redrockcanyonlv.org/lasvegas/hikes-trails/\">Hikes &amp; Trails</a></li>\n",
      "<li class=\"menu-item menu-item-type-post_type menu-item-object-post\" id=\"menu-item-382\"><a class=\"menu-item-link js-smooth-scroll\" href=\"https://www.redrockcanyonlv.org/geology-highlights/\">Geology Highlights</a></li>\n",
      "<li class=\"menu-item menu-item-type-post_type menu-item-object-post\" id=\"menu-item-396\"><a class=\"menu-item-link js-smooth-scroll\" href=\"https://www.redrockcanyonlv.org/weather/\">Weather Information</a></li>\n",
      "</ul>\n",
      "</li>\n",
      "<li class=\"menu-item menu-item-type-taxonomy menu-item-object-category current-menu-item no-mega-menu\" id=\"menu-item-862\"><a class=\"menu-item-link js-smooth-scroll\" href=\"https://www.redrockcanyonlv.org/lasvegas/hikes-trails/\"><svg class=\"mk-svg-icon\" data-cacheid=\"icon-62008c673d611\" data-name=\"mk-moon-direction\" style=\" height:16px; width: 16px; \" viewbox=\"0 0 512 512\" xmlns=\"http://www.w3.org/2000/svg\"><path d=\"M400 192l96-64-96-64h-112v-40c0-13.2-10.8-24-24-24h-16c-13.2 0-24 10.8-24 24v40h-160v128h160v32h-144l-64 48 64 48h144v192h64v-192h128v-96h-128v-32h112z\"></path></svg>Hikes &amp; Trails</a></li>\n",
      "<li class=\"menu-item menu-item-type-post_type menu-item-object-page menu-item-has-children no-mega-menu\" id=\"menu-item-7306\"><a class=\"menu-item-link js-smooth-scroll\" href=\"https://www.redrockcanyonlv.org/events/\"><svg class=\"mk-svg-icon\" data-cacheid=\"icon-62008c673d6f8\" data-name=\"mk-icon-calendar\" style=\" height:16px; width: 14.857142857143px; \" viewbox=\"0 0 1664 1792\" xmlns=\"http://www.w3.org/2000/svg\"><path d=\"M128 1664h288v-288h-288v288zm352 0h320v-288h-320v288zm-352-352h288v-320h-288v320zm352 0h320v-320h-320v320zm-352-384h288v-288h-288v288zm736 736h320v-288h-320v288zm-384-736h320v-288h-320v288zm768 736h288v-288h-288v288zm-384-352h320v-320h-320v320zm-352-864v-288q0-13-9.5-22.5t-22.5-9.5h-64q-13 0-22.5 9.5t-9.5 22.5v288q0 13 9.5 22.5t22.5 9.5h64q13 0 22.5-9.5t9.5-22.5zm736 864h288v-320h-288v320zm-384-384h320v-288h-320v288zm384 0h288v-288h-288v288zm32-480v-288q0-13-9.5-22.5t-22.5-9.5h-64q-13 0-22.5 9.5t-9.5 22.5v288q0 13 9.5 22.5t22.5 9.5h64q13 0 22.5-9.5t9.5-22.5zm384-64v1280q0 52-38 90t-90 38h-1408q-52 0-90-38t-38-90v-1280q0-52 38-90t90-38h128v-96q0-66 47-113t113-47h64q66 0 113 47t47 113v96h384v-96q0-66 47-113t113-47h64q66 0 113 47t47 113v96h128q52 0 90 38t38 90z\"></path></svg>Events</a>\n",
      "<ul class=\"sub-menu\" style=\"\">\n",
      "<li class=\"menu-item menu-item-type-post_type menu-item-object-page\" id=\"menu-item-7311\"><a class=\"menu-item-link js-smooth-scroll\" href=\"https://www.redrockcanyonlv.org/event-calendar/\">Event Calendar</a></li>\n",
      "<li class=\"menu-item menu-item-type-post_type menu-item-object-page\" id=\"menu-item-7304\"><a class=\"menu-item-link js-smooth-scroll\" href=\"https://www.redrockcanyonlv.org/upcoming-events/\">Upcoming Events List</a></li>\n",
      "</ul>\n",
      "</li>\n",
      "<li class=\"menu-item menu-item-type-taxonomy menu-item-object-category menu-item-has-children no-mega-menu\" id=\"menu-item-9453\"><a class=\"menu-item-link js-smooth-scroll\" href=\"https://www.redrockcanyonlv.org/lasvegas/programs/\"><svg class=\"mk-svg-icon\" data-cacheid=\"icon-62008c673d8e4\" data-name=\"mk-moon-map-3\" style=\" height:16px; width: 16px; \" viewbox=\"0 0 512 512\" xmlns=\"http://www.w3.org/2000/svg\"><path d=\"M0 96l160-64v384l-160 64zm352 0v384l-160-53.333v-384zm160-64v384l-128 51.2v-384z\"></path></svg>Programs</a>\n",
      "<ul class=\"sub-menu\" style=\"\">\n",
      "<li class=\"menu-item menu-item-type-taxonomy menu-item-object-category\" id=\"menu-item-9391\"><a class=\"menu-item-link js-smooth-scroll\" href=\"https://www.redrockcanyonlv.org/lasvegas/red-rock-canyon-a-to-z/\">Red Rock Canyon A To Z</a></li>\n",
      "<li class=\"menu-item menu-item-type-taxonomy menu-item-object-category\" id=\"menu-item-9390\"><a class=\"menu-item-link js-smooth-scroll\" href=\"https://www.redrockcanyonlv.org/lasvegas/wildlife-wednesday/\">Wildlife Wednesday</a></li>\n",
      "<li class=\"menu-item menu-item-type-taxonomy menu-item-object-category\" id=\"menu-item-9389\"><a class=\"menu-item-link js-smooth-scroll\" href=\"https://www.redrockcanyonlv.org/lasvegas/flower-friday/\">Flower Friday</a></li>\n",
      "<li class=\"menu-item menu-item-type-post_type menu-item-object-post\" id=\"menu-item-9417\"><a class=\"menu-item-link js-smooth-scroll\" href=\"https://www.redrockcanyonlv.org/jackson-the-burro/\">Jackson the Red Rock Canyon Burro</a></li>\n",
      "<li class=\"menu-item menu-item-type-post_type menu-item-object-post\" id=\"menu-item-1226\"><a class=\"menu-item-link js-smooth-scroll\" href=\"https://www.redrockcanyonlv.org/tortoise-habitat/\">Tortoise Habitat</a></li>\n",
      "<li class=\"menu-item menu-item-type-post_type menu-item-object-post\" id=\"menu-item-9416\"><a class=\"menu-item-link js-smooth-scroll\" href=\"https://www.redrockcanyonlv.org/artist-in-residence/\">Artist In Residence Program</a></li>\n",
      "</ul>\n",
      "</li>\n",
      "<li class=\"menu-item menu-item-type-post_type menu-item-object-page no-mega-menu\" id=\"menu-item-1184\"><a class=\"menu-item-link js-smooth-scroll\" href=\"https://www.redrockcanyonlv.org/shop/\"><svg class=\"mk-svg-icon\" data-cacheid=\"icon-62008c673db55\" data-name=\"mk-icon-shopping-cart\" style=\" height:16px; width: 14.857142857143px; \" viewbox=\"0 0 1664 1792\" xmlns=\"http://www.w3.org/2000/svg\"><path d=\"M640 1536q0 53-37.5 90.5t-90.5 37.5-90.5-37.5-37.5-90.5 37.5-90.5 90.5-37.5 90.5 37.5 37.5 90.5zm896 0q0 53-37.5 90.5t-90.5 37.5-90.5-37.5-37.5-90.5 37.5-90.5 90.5-37.5 90.5 37.5 37.5 90.5zm128-1088v512q0 24-16 42.5t-41 21.5l-1044 122q1 7 4.5 21.5t6 26.5 2.5 22q0 16-24 64h920q26 0 45 19t19 45-19 45-45 19h-1024q-26 0-45-19t-19-45q0-14 11-39.5t29.5-59.5 20.5-38l-177-823h-204q-26 0-45-19t-19-45 19-45 45-19h256q16 0 28.5 6.5t20 15.5 13 24.5 7.5 26.5 5.5 29.5 4.5 25.5h1201q26 0 45 19t19 45z\"></path></svg>Shop</a></li>\n",
      "<li class=\"menu-item menu-item-type-post_type menu-item-object-page menu-item-has-children no-mega-menu\" id=\"menu-item-5076\"><a class=\"menu-item-link js-smooth-scroll\" href=\"https://www.redrockcanyonlv.org/our-mission/\"><svg class=\"mk-svg-icon\" data-cacheid=\"icon-62008c673dcab\" data-name=\"mk-moon-users\" style=\" height:16px; width: 16px; \" viewbox=\"0 0 512 512\" xmlns=\"http://www.w3.org/2000/svg\"><path d=\"M367.497 402.687c-9.476-1.494-9.692-27.327-9.692-27.327s27.844-27.328 33.912-64.076c16.326 0 26.407-39.069 10.082-52.814.681-14.47 20.984-113.588-81.799-113.588-102.782 0-82.479 99.118-81.799 113.588-16.327 13.745-6.244 52.814 10.081 52.814 6.067 36.748 33.913 64.076 33.913 64.076s-.216 25.833-9.692 27.327c-30.524 4.816-144.503 54.658-144.503 109.313h384c0-54.655-113.979-104.497-144.503-109.313zm-195.47 8.718c22.047-13.575 48.813-26.154 70.769-33.712-7.876-11.216-16.647-26.468-22.165-44.531-7.703-6.283-13.972-15.266-17.999-26.301-4.033-11.052-5.561-23.426-4.304-34.842.902-8.196 3.239-15.833 6.825-22.544-2.175-23.293-3.707-69.017 26.224-102.366 11.607-12.933 26.278-22.23 43.85-27.843-3.137-32.38-19.58-70.385-83.227-70.385-102.782 0-82.479 99.118-81.799 113.588-16.327 13.745-6.244 52.814 10.081 52.814 6.067 36.748 33.913 64.076 33.913 64.076s-.216 25.833-9.692 27.327c-30.524 4.817-144.503 54.659-144.503 109.314h164.798c2.355-1.537 4.753-3.07 7.229-4.595z\"></path></svg>About</a>\n",
      "<ul class=\"sub-menu\" style=\"\">\n",
      "<li class=\"menu-item menu-item-type-post_type menu-item-object-page\" id=\"menu-item-89\"><a class=\"menu-item-link js-smooth-scroll\" href=\"https://www.redrockcanyonlv.org/contact-us/\">Contact Us</a></li>\n",
      "<li class=\"menu-item menu-item-type-taxonomy menu-item-object-category\" id=\"menu-item-9279\"><a class=\"menu-item-link js-smooth-scroll\" href=\"https://www.redrockcanyonlv.org/lasvegas/news/\">News</a></li>\n",
      "<li class=\"menu-item menu-item-type-post_type menu-item-object-page\" id=\"menu-item-5079\"><a class=\"menu-item-link js-smooth-scroll\" href=\"https://www.redrockcanyonlv.org/our-mission/\">Our Mission</a></li>\n",
      "<li class=\"menu-item menu-item-type-post_type menu-item-object-page\" id=\"menu-item-5078\"><a class=\"menu-item-link js-smooth-scroll\" href=\"https://www.redrockcanyonlv.org/opportunities/\">Opportunities</a></li>\n",
      "<li class=\"menu-item menu-item-type-post_type menu-item-object-page\" id=\"menu-item-1114\"><a class=\"menu-item-link js-smooth-scroll\" href=\"https://www.redrockcanyonlv.org/frequently-asked-questions/\">FAQ</a></li>\n",
      "</ul>\n",
      "</li>\n",
      "</ul></nav>\n",
      "<div class=\"main-nav-side-search\">\n",
      "<a class=\"mk-search-trigger add-header-height mk-fullscreen-trigger\" href=\"#\"><i class=\"mk-svg-icon-wrapper\"><svg class=\"mk-svg-icon\" data-cacheid=\"icon-62008c673df57\" data-name=\"mk-icon-search\" style=\" height:16px; width: 14.857142857143px; \" viewbox=\"0 0 1664 1792\" xmlns=\"http://www.w3.org/2000/svg\"><path d=\"M1152 832q0-185-131.5-316.5t-316.5-131.5-316.5 131.5-131.5 316.5 131.5 316.5 316.5 131.5 316.5-131.5 131.5-316.5zm512 832q0 52-38 90t-90 38q-54 0-90-38l-343-342q-179 124-399 124-143 0-273.5-55.5t-225-150-150-225-55.5-273.5 55.5-273.5 150-225 225-150 273.5-55.5 273.5 55.5 225 150 150 225 55.5 273.5q0 220-124 399l343 343q37 37 37 90z\"></path></svg></i></a>\n",
      "</div>\n",
      "</div>\n",
      "<div class=\"mk-nav-responsive-link\">\n",
      "<div class=\"mk-css-icon-menu\">\n",
      "<div class=\"mk-css-icon-menu-line-1\"></div>\n",
      "<div class=\"mk-css-icon-menu-line-2\"></div>\n",
      "<div class=\"mk-css-icon-menu-line-3\"></div>\n",
      "</div>\n",
      "</div> <div class=\"header-logo fit-logo-img add-header-height logo-is-responsive logo-has-sticky\">\n",
      "<a href=\"https://www.redrockcanyonlv.org/\" title=\"Red Rock Canyon Las Vegas\">\n",
      "<img alt=\"\" class=\"mk-desktop-logo dark-logo\" src=\"https://www.redrockcanyonlv.org/wp-content/uploads/red-rock-canyon-las-vegas.png\" title=\"\"/>\n",
      "<img alt=\"\" class=\"mk-desktop-logo light-logo\" src=\"https://www.redrockcanyonlv.org/wp-content/uploads/red-rock-canyon-las-vegas.png\" title=\"\"/>\n",
      "<img alt=\"\" class=\"mk-resposnive-logo\" src=\"https://www.redrockcanyonlv.org/wp-content/uploads/red-rock-canyon-las-vegas.png\" title=\"\"/>\n",
      "<img alt=\"\" class=\"mk-sticky-logo\" src=\"https://www.redrockcanyonlv.org/wp-content/uploads/red-rock-canyon-las-vegas.png\" title=\"\"/>\n",
      "</a>\n",
      "</div>\n",
      "<div class=\"mk-header-right\">\n",
      "</div>\n",
      "</div>\n",
      "<div class=\"mk-responsive-wrap\">\n",
      "<nav class=\"menu-main-menu-container\"><ul class=\"mk-responsive-nav\" id=\"menu-main-menu-1\"><li class=\"menu-item menu-item-type-post_type menu-item-object-page menu-item-home\" id=\"responsive-menu-item-9249\"><a class=\"menu-item-link js-smooth-scroll\" href=\"https://www.redrockcanyonlv.org/\"><svg class=\"mk-svg-icon\" data-cacheid=\"icon-62008c673f624\" data-name=\"mk-moon-home-3\" style=\" height:16px; width: 16px; \" viewbox=\"0 0 512 512\" xmlns=\"http://www.w3.org/2000/svg\"><path d=\"M512 304l-96-96v-144h-64v80l-96-96-256 256v16h64v160h160v-96h64v96h160v-160h64z\"></path></svg>Home</a></li>\n",
      "<li class=\"menu-item menu-item-type-taxonomy menu-item-object-category current-menu-ancestor current-menu-parent menu-item-has-children\" id=\"responsive-menu-item-472\"><a class=\"menu-item-link js-smooth-scroll\" href=\"https://www.redrockcanyonlv.org/lasvegas/redrockcanyon/\"><svg class=\"mk-svg-icon\" data-cacheid=\"icon-62008c673f72c\" data-name=\"mk-icon-map-marker\" style=\" height:16px; width: 9.1428571428571px; \" viewbox=\"0 0 1024 1792\" xmlns=\"http://www.w3.org/2000/svg\"><path d=\"M768 640q0-106-75-181t-181-75-181 75-75 181 75 181 181 75 181-75 75-181zm256 0q0 109-33 179l-364 774q-16 33-47.5 52t-67.5 19-67.5-19-46.5-52l-365-774q-33-70-33-179 0-212 150-362t362-150 362 150 150 362z\"></path></svg>Plan A Visit</a><span class=\"mk-nav-arrow mk-nav-sub-closed\"><svg class=\"mk-svg-icon\" data-cacheid=\"icon-62008c673f8ad\" data-name=\"mk-moon-arrow-down\" style=\" height:16px; width: 16px; \" viewbox=\"0 0 512 512\" xmlns=\"http://www.w3.org/2000/svg\"><path d=\"M512 192l-96-96-160 160-160-160-96 96 256 255.999z\"></path></svg></span>\n",
      "<ul class=\"sub-menu\">\n",
      "<li class=\"menu-item menu-item-type-post_type menu-item-object-post\" id=\"responsive-menu-item-9251\"><a class=\"menu-item-link js-smooth-scroll\" href=\"https://www.redrockcanyonlv.org/fees/\">Fees &amp; Passes</a></li>\n",
      "<li class=\"menu-item menu-item-type-post_type menu-item-object-post\" id=\"responsive-menu-item-511\"><a class=\"menu-item-link js-smooth-scroll\" href=\"https://www.redrockcanyonlv.org/visitor-information/\">Visitor Information</a></li>\n",
      "<li class=\"menu-item menu-item-type-taxonomy menu-item-object-category current-menu-item\" id=\"responsive-menu-item-930\"><a class=\"menu-item-link js-smooth-scroll\" href=\"https://www.redrockcanyonlv.org/lasvegas/hikes-trails/\">Hikes &amp; Trails</a></li>\n",
      "<li class=\"menu-item menu-item-type-post_type menu-item-object-post\" id=\"responsive-menu-item-382\"><a class=\"menu-item-link js-smooth-scroll\" href=\"https://www.redrockcanyonlv.org/geology-highlights/\">Geology Highlights</a></li>\n",
      "<li class=\"menu-item menu-item-type-post_type menu-item-object-post\" id=\"responsive-menu-item-396\"><a class=\"menu-item-link js-smooth-scroll\" href=\"https://www.redrockcanyonlv.org/weather/\">Weather Information</a></li>\n",
      "</ul>\n",
      "</li>\n",
      "<li class=\"menu-item menu-item-type-taxonomy menu-item-object-category current-menu-item\" id=\"responsive-menu-item-862\"><a class=\"menu-item-link js-smooth-scroll\" href=\"https://www.redrockcanyonlv.org/lasvegas/hikes-trails/\"><svg class=\"mk-svg-icon\" data-cacheid=\"icon-62008c673fba6\" data-name=\"mk-moon-direction\" style=\" height:16px; width: 16px; \" viewbox=\"0 0 512 512\" xmlns=\"http://www.w3.org/2000/svg\"><path d=\"M400 192l96-64-96-64h-112v-40c0-13.2-10.8-24-24-24h-16c-13.2 0-24 10.8-24 24v40h-160v128h160v32h-144l-64 48 64 48h144v192h64v-192h128v-96h-128v-32h112z\"></path></svg>Hikes &amp; Trails</a></li>\n",
      "<li class=\"menu-item menu-item-type-post_type menu-item-object-page menu-item-has-children\" id=\"responsive-menu-item-7306\"><a class=\"menu-item-link js-smooth-scroll\" href=\"https://www.redrockcanyonlv.org/events/\"><svg class=\"mk-svg-icon\" data-cacheid=\"icon-62008c673fc8f\" data-name=\"mk-icon-calendar\" style=\" height:16px; width: 14.857142857143px; \" viewbox=\"0 0 1664 1792\" xmlns=\"http://www.w3.org/2000/svg\"><path d=\"M128 1664h288v-288h-288v288zm352 0h320v-288h-320v288zm-352-352h288v-320h-288v320zm352 0h320v-320h-320v320zm-352-384h288v-288h-288v288zm736 736h320v-288h-320v288zm-384-736h320v-288h-320v288zm768 736h288v-288h-288v288zm-384-352h320v-320h-320v320zm-352-864v-288q0-13-9.5-22.5t-22.5-9.5h-64q-13 0-22.5 9.5t-9.5 22.5v288q0 13 9.5 22.5t22.5 9.5h64q13 0 22.5-9.5t9.5-22.5zm736 864h288v-320h-288v320zm-384-384h320v-288h-320v288zm384 0h288v-288h-288v288zm32-480v-288q0-13-9.5-22.5t-22.5-9.5h-64q-13 0-22.5 9.5t-9.5 22.5v288q0 13 9.5 22.5t22.5 9.5h64q13 0 22.5-9.5t9.5-22.5zm384-64v1280q0 52-38 90t-90 38h-1408q-52 0-90-38t-38-90v-1280q0-52 38-90t90-38h128v-96q0-66 47-113t113-47h64q66 0 113 47t47 113v96h384v-96q0-66 47-113t113-47h64q66 0 113 47t47 113v96h128q52 0 90 38t38 90z\"></path></svg>Events</a><span class=\"mk-nav-arrow mk-nav-sub-closed\"><svg class=\"mk-svg-icon\" data-cacheid=\"icon-62008c673fe00\" data-name=\"mk-moon-arrow-down\" style=\" height:16px; width: 16px; \" viewbox=\"0 0 512 512\" xmlns=\"http://www.w3.org/2000/svg\"><path d=\"M512 192l-96-96-160 160-160-160-96 96 256 255.999z\"></path></svg></span>\n",
      "<ul class=\"sub-menu\">\n",
      "<li class=\"menu-item menu-item-type-post_type menu-item-object-page\" id=\"responsive-menu-item-7311\"><a class=\"menu-item-link js-smooth-scroll\" href=\"https://www.redrockcanyonlv.org/event-calendar/\">Event Calendar</a></li>\n",
      "<li class=\"menu-item menu-item-type-post_type menu-item-object-page\" id=\"responsive-menu-item-7304\"><a class=\"menu-item-link js-smooth-scroll\" href=\"https://www.redrockcanyonlv.org/upcoming-events/\">Upcoming Events List</a></li>\n",
      "</ul>\n",
      "</li>\n",
      "<li class=\"menu-item menu-item-type-taxonomy menu-item-object-category menu-item-has-children\" id=\"responsive-menu-item-9453\"><a class=\"menu-item-link js-smooth-scroll\" href=\"https://www.redrockcanyonlv.org/lasvegas/programs/\"><svg class=\"mk-svg-icon\" data-cacheid=\"icon-62008c6740043\" data-name=\"mk-moon-map-3\" style=\" height:16px; width: 16px; \" viewbox=\"0 0 512 512\" xmlns=\"http://www.w3.org/2000/svg\"><path d=\"M0 96l160-64v384l-160 64zm352 0v384l-160-53.333v-384zm160-64v384l-128 51.2v-384z\"></path></svg>Programs</a><span class=\"mk-nav-arrow mk-nav-sub-closed\"><svg class=\"mk-svg-icon\" data-cacheid=\"icon-62008c6740215\" data-name=\"mk-moon-arrow-down\" style=\" height:16px; width: 16px; \" viewbox=\"0 0 512 512\" xmlns=\"http://www.w3.org/2000/svg\"><path d=\"M512 192l-96-96-160 160-160-160-96 96 256 255.999z\"></path></svg></span>\n",
      "<ul class=\"sub-menu\">\n",
      "<li class=\"menu-item menu-item-type-taxonomy menu-item-object-category\" id=\"responsive-menu-item-9391\"><a class=\"menu-item-link js-smooth-scroll\" href=\"https://www.redrockcanyonlv.org/lasvegas/red-rock-canyon-a-to-z/\">Red Rock Canyon A To Z</a></li>\n",
      "<li class=\"menu-item menu-item-type-taxonomy menu-item-object-category\" id=\"responsive-menu-item-9390\"><a class=\"menu-item-link js-smooth-scroll\" href=\"https://www.redrockcanyonlv.org/lasvegas/wildlife-wednesday/\">Wildlife Wednesday</a></li>\n",
      "<li class=\"menu-item menu-item-type-taxonomy menu-item-object-category\" id=\"responsive-menu-item-9389\"><a class=\"menu-item-link js-smooth-scroll\" href=\"https://www.redrockcanyonlv.org/lasvegas/flower-friday/\">Flower Friday</a></li>\n",
      "<li class=\"menu-item menu-item-type-post_type menu-item-object-post\" id=\"responsive-menu-item-9417\"><a class=\"menu-item-link js-smooth-scroll\" href=\"https://www.redrockcanyonlv.org/jackson-the-burro/\">Jackson the Red Rock Canyon Burro</a></li>\n",
      "<li class=\"menu-item menu-item-type-post_type menu-item-object-post\" id=\"responsive-menu-item-1226\"><a class=\"menu-item-link js-smooth-scroll\" href=\"https://www.redrockcanyonlv.org/tortoise-habitat/\">Tortoise Habitat</a></li>\n",
      "<li class=\"menu-item menu-item-type-post_type menu-item-object-post\" id=\"responsive-menu-item-9416\"><a class=\"menu-item-link js-smooth-scroll\" href=\"https://www.redrockcanyonlv.org/artist-in-residence/\">Artist In Residence Program</a></li>\n",
      "</ul>\n",
      "</li>\n",
      "<li class=\"menu-item menu-item-type-post_type menu-item-object-page\" id=\"responsive-menu-item-1184\"><a class=\"menu-item-link js-smooth-scroll\" href=\"https://www.redrockcanyonlv.org/shop/\"><svg class=\"mk-svg-icon\" data-cacheid=\"icon-62008c6740623\" data-name=\"mk-icon-shopping-cart\" style=\" height:16px; width: 14.857142857143px; \" viewbox=\"0 0 1664 1792\" xmlns=\"http://www.w3.org/2000/svg\"><path d=\"M640 1536q0 53-37.5 90.5t-90.5 37.5-90.5-37.5-37.5-90.5 37.5-90.5 90.5-37.5 90.5 37.5 37.5 90.5zm896 0q0 53-37.5 90.5t-90.5 37.5-90.5-37.5-37.5-90.5 37.5-90.5 90.5-37.5 90.5 37.5 37.5 90.5zm128-1088v512q0 24-16 42.5t-41 21.5l-1044 122q1 7 4.5 21.5t6 26.5 2.5 22q0 16-24 64h920q26 0 45 19t19 45-19 45-45 19h-1024q-26 0-45-19t-19-45q0-14 11-39.5t29.5-59.5 20.5-38l-177-823h-204q-26 0-45-19t-19-45 19-45 45-19h256q16 0 28.5 6.5t20 15.5 13 24.5 7.5 26.5 5.5 29.5 4.5 25.5h1201q26 0 45 19t19 45z\"></path></svg>Shop</a></li>\n",
      "<li class=\"menu-item menu-item-type-post_type menu-item-object-page menu-item-has-children\" id=\"responsive-menu-item-5076\"><a class=\"menu-item-link js-smooth-scroll\" href=\"https://www.redrockcanyonlv.org/our-mission/\"><svg class=\"mk-svg-icon\" data-cacheid=\"icon-62008c6740830\" data-name=\"mk-moon-users\" style=\" height:16px; width: 16px; \" viewbox=\"0 0 512 512\" xmlns=\"http://www.w3.org/2000/svg\"><path d=\"M367.497 402.687c-9.476-1.494-9.692-27.327-9.692-27.327s27.844-27.328 33.912-64.076c16.326 0 26.407-39.069 10.082-52.814.681-14.47 20.984-113.588-81.799-113.588-102.782 0-82.479 99.118-81.799 113.588-16.327 13.745-6.244 52.814 10.081 52.814 6.067 36.748 33.913 64.076 33.913 64.076s-.216 25.833-9.692 27.327c-30.524 4.816-144.503 54.658-144.503 109.313h384c0-54.655-113.979-104.497-144.503-109.313zm-195.47 8.718c22.047-13.575 48.813-26.154 70.769-33.712-7.876-11.216-16.647-26.468-22.165-44.531-7.703-6.283-13.972-15.266-17.999-26.301-4.033-11.052-5.561-23.426-4.304-34.842.902-8.196 3.239-15.833 6.825-22.544-2.175-23.293-3.707-69.017 26.224-102.366 11.607-12.933 26.278-22.23 43.85-27.843-3.137-32.38-19.58-70.385-83.227-70.385-102.782 0-82.479 99.118-81.799 113.588-16.327 13.745-6.244 52.814 10.081 52.814 6.067 36.748 33.913 64.076 33.913 64.076s-.216 25.833-9.692 27.327c-30.524 4.817-144.503 54.659-144.503 109.314h164.798c2.355-1.537 4.753-3.07 7.229-4.595z\"></path></svg>About</a><span class=\"mk-nav-arrow mk-nav-sub-closed\"><svg class=\"mk-svg-icon\" data-cacheid=\"icon-62008c6740a07\" data-name=\"mk-moon-arrow-down\" style=\" height:16px; width: 16px; \" viewbox=\"0 0 512 512\" xmlns=\"http://www.w3.org/2000/svg\"><path d=\"M512 192l-96-96-160 160-160-160-96 96 256 255.999z\"></path></svg></span>\n",
      "<ul class=\"sub-menu\">\n",
      "<li class=\"menu-item menu-item-type-post_type menu-item-object-page\" id=\"responsive-menu-item-89\"><a class=\"menu-item-link js-smooth-scroll\" href=\"https://www.redrockcanyonlv.org/contact-us/\">Contact Us</a></li>\n",
      "<li class=\"menu-item menu-item-type-taxonomy menu-item-object-category\" id=\"responsive-menu-item-9279\"><a class=\"menu-item-link js-smooth-scroll\" href=\"https://www.redrockcanyonlv.org/lasvegas/news/\">News</a></li>\n",
      "<li class=\"menu-item menu-item-type-post_type menu-item-object-page\" id=\"responsive-menu-item-5079\"><a class=\"menu-item-link js-smooth-scroll\" href=\"https://www.redrockcanyonlv.org/our-mission/\">Our Mission</a></li>\n",
      "<li class=\"menu-item menu-item-type-post_type menu-item-object-page\" id=\"responsive-menu-item-5078\"><a class=\"menu-item-link js-smooth-scroll\" href=\"https://www.redrockcanyonlv.org/opportunities/\">Opportunities</a></li>\n",
      "<li class=\"menu-item menu-item-type-post_type menu-item-object-page\" id=\"responsive-menu-item-1114\"><a class=\"menu-item-link js-smooth-scroll\" href=\"https://www.redrockcanyonlv.org/frequently-asked-questions/\">FAQ</a></li>\n",
      "</ul>\n",
      "</li>\n",
      "</ul></nav>\n",
      "<form action=\"https://www.redrockcanyonlv.org/\" class=\"responsive-searchform\" method=\"get\">\n",
      "<input class=\"text-input\" id=\"s\" name=\"s\" placeholder=\"Search..\" type=\"text\" value=\"\"/>\n",
      "<i><input type=\"submit\" value=\"\"/><svg class=\"mk-svg-icon\" data-cacheid=\"icon-62008c6740dc7\" data-name=\"mk-icon-search\" viewbox=\"0 0 1664 1792\" xmlns=\"http://www.w3.org/2000/svg\"><path d=\"M1152 832q0-185-131.5-316.5t-316.5-131.5-316.5 131.5-131.5 316.5 131.5 316.5 316.5 131.5 316.5-131.5 131.5-316.5zm512 832q0 52-38 90t-90 38q-54 0-90-38l-343-342q-179 124-399 124-143 0-273.5-55.5t-225-150-150-225-55.5-273.5 55.5-273.5 150-225 225-150 273.5-55.5 273.5 55.5 225 150 150 225 55.5 273.5q0 220-124 399l343 343q37 37 37 90z\"></path></svg></i>\n",
      "</form>\n",
      "</div>\n",
      "</div>\n",
      "<div class=\"mk-header-padding-wrapper\"></div>\n",
      "<section class=\"intro-left\" id=\"mk-page-introduce\"><div class=\"mk-grid\"><h1 class=\"page-title mk-drop-shadow\">Hikes &amp; Trails – Round-Trip Distances &amp; Times</h1><div class=\"page-subtitle\">Hikes are numbered according to their location on the trail map. Georeferenced maps are also included with each trail and can be used with any georeferenced map mobile application.\n",
      "</div><div id=\"mk-breadcrumbs\"><div class=\"mk-breadcrumbs-inner dark-skin\"><span xmlns:v=\"http://rdf.data-vocabulary.org/#\"><span typeof=\"v:Breadcrumb\"><a href=\"https://www.redrockcanyonlv.org/\" property=\"v:title\" rel=\"v:url\">Home</a> / <span rel=\"v:child\" typeof=\"v:Breadcrumb\"><span class=\"breadcrumb-categoris-holder\"><a href=\"https://www.redrockcanyonlv.org/lasvegas/hikes-trails/\">Hikes &amp; Trails - Round-Trip Distances &amp; Times</a> <span>/</span> </span></span></span></span></div></div><div class=\"clearboth\"></div></div></section>\n",
      "</header>\n",
      "<div class=\"master-holder clearfix\" id=\"theme-page\" itemprop=\"mainContentOfPage\" role=\"main\">\n",
      "<div class=\"master-holder-bg-holder\">\n",
      "<div class=\"master-holder-bg js-el\" id=\"theme-page-bg\"></div>\n",
      "</div>\n",
      "<div class=\"mk-main-wrapper-holder\">\n",
      "<div class=\"theme-page-wrapper mk-main-wrapper mk-grid right-layout\">\n",
      "<div class=\"theme-content\" itemprop=\"mainContentOfPage\">\n",
      "<section \"item\":\".mk-isotop-item\"}\"=\"\" class=\"js-loop js-el clearfix mk-blog-container mk-newspaper-wrapper mag-one-column mk-blog-container-lazyload js-loop--loaded\" container\":\"#loop-2\",=\"\" data-grid-config=\"{\" data-loop-iterator=\"10\" data-loop-posts=\"\" data-max-pages=\"1\" data-mk-component=\"Grid\" data-pagination-style=\"1\" id=\"loop-2\" itemscope=\"itemscope\" itemtype=\"https://schema.org/Blog\">\n",
      "<article class=\"mk-blog-newspaper-item image-post-type mk-isotop-item three-column mk-blog-newspaper-item--loaded post-794 post type-post status-publish format-standard has-post-thumbnail hentry category-hikes-trails\" id=\"post-794\">\n",
      "<div class=\"featured-image\">\n",
      "<a href=\"https://www.redrockcanyonlv.org/moenkopi-loop/\">\n",
      "<img alt=\"\" class=\"attachment-500x500 size-500x500 colorbox-794 wp-post-image\" height=\"500\" itemprop=\"image\" loading=\"lazy\" sizes=\"(max-width: 500px) 100vw, 500px\" src=\"https://www.redrockcanyonlv.org/wp-content/uploads/2012/07/Moenkopi-Trail-WB-500x500.jpg\" srcset=\"https://www.redrockcanyonlv.org/wp-content/uploads/2012/07/Moenkopi-Trail-WB-500x500.jpg 500w, https://www.redrockcanyonlv.org/wp-content/uploads/2012/07/Moenkopi-Trail-WB-300x300.jpg 300w, https://www.redrockcanyonlv.org/wp-content/uploads/2012/07/Moenkopi-Trail-WB-45x45.jpg 45w, https://www.redrockcanyonlv.org/wp-content/uploads/2012/07/Moenkopi-Trail-WB-150x150.jpg 150w, https://www.redrockcanyonlv.org/wp-content/uploads/2012/07/Moenkopi-Trail-WB-266x266.jpg 266w, https://www.redrockcanyonlv.org/wp-content/uploads/2012/07/Moenkopi-Trail-WB-1024x1024.jpg 1024w, https://www.redrockcanyonlv.org/wp-content/uploads/2012/07/Moenkopi-Trail-WB-64x64.jpg 64w, https://www.redrockcanyonlv.org/wp-content/uploads/2012/07/Moenkopi-Trail-WB-195x195.jpg 195w\" width=\"500\"/> </a>\n",
      "</div><!-- .post-thumbnail -->\n",
      "<div class=\"mk-blog-meta\">\n",
      "<h2 class=\"the-title\"><a href=\"https://www.redrockcanyonlv.org/moenkopi-loop/\" rel=\"bookmark\">Moenkopi Loop</a></h2> </div>\n",
      "<div class=\"newspaper-item-footer\"><div class=\"newspaper-item-footer-holder\"><a class=\"mk-readmore\" href=\"https://www.redrockcanyonlv.org/moenkopi-loop/\"><svg class=\"mk-svg-icon\" data-cacheid=\"icon-62008c6742cac\" data-name=\"mk-moon-arrow-right-2\" style=\" height:8px; width: 8px; \" viewbox=\"0 0 512 512\" xmlns=\"http://www.w3.org/2000/svg\"><path d=\"M192 0l-96 96 160 160-160 160 96 96 256-256z\"></path></svg>Read More</a> <span class=\"trailnum\">1</span>\n",
      "<div class=\"clearboth\"></div></div> </div></article><!-- #post-## -->\n",
      "<article class=\"mk-blog-newspaper-item image-post-type mk-isotop-item three-column mk-blog-newspaper-item--loaded post-796 post type-post status-publish format-standard has-post-thumbnail hentry category-hikes-trails\" id=\"post-796\">\n",
      "<div class=\"featured-image\">\n",
      "<a href=\"https://www.redrockcanyonlv.org/calico-hills/\">\n",
      "<img alt=\"\" class=\"attachment-500x500 size-500x500 colorbox-796 wp-post-image\" height=\"500\" itemprop=\"image\" loading=\"lazy\" sizes=\"(max-width: 500px) 100vw, 500px\" src=\"https://www.redrockcanyonlv.org/wp-content/uploads/89847837_10212334377592928_2798931110497615872_o-500x500.jpg\" srcset=\"https://www.redrockcanyonlv.org/wp-content/uploads/89847837_10212334377592928_2798931110497615872_o-500x500.jpg 500w, https://www.redrockcanyonlv.org/wp-content/uploads/89847837_10212334377592928_2798931110497615872_o-300x300.jpg 300w, https://www.redrockcanyonlv.org/wp-content/uploads/89847837_10212334377592928_2798931110497615872_o-1024x1024.jpg 1024w, https://www.redrockcanyonlv.org/wp-content/uploads/89847837_10212334377592928_2798931110497615872_o-1000x1000.jpg 1000w, https://www.redrockcanyonlv.org/wp-content/uploads/89847837_10212334377592928_2798931110497615872_o-266x266.jpg 266w, https://www.redrockcanyonlv.org/wp-content/uploads/89847837_10212334377592928_2798931110497615872_o-195x195.jpg 195w\" width=\"500\"/> </a>\n",
      "</div><!-- .post-thumbnail -->\n",
      "<div class=\"mk-blog-meta\">\n",
      "<h2 class=\"the-title\"><a href=\"https://www.redrockcanyonlv.org/calico-hills/\" rel=\"bookmark\">Calico Hills</a></h2> </div>\n",
      "<div class=\"newspaper-item-footer\"><div class=\"newspaper-item-footer-holder\"><a class=\"mk-readmore\" href=\"https://www.redrockcanyonlv.org/calico-hills/\"><svg class=\"mk-svg-icon\" data-cacheid=\"icon-62008c6743248\" data-name=\"mk-moon-arrow-right-2\" style=\" height:8px; width: 8px; \" viewbox=\"0 0 512 512\" xmlns=\"http://www.w3.org/2000/svg\"><path d=\"M192 0l-96 96 160 160-160 160 96 96 256-256z\"></path></svg>Read More</a> <span class=\"trailnum\">2</span>\n",
      "<div class=\"clearboth\"></div></div> </div></article><!-- #post-## -->\n",
      "<article class=\"mk-blog-newspaper-item image-post-type mk-isotop-item three-column mk-blog-newspaper-item--loaded post-798 post type-post status-publish format-standard has-post-thumbnail hentry category-hikes-trails\" id=\"post-798\">\n",
      "<div class=\"featured-image\">\n",
      "<a href=\"https://www.redrockcanyonlv.org/calico-tanks/\">\n",
      "<img alt=\"\" class=\"attachment-500x500 size-500x500 colorbox-798 wp-post-image\" height=\"500\" itemprop=\"image\" loading=\"lazy\" sizes=\"(max-width: 500px) 100vw, 500px\" src=\"https://www.redrockcanyonlv.org/wp-content/uploads/2012/07/Calico-Tank-WB-500x500.jpg\" srcset=\"https://www.redrockcanyonlv.org/wp-content/uploads/2012/07/Calico-Tank-WB-500x500.jpg 500w, https://www.redrockcanyonlv.org/wp-content/uploads/2012/07/Calico-Tank-WB-300x300.jpg 300w, https://www.redrockcanyonlv.org/wp-content/uploads/2012/07/Calico-Tank-WB-45x45.jpg 45w, https://www.redrockcanyonlv.org/wp-content/uploads/2012/07/Calico-Tank-WB-1024x1024.jpg 1024w, https://www.redrockcanyonlv.org/wp-content/uploads/2012/07/Calico-Tank-WB-266x266.jpg 266w, https://www.redrockcanyonlv.org/wp-content/uploads/2012/07/Calico-Tank-WB-64x64.jpg 64w, https://www.redrockcanyonlv.org/wp-content/uploads/2012/07/Calico-Tank-WB-195x195.jpg 195w\" width=\"500\"/> </a>\n",
      "</div><!-- .post-thumbnail -->\n",
      "<div class=\"mk-blog-meta\">\n",
      "<h2 class=\"the-title\"><a href=\"https://www.redrockcanyonlv.org/calico-tanks/\" rel=\"bookmark\">Calico Tanks</a></h2> </div>\n",
      "<div class=\"newspaper-item-footer\"><div class=\"newspaper-item-footer-holder\"><a class=\"mk-readmore\" href=\"https://www.redrockcanyonlv.org/calico-tanks/\"><svg class=\"mk-svg-icon\" data-cacheid=\"icon-62008c67437db\" data-name=\"mk-moon-arrow-right-2\" style=\" height:8px; width: 8px; \" viewbox=\"0 0 512 512\" xmlns=\"http://www.w3.org/2000/svg\"><path d=\"M192 0l-96 96 160 160-160 160 96 96 256-256z\"></path></svg>Read More</a> <span class=\"trailnum\">3</span>\n",
      "<div class=\"clearboth\"></div></div> </div></article><!-- #post-## -->\n",
      "<article class=\"mk-blog-newspaper-item image-post-type mk-isotop-item three-column mk-blog-newspaper-item--loaded post-800 post type-post status-publish format-standard has-post-thumbnail hentry category-hikes-trails\" id=\"post-800\">\n",
      "<div class=\"featured-image\">\n",
      "<a href=\"https://www.redrockcanyonlv.org/turtlehead-peak/\">\n",
      "<img alt=\"Turtle Head Peak\" class=\"attachment-500x500 size-500x500 colorbox-800 wp-post-image\" height=\"500\" itemprop=\"image\" loading=\"lazy\" sizes=\"(max-width: 500px) 100vw, 500px\" src=\"https://www.redrockcanyonlv.org/wp-content/uploads/2012/07/turtle-head-peak-trails-500x500.jpg\" srcset=\"https://www.redrockcanyonlv.org/wp-content/uploads/2012/07/turtle-head-peak-trails-500x500.jpg 500w, https://www.redrockcanyonlv.org/wp-content/uploads/2012/07/turtle-head-peak-trails-300x300.jpg 300w, https://www.redrockcanyonlv.org/wp-content/uploads/2012/07/turtle-head-peak-trails-45x45.jpg 45w, https://www.redrockcanyonlv.org/wp-content/uploads/2012/07/turtle-head-peak-trails-1024x1024.jpg 1024w, https://www.redrockcanyonlv.org/wp-content/uploads/2012/07/turtle-head-peak-trails-64x64.jpg 64w, https://www.redrockcanyonlv.org/wp-content/uploads/2012/07/turtle-head-peak-trails-266x266.jpg 266w, https://www.redrockcanyonlv.org/wp-content/uploads/2012/07/turtle-head-peak-trails-195x195.jpg 195w\" width=\"500\"/> </a>\n",
      "</div><!-- .post-thumbnail -->\n",
      "<div class=\"mk-blog-meta\">\n",
      "<h2 class=\"the-title\"><a href=\"https://www.redrockcanyonlv.org/turtlehead-peak/\" rel=\"bookmark\">Turtlehead Peak</a></h2> </div>\n",
      "<div class=\"newspaper-item-footer\"><div class=\"newspaper-item-footer-holder\"><a class=\"mk-readmore\" href=\"https://www.redrockcanyonlv.org/turtlehead-peak/\"><svg class=\"mk-svg-icon\" data-cacheid=\"icon-62008c6743d95\" data-name=\"mk-moon-arrow-right-2\" style=\" height:8px; width: 8px; \" viewbox=\"0 0 512 512\" xmlns=\"http://www.w3.org/2000/svg\"><path d=\"M192 0l-96 96 160 160-160 160 96 96 256-256z\"></path></svg>Read More</a> <span class=\"trailnum\">4</span>\n",
      "<div class=\"clearboth\"></div></div> </div></article><!-- #post-## -->\n",
      "<article class=\"mk-blog-newspaper-item image-post-type mk-isotop-item three-column mk-blog-newspaper-item--loaded post-803 post type-post status-publish format-standard has-post-thumbnail hentry category-hikes-trails\" id=\"post-803\">\n",
      "<div class=\"featured-image\">\n",
      "<a href=\"https://www.redrockcanyonlv.org/keystone-thrust/\">\n",
      "<img alt=\"\" class=\"attachment-500x500 size-500x500 colorbox-803 wp-post-image\" height=\"500\" itemprop=\"image\" loading=\"lazy\" sizes=\"(max-width: 500px) 100vw, 500px\" src=\"https://www.redrockcanyonlv.org/wp-content/uploads/img_8972-500x500.jpg\" srcset=\"https://www.redrockcanyonlv.org/wp-content/uploads/img_8972-500x500.jpg 500w, https://www.redrockcanyonlv.org/wp-content/uploads/img_8972-1000x1000.jpg 1000w, https://www.redrockcanyonlv.org/wp-content/uploads/img_8972-266x266.jpg 266w, https://www.redrockcanyonlv.org/wp-content/uploads/img_8972-60x60.jpg 60w, https://www.redrockcanyonlv.org/wp-content/uploads/img_8972-64x64.jpg 64w, https://www.redrockcanyonlv.org/wp-content/uploads/img_8972-195x195.jpg 195w\" width=\"500\"/> </a>\n",
      "</div><!-- .post-thumbnail -->\n",
      "<div class=\"mk-blog-meta\">\n",
      "<h2 class=\"the-title\"><a href=\"https://www.redrockcanyonlv.org/keystone-thrust/\" rel=\"bookmark\">Keystone Thrust</a></h2> </div>\n",
      "<div class=\"newspaper-item-footer\"><div class=\"newspaper-item-footer-holder\"><a class=\"mk-readmore\" href=\"https://www.redrockcanyonlv.org/keystone-thrust/\"><svg class=\"mk-svg-icon\" data-cacheid=\"icon-62008c6744241\" data-name=\"mk-moon-arrow-right-2\" style=\" height:8px; width: 8px; \" viewbox=\"0 0 512 512\" xmlns=\"http://www.w3.org/2000/svg\"><path d=\"M192 0l-96 96 160 160-160 160 96 96 256-256z\"></path></svg>Read More</a> <span class=\"trailnum\">5</span>\n",
      "<div class=\"clearboth\"></div></div> </div></article><!-- #post-## -->\n",
      "<article class=\"mk-blog-newspaper-item image-post-type mk-isotop-item three-column mk-blog-newspaper-item--loaded post-805 post type-post status-publish format-standard has-post-thumbnail hentry category-hikes-trails\" id=\"post-805\">\n",
      "<div class=\"featured-image\">\n",
      "<a href=\"https://www.redrockcanyonlv.org/white-rock-willow-springs/\">\n",
      "<img alt=\"\" class=\"attachment-500x500 size-500x500 colorbox-805 wp-post-image\" height=\"500\" itemprop=\"image\" loading=\"lazy\" sizes=\"(max-width: 500px) 100vw, 500px\" src=\"https://www.redrockcanyonlv.org/wp-content/uploads/2012/07/Red-Rock-Canyon-National-Conservation-Area-104-500x500.jpg\" srcset=\"https://www.redrockcanyonlv.org/wp-content/uploads/2012/07/Red-Rock-Canyon-National-Conservation-Area-104-500x500.jpg 500w, https://www.redrockcanyonlv.org/wp-content/uploads/2012/07/Red-Rock-Canyon-National-Conservation-Area-104-300x300.jpg 300w, https://www.redrockcanyonlv.org/wp-content/uploads/2012/07/Red-Rock-Canyon-National-Conservation-Area-104-45x45.jpg 45w, https://www.redrockcanyonlv.org/wp-content/uploads/2012/07/Red-Rock-Canyon-National-Conservation-Area-104-1024x1024.jpg 1024w, https://www.redrockcanyonlv.org/wp-content/uploads/2012/07/Red-Rock-Canyon-National-Conservation-Area-104-64x64.jpg 64w, https://www.redrockcanyonlv.org/wp-content/uploads/2012/07/Red-Rock-Canyon-National-Conservation-Area-104-195x195.jpg 195w, https://www.redrockcanyonlv.org/wp-content/uploads/2012/07/Red-Rock-Canyon-National-Conservation-Area-104-266x266.jpg 266w\" width=\"500\"/> </a>\n",
      "</div><!-- .post-thumbnail -->\n",
      "<div class=\"mk-blog-meta\">\n",
      "<h2 class=\"the-title\"><a href=\"https://www.redrockcanyonlv.org/white-rock-willow-springs/\" rel=\"bookmark\">White Rock – Willow Springs</a></h2> </div>\n",
      "<div class=\"newspaper-item-footer\"><div class=\"newspaper-item-footer-holder\"><a class=\"mk-readmore\" href=\"https://www.redrockcanyonlv.org/white-rock-willow-springs/\"><svg class=\"mk-svg-icon\" data-cacheid=\"icon-62008c674475d\" data-name=\"mk-moon-arrow-right-2\" style=\" height:8px; width: 8px; \" viewbox=\"0 0 512 512\" xmlns=\"http://www.w3.org/2000/svg\"><path d=\"M192 0l-96 96 160 160-160 160 96 96 256-256z\"></path></svg>Read More</a> <span class=\"trailnum\">6</span>\n",
      "<div class=\"clearboth\"></div></div> </div></article><!-- #post-## -->\n",
      "<article class=\"mk-blog-newspaper-item image-post-type mk-isotop-item three-column mk-blog-newspaper-item--loaded post-9663 post type-post status-publish format-standard has-post-thumbnail hentry category-hikes-trails\" id=\"post-9663\">\n",
      "<div class=\"featured-image\">\n",
      "<a href=\"https://www.redrockcanyonlv.org/grand-circle-loop/\">\n",
      "<img alt=\"\" class=\"attachment-500x500 size-500x500 colorbox-9663 wp-post-image\" height=\"500\" itemprop=\"image\" loading=\"lazy\" sizes=\"(max-width: 500px) 100vw, 500px\" src=\"https://www.redrockcanyonlv.org/wp-content/uploads/grand-cirle-2-500x500.jpg\" srcset=\"https://www.redrockcanyonlv.org/wp-content/uploads/grand-cirle-2-500x500.jpg 500w, https://www.redrockcanyonlv.org/wp-content/uploads/grand-cirle-2-1000x1000.jpg 1000w, https://www.redrockcanyonlv.org/wp-content/uploads/grand-cirle-2-266x266.jpg 266w, https://www.redrockcanyonlv.org/wp-content/uploads/grand-cirle-2-64x64.jpg 64w, https://www.redrockcanyonlv.org/wp-content/uploads/grand-cirle-2-60x60.jpg 60w, https://www.redrockcanyonlv.org/wp-content/uploads/grand-cirle-2-550x550.jpg 550w, https://www.redrockcanyonlv.org/wp-content/uploads/grand-cirle-2-195x195.jpg 195w, https://www.redrockcanyonlv.org/wp-content/uploads/grand-cirle-2-150x150.jpg 150w\" width=\"500\"/> </a>\n",
      "</div><!-- .post-thumbnail -->\n",
      "<div class=\"mk-blog-meta\">\n",
      "<h2 class=\"the-title\"><a href=\"https://www.redrockcanyonlv.org/grand-circle-loop/\" rel=\"bookmark\">Grand Circle Loop</a></h2> </div>\n",
      "<div class=\"newspaper-item-footer\"><div class=\"newspaper-item-footer-holder\"><a class=\"mk-readmore\" href=\"https://www.redrockcanyonlv.org/grand-circle-loop/\"><svg class=\"mk-svg-icon\" data-cacheid=\"icon-62008c6744fb0\" data-name=\"mk-moon-arrow-right-2\" style=\" height:8px; width: 8px; \" viewbox=\"0 0 512 512\" xmlns=\"http://www.w3.org/2000/svg\"><path d=\"M192 0l-96 96 160 160-160 160 96 96 256-256z\"></path></svg>Read More</a> <span class=\"trailnum\">7</span>\n",
      "<div class=\"clearboth\"></div></div> </div></article><!-- #post-## -->\n",
      "<article class=\"mk-blog-newspaper-item image-post-type mk-isotop-item three-column mk-blog-newspaper-item--loaded post-807 post type-post status-publish format-standard has-post-thumbnail hentry category-hikes-trails\" id=\"post-807\">\n",
      "<div class=\"featured-image\">\n",
      "<a href=\"https://www.redrockcanyonlv.org/white-rock-la-madre-spring-loop/\">\n",
      "<img alt=\"\" class=\"attachment-500x500 size-500x500 colorbox-807 wp-post-image\" height=\"500\" itemprop=\"image\" loading=\"lazy\" sizes=\"(max-width: 500px) 100vw, 500px\" src=\"https://www.redrockcanyonlv.org/wp-content/uploads/2012/07/LaMadre-Spring-WB-500x500.jpg\" srcset=\"https://www.redrockcanyonlv.org/wp-content/uploads/2012/07/LaMadre-Spring-WB-500x500.jpg 500w, https://www.redrockcanyonlv.org/wp-content/uploads/2012/07/LaMadre-Spring-WB-300x300.jpg 300w, https://www.redrockcanyonlv.org/wp-content/uploads/2012/07/LaMadre-Spring-WB-45x45.jpg 45w, https://www.redrockcanyonlv.org/wp-content/uploads/2012/07/LaMadre-Spring-WB-1024x1024.jpg 1024w, https://www.redrockcanyonlv.org/wp-content/uploads/2012/07/LaMadre-Spring-WB-64x64.jpg 64w, https://www.redrockcanyonlv.org/wp-content/uploads/2012/07/LaMadre-Spring-WB-266x266.jpg 266w, https://www.redrockcanyonlv.org/wp-content/uploads/2012/07/LaMadre-Spring-WB-195x195.jpg 195w\" width=\"500\"/> </a>\n",
      "</div><!-- .post-thumbnail -->\n",
      "<div class=\"mk-blog-meta\">\n",
      "<h2 class=\"the-title\"><a href=\"https://www.redrockcanyonlv.org/white-rock-la-madre-spring-loop/\" rel=\"bookmark\">White Rock Mountain Loop</a></h2> </div>\n",
      "<div class=\"newspaper-item-footer\"><div class=\"newspaper-item-footer-holder\"><a class=\"mk-readmore\" href=\"https://www.redrockcanyonlv.org/white-rock-la-madre-spring-loop/\"><svg class=\"mk-svg-icon\" data-cacheid=\"icon-62008c674547d\" data-name=\"mk-moon-arrow-right-2\" style=\" height:8px; width: 8px; \" viewbox=\"0 0 512 512\" xmlns=\"http://www.w3.org/2000/svg\"><path d=\"M192 0l-96 96 160 160-160 160 96 96 256-256z\"></path></svg>Read More</a> <span class=\"trailnum\">8</span>\n",
      "<div class=\"clearboth\"></div></div> </div></article><!-- #post-## -->\n",
      "<article class=\"mk-blog-newspaper-item image-post-type mk-isotop-item three-column mk-blog-newspaper-item--loaded post-812 post type-post status-publish format-standard has-post-thumbnail hentry category-hikes-trails\" id=\"post-812\">\n",
      "<div class=\"featured-image\">\n",
      "<a href=\"https://www.redrockcanyonlv.org/willow-springs-loop/\">\n",
      "<img alt=\"\" class=\"attachment-500x500 size-500x500 colorbox-812 wp-post-image\" height=\"500\" itemprop=\"image\" loading=\"lazy\" sizes=\"(max-width: 500px) 100vw, 500px\" src=\"https://www.redrockcanyonlv.org/wp-content/uploads/2012/07/Willow-Springs-Agave-Roasting-Pit-WB-500x500.jpg\" srcset=\"https://www.redrockcanyonlv.org/wp-content/uploads/2012/07/Willow-Springs-Agave-Roasting-Pit-WB-500x500.jpg 500w, https://www.redrockcanyonlv.org/wp-content/uploads/2012/07/Willow-Springs-Agave-Roasting-Pit-WB-300x300.jpg 300w, https://www.redrockcanyonlv.org/wp-content/uploads/2012/07/Willow-Springs-Agave-Roasting-Pit-WB-45x45.jpg 45w, https://www.redrockcanyonlv.org/wp-content/uploads/2012/07/Willow-Springs-Agave-Roasting-Pit-WB-1024x1024.jpg 1024w, https://www.redrockcanyonlv.org/wp-content/uploads/2012/07/Willow-Springs-Agave-Roasting-Pit-WB-64x64.jpg 64w, https://www.redrockcanyonlv.org/wp-content/uploads/2012/07/Willow-Springs-Agave-Roasting-Pit-WB-195x195.jpg 195w, https://www.redrockcanyonlv.org/wp-content/uploads/2012/07/Willow-Springs-Agave-Roasting-Pit-WB-266x266.jpg 266w\" width=\"500\"/> </a>\n",
      "</div><!-- .post-thumbnail -->\n",
      "<div class=\"mk-blog-meta\">\n",
      "<h2 class=\"the-title\"><a href=\"https://www.redrockcanyonlv.org/willow-springs-loop/\" rel=\"bookmark\">Willow Spring Loop</a></h2> </div>\n",
      "<div class=\"newspaper-item-footer\"><div class=\"newspaper-item-footer-holder\"><a class=\"mk-readmore\" href=\"https://www.redrockcanyonlv.org/willow-springs-loop/\"><svg class=\"mk-svg-icon\" data-cacheid=\"icon-62008c6745ab2\" data-name=\"mk-moon-arrow-right-2\" style=\" height:8px; width: 8px; \" viewbox=\"0 0 512 512\" xmlns=\"http://www.w3.org/2000/svg\"><path d=\"M192 0l-96 96 160 160-160 160 96 96 256-256z\"></path></svg>Read More</a> <span class=\"trailnum\">9</span>\n",
      "<div class=\"clearboth\"></div></div> </div></article><!-- #post-## -->\n",
      "<article class=\"mk-blog-newspaper-item image-post-type mk-isotop-item three-column mk-blog-newspaper-item--loaded post-814 post type-post status-publish format-standard has-post-thumbnail hentry category-hikes-trails\" id=\"post-814\">\n",
      "<div class=\"featured-image\">\n",
      "<a href=\"https://www.redrockcanyonlv.org/la-madre-spring/\">\n",
      "<img alt=\"La Madre Springs\" class=\"attachment-500x500 size-500x500 colorbox-814 wp-post-image\" height=\"500\" itemprop=\"image\" loading=\"lazy\" sizes=\"(max-width: 500px) 100vw, 500px\" src=\"https://www.redrockcanyonlv.org/wp-content/uploads/2012/07/la-madre-springs-500x500.jpg\" srcset=\"https://www.redrockcanyonlv.org/wp-content/uploads/2012/07/la-madre-springs-500x500.jpg 500w, https://www.redrockcanyonlv.org/wp-content/uploads/2012/07/la-madre-springs-300x300.jpg 300w, https://www.redrockcanyonlv.org/wp-content/uploads/2012/07/la-madre-springs-45x45.jpg 45w, https://www.redrockcanyonlv.org/wp-content/uploads/2012/07/la-madre-springs-1024x1024.jpg 1024w, https://www.redrockcanyonlv.org/wp-content/uploads/2012/07/la-madre-springs-64x64.jpg 64w, https://www.redrockcanyonlv.org/wp-content/uploads/2012/07/la-madre-springs-195x195.jpg 195w, https://www.redrockcanyonlv.org/wp-content/uploads/2012/07/la-madre-springs-266x266.jpg 266w\" width=\"500\"/> </a>\n",
      "</div><!-- .post-thumbnail -->\n",
      "<div class=\"mk-blog-meta\">\n",
      "<h2 class=\"the-title\"><a href=\"https://www.redrockcanyonlv.org/la-madre-spring/\" rel=\"bookmark\">La Madre Spring</a></h2> </div>\n",
      "<div class=\"newspaper-item-footer\"><div class=\"newspaper-item-footer-holder\"><a class=\"mk-readmore\" href=\"https://www.redrockcanyonlv.org/la-madre-spring/\"><svg class=\"mk-svg-icon\" data-cacheid=\"icon-62008c6746195\" data-name=\"mk-moon-arrow-right-2\" style=\" height:8px; width: 8px; \" viewbox=\"0 0 512 512\" xmlns=\"http://www.w3.org/2000/svg\"><path d=\"M192 0l-96 96 160 160-160 160 96 96 256-256z\"></path></svg>Read More</a> <span class=\"trailnum\">10</span>\n",
      "<div class=\"clearboth\"></div></div> </div></article><!-- #post-## -->\n",
      "<article class=\"mk-blog-newspaper-item image-post-type mk-isotop-item three-column mk-blog-newspaper-item--loaded post-9666 post type-post status-publish format-standard has-post-thumbnail hentry category-hikes-trails\" id=\"post-9666\">\n",
      "<div class=\"featured-image\">\n",
      "<a href=\"https://www.redrockcanyonlv.org/petroglyph-wall-trail/\">\n",
      "<img alt=\"\" class=\"attachment-500x500 size-500x500 colorbox-9666 wp-post-image\" height=\"500\" itemprop=\"image\" loading=\"lazy\" sizes=\"(max-width: 500px) 100vw, 500px\" src=\"https://www.redrockcanyonlv.org/wp-content/uploads/petroglyph-wall-500x500.jpg\" srcset=\"https://www.redrockcanyonlv.org/wp-content/uploads/petroglyph-wall-500x500.jpg 500w, https://www.redrockcanyonlv.org/wp-content/uploads/petroglyph-wall-1000x1000.jpg 1000w, https://www.redrockcanyonlv.org/wp-content/uploads/petroglyph-wall-266x266.jpg 266w, https://www.redrockcanyonlv.org/wp-content/uploads/petroglyph-wall-64x64.jpg 64w, https://www.redrockcanyonlv.org/wp-content/uploads/petroglyph-wall-60x60.jpg 60w, https://www.redrockcanyonlv.org/wp-content/uploads/petroglyph-wall-195x195.jpg 195w\" width=\"500\"/> </a>\n",
      "</div><!-- .post-thumbnail -->\n",
      "<div class=\"mk-blog-meta\">\n",
      "<h2 class=\"the-title\"><a href=\"https://www.redrockcanyonlv.org/petroglyph-wall-trail/\" rel=\"bookmark\">Petroglyph Wall</a></h2> </div>\n",
      "<div class=\"newspaper-item-footer\"><div class=\"newspaper-item-footer-holder\"><a class=\"mk-readmore\" href=\"https://www.redrockcanyonlv.org/petroglyph-wall-trail/\"><svg class=\"mk-svg-icon\" data-cacheid=\"icon-62008c674680b\" data-name=\"mk-moon-arrow-right-2\" style=\" height:8px; width: 8px; \" viewbox=\"0 0 512 512\" xmlns=\"http://www.w3.org/2000/svg\"><path d=\"M192 0l-96 96 160 160-160 160 96 96 256-256z\"></path></svg>Read More</a> <span class=\"trailnum\">11</span>\n",
      "<div class=\"clearboth\"></div></div> </div></article><!-- #post-## -->\n",
      "<article class=\"mk-blog-newspaper-item image-post-type mk-isotop-item three-column mk-blog-newspaper-item--loaded post-9669 post type-post status-publish format-standard has-post-thumbnail hentry category-hikes-trails\" id=\"post-9669\">\n",
      "<div class=\"featured-image\">\n",
      "<a href=\"https://www.redrockcanyonlv.org/north-peak-trail/\">\n",
      "<img alt=\"\" class=\"attachment-500x500 size-500x500 colorbox-9669 wp-post-image\" height=\"500\" itemprop=\"image\" loading=\"lazy\" sizes=\"(max-width: 500px) 100vw, 500px\" src=\"https://www.redrockcanyonlv.org/wp-content/uploads/img_4992-500x500.jpeg\" srcset=\"https://www.redrockcanyonlv.org/wp-content/uploads/img_4992-500x500.jpeg 500w, https://www.redrockcanyonlv.org/wp-content/uploads/img_4992-300x300.jpeg 300w, https://www.redrockcanyonlv.org/wp-content/uploads/img_4992-266x266.jpeg 266w, https://www.redrockcanyonlv.org/wp-content/uploads/img_4992-195x195.jpeg 195w\" width=\"500\"/> </a>\n",
      "</div><!-- .post-thumbnail -->\n",
      "<div class=\"mk-blog-meta\">\n",
      "<h2 class=\"the-title\"><a href=\"https://www.redrockcanyonlv.org/north-peak-trail/\" rel=\"bookmark\">North Peak</a></h2> </div>\n",
      "<div class=\"newspaper-item-footer\"><div class=\"newspaper-item-footer-holder\"><a class=\"mk-readmore\" href=\"https://www.redrockcanyonlv.org/north-peak-trail/\"><svg class=\"mk-svg-icon\" data-cacheid=\"icon-62008c6746e4d\" data-name=\"mk-moon-arrow-right-2\" style=\" height:8px; width: 8px; \" viewbox=\"0 0 512 512\" xmlns=\"http://www.w3.org/2000/svg\"><path d=\"M192 0l-96 96 160 160-160 160 96 96 256-256z\"></path></svg>Read More</a> <span class=\"trailnum\">12</span>\n",
      "<div class=\"clearboth\"></div></div> </div></article><!-- #post-## -->\n",
      "<article class=\"mk-blog-newspaper-item image-post-type mk-isotop-item three-column mk-blog-newspaper-item--loaded post-9672 post type-post status-publish format-standard has-post-thumbnail hentry category-hikes-trails\" id=\"post-9672\">\n",
      "<div class=\"featured-image\">\n",
      "<a href=\"https://www.redrockcanyonlv.org/bridge-mountain-trail/\">\n",
      "<img alt=\"\" class=\"attachment-500x500 size-500x500 colorbox-9672 wp-post-image\" height=\"500\" itemprop=\"image\" loading=\"lazy\" sizes=\"(max-width: 500px) 100vw, 500px\" src=\"https://www.redrockcanyonlv.org/wp-content/uploads/bridge-mtn-500x500.jpg\" srcset=\"https://www.redrockcanyonlv.org/wp-content/uploads/bridge-mtn-500x500.jpg 500w, https://www.redrockcanyonlv.org/wp-content/uploads/bridge-mtn-1000x1000.jpg 1000w, https://www.redrockcanyonlv.org/wp-content/uploads/bridge-mtn-266x266.jpg 266w, https://www.redrockcanyonlv.org/wp-content/uploads/bridge-mtn-64x64.jpg 64w, https://www.redrockcanyonlv.org/wp-content/uploads/bridge-mtn-60x60.jpg 60w, https://www.redrockcanyonlv.org/wp-content/uploads/bridge-mtn-195x195.jpg 195w\" width=\"500\"/> </a>\n",
      "</div><!-- .post-thumbnail -->\n",
      "<div class=\"mk-blog-meta\">\n",
      "<h2 class=\"the-title\"><a href=\"https://www.redrockcanyonlv.org/bridge-mountain-trail/\" rel=\"bookmark\">Bridge Mountain</a></h2> </div>\n",
      "<div class=\"newspaper-item-footer\"><div class=\"newspaper-item-footer-holder\"><a class=\"mk-readmore\" href=\"https://www.redrockcanyonlv.org/bridge-mountain-trail/\"><svg class=\"mk-svg-icon\" data-cacheid=\"icon-62008c6747416\" data-name=\"mk-moon-arrow-right-2\" style=\" height:8px; width: 8px; \" viewbox=\"0 0 512 512\" xmlns=\"http://www.w3.org/2000/svg\"><path d=\"M192 0l-96 96 160 160-160 160 96 96 256-256z\"></path></svg>Read More</a> <span class=\"trailnum\">13</span>\n",
      "<div class=\"clearboth\"></div></div> </div></article><!-- #post-## -->\n",
      "<article class=\"mk-blog-newspaper-item image-post-type mk-isotop-item three-column mk-blog-newspaper-item--loaded post-810 post type-post status-publish format-standard has-post-thumbnail hentry category-hikes-trails\" id=\"post-810\">\n",
      "<div class=\"featured-image\">\n",
      "<a href=\"https://www.redrockcanyonlv.org/lost-creek-childrens-discovery/\">\n",
      "<img alt=\"\" class=\"attachment-500x500 size-500x500 colorbox-810 wp-post-image\" height=\"500\" itemprop=\"image\" loading=\"lazy\" sizes=\"(max-width: 500px) 100vw, 500px\" src=\"https://www.redrockcanyonlv.org/wp-content/uploads/doi_8666-500x500.jpg\" srcset=\"https://www.redrockcanyonlv.org/wp-content/uploads/doi_8666-500x500.jpg 500w, https://www.redrockcanyonlv.org/wp-content/uploads/doi_8666-1000x1000.jpg 1000w, https://www.redrockcanyonlv.org/wp-content/uploads/doi_8666-266x266.jpg 266w, https://www.redrockcanyonlv.org/wp-content/uploads/doi_8666-195x195.jpg 195w\" width=\"500\"/> </a>\n",
      "</div><!-- .post-thumbnail -->\n",
      "<div class=\"mk-blog-meta\">\n",
      "<h2 class=\"the-title\"><a href=\"https://www.redrockcanyonlv.org/lost-creek-childrens-discovery/\" rel=\"bookmark\">Lost Creek – Children’s Discovery</a></h2> </div>\n",
      "<div class=\"newspaper-item-footer\"><div class=\"newspaper-item-footer-holder\"><a class=\"mk-readmore\" href=\"https://www.redrockcanyonlv.org/lost-creek-childrens-discovery/\"><svg class=\"mk-svg-icon\" data-cacheid=\"icon-62008c6747a7c\" data-name=\"mk-moon-arrow-right-2\" style=\" height:8px; width: 8px; \" viewbox=\"0 0 512 512\" xmlns=\"http://www.w3.org/2000/svg\"><path d=\"M192 0l-96 96 160 160-160 160 96 96 256-256z\"></path></svg>Read More</a> <span class=\"trailnum\">14</span>\n",
      "<div class=\"clearboth\"></div></div> </div></article><!-- #post-## -->\n",
      "<article class=\"mk-blog-newspaper-item image-post-type mk-isotop-item three-column mk-blog-newspaper-item--loaded post-816 post type-post status-publish format-standard has-post-thumbnail hentry category-hikes-trails\" id=\"post-816\">\n",
      "<div class=\"featured-image\">\n",
      "<a href=\"https://www.redrockcanyonlv.org/smyc/\">\n",
      "<img alt=\"\" class=\"attachment-500x500 size-500x500 colorbox-816 wp-post-image\" height=\"500\" itemprop=\"image\" loading=\"lazy\" sizes=\"(max-width: 500px) 100vw, 500px\" src=\"https://www.redrockcanyonlv.org/wp-content/uploads/2012/07/Lost-Creek-Hike-Discovery-Trail-500x500.jpg\" srcset=\"https://www.redrockcanyonlv.org/wp-content/uploads/2012/07/Lost-Creek-Hike-Discovery-Trail-500x500.jpg 500w, https://www.redrockcanyonlv.org/wp-content/uploads/2012/07/Lost-Creek-Hike-Discovery-Trail-300x300.jpg 300w, https://www.redrockcanyonlv.org/wp-content/uploads/2012/07/Lost-Creek-Hike-Discovery-Trail-45x45.jpg 45w, https://www.redrockcanyonlv.org/wp-content/uploads/2012/07/Lost-Creek-Hike-Discovery-Trail-1024x1024.jpg 1024w, https://www.redrockcanyonlv.org/wp-content/uploads/2012/07/Lost-Creek-Hike-Discovery-Trail-64x64.jpg 64w, https://www.redrockcanyonlv.org/wp-content/uploads/2012/07/Lost-Creek-Hike-Discovery-Trail-266x266.jpg 266w, https://www.redrockcanyonlv.org/wp-content/uploads/2012/07/Lost-Creek-Hike-Discovery-Trail-195x195.jpg 195w\" width=\"500\"/> </a>\n",
      "</div><!-- .post-thumbnail -->\n",
      "<div class=\"mk-blog-meta\">\n",
      "<h2 class=\"the-title\"><a href=\"https://www.redrockcanyonlv.org/smyc/\" rel=\"bookmark\">SMYC</a></h2> </div>\n",
      "<div class=\"newspaper-item-footer\"><div class=\"newspaper-item-footer-holder\"><a class=\"mk-readmore\" href=\"https://www.redrockcanyonlv.org/smyc/\"><svg class=\"mk-svg-icon\" data-cacheid=\"icon-62008c674806d\" data-name=\"mk-moon-arrow-right-2\" style=\" height:8px; width: 8px; \" viewbox=\"0 0 512 512\" xmlns=\"http://www.w3.org/2000/svg\"><path d=\"M192 0l-96 96 160 160-160 160 96 96 256-256z\"></path></svg>Read More</a> <span class=\"trailnum\">15</span>\n",
      "<div class=\"clearboth\"></div></div> </div></article><!-- #post-## -->\n",
      "<article class=\"mk-blog-newspaper-item image-post-type mk-isotop-item three-column mk-blog-newspaper-item--loaded post-818 post type-post status-publish format-standard has-post-thumbnail hentry category-hikes-trails\" id=\"post-818\">\n",
      "<div class=\"featured-image\">\n",
      "<a href=\"https://www.redrockcanyonlv.org/ice-box-canyon/\">\n",
      "<img alt=\"\" class=\"attachment-500x500 size-500x500 colorbox-818 wp-post-image\" height=\"500\" itemprop=\"image\" loading=\"lazy\" sizes=\"(max-width: 500px) 100vw, 500px\" src=\"https://www.redrockcanyonlv.org/wp-content/uploads/2012/07/Ice-Box-Canyon-WB-3-500x500.jpg\" srcset=\"https://www.redrockcanyonlv.org/wp-content/uploads/2012/07/Ice-Box-Canyon-WB-3-500x500.jpg 500w, https://www.redrockcanyonlv.org/wp-content/uploads/2012/07/Ice-Box-Canyon-WB-3-300x300.jpg 300w, https://www.redrockcanyonlv.org/wp-content/uploads/2012/07/Ice-Box-Canyon-WB-3-45x45.jpg 45w, https://www.redrockcanyonlv.org/wp-content/uploads/2012/07/Ice-Box-Canyon-WB-3-1024x1024.jpg 1024w, https://www.redrockcanyonlv.org/wp-content/uploads/2012/07/Ice-Box-Canyon-WB-3-64x64.jpg 64w, https://www.redrockcanyonlv.org/wp-content/uploads/2012/07/Ice-Box-Canyon-WB-3-266x266.jpg 266w, https://www.redrockcanyonlv.org/wp-content/uploads/2012/07/Ice-Box-Canyon-WB-3-195x195.jpg 195w\" width=\"500\"/> </a>\n",
      "</div><!-- .post-thumbnail -->\n",
      "<div class=\"mk-blog-meta\">\n",
      "<h2 class=\"the-title\"><a href=\"https://www.redrockcanyonlv.org/ice-box-canyon/\" rel=\"bookmark\">Ice Box Canyon</a></h2> </div>\n",
      "<div class=\"newspaper-item-footer\"><div class=\"newspaper-item-footer-holder\"><a class=\"mk-readmore\" href=\"https://www.redrockcanyonlv.org/ice-box-canyon/\"><svg class=\"mk-svg-icon\" data-cacheid=\"icon-62008c6748673\" data-name=\"mk-moon-arrow-right-2\" style=\" height:8px; width: 8px; \" viewbox=\"0 0 512 512\" xmlns=\"http://www.w3.org/2000/svg\"><path d=\"M192 0l-96 96 160 160-160 160 96 96 256-256z\"></path></svg>Read More</a> <span class=\"trailnum\">16</span>\n",
      "<div class=\"clearboth\"></div></div> </div></article><!-- #post-## -->\n",
      "<article class=\"mk-blog-newspaper-item image-post-type mk-isotop-item three-column mk-blog-newspaper-item--loaded post-820 post type-post status-publish format-standard has-post-thumbnail hentry category-hikes-trails\" id=\"post-820\">\n",
      "<div class=\"featured-image\">\n",
      "<a href=\"https://www.redrockcanyonlv.org/dales/\">\n",
      "<img alt=\"\" class=\"attachment-500x500 size-500x500 colorbox-820 wp-post-image\" height=\"500\" itemprop=\"image\" loading=\"lazy\" sizes=\"(max-width: 500px) 100vw, 500px\" src=\"https://www.redrockcanyonlv.org/wp-content/uploads/2012/07/Dales-Trail-Scenery-WB-2-500x500.jpg\" srcset=\"https://www.redrockcanyonlv.org/wp-content/uploads/2012/07/Dales-Trail-Scenery-WB-2-500x500.jpg 500w, https://www.redrockcanyonlv.org/wp-content/uploads/2012/07/Dales-Trail-Scenery-WB-2-300x300.jpg 300w, https://www.redrockcanyonlv.org/wp-content/uploads/2012/07/Dales-Trail-Scenery-WB-2-45x45.jpg 45w, https://www.redrockcanyonlv.org/wp-content/uploads/2012/07/Dales-Trail-Scenery-WB-2-1024x1024.jpg 1024w, https://www.redrockcanyonlv.org/wp-content/uploads/2012/07/Dales-Trail-Scenery-WB-2-64x64.jpg 64w, https://www.redrockcanyonlv.org/wp-content/uploads/2012/07/Dales-Trail-Scenery-WB-2-266x266.jpg 266w, https://www.redrockcanyonlv.org/wp-content/uploads/2012/07/Dales-Trail-Scenery-WB-2-195x195.jpg 195w\" width=\"500\"/> </a>\n",
      "</div><!-- .post-thumbnail -->\n",
      "<div class=\"mk-blog-meta\">\n",
      "<h2 class=\"the-title\"><a href=\"https://www.redrockcanyonlv.org/dales/\" rel=\"bookmark\">Dale’s</a></h2> </div>\n",
      "<div class=\"newspaper-item-footer\"><div class=\"newspaper-item-footer-holder\"><a class=\"mk-readmore\" href=\"https://www.redrockcanyonlv.org/dales/\"><svg class=\"mk-svg-icon\" data-cacheid=\"icon-62008c6748d1c\" data-name=\"mk-moon-arrow-right-2\" style=\" height:8px; width: 8px; \" viewbox=\"0 0 512 512\" xmlns=\"http://www.w3.org/2000/svg\"><path d=\"M192 0l-96 96 160 160-160 160 96 96 256-256z\"></path></svg>Read More</a> <span class=\"trailnum\">17</span>\n",
      "<div class=\"clearboth\"></div></div> </div></article><!-- #post-## -->\n",
      "<article class=\"mk-blog-newspaper-item image-post-type mk-isotop-item three-column mk-blog-newspaper-item--loaded post-822 post type-post status-publish format-standard has-post-thumbnail hentry category-hikes-trails\" id=\"post-822\">\n",
      "<div class=\"featured-image\">\n",
      "<a href=\"https://www.redrockcanyonlv.org/pine-creek-canyon/\">\n",
      "<img alt=\"\" class=\"attachment-500x500 size-500x500 colorbox-822 wp-post-image\" height=\"500\" itemprop=\"image\" loading=\"lazy\" sizes=\"(max-width: 500px) 100vw, 500px\" src=\"https://www.redrockcanyonlv.org/wp-content/uploads/2012/07/Pine-Creek-Trail-019-WB-500x500.jpg\" srcset=\"https://www.redrockcanyonlv.org/wp-content/uploads/2012/07/Pine-Creek-Trail-019-WB-500x500.jpg 500w, https://www.redrockcanyonlv.org/wp-content/uploads/2012/07/Pine-Creek-Trail-019-WB-300x300.jpg 300w, https://www.redrockcanyonlv.org/wp-content/uploads/2012/07/Pine-Creek-Trail-019-WB-45x45.jpg 45w, https://www.redrockcanyonlv.org/wp-content/uploads/2012/07/Pine-Creek-Trail-019-WB-1024x1024.jpg 1024w, https://www.redrockcanyonlv.org/wp-content/uploads/2012/07/Pine-Creek-Trail-019-WB-64x64.jpg 64w, https://www.redrockcanyonlv.org/wp-content/uploads/2012/07/Pine-Creek-Trail-019-WB-266x266.jpg 266w, https://www.redrockcanyonlv.org/wp-content/uploads/2012/07/Pine-Creek-Trail-019-WB-195x195.jpg 195w\" width=\"500\"/> </a>\n",
      "</div><!-- .post-thumbnail -->\n",
      "<div class=\"mk-blog-meta\">\n",
      "<h2 class=\"the-title\"><a href=\"https://www.redrockcanyonlv.org/pine-creek-canyon/\" rel=\"bookmark\">Pine Creek Canyon</a></h2> </div>\n",
      "<div class=\"newspaper-item-footer\"><div class=\"newspaper-item-footer-holder\"><a class=\"mk-readmore\" href=\"https://www.redrockcanyonlv.org/pine-creek-canyon/\"><svg class=\"mk-svg-icon\" data-cacheid=\"icon-62008c674940d\" data-name=\"mk-moon-arrow-right-2\" style=\" height:8px; width: 8px; \" viewbox=\"0 0 512 512\" xmlns=\"http://www.w3.org/2000/svg\"><path d=\"M192 0l-96 96 160 160-160 160 96 96 256-256z\"></path></svg>Read More</a> <span class=\"trailnum\">18</span>\n",
      "<div class=\"clearboth\"></div></div> </div></article><!-- #post-## -->\n",
      "<article class=\"mk-blog-newspaper-item image-post-type mk-isotop-item three-column mk-blog-newspaper-item--loaded post-824 post type-post status-publish format-standard has-post-thumbnail hentry category-hikes-trails\" id=\"post-824\">\n",
      "<div class=\"featured-image\">\n",
      "<a href=\"https://www.redrockcanyonlv.org/fire-ecology/\">\n",
      "<img alt=\"\" class=\"attachment-500x500 size-500x500 colorbox-824 wp-post-image\" height=\"500\" itemprop=\"image\" loading=\"lazy\" sizes=\"(max-width: 500px) 100vw, 500px\" src=\"https://www.redrockcanyonlv.org/wp-content/uploads/2012/07/Fire-Ecology-View-from-Pine-Creek-WB-500x500.jpg\" srcset=\"https://www.redrockcanyonlv.org/wp-content/uploads/2012/07/Fire-Ecology-View-from-Pine-Creek-WB-500x500.jpg 500w, https://www.redrockcanyonlv.org/wp-content/uploads/2012/07/Fire-Ecology-View-from-Pine-Creek-WB-300x300.jpg 300w, https://www.redrockcanyonlv.org/wp-content/uploads/2012/07/Fire-Ecology-View-from-Pine-Creek-WB-45x45.jpg 45w, https://www.redrockcanyonlv.org/wp-content/uploads/2012/07/Fire-Ecology-View-from-Pine-Creek-WB-1024x1024.jpg 1024w, https://www.redrockcanyonlv.org/wp-content/uploads/2012/07/Fire-Ecology-View-from-Pine-Creek-WB-64x64.jpg 64w, https://www.redrockcanyonlv.org/wp-content/uploads/2012/07/Fire-Ecology-View-from-Pine-Creek-WB-266x266.jpg 266w, https://www.redrockcanyonlv.org/wp-content/uploads/2012/07/Fire-Ecology-View-from-Pine-Creek-WB-195x195.jpg 195w\" width=\"500\"/> </a>\n",
      "</div><!-- .post-thumbnail -->\n",
      "<div class=\"mk-blog-meta\">\n",
      "<h2 class=\"the-title\"><a href=\"https://www.redrockcanyonlv.org/fire-ecology/\" rel=\"bookmark\">Fire Ecology</a></h2> </div>\n",
      "<div class=\"newspaper-item-footer\"><div class=\"newspaper-item-footer-holder\"><a class=\"mk-readmore\" href=\"https://www.redrockcanyonlv.org/fire-ecology/\"><svg class=\"mk-svg-icon\" data-cacheid=\"icon-62008c6749ac3\" data-name=\"mk-moon-arrow-right-2\" style=\" height:8px; width: 8px; \" viewbox=\"0 0 512 512\" xmlns=\"http://www.w3.org/2000/svg\"><path d=\"M192 0l-96 96 160 160-160 160 96 96 256-256z\"></path></svg>Read More</a> <span class=\"trailnum\">19</span>\n",
      "<div class=\"clearboth\"></div></div> </div></article><!-- #post-## -->\n",
      "<article class=\"mk-blog-newspaper-item image-post-type mk-isotop-item three-column mk-blog-newspaper-item--loaded post-828 post type-post status-publish format-standard has-post-thumbnail hentry category-hikes-trails\" id=\"post-828\">\n",
      "<div class=\"featured-image\">\n",
      "<a href=\"https://www.redrockcanyonlv.org/arnight/\">\n",
      "<img alt=\"\" class=\"attachment-500x500 size-500x500 colorbox-828 wp-post-image\" height=\"500\" itemprop=\"image\" loading=\"lazy\" sizes=\"(max-width: 500px) 100vw, 500px\" src=\"https://www.redrockcanyonlv.org/wp-content/uploads/2012/07/Arnight-WB-3-500x500.jpg\" srcset=\"https://www.redrockcanyonlv.org/wp-content/uploads/2012/07/Arnight-WB-3-500x500.jpg 500w, https://www.redrockcanyonlv.org/wp-content/uploads/2012/07/Arnight-WB-3-300x300.jpg 300w, https://www.redrockcanyonlv.org/wp-content/uploads/2012/07/Arnight-WB-3-45x45.jpg 45w, https://www.redrockcanyonlv.org/wp-content/uploads/2012/07/Arnight-WB-3-1024x1024.jpg 1024w, https://www.redrockcanyonlv.org/wp-content/uploads/2012/07/Arnight-WB-3-550x550.jpg 550w, https://www.redrockcanyonlv.org/wp-content/uploads/2012/07/Arnight-WB-3-64x64.jpg 64w, https://www.redrockcanyonlv.org/wp-content/uploads/2012/07/Arnight-WB-3-266x266.jpg 266w, https://www.redrockcanyonlv.org/wp-content/uploads/2012/07/Arnight-WB-3-195x195.jpg 195w\" width=\"500\"/> </a>\n",
      "</div><!-- .post-thumbnail -->\n",
      "<div class=\"mk-blog-meta\">\n",
      "<h2 class=\"the-title\"><a href=\"https://www.redrockcanyonlv.org/arnight/\" rel=\"bookmark\">Arnight</a></h2> </div>\n",
      "<div class=\"newspaper-item-footer\"><div class=\"newspaper-item-footer-holder\"><a class=\"mk-readmore\" href=\"https://www.redrockcanyonlv.org/arnight/\"><svg class=\"mk-svg-icon\" data-cacheid=\"icon-62008c674a0f2\" data-name=\"mk-moon-arrow-right-2\" style=\" height:8px; width: 8px; \" viewbox=\"0 0 512 512\" xmlns=\"http://www.w3.org/2000/svg\"><path d=\"M192 0l-96 96 160 160-160 160 96 96 256-256z\"></path></svg>Read More</a> <span class=\"trailnum\">20</span>\n",
      "<div class=\"clearboth\"></div></div> </div></article><!-- #post-## -->\n",
      "<article class=\"mk-blog-newspaper-item image-post-type mk-isotop-item three-column mk-blog-newspaper-item--loaded post-830 post type-post status-publish format-standard has-post-thumbnail hentry category-hikes-trails\" id=\"post-830\">\n",
      "<div class=\"featured-image\">\n",
      "<a href=\"https://www.redrockcanyonlv.org/knoll/\">\n",
      "<img alt=\"\" class=\"attachment-500x500 size-500x500 colorbox-830 wp-post-image\" height=\"500\" itemprop=\"image\" loading=\"lazy\" sizes=\"(max-width: 500px) 100vw, 500px\" src=\"https://www.redrockcanyonlv.org/wp-content/uploads/2012/07/Pine-Creek-Trail-047-500x500.jpg\" srcset=\"https://www.redrockcanyonlv.org/wp-content/uploads/2012/07/Pine-Creek-Trail-047-500x500.jpg 500w, https://www.redrockcanyonlv.org/wp-content/uploads/2012/07/Pine-Creek-Trail-047-300x300.jpg 300w, https://www.redrockcanyonlv.org/wp-content/uploads/2012/07/Pine-Creek-Trail-047-45x45.jpg 45w, https://www.redrockcanyonlv.org/wp-content/uploads/2012/07/Pine-Creek-Trail-047-1024x1024.jpg 1024w, https://www.redrockcanyonlv.org/wp-content/uploads/2012/07/Pine-Creek-Trail-047-550x550.jpg 550w, https://www.redrockcanyonlv.org/wp-content/uploads/2012/07/Pine-Creek-Trail-047-64x64.jpg 64w, https://www.redrockcanyonlv.org/wp-content/uploads/2012/07/Pine-Creek-Trail-047-266x266.jpg 266w, https://www.redrockcanyonlv.org/wp-content/uploads/2012/07/Pine-Creek-Trail-047-195x195.jpg 195w\" width=\"500\"/> </a>\n",
      "</div><!-- .post-thumbnail -->\n",
      "<div class=\"mk-blog-meta\">\n",
      "<h2 class=\"the-title\"><a href=\"https://www.redrockcanyonlv.org/knoll/\" rel=\"bookmark\">Knoll</a></h2> </div>\n",
      "<div class=\"newspaper-item-footer\"><div class=\"newspaper-item-footer-holder\"><a class=\"mk-readmore\" href=\"https://www.redrockcanyonlv.org/knoll/\"><svg class=\"mk-svg-icon\" data-cacheid=\"icon-62008c674a6fd\" data-name=\"mk-moon-arrow-right-2\" style=\" height:8px; width: 8px; \" viewbox=\"0 0 512 512\" xmlns=\"http://www.w3.org/2000/svg\"><path d=\"M192 0l-96 96 160 160-160 160 96 96 256-256z\"></path></svg>Read More</a> <span class=\"trailnum\">21</span>\n",
      "<div class=\"clearboth\"></div></div> </div></article><!-- #post-## -->\n",
      "<article class=\"mk-blog-newspaper-item image-post-type mk-isotop-item three-column mk-blog-newspaper-item--loaded post-826 post type-post status-publish format-standard has-post-thumbnail hentry category-hikes-trails\" id=\"post-826\">\n",
      "<div class=\"featured-image\">\n",
      "<a href=\"https://www.redrockcanyonlv.org/oak-creek-canyon/\">\n",
      "<img alt=\"\" class=\"attachment-500x500 size-500x500 colorbox-826 wp-post-image\" height=\"500\" itemprop=\"image\" loading=\"lazy\" sizes=\"(max-width: 500px) 100vw, 500px\" src=\"https://www.redrockcanyonlv.org/wp-content/uploads/2012/07/Oak-Creek-WB-500x500.jpg\" srcset=\"https://www.redrockcanyonlv.org/wp-content/uploads/2012/07/Oak-Creek-WB-500x500.jpg 500w, https://www.redrockcanyonlv.org/wp-content/uploads/2012/07/Oak-Creek-WB-300x300.jpg 300w, https://www.redrockcanyonlv.org/wp-content/uploads/2012/07/Oak-Creek-WB-45x45.jpg 45w, https://www.redrockcanyonlv.org/wp-content/uploads/2012/07/Oak-Creek-WB-1024x1024.jpg 1024w, https://www.redrockcanyonlv.org/wp-content/uploads/2012/07/Oak-Creek-WB-550x550.jpg 550w, https://www.redrockcanyonlv.org/wp-content/uploads/2012/07/Oak-Creek-WB-64x64.jpg 64w, https://www.redrockcanyonlv.org/wp-content/uploads/2012/07/Oak-Creek-WB-266x266.jpg 266w, https://www.redrockcanyonlv.org/wp-content/uploads/2012/07/Oak-Creek-WB-150x150.jpg 150w, https://www.redrockcanyonlv.org/wp-content/uploads/2012/07/Oak-Creek-WB-195x195.jpg 195w\" width=\"500\"/> </a>\n",
      "</div><!-- .post-thumbnail -->\n",
      "<div class=\"mk-blog-meta\">\n",
      "<h2 class=\"the-title\"><a href=\"https://www.redrockcanyonlv.org/oak-creek-canyon/\" rel=\"bookmark\">Oak Creek Canyon</a></h2> </div>\n",
      "<div class=\"newspaper-item-footer\"><div class=\"newspaper-item-footer-holder\"><a class=\"mk-readmore\" href=\"https://www.redrockcanyonlv.org/oak-creek-canyon/\"><svg class=\"mk-svg-icon\" data-cacheid=\"icon-62008c674ad1a\" data-name=\"mk-moon-arrow-right-2\" style=\" height:8px; width: 8px; \" viewbox=\"0 0 512 512\" xmlns=\"http://www.w3.org/2000/svg\"><path d=\"M192 0l-96 96 160 160-160 160 96 96 256-256z\"></path></svg>Read More</a> <span class=\"trailnum\">22</span>\n",
      "<div class=\"clearboth\"></div></div> </div></article><!-- #post-## -->\n",
      "<article class=\"mk-blog-newspaper-item image-post-type mk-isotop-item three-column mk-blog-newspaper-item--loaded post-9675 post type-post status-publish format-standard has-post-thumbnail hentry category-hikes-trails\" id=\"post-9675\">\n",
      "<div class=\"featured-image\">\n",
      "<a href=\"https://www.redrockcanyonlv.org/oak-creek-cutoff/\">\n",
      "<img alt=\"\" class=\"attachment-500x500 size-500x500 colorbox-9675 wp-post-image\" height=\"500\" itemprop=\"image\" loading=\"lazy\" sizes=\"(max-width: 500px) 100vw, 500px\" src=\"https://www.redrockcanyonlv.org/wp-content/uploads/oak-creek-cutoff-500x500.jpg\" srcset=\"https://www.redrockcanyonlv.org/wp-content/uploads/oak-creek-cutoff-500x500.jpg 500w, https://www.redrockcanyonlv.org/wp-content/uploads/oak-creek-cutoff-1000x1000.jpg 1000w, https://www.redrockcanyonlv.org/wp-content/uploads/oak-creek-cutoff-266x266.jpg 266w, https://www.redrockcanyonlv.org/wp-content/uploads/oak-creek-cutoff-64x64.jpg 64w, https://www.redrockcanyonlv.org/wp-content/uploads/oak-creek-cutoff-60x60.jpg 60w, https://www.redrockcanyonlv.org/wp-content/uploads/oak-creek-cutoff-195x195.jpg 195w, https://www.redrockcanyonlv.org/wp-content/uploads/oak-creek-cutoff-550x550.jpg 550w\" width=\"500\"/> </a>\n",
      "</div><!-- .post-thumbnail -->\n",
      "<div class=\"mk-blog-meta\">\n",
      "<h2 class=\"the-title\"><a href=\"https://www.redrockcanyonlv.org/oak-creek-cutoff/\" rel=\"bookmark\">Middle Oak Creek</a></h2> </div>\n",
      "<div class=\"newspaper-item-footer\"><div class=\"newspaper-item-footer-holder\"><a class=\"mk-readmore\" href=\"https://www.redrockcanyonlv.org/oak-creek-cutoff/\"><svg class=\"mk-svg-icon\" data-cacheid=\"icon-62008c674b28d\" data-name=\"mk-moon-arrow-right-2\" style=\" height:8px; width: 8px; \" viewbox=\"0 0 512 512\" xmlns=\"http://www.w3.org/2000/svg\"><path d=\"M192 0l-96 96 160 160-160 160 96 96 256-256z\"></path></svg>Read More</a> <span class=\"trailnum\">23</span>\n",
      "<div class=\"clearboth\"></div></div> </div></article><!-- #post-## -->\n",
      "<article class=\"mk-blog-newspaper-item image-post-type mk-isotop-item three-column mk-blog-newspaper-item--loaded post-9678 post type-post status-publish format-standard has-post-thumbnail hentry category-hikes-trails\" id=\"post-9678\">\n",
      "<div class=\"featured-image\">\n",
      "<a href=\"https://www.redrockcanyonlv.org/south-oak-creek/\">\n",
      "<img alt=\"\" class=\"attachment-500x500 size-500x500 colorbox-9678 wp-post-image\" height=\"500\" itemprop=\"image\" loading=\"lazy\" sizes=\"(max-width: 500px) 100vw, 500px\" src=\"https://www.redrockcanyonlv.org/wp-content/uploads/south-oak-creek-500x500.jpg\" srcset=\"https://www.redrockcanyonlv.org/wp-content/uploads/south-oak-creek-500x500.jpg 500w, https://www.redrockcanyonlv.org/wp-content/uploads/south-oak-creek-1000x1000.jpg 1000w, https://www.redrockcanyonlv.org/wp-content/uploads/south-oak-creek-266x266.jpg 266w, https://www.redrockcanyonlv.org/wp-content/uploads/south-oak-creek-64x64.jpg 64w, https://www.redrockcanyonlv.org/wp-content/uploads/south-oak-creek-60x60.jpg 60w, https://www.redrockcanyonlv.org/wp-content/uploads/south-oak-creek-195x195.jpg 195w\" width=\"500\"/> </a>\n",
      "</div><!-- .post-thumbnail -->\n",
      "<div class=\"mk-blog-meta\">\n",
      "<h2 class=\"the-title\"><a href=\"https://www.redrockcanyonlv.org/south-oak-creek/\" rel=\"bookmark\">South Oak Creek</a></h2> </div>\n",
      "<div class=\"newspaper-item-footer\"><div class=\"newspaper-item-footer-holder\"><a class=\"mk-readmore\" href=\"https://www.redrockcanyonlv.org/south-oak-creek/\"><svg class=\"mk-svg-icon\" data-cacheid=\"icon-62008c674b71b\" data-name=\"mk-moon-arrow-right-2\" style=\" height:8px; width: 8px; \" viewbox=\"0 0 512 512\" xmlns=\"http://www.w3.org/2000/svg\"><path d=\"M192 0l-96 96 160 160-160 160 96 96 256-256z\"></path></svg>Read More</a> <span class=\"trailnum\">24</span>\n",
      "<div class=\"clearboth\"></div></div> </div></article><!-- #post-## -->\n",
      "<article class=\"mk-blog-newspaper-item image-post-type mk-isotop-item three-column mk-blog-newspaper-item--loaded post-832 post type-post status-publish format-standard has-post-thumbnail hentry category-hikes-trails\" id=\"post-832\">\n",
      "<div class=\"featured-image\">\n",
      "<a href=\"https://www.redrockcanyonlv.org/first-creek-canyon/\">\n",
      "<img alt=\"\" class=\"attachment-500x500 size-500x500 colorbox-832 wp-post-image\" height=\"500\" itemprop=\"image\" loading=\"lazy\" sizes=\"(max-width: 500px) 100vw, 500px\" src=\"https://www.redrockcanyonlv.org/wp-content/uploads/20161123_132745-500x500.jpg\" srcset=\"https://www.redrockcanyonlv.org/wp-content/uploads/20161123_132745-500x500.jpg 500w, https://www.redrockcanyonlv.org/wp-content/uploads/20161123_132745-1000x1000.jpg 1000w, https://www.redrockcanyonlv.org/wp-content/uploads/20161123_132745-266x266.jpg 266w, https://www.redrockcanyonlv.org/wp-content/uploads/20161123_132745-64x64.jpg 64w, https://www.redrockcanyonlv.org/wp-content/uploads/20161123_132745-60x60.jpg 60w, https://www.redrockcanyonlv.org/wp-content/uploads/20161123_132745-195x195.jpg 195w\" width=\"500\"/> </a>\n",
      "</div><!-- .post-thumbnail -->\n",
      "<div class=\"mk-blog-meta\">\n",
      "<h2 class=\"the-title\"><a href=\"https://www.redrockcanyonlv.org/first-creek-canyon/\" rel=\"bookmark\">First Creek Canyon</a></h2> </div>\n",
      "<div class=\"newspaper-item-footer\"><div class=\"newspaper-item-footer-holder\"><a class=\"mk-readmore\" href=\"https://www.redrockcanyonlv.org/first-creek-canyon/\"><svg class=\"mk-svg-icon\" data-cacheid=\"icon-62008c674bbad\" data-name=\"mk-moon-arrow-right-2\" style=\" height:8px; width: 8px; \" viewbox=\"0 0 512 512\" xmlns=\"http://www.w3.org/2000/svg\"><path d=\"M192 0l-96 96 160 160-160 160 96 96 256-256z\"></path></svg>Read More</a> <span class=\"trailnum\">25</span>\n",
      "<div class=\"clearboth\"></div></div> </div></article><!-- #post-## -->\n",
      "<article class=\"mk-blog-newspaper-item image-post-type mk-isotop-item three-column mk-blog-newspaper-item--loaded post-9681 post type-post status-publish format-standard has-post-thumbnail hentry category-hikes-trails\" id=\"post-9681\">\n",
      "<div class=\"featured-image\">\n",
      "<a href=\"https://www.redrockcanyonlv.org/kraft-boulders/\">\n",
      "<img alt=\"\" class=\"attachment-500x500 size-500x500 colorbox-9681 wp-post-image\" height=\"500\" itemprop=\"image\" loading=\"lazy\" sizes=\"(max-width: 500px) 100vw, 500px\" src=\"https://www.redrockcanyonlv.org/wp-content/uploads/kraft-mtn-boulders-500x500.jpg\" srcset=\"https://www.redrockcanyonlv.org/wp-content/uploads/kraft-mtn-boulders-500x500.jpg 500w, https://www.redrockcanyonlv.org/wp-content/uploads/kraft-mtn-boulders-1000x1000.jpg 1000w, https://www.redrockcanyonlv.org/wp-content/uploads/kraft-mtn-boulders-266x266.jpg 266w, https://www.redrockcanyonlv.org/wp-content/uploads/kraft-mtn-boulders-64x64.jpg 64w, https://www.redrockcanyonlv.org/wp-content/uploads/kraft-mtn-boulders-60x60.jpg 60w, https://www.redrockcanyonlv.org/wp-content/uploads/kraft-mtn-boulders-195x195.jpg 195w\" width=\"500\"/> </a>\n",
      "</div><!-- .post-thumbnail -->\n",
      "<div class=\"mk-blog-meta\">\n",
      "<h2 class=\"the-title\"><a href=\"https://www.redrockcanyonlv.org/kraft-boulders/\" rel=\"bookmark\">Kraft Mountain Loop Hike</a></h2> </div>\n",
      "<div class=\"newspaper-item-footer\"><div class=\"newspaper-item-footer-holder\"><a class=\"mk-readmore\" href=\"https://www.redrockcanyonlv.org/kraft-boulders/\"><svg class=\"mk-svg-icon\" data-cacheid=\"icon-62008c674c06a\" data-name=\"mk-moon-arrow-right-2\" style=\" height:8px; width: 8px; \" viewbox=\"0 0 512 512\" xmlns=\"http://www.w3.org/2000/svg\"><path d=\"M192 0l-96 96 160 160-160 160 96 96 256-256z\"></path></svg>Read More</a> <span class=\"trailnum\">26</span>\n",
      "<div class=\"clearboth\"></div></div> </div></article><!-- #post-## -->\n",
      "</section><div class=\"wp-pagenavi\" role=\"navigation\">\n",
      "<span class=\"pages\">Page 1 of 2</span><span aria-current=\"page\" class=\"current\">1</span><a class=\"page larger\" href=\"https://www.redrockcanyonlv.org/lasvegas/hikes-trails/page/2/\" title=\"Page 2\">2</a><a aria-label=\"Next Page\" class=\"nextpostslink\" href=\"https://www.redrockcanyonlv.org/lasvegas/hikes-trails/page/2/\" rel=\"next\">»</a>\n",
      "</div> <div class=\"clearboth\"></div>\n",
      "</div>\n",
      "<aside class=\"mk-builtin\" id=\"mk-sidebar\" itemscope=\"itemscope\" itemtype=\"https://schema.org/WPSideBar\" role=\"complementary\">\n",
      "<div class=\"sidebar-wrapper\">\n",
      "<section class=\"widget widget_text\" id=\"text-21\"><div class=\"widgettitle\">Upcoming Events</div> <div class=\"textwidget\"><div class=\"em-calendar-wrapper\" id=\"em-calendar-171\"><table class=\"em-calendar\">\n",
      "<thead>\n",
      "<tr>\n",
      "<td><a class=\"em-calnav em-calnav-prev\" href=\"/lasvegas/hikes-trails/?ajaxCalendar=1&amp;mo=1&amp;yr=2022\" rel=\"nofollow\">&lt;&lt;</a></td>\n",
      "<td class=\"month_name\" colspan=\"5\">Feb 2022</td>\n",
      "<td><a class=\"em-calnav em-calnav-next\" href=\"/lasvegas/hikes-trails/?ajaxCalendar=1&amp;mo=3&amp;yr=2022\" rel=\"nofollow\">&gt;&gt;</a></td>\n",
      "</tr>\n",
      "</thead>\n",
      "<tbody>\n",
      "<tr class=\"days-names\">\n",
      "<td>M</td><td>T</td><td>W</td><td>T</td><td>F</td><td>S</td><td>S</td>\n",
      "</tr>\n",
      "<tr>\n",
      "<td class=\"eventless-pre\">\r\n",
      "\t\t\t\t\t\t\t\t\t\t31\t\t\t\t\t\t\t\t\t</td>\n",
      "<td class=\"eventful\">\n",
      "<a href=\"https://www.redrockcanyonlv.org/events/trail-talk-tuesday-pine-creek-8am-2-1-22/\" title=\"Trail Talk Tuesday – Pine Creek\">1</a>\n",
      "</td>\n",
      "<td class=\"eventless\">\r\n",
      "\t\t\t\t\t\t\t\t\t\t2\t\t\t\t\t\t\t\t\t</td>\n",
      "<td class=\"eventful\">\n",
      "<a href=\"https://www.redrockcanyonlv.org/events/moenkopi-mornings-guided-hike-2-3-22/\" title=\"Moenkopi Mornings Guided Hike\">3</a>\n",
      "</td>\n",
      "<td class=\"eventless\">\r\n",
      "\t\t\t\t\t\t\t\t\t\t4\t\t\t\t\t\t\t\t\t</td>\n",
      "<td class=\"eventful\">\n",
      "<a href=\"https://www.redrockcanyonlv.org/events/geology-tabletop-at-calico-i-930am-2-5-22/\" title=\"Geology Tabletop at Calico I\">5</a>\n",
      "</td>\n",
      "<td class=\"eventless-today\">\r\n",
      "\t\t\t\t\t\t\t\t\t\t6\t\t\t\t\t\t\t\t\t</td>\n",
      "</tr><tr> <td class=\"eventless\">\r\n",
      "\t\t\t\t\t\t\t\t\t\t7\t\t\t\t\t\t\t\t\t</td>\n",
      "<td class=\"eventful\">\n",
      "<a href=\"https://www.redrockcanyonlv.org/events/tabletop-tuesday-mountain-lion-9am-2-8-22/\" title=\"Tabletop Tuesday – Mountain Lion\">8</a>\n",
      "</td>\n",
      "<td class=\"eventless\">\r\n",
      "\t\t\t\t\t\t\t\t\t\t9\t\t\t\t\t\t\t\t\t</td>\n",
      "<td class=\"eventful\">\n",
      "<a href=\"https://www.redrockcanyonlv.org/events/moenkopi-mornings-guided-hike-2-10-22/\" title=\"Moenkopi Mornings Guided Hike\">10</a>\n",
      "</td>\n",
      "<td class=\"eventless\">\r\n",
      "\t\t\t\t\t\t\t\t\t\t11\t\t\t\t\t\t\t\t\t</td>\n",
      "<td class=\"eventful\">\n",
      "<a href=\"https://www.redrockcanyonlv.org/events/geology-tabletop-at-calico-i-930am-2-12-22/\" title=\"Geology Tabletop at Calico I\">12</a>\n",
      "</td>\n",
      "<td class=\"eventful\">\n",
      "<a href=\"https://www.redrockcanyonlv.org/events/healthy-heart-hike-pine-creek-2-13-22/\" title=\"Healthy Heart Hike – Pine Creek\">13</a>\n",
      "</td>\n",
      "</tr><tr> <td class=\"eventless\">\r\n",
      "\t\t\t\t\t\t\t\t\t\t14\t\t\t\t\t\t\t\t\t</td>\n",
      "<td class=\"eventful\">\n",
      "<a href=\"https://www.redrockcanyonlv.org/events/tabletop-tuesday-canines-of-red-rock-9am-2-15-22/\" title=\"Tabletop Tuesday – Canines of Red Rock\">15</a>\n",
      "</td>\n",
      "<td class=\"eventful\">\n",
      "<a href=\"https://www.redrockcanyonlv.org/events/campground-program-gila-monsters-6pm-2-16-22/\" title=\"Campground Program – Gila Monsters\">16</a>\n",
      "</td>\n",
      "<td class=\"eventful\">\n",
      "<a href=\"https://www.redrockcanyonlv.org/events/moenkopi-mornings-guided-hike-2-17-22/\" title=\"Moenkopi Mornings Guided Hike\">17</a>\n",
      "</td>\n",
      "<td class=\"eventless\">\r\n",
      "\t\t\t\t\t\t\t\t\t\t18\t\t\t\t\t\t\t\t\t</td>\n",
      "<td class=\"eventful\">\n",
      "<a href=\"https://www.redrockcanyonlv.org/events/geology-tabletop-at-calico-i-930am-2-19-22/\" title=\"Geology Tabletop at Calico I\">19</a>\n",
      "</td>\n",
      "<td class=\"eventful\">\n",
      "<a href=\"https://www.redrockcanyonlv.org/events/fossil-ridge-hike-2-20-22/\" title=\"Fossil Ridge Hike\">20</a>\n",
      "</td>\n",
      "</tr><tr> <td class=\"eventless\">\r\n",
      "\t\t\t\t\t\t\t\t\t\t21\t\t\t\t\t\t\t\t\t</td>\n",
      "<td class=\"eventful\">\n",
      "<a href=\"https://www.redrockcanyonlv.org/events/tabletop-tuesday-eagles-9am-2-22-22/\" title=\"Tabletop Tuesday – Eagles\">22</a>\n",
      "</td>\n",
      "<td class=\"eventless\">\r\n",
      "\t\t\t\t\t\t\t\t\t\t23\t\t\t\t\t\t\t\t\t</td>\n",
      "<td class=\"eventful\">\n",
      "<a href=\"https://www.redrockcanyonlv.org/events/moenkopi-mornings-guided-hike-2-24-22/\" title=\"Moenkopi Mornings Guided Hike\">24</a>\n",
      "</td>\n",
      "<td class=\"eventless\">\r\n",
      "\t\t\t\t\t\t\t\t\t\t25\t\t\t\t\t\t\t\t\t</td>\n",
      "<td class=\"eventful\">\n",
      "<a href=\"https://www.redrockcanyonlv.org/events/geology-tabletop-at-calico-i-930am-2-26-22/\" title=\"Geology Tabletop at Calico I\">26</a>\n",
      "</td>\n",
      "<td class=\"eventful\">\n",
      "<a href=\"https://www.redrockcanyonlv.org/events/healthy-heart-hike-la-madre-spring-2-27-22/\" title=\"Healthy Heart Hike – La Madre Spring\">27</a>\n",
      "</td>\n",
      "</tr><tr> <td class=\"eventless\">\r\n",
      "\t\t\t\t\t\t\t\t\t\t28\t\t\t\t\t\t\t\t\t</td>\n",
      "<td class=\"eventful-post\">\n",
      "<a href=\"https://www.redrockcanyonlv.org/events/trail-talk-tuesday-calico-hills-8am-3-1-22/\" title=\"Trail Talk Tuesday – Calico Hills\">1</a>\n",
      "</td>\n",
      "<td class=\"eventless-post\">\r\n",
      "\t\t\t\t\t\t\t\t\t\t2\t\t\t\t\t\t\t\t\t</td>\n",
      "<td class=\"eventless-post\">\r\n",
      "\t\t\t\t\t\t\t\t\t\t3\t\t\t\t\t\t\t\t\t</td>\n",
      "<td class=\"eventless-post\">\r\n",
      "\t\t\t\t\t\t\t\t\t\t4\t\t\t\t\t\t\t\t\t</td>\n",
      "<td class=\"eventless-post\">\r\n",
      "\t\t\t\t\t\t\t\t\t\t5\t\t\t\t\t\t\t\t\t</td>\n",
      "<td class=\"eventless-post\">\r\n",
      "\t\t\t\t\t\t\t\t\t\t6\t\t\t\t\t\t\t\t\t</td>\n",
      "</tr>\n",
      "</tbody>\n",
      "</table></div>\n",
      "<a class=\"button\" href=\"https://www.redrockcanyonlv.org/event-calendar/\">View Full Calendar</a></div>\n",
      "</section> </div>\n",
      "</aside>\n",
      "<div class=\"clearboth\"></div>\n",
      "</div>\n",
      "</div>\n",
      "</div>\n",
      "<section id=\"mk-footer-unfold-spacer\"></section>\n",
      "<section class=\"\" id=\"mk-footer\" itemscope=\"itemscope\" itemtype=\"https://schema.org/WPFooter\" role=\"contentinfo\">\n",
      "<div class=\"footer-wrapper fullwidth-footer\">\n",
      "<div class=\"mk-padding-wrapper\">\n",
      "<div class=\"mk-col-1-4\"><section class=\"widget widget_text\" id=\"text-26\"><div class=\"widgettitle\">Who We Are</div> <div class=\"textwidget\"><p><a href=\"https://www.redrockcanyonlv.org/our-mission/\">Southern Nevada Conservancy</a>, a 501c3 nonprofit organization based in Las Vegas, NV, serves Red Rock Canyon National Conservation Area under a formal agreement with the Bureau of Land Management (BLM) in many ways, including interpretive programming, fee-station management, retail operations, and this website.</p>\n",
      "<p><a class=\"button\" href=\"https://www.redrockcanyonlv.org/redrockcanyon/fees/\">Fees &amp; Passes</a></p>\n",
      "</div>\n",
      "</section></div>\n",
      "<div class=\"mk-col-1-4\"><section class=\"widget widget_nav_menu\" id=\"nav_menu-2\"><div class=\"widgettitle\">Visit Red Rock Canyon</div>\n",
      "<div class=\"menu-footer-menu-container\"><ul class=\"menu\" id=\"menu-footer-menu\">\n",
      "<li class=\"menu-item menu-item-type-taxonomy menu-item-object-category current-menu-item menu-item-9245\" id=\"menu-item-9245\"><a aria-current=\"page\" href=\"https://www.redrockcanyonlv.org/lasvegas/hikes-trails/\"><svg class=\"mk-svg-icon\" data-cacheid=\"icon-62008c675513c\" data-name=\"mk-icon-angle-right\" style=\" height:14px; width: 5px; \" viewbox=\"0 0 640 1792\" xmlns=\"http://www.w3.org/2000/svg\"><path d=\"M595 960q0 13-10 23l-466 466q-10 10-23 10t-23-10l-50-50q-10-10-10-23t10-23l393-393-393-393q-10-10-10-23t10-23l50-50q10-10 23-10t23 10l466 466q10 10 10 23z\"></path></svg>Hikes &amp; Trails – Round-Trip Distances &amp; Times</a></li>\n",
      "<li class=\"menu-item menu-item-type-post_type menu-item-object-post menu-item-9247\" id=\"menu-item-9247\"><a href=\"https://www.redrockcanyonlv.org/fees/\"><svg class=\"mk-svg-icon\" data-cacheid=\"icon-62008c675513c\" data-name=\"mk-icon-angle-right\" style=\" height:14px; width: 5px; \" viewbox=\"0 0 640 1792\" xmlns=\"http://www.w3.org/2000/svg\"><path d=\"M595 960q0 13-10 23l-466 466q-10 10-23 10t-23-10l-50-50q-10-10-10-23t10-23l393-393-393-393q-10-10-10-23t10-23l50-50q10-10 23-10t23 10l466 466q10 10 10 23z\"></path></svg>Fees &amp; Passes</a></li>\n",
      "<li class=\"menu-item menu-item-type-post_type menu-item-object-post menu-item-9437\" id=\"menu-item-9437\"><a href=\"https://www.redrockcanyonlv.org/visitor-information/\"><svg class=\"mk-svg-icon\" data-cacheid=\"icon-62008c675513c\" data-name=\"mk-icon-angle-right\" style=\" height:14px; width: 5px; \" viewbox=\"0 0 640 1792\" xmlns=\"http://www.w3.org/2000/svg\"><path d=\"M595 960q0 13-10 23l-466 466q-10 10-23 10t-23-10l-50-50q-10-10-10-23t10-23l393-393-393-393q-10-10-10-23t10-23l50-50q10-10 23-10t23 10l466 466q10 10 10 23z\"></path></svg>Visitor Information</a></li>\n",
      "<li class=\"menu-item menu-item-type-post_type menu-item-object-page menu-item-9246\" id=\"menu-item-9246\"><a href=\"https://www.redrockcanyonlv.org/shop/\"><svg class=\"mk-svg-icon\" data-cacheid=\"icon-62008c675513c\" data-name=\"mk-icon-angle-right\" style=\" height:14px; width: 5px; \" viewbox=\"0 0 640 1792\" xmlns=\"http://www.w3.org/2000/svg\"><path d=\"M595 960q0 13-10 23l-466 466q-10 10-23 10t-23-10l-50-50q-10-10-10-23t10-23l393-393-393-393q-10-10-10-23t10-23l50-50q10-10 23-10t23 10l466 466q10 10 10 23z\"></path></svg>Shop</a></li>\n",
      "<li class=\"menu-item menu-item-type-post_type menu-item-object-page menu-item-9242\" id=\"menu-item-9242\"><a href=\"https://www.redrockcanyonlv.org/event-calendar/\"><svg class=\"mk-svg-icon\" data-cacheid=\"icon-62008c675513c\" data-name=\"mk-icon-angle-right\" style=\" height:14px; width: 5px; \" viewbox=\"0 0 640 1792\" xmlns=\"http://www.w3.org/2000/svg\"><path d=\"M595 960q0 13-10 23l-466 466q-10 10-23 10t-23-10l-50-50q-10-10-10-23t10-23l393-393-393-393q-10-10-10-23t10-23l50-50q10-10 23-10t23 10l466 466q10 10 10 23z\"></path></svg>Event Calendar</a></li>\n",
      "<li class=\"menu-item menu-item-type-post_type menu-item-object-page menu-item-1339\" id=\"menu-item-1339\"><a href=\"https://www.redrockcanyonlv.org/frequently-asked-questions/\"><svg class=\"mk-svg-icon\" data-cacheid=\"icon-62008c675513c\" data-name=\"mk-icon-angle-right\" style=\" height:14px; width: 5px; \" viewbox=\"0 0 640 1792\" xmlns=\"http://www.w3.org/2000/svg\"><path d=\"M595 960q0 13-10 23l-466 466q-10 10-23 10t-23-10l-50-50q-10-10-10-23t10-23l393-393-393-393q-10-10-10-23t10-23l50-50q10-10 23-10t23 10l466 466q10 10 10 23z\"></path></svg>FAQ</a></li>\n",
      "</ul></div></section></div>\n",
      "<div class=\"mk-col-1-4\"><section class=\"widget widget_text\" id=\"text-24\"><div class=\"widgettitle\">Operating Hours</div> <div class=\"textwidget\"><p><a href=\"https://www.redrockcanyonlv.org/red-rock-canyon-is-hot-hot-hot/\" rel=\"noopener\" target=\"_blank\"><strong>PLEASE VISIT THIS PAGE FOR CURRENT OPERATING HOURS &amp; FACILITIES.</strong></a></p>\n",
      "<p>The Visitor Center is open daily from 9<strong>:00 AM – 4:30 pm</strong>.</p>\n",
      "<p>The Scenic Drive is open every day of the year with hours changing slightly according to the season:</p>\n",
      "<p><strong>Nov – Feb</strong> – 6:00 AM to 5:00 PM<br/>\n",
      "<strong>March</strong> – 6:00 AM to 7:00 PM<br/>\n",
      "<strong>Apr – Sep</strong> – 6:00 AM to 8:00 PM<br/>\n",
      "<strong>Oct</strong> – 6:00 AM to 7:00 PM</p>\n",
      "</div>\n",
      "</section></div>\n",
      "<div class=\"mk-col-1-4\"><section class=\"widget widget_text\" id=\"text-25\"><div class=\"widgettitle\">Get In Touch</div> <div class=\"textwidget\"><p><strong>Red Rock Canyon</strong><br/>\n",
      "<strong>General Information &amp; Questions</strong><br/>\n",
      "Phone: <a href=\"tel:17025155350\">+1 (702) 515-5350</a></p>\n",
      "<p><strong>Programs &amp; Guided Hikes</strong><br/>\n",
      "Phone: <a href=\"tel:17025155350\">+1 (702) 515-5367</a></p>\n",
      "<p><strong>Elements Gift &amp; Book Store</strong><br/>\n",
      "Phone: <a href=\"tel:17025155379\">+1 (702) 515-5379</a></p>\n",
      "<p><a class=\"button\" href=\"https://goo.gl/maps/X8LKj9bXcMT2\" rel=\"noopener\" target=\"_blank\">Driving Directions</a></p>\n",
      "</div>\n",
      "</section></div>\n",
      "<div class=\"clearboth\"></div>\n",
      "</div>\n",
      "</div>\n",
      "<div id=\"sub-footer\">\n",
      "<div class=\"fullwidth-footer\">\n",
      "<span class=\"mk-footer-copyright\">© Copyright 2017 - <a href=\"https://www.southernnevadaconservancy.org/\" target=\"_blank\">Southern Nevada Conservancy</a> |  All Rights Reserved.  | Website by: <a href=\"http://www.sitesmartmarketing.com\" target=\"_blank\">Site Smart Marketing</a></span>\n",
      "</div>\n",
      "<div class=\"clearboth\"></div>\n",
      "</div>\n",
      "</section>\n",
      "</div>\n",
      "</div>\n",
      "<div class=\"bottom-corner-btns js-bottom-corner-btns\">\n",
      "</div>\n",
      "<div class=\"mk-fullscreen-search-overlay\">\n",
      "<a class=\"mk-fullscreen-close\" href=\"#\"><svg class=\"mk-svg-icon\" data-cacheid=\"icon-62008c6755d30\" data-name=\"mk-moon-close-2\" viewbox=\"0 0 512 512\" xmlns=\"http://www.w3.org/2000/svg\"><path d=\"M390.628 345.372l-45.256 45.256-89.372-89.373-89.373 89.372-45.255-45.255 89.373-89.372-89.372-89.373 45.254-45.254 89.373 89.372 89.372-89.373 45.256 45.255-89.373 89.373 89.373 89.372z\"></path></svg></a>\n",
      "<div class=\"mk-fullscreen-search-wrapper\">\n",
      "<p>Start typing and press Enter to search</p>\n",
      "<form action=\"https://www.redrockcanyonlv.org/\" id=\"mk-fullscreen-searchform\" method=\"get\">\n",
      "<input id=\"mk-fullscreen-search-input\" name=\"s\" type=\"text\" value=\"\"/>\n",
      "<i class=\"fullscreen-search-icon\"><svg class=\"mk-svg-icon\" data-cacheid=\"icon-62008c6755e03\" data-name=\"mk-icon-search\" style=\" height:25px; width: 23.214285714286px; \" viewbox=\"0 0 1664 1792\" xmlns=\"http://www.w3.org/2000/svg\"><path d=\"M1152 832q0-185-131.5-316.5t-316.5-131.5-316.5 131.5-131.5 316.5 131.5 316.5 316.5 131.5 316.5-131.5 131.5-316.5zm512 832q0 52-38 90t-90 38q-54 0-90-38l-343-342q-179 124-399 124-143 0-273.5-55.5t-225-150-150-225-55.5-273.5 55.5-273.5 150-225 225-150 273.5-55.5 273.5 55.5 225 150 150 225 55.5 273.5q0 220-124 399l343 343q37 37 37 90z\"></path></svg></i>\n",
      "</form>\n",
      "</div>\n",
      "</div>\n",
      "<style type=\"text/css\"></style><script type=\"text/javascript\">\n",
      "    php = {\n",
      "        hasAdminbar: false,\n",
      "        json: (null != null) ? null : \"\",\n",
      "        jsPath: 'https://www.redrockcanyonlv.org/wp-content/themes/jupiter/assets/js'\n",
      "      };\n",
      "    </script><script id=\"google-invisible-recaptcha-js-before\" type=\"text/javascript\">\n",
      "var renderInvisibleReCaptcha = function() {\n",
      "\n",
      "    for (var i = 0; i < document.forms.length; ++i) {\n",
      "        var form = document.forms[i];\n",
      "        var holder = form.querySelector('.inv-recaptcha-holder');\n",
      "\n",
      "        if (null === holder) continue;\n",
      "\t\tholder.innerHTML = '';\n",
      "\n",
      "         (function(frm){\n",
      "\t\t\tvar cf7SubmitElm = frm.querySelector('.wpcf7-submit');\n",
      "            var holderId = grecaptcha.render(holder,{\n",
      "                'sitekey': '6Lc1tbsZAAAAAA2NJDh7vLq2eDoOGmA2jYsM6-_z', 'size': 'invisible', 'badge' : 'bottomright',\n",
      "                'callback' : function (recaptchaToken) {\n",
      "\t\t\t\t\tif((null !== cf7SubmitElm) && (typeof jQuery != 'undefined')){jQuery(frm).submit();grecaptcha.reset(holderId);return;}\n",
      "\t\t\t\t\t HTMLFormElement.prototype.submit.call(frm);\n",
      "                },\n",
      "                'expired-callback' : function(){grecaptcha.reset(holderId);}\n",
      "            });\n",
      "\n",
      "\t\t\tif(null !== cf7SubmitElm && (typeof jQuery != 'undefined') ){\n",
      "\t\t\t\tjQuery(cf7SubmitElm).off('click').on('click', function(clickEvt){\n",
      "\t\t\t\t\tclickEvt.preventDefault();\n",
      "\t\t\t\t\tgrecaptcha.execute(holderId);\n",
      "\t\t\t\t});\n",
      "\t\t\t}\n",
      "\t\t\telse\n",
      "\t\t\t{\n",
      "\t\t\t\tfrm.onsubmit = function (evt){evt.preventDefault();grecaptcha.execute(holderId);};\n",
      "\t\t\t}\n",
      "\n",
      "\n",
      "        })(form);\n",
      "    }\n",
      "};\n",
      "</script>\n",
      "<script async=\"\" defer=\"\" id=\"google-invisible-recaptcha-js\" src=\"https://www.google.com/recaptcha/api.js?onload=renderInvisibleReCaptcha&amp;render=explicit\" type=\"text/javascript\"></script>\n",
      "<script id=\"smoothscroll-js\" src=\"https://www.redrockcanyonlv.org/wp-content/themes/jupiter/assets/js/plugins/wp-enqueue/min/smoothscroll.js\" type=\"text/javascript\"></script>\n",
      "<script id=\"theme-scripts-js\" src=\"https://www.redrockcanyonlv.org/wp-content/themes/jupiter/assets/js/min/full-scripts.6.10.0.js\" type=\"text/javascript\"></script>\n",
      "<script id=\"mkhb-render-js\" src=\"https://www.redrockcanyonlv.org/wp-content/themes/jupiter/header-builder/includes/assets/js/mkhb-render.js\" type=\"text/javascript\"></script>\n",
      "<script id=\"mkhb-column-js\" src=\"https://www.redrockcanyonlv.org/wp-content/themes/jupiter/header-builder/includes/assets/js/mkhb-column.js\" type=\"text/javascript\"></script>\n",
      "<script id=\"jupiter-donut-shortcodes-js-extra\" type=\"text/javascript\">\n",
      "/* <![CDATA[ */\n",
      "var jupiterDonutVars = {\"themeDir\":\"https:\\/\\/www.redrockcanyonlv.org\\/wp-content\\/themes\\/jupiter\",\"assetsUrl\":\"https:\\/\\/www.redrockcanyonlv.org\\/wp-content\\/plugins\\/jupiter-donut\\/assets\",\"gridWidth\":\"1200\",\"ajaxUrl\":\"https:\\/\\/www.redrockcanyonlv.org\\/wp-admin\\/admin-ajax.php\",\"nonce\":\"5e1f8c59c6\"};\n",
      "/* ]]> */\n",
      "</script>\n",
      "<script id=\"jupiter-donut-shortcodes-js\" src=\"https://www.redrockcanyonlv.org/wp-content/plugins/jupiter-donut/assets/js/shortcodes-scripts.min.js\" type=\"text/javascript\"></script>\n",
      "<script id=\"wp-embed-js\" src=\"https://www.redrockcanyonlv.org/wp-includes/js/wp-embed.min.js\" type=\"text/javascript\"></script>\n",
      "<script type=\"text/javascript\">\n",
      "\t\tjQuery(document).ready(function () { \n",
      "  equalHeight('article div.mk-blog-meta');\n",
      "\t//equalHeight('article div.featured-image');\n",
      "\t\n",
      "\t//jQuery(window).resize(function(){jQuery('article div.featured-image').removeAttr(\"style\");equalHeight('article div.featured-image');});\n",
      "\tjQuery(window).resize(function(){jQuery('article div.mk-blog-meta').removeAttr(\"style\");equalHeight('article div.mk-blog-meta');});\n",
      "});\n",
      "function equalHeight(columnClass){\n",
      "   var maxHeight = 0;\n",
      "\t \n",
      "jQuery(columnClass).each(function(){\n",
      "   if (jQuery(this).height() > maxHeight) { maxHeight = jQuery(this).height(); }\n",
      "});\n",
      "jQuery(columnClass).height(maxHeight);\n",
      "}\t\t</script>\n",
      "<script type=\"text/javascript\">\twindow.get = {};\twindow.get.captcha = function(enteredCaptcha) {\n",
      "                  return jQuery.get(ajaxurl, { action : \"mk_validate_captcha_input\", captcha: enteredCaptcha });\n",
      "              \t};</script>\n",
      "</body>\n",
      "</html>\n",
      "<!--\r\n",
      "Performance optimized by W3 Total Cache. Learn more: https://www.boldgrid.com/w3-total-cache/\r\n",
      "\r\n",
      "Page Caching using disk: enhanced \r\n",
      "Database Caching using disk (Request-wide modification query)\r\n",
      "\r\n",
      "Served from: www.redrockcanyonlv.org @ 2022-02-06 19:05:11 by W3 Total Cache\r\n",
      "-->\n"
     ]
    }
   ],
   "source": [
    "user_agent = {'User-agent': 'Mozilla/5.0 (Windows NT 10.0; Win64; x64) AppleWebKit/537.36 (KHTML, like Gecko) Chrome/83.0.4103.97 Safari/537.36'}\n",
    "\n",
    "\n",
    "trails_page = requests.get(url = 'https://www.redrockcanyonlv.org/lasvegas/hikes-trails/', headers = user_agent).text\n",
    "trails_soup = BeautifulSoup(trails_page, 'html.parser')\n",
    "print(trails_soup)\n",
    "\n",
    "#Above code allows us the parse the page from a URL of our choice."
   ]
  },
  {
   "cell_type": "code",
   "execution_count": 21,
   "id": "b5f572f3",
   "metadata": {},
   "outputs": [
    {
     "data": {
      "text/plain": [
       "<!DOCTYPE html>\n",
       "\n",
       "<html lang=\"en-US\">\n",
       "<head>\n",
       "<meta charset=\"utf-8\"/><meta content=\"width=device-width, initial-scale=1.0, minimum-scale=1.0, maximum-scale=1.0, user-scalable=0\" name=\"viewport\"/><meta content=\"IE=edge,chrome=1\" http-equiv=\"X-UA-Compatible\"/><meta content=\"telephone=no\" name=\"format-detection\"/><title>Hikes &amp; Trails - Round-Trip Distances &amp; Times | Red Rock Canyon Las Vegas - Part 2</title>\n",
       "<script type=\"text/javascript\">var ajaxurl = \"https://www.redrockcanyonlv.org/wp-admin/admin-ajax.php\";</script>\n",
       "<!-- All in One SEO 4.1.5.3 -->\n",
       "<meta content=\"Hikes are numbered according to their location on the trail map. Georeferenced maps are also included with each trail and can be used with any georeferenced map mobile application. - Part 2\" name=\"description\">\n",
       "<meta content=\"noindex, nofollow, max-image-preview:large\" name=\"robots\"/>\n",
       "<link href=\"https://www.redrockcanyonlv.org/lasvegas/hikes-trails/page/2/\" rel=\"canonical\"/>\n",
       "<link href=\"https://www.redrockcanyonlv.org/lasvegas/hikes-trails/\" rel=\"prev\"/>\n",
       "<script class=\"aioseo-schema\" type=\"application/ld+json\">\n",
       "\t\t\t{\"@context\":\"https:\\/\\/schema.org\",\"@graph\":[{\"@type\":\"WebSite\",\"@id\":\"https:\\/\\/www.redrockcanyonlv.org\\/#website\",\"url\":\"https:\\/\\/www.redrockcanyonlv.org\\/\",\"name\":\"Red Rock Canyon Las Vegas\",\"inLanguage\":\"en-US\",\"publisher\":{\"@id\":\"https:\\/\\/www.redrockcanyonlv.org\\/#organization\"}},{\"@type\":\"Organization\",\"@id\":\"https:\\/\\/www.redrockcanyonlv.org\\/#organization\",\"name\":\"Red Rock Canyon Las Vegas\",\"url\":\"https:\\/\\/www.redrockcanyonlv.org\\/\"},{\"@type\":\"BreadcrumbList\",\"@id\":\"https:\\/\\/www.redrockcanyonlv.org\\/lasvegas\\/hikes-trails\\/page\\/2\\/#breadcrumblist\",\"itemListElement\":[{\"@type\":\"ListItem\",\"@id\":\"https:\\/\\/www.redrockcanyonlv.org\\/#listItem\",\"position\":1,\"item\":{\"@type\":\"WebPage\",\"@id\":\"https:\\/\\/www.redrockcanyonlv.org\\/\",\"name\":\"Home\",\"description\":\"Red Rock Canyon features a one-way 13-mile scenic drive, a Visitor Center offering information and interpretation about recreation opportunities, hiking and trails, wildlife, vegetation, geology, cultural resources and much more. - Part 2\",\"url\":\"https:\\/\\/www.redrockcanyonlv.org\\/\"},\"nextItem\":\"https:\\/\\/www.redrockcanyonlv.org\\/lasvegas\\/hikes-trails\\/#listItem\"},{\"@type\":\"ListItem\",\"@id\":\"https:\\/\\/www.redrockcanyonlv.org\\/lasvegas\\/hikes-trails\\/#listItem\",\"position\":2,\"item\":{\"@type\":\"WebPage\",\"@id\":\"https:\\/\\/www.redrockcanyonlv.org\\/lasvegas\\/hikes-trails\\/\",\"name\":\"Hikes &amp; Trails - Round-Trip Distances &amp; Times\",\"description\":\"Hikes are numbered according to their location on the trail map. Georeferenced maps are also included with each trail and can be used with any georeferenced map mobile application. - Part 2\",\"url\":\"https:\\/\\/www.redrockcanyonlv.org\\/lasvegas\\/hikes-trails\\/\"},\"previousItem\":\"https:\\/\\/www.redrockcanyonlv.org\\/#listItem\"}]},{\"@type\":\"CollectionPage\",\"@id\":\"https:\\/\\/www.redrockcanyonlv.org\\/lasvegas\\/hikes-trails\\/page\\/2\\/#collectionpage\",\"url\":\"https:\\/\\/www.redrockcanyonlv.org\\/lasvegas\\/hikes-trails\\/page\\/2\\/\",\"name\":\"Hikes & Trails - Round-Trip Distances & Times | Red Rock Canyon Las Vegas - Part 2\",\"description\":\"Hikes are numbered according to their location on the trail map. Georeferenced maps are also included with each trail and can be used with any georeferenced map mobile application. - Part 2\",\"inLanguage\":\"en-US\",\"isPartOf\":{\"@id\":\"https:\\/\\/www.redrockcanyonlv.org\\/#website\"},\"breadcrumb\":{\"@id\":\"https:\\/\\/www.redrockcanyonlv.org\\/lasvegas\\/hikes-trails\\/page\\/2\\/#breadcrumblist\"}}]}\n",
       "\t\t</script>\n",
       "<!-- All in One SEO -->\n",
       "<style id=\"critical-path-css\" type=\"text/css\">\n",
       "\t\t\tbody,html{width:100%;height:100%;margin:0;padding:0}.page-preloader{top:0;left:0;z-index:999;position:fixed;height:100%;width:100%;text-align:center}.preloader-preview-area{animation-delay:-.2s;top:50%;-ms-transform:translateY(100%);transform:translateY(100%);margin-top:10px;max-height:calc(50% - 20px);opacity:1;width:100%;text-align:center;position:absolute}.preloader-logo{max-width:90%;top:50%;-ms-transform:translateY(-100%);transform:translateY(-100%);margin:-10px auto 0 auto;max-height:calc(50% - 20px);opacity:1;position:relative}.ball-pulse>div{width:15px;height:15px;border-radius:100%;margin:2px;animation-fill-mode:both;display:inline-block;animation:ball-pulse .75s infinite cubic-bezier(.2,.68,.18,1.08)}.ball-pulse>div:nth-child(1){animation-delay:-.36s}.ball-pulse>div:nth-child(2){animation-delay:-.24s}.ball-pulse>div:nth-child(3){animation-delay:-.12s}@keyframes ball-pulse{0%{transform:scale(1);opacity:1}45%{transform:scale(.1);opacity:.7}80%{transform:scale(1);opacity:1}}.ball-clip-rotate-pulse{position:relative;-ms-transform:translateY(-15px) translateX(-10px);transform:translateY(-15px) translateX(-10px);display:inline-block}.ball-clip-rotate-pulse>div{animation-fill-mode:both;position:absolute;top:0;left:0;border-radius:100%}.ball-clip-rotate-pulse>div:first-child{height:36px;width:36px;top:7px;left:-7px;animation:ball-clip-rotate-pulse-scale 1s 0s cubic-bezier(.09,.57,.49,.9) infinite}.ball-clip-rotate-pulse>div:last-child{position:absolute;width:50px;height:50px;left:-16px;top:-2px;background:0 0;border:2px solid;animation:ball-clip-rotate-pulse-rotate 1s 0s cubic-bezier(.09,.57,.49,.9) infinite;animation-duration:1s}@keyframes ball-clip-rotate-pulse-rotate{0%{transform:rotate(0) scale(1)}50%{transform:rotate(180deg) scale(.6)}100%{transform:rotate(360deg) scale(1)}}@keyframes ball-clip-rotate-pulse-scale{30%{transform:scale(.3)}100%{transform:scale(1)}}@keyframes square-spin{25%{transform:perspective(100px) rotateX(180deg) rotateY(0)}50%{transform:perspective(100px) rotateX(180deg) rotateY(180deg)}75%{transform:perspective(100px) rotateX(0) rotateY(180deg)}100%{transform:perspective(100px) rotateX(0) rotateY(0)}}.square-spin{display:inline-block}.square-spin>div{animation-fill-mode:both;width:50px;height:50px;animation:square-spin 3s 0s cubic-bezier(.09,.57,.49,.9) infinite}.cube-transition{position:relative;-ms-transform:translate(-25px,-25px);transform:translate(-25px,-25px);display:inline-block}.cube-transition>div{animation-fill-mode:both;width:15px;height:15px;position:absolute;top:-5px;left:-5px;animation:cube-transition 1.6s 0s infinite ease-in-out}.cube-transition>div:last-child{animation-delay:-.8s}@keyframes cube-transition{25%{transform:translateX(50px) scale(.5) rotate(-90deg)}50%{transform:translate(50px,50px) rotate(-180deg)}75%{transform:translateY(50px) scale(.5) rotate(-270deg)}100%{transform:rotate(-360deg)}}.ball-scale>div{border-radius:100%;margin:2px;animation-fill-mode:both;display:inline-block;height:60px;width:60px;animation:ball-scale 1s 0s ease-in-out infinite}@keyframes ball-scale{0%{transform:scale(0)}100%{transform:scale(1);opacity:0}}.line-scale>div{animation-fill-mode:both;display:inline-block;width:5px;height:50px;border-radius:2px;margin:2px}.line-scale>div:nth-child(1){animation:line-scale 1s -.5s infinite cubic-bezier(.2,.68,.18,1.08)}.line-scale>div:nth-child(2){animation:line-scale 1s -.4s infinite cubic-bezier(.2,.68,.18,1.08)}.line-scale>div:nth-child(3){animation:line-scale 1s -.3s infinite cubic-bezier(.2,.68,.18,1.08)}.line-scale>div:nth-child(4){animation:line-scale 1s -.2s infinite cubic-bezier(.2,.68,.18,1.08)}.line-scale>div:nth-child(5){animation:line-scale 1s -.1s infinite cubic-bezier(.2,.68,.18,1.08)}@keyframes line-scale{0%{transform:scaley(1)}50%{transform:scaley(.4)}100%{transform:scaley(1)}}.ball-scale-multiple{position:relative;-ms-transform:translateY(30px);transform:translateY(30px);display:inline-block}.ball-scale-multiple>div{border-radius:100%;animation-fill-mode:both;margin:2px;position:absolute;left:-30px;top:0;opacity:0;margin:0;width:50px;height:50px;animation:ball-scale-multiple 1s 0s linear infinite}.ball-scale-multiple>div:nth-child(2){animation-delay:-.2s}.ball-scale-multiple>div:nth-child(3){animation-delay:-.2s}@keyframes ball-scale-multiple{0%{transform:scale(0);opacity:0}5%{opacity:1}100%{transform:scale(1);opacity:0}}.ball-pulse-sync{display:inline-block}.ball-pulse-sync>div{width:15px;height:15px;border-radius:100%;margin:2px;animation-fill-mode:both;display:inline-block}.ball-pulse-sync>div:nth-child(1){animation:ball-pulse-sync .6s -.21s infinite ease-in-out}.ball-pulse-sync>div:nth-child(2){animation:ball-pulse-sync .6s -.14s infinite ease-in-out}.ball-pulse-sync>div:nth-child(3){animation:ball-pulse-sync .6s -70ms infinite ease-in-out}@keyframes ball-pulse-sync{33%{transform:translateY(10px)}66%{transform:translateY(-10px)}100%{transform:translateY(0)}}.transparent-circle{display:inline-block;border-top:.5em solid rgba(255,255,255,.2);border-right:.5em solid rgba(255,255,255,.2);border-bottom:.5em solid rgba(255,255,255,.2);border-left:.5em solid #fff;transform:translateZ(0);animation:transparent-circle 1.1s infinite linear;width:50px;height:50px;border-radius:50%}.transparent-circle:after{border-radius:50%;width:10em;height:10em}@keyframes transparent-circle{0%{transform:rotate(0)}100%{transform:rotate(360deg)}}.ball-spin-fade-loader{position:relative;top:-10px;left:-10px;display:inline-block}.ball-spin-fade-loader>div{width:15px;height:15px;border-radius:100%;margin:2px;animation-fill-mode:both;position:absolute;animation:ball-spin-fade-loader 1s infinite linear}.ball-spin-fade-loader>div:nth-child(1){top:25px;left:0;animation-delay:-.84s;-webkit-animation-delay:-.84s}.ball-spin-fade-loader>div:nth-child(2){top:17.05px;left:17.05px;animation-delay:-.72s;-webkit-animation-delay:-.72s}.ball-spin-fade-loader>div:nth-child(3){top:0;left:25px;animation-delay:-.6s;-webkit-animation-delay:-.6s}.ball-spin-fade-loader>div:nth-child(4){top:-17.05px;left:17.05px;animation-delay:-.48s;-webkit-animation-delay:-.48s}.ball-spin-fade-loader>div:nth-child(5){top:-25px;left:0;animation-delay:-.36s;-webkit-animation-delay:-.36s}.ball-spin-fade-loader>div:nth-child(6){top:-17.05px;left:-17.05px;animation-delay:-.24s;-webkit-animation-delay:-.24s}.ball-spin-fade-loader>div:nth-child(7){top:0;left:-25px;animation-delay:-.12s;-webkit-animation-delay:-.12s}.ball-spin-fade-loader>div:nth-child(8){top:17.05px;left:-17.05px;animation-delay:0s;-webkit-animation-delay:0s}@keyframes ball-spin-fade-loader{50%{opacity:.3;transform:scale(.4)}100%{opacity:1;transform:scale(1)}}\t\t</style>\n",
       "<link href=\"//www.google.com\" rel=\"dns-prefetch\"/>\n",
       "<link href=\"//s.w.org\" rel=\"dns-prefetch\"/>\n",
       "<link href=\"https://www.redrockcanyonlv.org/feed/\" rel=\"alternate\" title=\"Red Rock Canyon Las Vegas » Feed\" type=\"application/rss+xml\"/>\n",
       "<link href=\"https://www.redrockcanyonlv.org/comments/feed/\" rel=\"alternate\" title=\"Red Rock Canyon Las Vegas » Comments Feed\" type=\"application/rss+xml\"/>\n",
       "<link href=\"https://www.redrockcanyonlv.org/wp-content/themes/jupiter/assets/images/favicon.png\" rel=\"shortcut icon\"/>\n",
       "<link href=\"https://www.redrockcanyonlv.org/lasvegas/hikes-trails/feed/\" rel=\"alternate\" title=\"Red Rock Canyon Las Vegas » Hikes &amp; Trails - Round-Trip Distances &amp; Times Category Feed\" type=\"application/rss+xml\"/>\n",
       "<script type=\"text/javascript\">window.abb = {};php = {};window.PHP = {};PHP.ajax = \"https://www.redrockcanyonlv.org/wp-admin/admin-ajax.php\";PHP.wp_p_id = \"\";var mk_header_parallax, mk_banner_parallax, mk_page_parallax, mk_footer_parallax, mk_body_parallax;var mk_images_dir = \"https://www.redrockcanyonlv.org/wp-content/themes/jupiter/assets/images\",mk_theme_js_path = \"https://www.redrockcanyonlv.org/wp-content/themes/jupiter/assets/js\",mk_theme_dir = \"https://www.redrockcanyonlv.org/wp-content/themes/jupiter\",mk_captcha_placeholder = \"Enter Captcha\",mk_captcha_invalid_txt = \"Invalid. Try again.\",mk_captcha_correct_txt = \"Captcha correct.\",mk_responsive_nav_width = 1220,mk_vertical_header_back = \"Back\",mk_vertical_header_anim = \"1\",mk_check_rtl = true,mk_grid_width = 1200,mk_ajax_search_option = \"fullscreen_search\",mk_preloader_bg_color = \"#fff\",mk_accent_color = \"#841617\",mk_go_to_top =  \"false\",mk_smooth_scroll =  \"true\",mk_preloader_bar_color = \"#841617\",mk_preloader_logo = \"https://www.redrockcanyonlv.org/wp-content/uploads/red-rock-canyon-las-vegas.png\";mk_typekit_id   = \"\",mk_google_fonts = [\"Cabin:100italic,200italic,300italic,400italic,500italic,600italic,700italic,800italic,900italic,100,200,300,400,500,600,700,800,900\"],mk_global_lazyload = true;</script> <style type=\"text/css\">\n",
       "\t.wp-pagenavi{float:left !important; }\n",
       "\t</style>\n",
       "<link href=\"https://www.redrockcanyonlv.org/wp-includes/css/dashicons.min.css\" id=\"dashicons-css\" media=\"all\" rel=\"stylesheet\" type=\"text/css\"/>\n",
       "<link href=\"https://www.redrockcanyonlv.org/wp-content/plugins/wunderground/assets/css/wunderground.css\" id=\"wunderground-css\" media=\"all\" rel=\"stylesheet\" type=\"text/css\"/>\n",
       "<link href=\"https://www.redrockcanyonlv.org/wp-content/plugins/jquery-colorbox/themes/theme6/colorbox.css\" id=\"colorbox-theme6-css\" media=\"screen\" rel=\"stylesheet\" type=\"text/css\"/>\n",
       "<link href=\"https://www.redrockcanyonlv.org/wp-includes/css/dist/block-library/style.min.css\" id=\"wp-block-library-css\" media=\"all\" rel=\"stylesheet\" type=\"text/css\"/>\n",
       "<style id=\"wp-block-library-theme-inline-css\" type=\"text/css\">\n",
       "#start-resizable-editor-section{display:none}.wp-block-audio figcaption{color:#555;font-size:13px;text-align:center}.is-dark-theme .wp-block-audio figcaption{color:hsla(0,0%,100%,.65)}.wp-block-code{font-family:Menlo,Consolas,monaco,monospace;color:#1e1e1e;padding:.8em 1em;border:1px solid #ddd;border-radius:4px}.wp-block-embed figcaption{color:#555;font-size:13px;text-align:center}.is-dark-theme .wp-block-embed figcaption{color:hsla(0,0%,100%,.65)}.blocks-gallery-caption{color:#555;font-size:13px;text-align:center}.is-dark-theme .blocks-gallery-caption{color:hsla(0,0%,100%,.65)}.wp-block-image figcaption{color:#555;font-size:13px;text-align:center}.is-dark-theme .wp-block-image figcaption{color:hsla(0,0%,100%,.65)}.wp-block-pullquote{border-top:4px solid;border-bottom:4px solid;margin-bottom:1.75em;color:currentColor}.wp-block-pullquote__citation,.wp-block-pullquote cite,.wp-block-pullquote footer{color:currentColor;text-transform:uppercase;font-size:.8125em;font-style:normal}.wp-block-quote{border-left:.25em solid;margin:0 0 1.75em;padding-left:1em}.wp-block-quote cite,.wp-block-quote footer{color:currentColor;font-size:.8125em;position:relative;font-style:normal}.wp-block-quote.has-text-align-right{border-left:none;border-right:.25em solid;padding-left:0;padding-right:1em}.wp-block-quote.has-text-align-center{border:none;padding-left:0}.wp-block-quote.is-large,.wp-block-quote.is-style-large{border:none}.wp-block-search .wp-block-search__label{font-weight:700}.wp-block-group.has-background{padding:1.25em 2.375em;margin-top:0;margin-bottom:0}.wp-block-separator{border:none;border-bottom:2px solid;margin-left:auto;margin-right:auto;opacity:.4}.wp-block-separator:not(.is-style-wide):not(.is-style-dots){width:100px}.wp-block-separator.has-background:not(.is-style-dots){border-bottom:none;height:1px}.wp-block-separator.has-background:not(.is-style-wide):not(.is-style-dots){height:2px}.wp-block-table thead{border-bottom:3px solid}.wp-block-table tfoot{border-top:3px solid}.wp-block-table td,.wp-block-table th{padding:.5em;border:1px solid;word-break:normal}.wp-block-table figcaption{color:#555;font-size:13px;text-align:center}.is-dark-theme .wp-block-table figcaption{color:hsla(0,0%,100%,.65)}.wp-block-video figcaption{color:#555;font-size:13px;text-align:center}.is-dark-theme .wp-block-video figcaption{color:hsla(0,0%,100%,.65)}.wp-block-template-part.has-background{padding:1.25em 2.375em;margin-top:0;margin-bottom:0}#end-resizable-editor-section{display:none}\n",
       "</style>\n",
       "<link href=\"https://www.redrockcanyonlv.org/wp-content/plugins/events-manager/includes/css/events_manager.css\" id=\"events-manager-css\" media=\"all\" rel=\"stylesheet\" type=\"text/css\"/>\n",
       "<link href=\"https://www.redrockcanyonlv.org/wp-content/plugins/wp-fullcalendar/includes/css/main.css\" id=\"wp-fullcalendar-css\" media=\"all\" rel=\"stylesheet\" type=\"text/css\"/>\n",
       "<link href=\"https://www.redrockcanyonlv.org/wp-content/themes/jupiter/assets/stylesheet/min/full-styles.6.10.0.css\" id=\"theme-styles-css\" media=\"all\" rel=\"stylesheet\" type=\"text/css\"/>\n",
       "<style id=\"theme-styles-inline-css\" type=\"text/css\">\n",
       "\n",
       "\t\t\t#wpadminbar {\n",
       "\t\t\t\t-webkit-backface-visibility: hidden;\n",
       "\t\t\t\tbackface-visibility: hidden;\n",
       "\t\t\t\t-webkit-perspective: 1000;\n",
       "\t\t\t\t-ms-perspective: 1000;\n",
       "\t\t\t\tperspective: 1000;\n",
       "\t\t\t\t-webkit-transform: translateZ(0px);\n",
       "\t\t\t\t-ms-transform: translateZ(0px);\n",
       "\t\t\t\ttransform: translateZ(0px);\n",
       "\t\t\t}\n",
       "\t\t\t@media screen and (max-width: 600px) {\n",
       "\t\t\t\t#wpadminbar {\n",
       "\t\t\t\t\tposition: fixed !important;\n",
       "\t\t\t\t}\n",
       "\t\t\t}\n",
       "\t\t\n",
       "body { background-color:#fff; } .hb-custom-header #mk-page-introduce, .mk-header { background-color:#2b6ca3;background-image:url(https://www.redrockcanyonlv.org/wp-content/uploads/red-rock-header-bg.jpg);background-position:center center;background-size:cover;-webkit-background-size:cover;-moz-background-size:cover; } .hb-custom-header > div, .mk-header-bg { background:-webkit-linear-gradient(top,#ffffff 0%, #eeeeee 100%);background:linear-gradient(to bottom,#ffffff 0%, #eeeeee 100%) } .mk-classic-nav-bg { background:-webkit-linear-gradient(top,#ffffff 0%, #eeeeee 100%);background:linear-gradient(to bottom,#ffffff 0%, #eeeeee 100%) } .master-holder-bg { background-color:#fff; } #mk-footer { background-color:#7d909f; } #mk-boxed-layout { -webkit-box-shadow:0 0 px rgba(0, 0, 0, ); -moz-box-shadow:0 0 px rgba(0, 0, 0, ); box-shadow:0 0 px rgba(0, 0, 0, ); } .mk-news-tab .mk-tabs-tabs .is-active a, .mk-fancy-title.pattern-style span, .mk-fancy-title.pattern-style.color-gradient span:after, .page-bg-color { background-color:#fff; } .page-title { font-size:30px; color:#ffffff; text-transform:uppercase; font-weight:700; letter-spacing:2px; } .page-subtitle { font-size:16px; line-height:100%; color:#e5e5e5; font-size:16px; text-transform:none; } .mk-header { border-bottom:1px solid #ededed; } .header-style-1 .mk-header-padding-wrapper, .header-style-2 .mk-header-padding-wrapper, .header-style-3 .mk-header-padding-wrapper { padding-top:136px; } .mk-process-steps[max-width~=\"950px\"] ul::before { display:none !important; } .mk-process-steps[max-width~=\"950px\"] li { margin-bottom:30px !important; width:100% !important; text-align:center; } .mk-event-countdown-ul[max-width~=\"750px\"] li { width:90%; display:block; margin:0 auto 15px; } body { font-family:Cabin } @font-face { font-family:'star'; src:url('https://www.redrockcanyonlv.org/wp-content/themes/jupiter/assets/stylesheet/fonts/star/font.eot'); src:url('https://www.redrockcanyonlv.org/wp-content/themes/jupiter/assets/stylesheet/fonts/star/font.eot?#iefix') format('embedded-opentype'), url('https://www.redrockcanyonlv.org/wp-content/themes/jupiter/assets/stylesheet/fonts/star/font.woff') format('woff'), url('https://www.redrockcanyonlv.org/wp-content/themes/jupiter/assets/stylesheet/fonts/star/font.ttf') format('truetype'), url('https://www.redrockcanyonlv.org/wp-content/themes/jupiter/assets/stylesheet/fonts/star/font.svg#star') format('svg'); font-weight:normal; font-style:normal; } @font-face { font-family:'WooCommerce'; src:url('https://www.redrockcanyonlv.org/wp-content/themes/jupiter/assets/stylesheet/fonts/woocommerce/font.eot'); src:url('https://www.redrockcanyonlv.org/wp-content/themes/jupiter/assets/stylesheet/fonts/woocommerce/font.eot?#iefix') format('embedded-opentype'), url('https://www.redrockcanyonlv.org/wp-content/themes/jupiter/assets/stylesheet/fonts/woocommerce/font.woff') format('woff'), url('https://www.redrockcanyonlv.org/wp-content/themes/jupiter/assets/stylesheet/fonts/woocommerce/font.ttf') format('truetype'), url('https://www.redrockcanyonlv.org/wp-content/themes/jupiter/assets/stylesheet/fonts/woocommerce/font.svg#WooCommerce') format('svg'); font-weight:normal; font-style:normal; }\n",
       "</style>\n",
       "<link href=\"https://www.redrockcanyonlv.org/wp-content/themes/jupiter/header-builder/includes/assets/css/mkhb-render.css\" id=\"mkhb-render-css\" media=\"all\" rel=\"stylesheet\" type=\"text/css\"/>\n",
       "<link href=\"https://www.redrockcanyonlv.org/wp-content/themes/jupiter/header-builder/includes/assets/css/mkhb-row.css\" id=\"mkhb-row-css\" media=\"all\" rel=\"stylesheet\" type=\"text/css\"/>\n",
       "<link href=\"https://www.redrockcanyonlv.org/wp-content/themes/jupiter/header-builder/includes/assets/css/mkhb-column.css\" id=\"mkhb-column-css\" media=\"all\" rel=\"stylesheet\" type=\"text/css\"/>\n",
       "<link href=\"https://www.redrockcanyonlv.org/wp-content/uploads/mk_assets/theme-options-production-1638917485.css\" id=\"theme-options-css\" media=\"all\" rel=\"stylesheet\" type=\"text/css\"/>\n",
       "<link href=\"https://www.redrockcanyonlv.org/wp-content/plugins/jupiter-donut/assets/css/shortcodes-styles.min.css\" id=\"jupiter-donut-shortcodes-css\" media=\"all\" rel=\"stylesheet\" type=\"text/css\"/>\n",
       "<link href=\"https://www.redrockcanyonlv.org/wp-content/themes/jupiter-child/style.css\" id=\"mk-style-css\" media=\"all\" rel=\"stylesheet\" type=\"text/css\"/>\n",
       "<link href=\"https://www.redrockcanyonlv.org/wp-content/plugins/wp-pagenavi-style/css/css3_gray_glossy.css\" id=\"wp-pagenavi-style-css\" media=\"all\" rel=\"stylesheet\" type=\"text/css\"/>\n",
       "<script id=\"jquery-core-js\" src=\"https://www.redrockcanyonlv.org/wp-includes/js/jquery/jquery.min.js\" type=\"text/javascript\"></script>\n",
       "<script id=\"jquery-migrate-js\" src=\"https://www.redrockcanyonlv.org/wp-includes/js/jquery/jquery-migrate.min.js\" type=\"text/javascript\"></script>\n",
       "<script id=\"jquery-ui-core-js\" src=\"https://www.redrockcanyonlv.org/wp-includes/js/jquery/ui/core.min.js\" type=\"text/javascript\"></script>\n",
       "<script id=\"jquery-ui-menu-js\" src=\"https://www.redrockcanyonlv.org/wp-includes/js/jquery/ui/menu.min.js\" type=\"text/javascript\"></script>\n",
       "<script id=\"regenerator-runtime-js\" src=\"https://www.redrockcanyonlv.org/wp-includes/js/dist/vendor/regenerator-runtime.min.js\" type=\"text/javascript\"></script>\n",
       "<script id=\"wp-polyfill-js\" src=\"https://www.redrockcanyonlv.org/wp-includes/js/dist/vendor/wp-polyfill.min.js\" type=\"text/javascript\"></script>\n",
       "<script id=\"wp-dom-ready-js\" src=\"https://www.redrockcanyonlv.org/wp-includes/js/dist/dom-ready.min.js\" type=\"text/javascript\"></script>\n",
       "<script id=\"wp-hooks-js\" src=\"https://www.redrockcanyonlv.org/wp-includes/js/dist/hooks.min.js\" type=\"text/javascript\"></script>\n",
       "<script id=\"wp-i18n-js\" src=\"https://www.redrockcanyonlv.org/wp-includes/js/dist/i18n.min.js\" type=\"text/javascript\"></script>\n",
       "<script id=\"wp-i18n-js-after\" type=\"text/javascript\">\n",
       "wp.i18n.setLocaleData( { 'text direction\\u0004ltr': [ 'ltr' ] } );\n",
       "</script>\n",
       "<script id=\"wp-a11y-js-translations\" type=\"text/javascript\">\n",
       "( function( domain, translations ) {\n",
       "\tvar localeData = translations.locale_data[ domain ] || translations.locale_data.messages;\n",
       "\tlocaleData[\"\"].domain = domain;\n",
       "\twp.i18n.setLocaleData( localeData, domain );\n",
       "} )( \"default\", { \"locale_data\": { \"messages\": { \"\": {} } } } );\n",
       "</script>\n",
       "<script id=\"wp-a11y-js\" src=\"https://www.redrockcanyonlv.org/wp-includes/js/dist/a11y.min.js\" type=\"text/javascript\"></script>\n",
       "<script id=\"jquery-ui-autocomplete-js-extra\" type=\"text/javascript\">\n",
       "/* <![CDATA[ */\n",
       "var uiAutocompleteL10n = {\"noResults\":\"No results found.\",\"oneResult\":\"1 result found. Use up and down arrow keys to navigate.\",\"manyResults\":\"%d results found. Use up and down arrow keys to navigate.\",\"itemSelected\":\"Item selected.\"};\n",
       "/* ]]> */\n",
       "</script>\n",
       "<script id=\"jquery-ui-autocomplete-js\" src=\"https://www.redrockcanyonlv.org/wp-includes/js/jquery/ui/autocomplete.min.js\" type=\"text/javascript\"></script>\n",
       "<script id=\"wunderground-widget-js-extra\" type=\"text/javascript\">\n",
       "/* <![CDATA[ */\n",
       "var WuWidget = {\"apiKey\":\"3ffab52910ec1a0e\",\"_wpnonce\":\"c235c0b79e\",\"ajaxurl\":\"https:\\/\\/www.redrockcanyonlv.org\\/wp-admin\\/admin-ajax.php\",\"is_admin\":\"\",\"subdomain\":\"www\"};\n",
       "/* ]]> */\n",
       "</script>\n",
       "<script id=\"wunderground-widget-js\" src=\"https://www.redrockcanyonlv.org/wp-content/plugins/wunderground/assets/js/widget.min.js\" type=\"text/javascript\"></script>\n",
       "<script id=\"colorbox-js-extra\" type=\"text/javascript\">\n",
       "/* <![CDATA[ */\n",
       "var jQueryColorboxSettingsArray = {\"jQueryColorboxVersion\":\"4.6.2\",\"colorboxInline\":\"false\",\"colorboxIframe\":\"false\",\"colorboxGroupId\":\"\",\"colorboxTitle\":\"\",\"colorboxWidth\":\"false\",\"colorboxHeight\":\"false\",\"colorboxMaxWidth\":\"false\",\"colorboxMaxHeight\":\"false\",\"colorboxSlideshow\":\"false\",\"colorboxSlideshowAuto\":\"false\",\"colorboxScalePhotos\":\"false\",\"colorboxPreloading\":\"false\",\"colorboxOverlayClose\":\"false\",\"colorboxLoop\":\"true\",\"colorboxEscKey\":\"true\",\"colorboxArrowKey\":\"true\",\"colorboxScrolling\":\"true\",\"colorboxOpacity\":\"0.85\",\"colorboxTransition\":\"elastic\",\"colorboxSpeed\":\"350\",\"colorboxSlideshowSpeed\":\"2500\",\"colorboxClose\":\"close\",\"colorboxNext\":\"next\",\"colorboxPrevious\":\"previous\",\"colorboxSlideshowStart\":\"start slideshow\",\"colorboxSlideshowStop\":\"stop slideshow\",\"colorboxCurrent\":\"{current} of {total} images\",\"colorboxXhrError\":\"This content failed to load.\",\"colorboxImgError\":\"This image failed to load.\",\"colorboxImageMaxWidth\":\"false\",\"colorboxImageMaxHeight\":\"false\",\"colorboxImageHeight\":\"false\",\"colorboxImageWidth\":\"false\",\"colorboxLinkHeight\":\"false\",\"colorboxLinkWidth\":\"false\",\"colorboxInitialHeight\":\"100\",\"colorboxInitialWidth\":\"300\",\"autoColorboxJavaScript\":\"\",\"autoHideFlash\":\"true\",\"autoColorbox\":\"\",\"autoColorboxGalleries\":\"true\",\"addZoomOverlay\":\"\",\"useGoogleJQuery\":\"\",\"colorboxAddClassToLinks\":\"\"};\n",
       "/* ]]> */\n",
       "</script>\n",
       "<script id=\"colorbox-js\" src=\"https://www.redrockcanyonlv.org/wp-content/plugins/jquery-colorbox/js/jquery.colorbox-min.js\" type=\"text/javascript\"></script>\n",
       "<script id=\"colorbox-wrapper-js\" src=\"https://www.redrockcanyonlv.org/wp-content/plugins/jquery-colorbox/js/jquery-colorbox-wrapper-min.js\" type=\"text/javascript\"></script>\n",
       "<script id=\"jquery-ui-mouse-js\" src=\"https://www.redrockcanyonlv.org/wp-includes/js/jquery/ui/mouse.min.js\" type=\"text/javascript\"></script>\n",
       "<script id=\"jquery-ui-sortable-js\" src=\"https://www.redrockcanyonlv.org/wp-includes/js/jquery/ui/sortable.min.js\" type=\"text/javascript\"></script>\n",
       "<script data-no-minify=\"\" data-noptimize=\"\" id=\"mk-webfontloader-js\" src=\"https://www.redrockcanyonlv.org/wp-content/themes/jupiter/assets/js/plugins/wp-enqueue/min/webfontloader.js\" type=\"text/javascript\"></script>\n",
       "<script id=\"mk-webfontloader-js-after\" type=\"text/javascript\">\n",
       "WebFontConfig = {\n",
       "\ttimeout: 2000\n",
       "}\n",
       "\n",
       "if ( mk_typekit_id.length > 0 ) {\n",
       "\tWebFontConfig.typekit = {\n",
       "\t\tid: mk_typekit_id\n",
       "\t}\n",
       "}\n",
       "\n",
       "if ( mk_google_fonts.length > 0 ) {\n",
       "\tWebFontConfig.google = {\n",
       "\t\tfamilies:  mk_google_fonts\n",
       "\t}\n",
       "}\n",
       "\n",
       "if ( (mk_google_fonts.length > 0 || mk_typekit_id.length > 0) && navigator.userAgent.indexOf(\"Speed Insights\") == -1) {\n",
       "\tWebFont.load( WebFontConfig );\n",
       "}\n",
       "\t\t\n",
       "</script>\n",
       "<script id=\"jquery-ui-datepicker-js\" src=\"https://www.redrockcanyonlv.org/wp-includes/js/jquery/ui/datepicker.min.js\" type=\"text/javascript\"></script>\n",
       "<script id=\"jquery-ui-datepicker-js-after\" type=\"text/javascript\">\n",
       "jQuery(document).ready(function(jQuery){jQuery.datepicker.setDefaults({\"closeText\":\"Close\",\"currentText\":\"Today\",\"monthNames\":[\"January\",\"February\",\"March\",\"April\",\"May\",\"June\",\"July\",\"August\",\"September\",\"October\",\"November\",\"December\"],\"monthNamesShort\":[\"Jan\",\"Feb\",\"Mar\",\"Apr\",\"May\",\"Jun\",\"Jul\",\"Aug\",\"Sep\",\"Oct\",\"Nov\",\"Dec\"],\"nextText\":\"Next\",\"prevText\":\"Previous\",\"dayNames\":[\"Sunday\",\"Monday\",\"Tuesday\",\"Wednesday\",\"Thursday\",\"Friday\",\"Saturday\"],\"dayNamesShort\":[\"Sun\",\"Mon\",\"Tue\",\"Wed\",\"Thu\",\"Fri\",\"Sat\"],\"dayNamesMin\":[\"S\",\"M\",\"T\",\"W\",\"T\",\"F\",\"S\"],\"dateFormat\":\"MM d, yy\",\"firstDay\":1,\"isRTL\":false});});\n",
       "</script>\n",
       "<script id=\"jquery-ui-resizable-js\" src=\"https://www.redrockcanyonlv.org/wp-includes/js/jquery/ui/resizable.min.js\" type=\"text/javascript\"></script>\n",
       "<script id=\"jquery-ui-draggable-js\" src=\"https://www.redrockcanyonlv.org/wp-includes/js/jquery/ui/draggable.min.js\" type=\"text/javascript\"></script>\n",
       "<script id=\"jquery-ui-controlgroup-js\" src=\"https://www.redrockcanyonlv.org/wp-includes/js/jquery/ui/controlgroup.min.js\" type=\"text/javascript\"></script>\n",
       "<script id=\"jquery-ui-checkboxradio-js\" src=\"https://www.redrockcanyonlv.org/wp-includes/js/jquery/ui/checkboxradio.min.js\" type=\"text/javascript\"></script>\n",
       "<script id=\"jquery-ui-button-js\" src=\"https://www.redrockcanyonlv.org/wp-includes/js/jquery/ui/button.min.js\" type=\"text/javascript\"></script>\n",
       "<script id=\"jquery-ui-dialog-js\" src=\"https://www.redrockcanyonlv.org/wp-includes/js/jquery/ui/dialog.min.js\" type=\"text/javascript\"></script>\n",
       "<script id=\"events-manager-js-extra\" type=\"text/javascript\">\n",
       "/* <![CDATA[ */\n",
       "var EM = {\"ajaxurl\":\"https:\\/\\/www.redrockcanyonlv.org\\/wp-admin\\/admin-ajax.php\",\"locationajaxurl\":\"https:\\/\\/www.redrockcanyonlv.org\\/wp-admin\\/admin-ajax.php?action=locations_search\",\"firstDay\":\"1\",\"locale\":\"en\",\"dateFormat\":\"mm\\/dd\\/yy\",\"ui_css\":\"https:\\/\\/www.redrockcanyonlv.org\\/wp-content\\/plugins\\/events-manager\\/includes\\/css\\/jquery-ui.min.css\",\"show24hours\":\"0\",\"is_ssl\":\"1\",\"txt_search\":\"Search\",\"txt_searching\":\"Searching...\",\"txt_loading\":\"Loading...\"};\n",
       "/* ]]> */\n",
       "</script>\n",
       "<script id=\"events-manager-js\" src=\"https://www.redrockcanyonlv.org/wp-content/plugins/events-manager/includes/js/events-manager.js\" type=\"text/javascript\"></script>\n",
       "<script id=\"jquery-ui-selectmenu-js\" src=\"https://www.redrockcanyonlv.org/wp-includes/js/jquery/ui/selectmenu.min.js\" type=\"text/javascript\"></script>\n",
       "<script id=\"jquery-ui-tooltip-js\" src=\"https://www.redrockcanyonlv.org/wp-includes/js/jquery/ui/tooltip.min.js\" type=\"text/javascript\"></script>\n",
       "<script id=\"moment-js\" src=\"https://www.redrockcanyonlv.org/wp-includes/js/dist/vendor/moment.min.js\" type=\"text/javascript\"></script>\n",
       "<script id=\"moment-js-after\" type=\"text/javascript\">\n",
       "moment.updateLocale( 'en_US', {\"months\":[\"January\",\"February\",\"March\",\"April\",\"May\",\"June\",\"July\",\"August\",\"September\",\"October\",\"November\",\"December\"],\"monthsShort\":[\"Jan\",\"Feb\",\"Mar\",\"Apr\",\"May\",\"Jun\",\"Jul\",\"Aug\",\"Sep\",\"Oct\",\"Nov\",\"Dec\"],\"weekdays\":[\"Sunday\",\"Monday\",\"Tuesday\",\"Wednesday\",\"Thursday\",\"Friday\",\"Saturday\"],\"weekdaysShort\":[\"Sun\",\"Mon\",\"Tue\",\"Wed\",\"Thu\",\"Fri\",\"Sat\"],\"week\":{\"dow\":1},\"longDateFormat\":{\"LT\":\"g:i a\",\"LTS\":null,\"L\":null,\"LL\":\"F j, Y\",\"LLL\":\"F j, Y g:i a\",\"LLLL\":null}} );\n",
       "</script>\n",
       "<script id=\"wp-fullcalendar-js-extra\" type=\"text/javascript\">\n",
       "/* <![CDATA[ */\n",
       "var WPFC = {\"ajaxurl\":\"https:\\/\\/www.redrockcanyonlv.org\\/wp-admin\\/admin-ajax.php?action=WP_FullCalendar\",\"firstDay\":\"1\",\"wpfc_theme\":\"\",\"wpfc_limit\":\"6\",\"wpfc_limit_txt\":\"\",\"timeFormat\":\"h(:mm)a\",\"defaultView\":\"month\",\"weekends\":\"true\",\"header\":{\"left\":\"prev,next today\",\"center\":\"title\",\"right\":\"month,basicWeek,basicDay\"},\"wpfc_qtips\":\"\"};\n",
       "/* ]]> */\n",
       "</script>\n",
       "<script id=\"wp-fullcalendar-js\" src=\"https://www.redrockcanyonlv.org/wp-content/plugins/wp-fullcalendar/includes/js/main.js\" type=\"text/javascript\"></script>\n",
       "<link href=\"https://www.redrockcanyonlv.org/wp-json/\" rel=\"https://api.w.org/\"/><link href=\"https://www.redrockcanyonlv.org/wp-json/wp/v2/categories/7\" rel=\"alternate\" type=\"application/json\"/><link href=\"https://www.redrockcanyonlv.org/xmlrpc.php?rsd\" rel=\"EditURI\" title=\"RSD\" type=\"application/rsd+xml\"/>\n",
       "<link href=\"https://www.redrockcanyonlv.org/wp-includes/wlwmanifest.xml\" rel=\"wlwmanifest\" type=\"application/wlwmanifest+xml\"/>\n",
       "<style type=\"text/css\">\n",
       "\t .wp-pagenavi\n",
       "\t{\n",
       "\t\tfont-size:12px !important;\n",
       "\t}\n",
       "\t</style>\n",
       "<link href=\"/wp-content/uploads/fbrfg/apple-touch-icon.png\" rel=\"apple-touch-icon\" sizes=\"152x152\"/>\n",
       "<link href=\"/wp-content/uploads/fbrfg/favicon-32x32.png\" rel=\"icon\" sizes=\"32x32\" type=\"image/png\"/>\n",
       "<link href=\"/wp-content/uploads/fbrfg/favicon-16x16.png\" rel=\"icon\" sizes=\"16x16\" type=\"image/png\"/>\n",
       "<link href=\"/wp-content/uploads/fbrfg/manifest.json\" rel=\"manifest\"/>\n",
       "<link color=\"#5bbad5\" href=\"/wp-content/uploads/fbrfg/safari-pinned-tab.svg\" rel=\"mask-icon\"/>\n",
       "<link href=\"/wp-content/uploads/fbrfg/favicon.ico\" rel=\"shortcut icon\"/>\n",
       "<meta content=\"/wp-content/uploads/fbrfg/browserconfig.xml\" name=\"msapplication-config\"/>\n",
       "<meta content=\"#ffffff\" name=\"theme-color\"/><meta content=\"\" itemprop=\"author\"><meta content=\"March 21, 2020\" itemprop=\"datePublished\"><meta content=\"March 21, 2020\" itemprop=\"dateModified\"/><meta content=\"Red Rock Canyon Las Vegas\" itemprop=\"publisher\"/><script> var isTest = false; </script><meta content=\"Powered by WPBakery Page Builder - drag and drop page builder for WordPress.\" name=\"generator\"/>\n",
       "<style type=\"text/css\">.grecaptcha-badge {\n",
       "    display: none !important;\n",
       "}</style><meta content=\"Jupiter Child Theme \" name=\"generator\"/><noscript><style> .wpb_animate_when_almost_visible { opacity: 1; }</style></noscript><script>\n",
       "  (function(i,s,o,g,r,a,m){i['GoogleAnalyticsObject']=r;i[r]=i[r]||function(){\n",
       "  (i[r].q=i[r].q||[]).push(arguments)},i[r].l=1*new Date();a=s.createElement(o),\n",
       "  m=s.getElementsByTagName(o)[0];a.async=1;a.src=g;m.parentNode.insertBefore(a,m)\n",
       "  })(window,document,'script','https://www.google-analytics.com/analytics.js','ga');\n",
       "\n",
       "  ga('create', 'UA-13102530-33', 'auto');\n",
       "  ga('send', 'pageview');\n",
       "\n",
       "</script>\n",
       "</meta></meta></meta></head>\n",
       "<body class=\"archive paged category category-hikes-trails category-7 paged-2 category-paged-2 wpb-js-composer js-comp-ver-6.7.0 vc_responsive\" data-adminbar=\"\" data-rsssl=\"1\" itemscope=\"itemscope\" itemtype=\"https://schema.org/WebPage\">\n",
       "<!-- Target for scroll anchors to achieve native browser bahaviour + possible enhancements like smooth scrolling -->\n",
       "<div id=\"top-of-page\"></div>\n",
       "<div id=\"mk-boxed-layout\">\n",
       "<div id=\"mk-theme-container\">\n",
       "<header class=\"mk-header header-style-1 header-align-left toolbar-true menu-hover-2 sticky-style-slide mk-background-stretch full-header\" data-header-style=\"1\" data-height=\"100\" data-responsive-height=\"100\" data-sticky-height=\"55\" data-sticky-offset=\"header\" data-sticky-style=\"slide\" data-transparent-skin=\"\" id=\"mk-header-1\" itemscope=\"itemscope\" itemtype=\"https://schema.org/WPHeader\" role=\"banner\">\n",
       "<div class=\"mk-header-holder\">\n",
       "<div class=\"mk-header-toolbar\">\n",
       "<div class=\"mk-header-toolbar-holder\">\n",
       "<span class=\"mk-header-tagline\"><a class=\"button\" href=\"https://goo.gl/maps/X8LKj9bXcMT2\" target=\"_blank\">Driving Directions</a> <a class=\"button\" href=\"https://www.redrockcanyonlv.org/fees/\">Fees &amp; Passes</a></span><div class=\"mk-header-social toolbar-section\"><ul><li><a class=\"mk-simple-rounded facebook-hover\" href=\"https://www.facebook.com/RedRockCanyonLV/\" rel=\"noreferrer noopener\" target=\"_blank\"><svg class=\"mk-svg-icon\" data-cacheid=\"icon-62009b0c850f9\" data-name=\"mk-jupiter-icon-simple-facebook\" style=\" height:16px; width: 16px; \" viewbox=\"0 0 512 512\" xmlns=\"http://www.w3.org/2000/svg\"><path d=\"M192.191 92.743v60.485h-63.638v96.181h63.637v256.135h97.069v-256.135h84.168s6.674-51.322 9.885-96.508h-93.666v-42.921c0-8.807 11.565-20.661 23.01-20.661h71.791v-95.719h-83.57c-111.317 0-108.686 86.262-108.686 99.142z\"></path></svg></a></li><li><a class=\"mk-simple-rounded instagram-hover\" href=\"https://www.instagram.com/redrockcanyonlv/\" rel=\"noreferrer noopener\" target=\"_blank\"><svg class=\"mk-svg-icon\" data-cacheid=\"icon-62009b0c8518c\" data-name=\"mk-jupiter-icon-simple-instagram\" style=\" height:16px; width: 16px; \" viewbox=\"0 0 81.2 81.2\" xmlns=\"http://www.w3.org/2000/svg\"><path d=\"M81,23.9c-0.2-4.3-0.9-7.3-1.9-9.9c-1-2.7-2.4-4.9-4.7-7.2c-2.3-2.3-4.5-3.6-7.2-4.7c-2.6-1-5.5-1.7-9.9-1.9 C53,0,51.6,0,40.6,0c-11,0-12.4,0-16.7,0.2c-4.3,0.2-7.3,0.9-9.9,1.9c-2.7,1-4.9,2.4-7.2,4.7C4.6,9.1,3.2,11.3,2.1,14 c-1,2.6-1.7,5.5-1.9,9.9C0,28.2,0,29.6,0,40.6c0,11,0,12.4,0.2,16.7c0.2,4.3,0.9,7.3,1.9,9.9c1,2.7,2.4,4.9,4.7,7.2 c2.3,2.3,4.5,3.6,7.2,4.7c2.6,1,5.5,1.7,9.9,1.9c4.3,0.2,5.7,0.2,16.7,0.2c11,0,12.4,0,16.7-0.2c4.3-0.2,7.3-0.9,9.9-1.9 c2.7-1,4.9-2.4,7.2-4.7c2.3-2.3,3.6-4.5,4.7-7.2c1-2.6,1.7-5.5,1.9-9.9c0.2-4.3,0.2-5.7,0.2-16.7C81.2,29.6,81.2,28.2,81,23.9z  M73.6,57c-0.2,4-0.8,6.1-1.4,7.5c-0.7,1.9-1.6,3.2-3,4.7c-1.4,1.4-2.8,2.3-4.7,3c-1.4,0.6-3.6,1.2-7.5,1.4 c-4.3,0.2-5.6,0.2-16.4,0.2c-10.8,0-12.1,0-16.4-0.2c-4-0.2-6.1-0.8-7.5-1.4c-1.9-0.7-3.2-1.6-4.7-3c-1.4-1.4-2.3-2.8-3-4.7 C8.4,63.1,7.7,61,7.6,57c-0.2-4.3-0.2-5.6-0.2-16.4c0-10.8,0-12.1,0.2-16.4c0.2-4,0.8-6.1,1.4-7.5c0.7-1.9,1.6-3.2,3-4.7 c1.4-1.4,2.8-2.3,4.7-3c1.4-0.6,3.6-1.2,7.5-1.4c4.3-0.2,5.6-0.2,16.4-0.2c10.8,0,12.1,0,16.4,0.2c4,0.2,6.1,0.8,7.5,1.4 c1.9,0.7,3.2,1.6,4.7,3c1.4,1.4,2.3,2.8,3,4.7c0.6,1.4,1.2,3.6,1.4,7.5c0.2,4.3,0.2,5.6,0.2,16.4C73.9,51.4,73.8,52.7,73.6,57z\"></path><path d=\"M40.6,19.8c-11.5,0-20.8,9.3-20.8,20.8c0,11.5,9.3,20.8,20.8,20.8c11.5,0,20.8-9.3,20.8-20.8 C61.4,29.1,52.1,19.8,40.6,19.8z M40.6,54.1c-7.5,0-13.5-6.1-13.5-13.5c0-7.5,6.1-13.5,13.5-13.5c7.5,0,13.5,6.1,13.5,13.5 C54.1,48.1,48.1,54.1,40.6,54.1z\"></path><circle cx=\"62.3\" cy=\"18.9\" r=\"4.9\"></circle></svg></a></li><li><a class=\"mk-simple-rounded google-hover\" href=\"https://goo.gl/maps/X8LKj9bXcMT2\" rel=\"noreferrer noopener\" target=\"_blank\"><svg class=\"mk-svg-icon\" data-cacheid=\"icon-62009b0c851e2\" data-name=\"mk-jupiter-icon-simple-google\" style=\" height:16px; width: 16px; \" viewbox=\"0 0 512 512\" xmlns=\"http://www.w3.org/2000/svg\"><path d=\"M431.474-6.4h-139.076c-36.469 0-82.376 5.372-120.846 36.925-29.069 24.875-43.219 59.114-43.219 90.04 0 52.392 40.522 105.507 112.082 105.507 6.749 0 14.135-.686 21.632-1.328-3.378 8.029-6.793 14.751-6.793 26.189 0 20.838 10.801 33.575 20.253 45.692-30.35 2.007-87.08 5.358-128.964 30.86-39.833 23.57-52.019 57.808-52.019 81.997 0 49.736 47.292 96.121 145.196 96.121 116.149 0 177.591-63.83 177.591-127.039 0-46.312-27.009-69.188-56.7-94.055l-24.327-18.787c-7.394-6.081-17.512-14.11-17.512-28.898 0-14.78 10.119-24.211 18.875-32.941 28.358-22.159 56.716-45.677 56.716-95.397 0-51.086-32.433-77.961-47.959-90.719h41.914l43.158-24.166zm-59.352 411.202c0 41.633-34.476 72.537-99.31 72.537-72.228 0-118.831-34.254-118.831-81.953 0-47.728 43.218-63.815 58.056-69.187 28.38-9.445 64.834-10.774 70.908-10.774 6.756 0 10.119 0 15.542.649 51.351 36.29 73.635 54.474 73.635 88.726zm-54.048-216.363c-10.815 10.737-29.07 18.795-45.945 18.795-58.048 0-84.376-74.589-84.376-119.587 0-17.481 3.378-35.597 14.838-49.72 10.808-13.445 29.706-22.182 47.27-22.182 56.049 0 85.102 75.26 85.102 123.623 0 12.116-1.378 33.59-16.889 49.072z\"></path></svg></a></li><li><a class=\"mk-simple-rounded twitter-hover\" href=\"https://twitter.com/RedRockCynLV\" rel=\"noreferrer noopener\" target=\"_blank\"><svg class=\"mk-svg-icon\" data-cacheid=\"icon-62009b0c85243\" data-name=\"mk-jupiter-icon-simple-twitter\" style=\" height:16px; width: 16px; \" viewbox=\"0 0 512 512\" xmlns=\"http://www.w3.org/2000/svg\"><path d=\"M454.058 213.822c28.724-2.382 48.193-15.423 55.683-33.132-10.365 6.373-42.524 13.301-60.269 6.681-.877-4.162-1.835-8.132-2.792-11.706-13.527-49.679-59.846-89.698-108.382-84.865 3.916-1.589 7.914-3.053 11.885-4.388 5.325-1.923 36.678-7.003 31.749-18.079-4.176-9.728-42.471 7.352-49.672 9.597 9.501-3.581 25.26-9.735 26.93-20.667-14.569 1.991-28.901 8.885-39.937 18.908 3.998-4.293 7.01-9.536 7.666-15.171-38.91 24.85-61.624 74.932-80.025 123.523-14.438-13.972-27.239-25.008-38.712-31.114-32.209-17.285-70.722-35.303-131.156-57.736-1.862 19.996 9.899 46.591 43.723 64.273-7.325-.986-20.736 1.219-31.462 3.773 4.382 22.912 18.627 41.805 57.251 50.918-17.642 1.163-26.767 5.182-35.036 13.841 8.043 15.923 27.656 34.709 62.931 30.82-39.225 16.935-15.998 48.234 15.93 43.565-54.444 56.244-140.294 52.123-189.596 5.08 128.712 175.385 408.493 103.724 450.21-65.225 31.23.261 49.605-10.823 60.994-23.05-17.99 3.053-44.072-.095-57.914-5.846z\"></path></svg></a></li></ul><div class=\"clearboth\"></div></div>\n",
       "</div>\n",
       "</div>\n",
       "<div class=\"mk-header-inner add-header-height\">\n",
       "<div class=\"mk-header-bg\"></div>\n",
       "<div class=\"mk-toolbar-resposnive-icon\"><svg class=\"mk-svg-icon\" data-cacheid=\"icon-62009b0c8530f\" data-name=\"mk-icon-chevron-down\" viewbox=\"0 0 1792 1792\" xmlns=\"http://www.w3.org/2000/svg\"><path d=\"M1683 808l-742 741q-19 19-45 19t-45-19l-742-741q-19-19-19-45.5t19-45.5l166-165q19-19 45-19t45 19l531 531 531-531q19-19 45-19t45 19l166 165q19 19 19 45.5t-19 45.5z\"></path></svg></div>\n",
       "<div class=\"mk-header-nav-container one-row-style menu-hover-style-2\" itemscope=\"itemscope\" itemtype=\"https://schema.org/SiteNavigationElement\" role=\"navigation\">\n",
       "<nav class=\"mk-main-navigation js-main-nav\"><ul class=\"main-navigation-ul\" id=\"menu-main-menu\"><li class=\"menu-item menu-item-type-post_type menu-item-object-page menu-item-home no-mega-menu\" id=\"menu-item-9249\"><a class=\"menu-item-link js-smooth-scroll\" href=\"https://www.redrockcanyonlv.org/\"><svg class=\"mk-svg-icon\" data-cacheid=\"icon-62009b0c8a8f4\" data-name=\"mk-moon-home-3\" style=\" height:16px; width: 16px; \" viewbox=\"0 0 512 512\" xmlns=\"http://www.w3.org/2000/svg\"><path d=\"M512 304l-96-96v-144h-64v80l-96-96-256 256v16h64v160h160v-96h64v96h160v-160h64z\"></path></svg>Home</a></li>\n",
       "<li class=\"menu-item menu-item-type-taxonomy menu-item-object-category current-menu-ancestor current-menu-parent menu-item-has-children no-mega-menu\" id=\"menu-item-472\"><a class=\"menu-item-link js-smooth-scroll\" href=\"https://www.redrockcanyonlv.org/lasvegas/redrockcanyon/\"><svg class=\"mk-svg-icon\" data-cacheid=\"icon-62009b0c8aa47\" data-name=\"mk-icon-map-marker\" style=\" height:16px; width: 9.1428571428571px; \" viewbox=\"0 0 1024 1792\" xmlns=\"http://www.w3.org/2000/svg\"><path d=\"M768 640q0-106-75-181t-181-75-181 75-75 181 75 181 181 75 181-75 75-181zm256 0q0 109-33 179l-364 774q-16 33-47.5 52t-67.5 19-67.5-19-46.5-52l-365-774q-33-70-33-179 0-212 150-362t362-150 362 150 150 362z\"></path></svg>Plan A Visit</a>\n",
       "<ul class=\"sub-menu\" style=\"\">\n",
       "<li class=\"menu-item menu-item-type-post_type menu-item-object-post\" id=\"menu-item-9251\"><a class=\"menu-item-link js-smooth-scroll\" href=\"https://www.redrockcanyonlv.org/fees/\">Fees &amp; Passes</a></li>\n",
       "<li class=\"menu-item menu-item-type-post_type menu-item-object-post\" id=\"menu-item-511\"><a class=\"menu-item-link js-smooth-scroll\" href=\"https://www.redrockcanyonlv.org/visitor-information/\">Visitor Information</a></li>\n",
       "<li class=\"menu-item menu-item-type-taxonomy menu-item-object-category current-menu-item\" id=\"menu-item-930\"><a class=\"menu-item-link js-smooth-scroll\" href=\"https://www.redrockcanyonlv.org/lasvegas/hikes-trails/\">Hikes &amp; Trails</a></li>\n",
       "<li class=\"menu-item menu-item-type-post_type menu-item-object-post\" id=\"menu-item-382\"><a class=\"menu-item-link js-smooth-scroll\" href=\"https://www.redrockcanyonlv.org/geology-highlights/\">Geology Highlights</a></li>\n",
       "<li class=\"menu-item menu-item-type-post_type menu-item-object-post\" id=\"menu-item-396\"><a class=\"menu-item-link js-smooth-scroll\" href=\"https://www.redrockcanyonlv.org/weather/\">Weather Information</a></li>\n",
       "</ul>\n",
       "</li>\n",
       "<li class=\"menu-item menu-item-type-taxonomy menu-item-object-category current-menu-item no-mega-menu\" id=\"menu-item-862\"><a class=\"menu-item-link js-smooth-scroll\" href=\"https://www.redrockcanyonlv.org/lasvegas/hikes-trails/\"><svg class=\"mk-svg-icon\" data-cacheid=\"icon-62009b0c8ad00\" data-name=\"mk-moon-direction\" style=\" height:16px; width: 16px; \" viewbox=\"0 0 512 512\" xmlns=\"http://www.w3.org/2000/svg\"><path d=\"M400 192l96-64-96-64h-112v-40c0-13.2-10.8-24-24-24h-16c-13.2 0-24 10.8-24 24v40h-160v128h160v32h-144l-64 48 64 48h144v192h64v-192h128v-96h-128v-32h112z\"></path></svg>Hikes &amp; Trails</a></li>\n",
       "<li class=\"menu-item menu-item-type-post_type menu-item-object-page menu-item-has-children no-mega-menu\" id=\"menu-item-7306\"><a class=\"menu-item-link js-smooth-scroll\" href=\"https://www.redrockcanyonlv.org/events/\"><svg class=\"mk-svg-icon\" data-cacheid=\"icon-62009b0c8addb\" data-name=\"mk-icon-calendar\" style=\" height:16px; width: 14.857142857143px; \" viewbox=\"0 0 1664 1792\" xmlns=\"http://www.w3.org/2000/svg\"><path d=\"M128 1664h288v-288h-288v288zm352 0h320v-288h-320v288zm-352-352h288v-320h-288v320zm352 0h320v-320h-320v320zm-352-384h288v-288h-288v288zm736 736h320v-288h-320v288zm-384-736h320v-288h-320v288zm768 736h288v-288h-288v288zm-384-352h320v-320h-320v320zm-352-864v-288q0-13-9.5-22.5t-22.5-9.5h-64q-13 0-22.5 9.5t-9.5 22.5v288q0 13 9.5 22.5t22.5 9.5h64q13 0 22.5-9.5t9.5-22.5zm736 864h288v-320h-288v320zm-384-384h320v-288h-320v288zm384 0h288v-288h-288v288zm32-480v-288q0-13-9.5-22.5t-22.5-9.5h-64q-13 0-22.5 9.5t-9.5 22.5v288q0 13 9.5 22.5t22.5 9.5h64q13 0 22.5-9.5t9.5-22.5zm384-64v1280q0 52-38 90t-90 38h-1408q-52 0-90-38t-38-90v-1280q0-52 38-90t90-38h128v-96q0-66 47-113t113-47h64q66 0 113 47t47 113v96h384v-96q0-66 47-113t113-47h64q66 0 113 47t47 113v96h128q52 0 90 38t38 90z\"></path></svg>Events</a>\n",
       "<ul class=\"sub-menu\" style=\"\">\n",
       "<li class=\"menu-item menu-item-type-post_type menu-item-object-page\" id=\"menu-item-7311\"><a class=\"menu-item-link js-smooth-scroll\" href=\"https://www.redrockcanyonlv.org/event-calendar/\">Event Calendar</a></li>\n",
       "<li class=\"menu-item menu-item-type-post_type menu-item-object-page\" id=\"menu-item-7304\"><a class=\"menu-item-link js-smooth-scroll\" href=\"https://www.redrockcanyonlv.org/upcoming-events/\">Upcoming Events List</a></li>\n",
       "</ul>\n",
       "</li>\n",
       "<li class=\"menu-item menu-item-type-taxonomy menu-item-object-category menu-item-has-children no-mega-menu\" id=\"menu-item-9453\"><a class=\"menu-item-link js-smooth-scroll\" href=\"https://www.redrockcanyonlv.org/lasvegas/programs/\"><svg class=\"mk-svg-icon\" data-cacheid=\"icon-62009b0c8af99\" data-name=\"mk-moon-map-3\" style=\" height:16px; width: 16px; \" viewbox=\"0 0 512 512\" xmlns=\"http://www.w3.org/2000/svg\"><path d=\"M0 96l160-64v384l-160 64zm352 0v384l-160-53.333v-384zm160-64v384l-128 51.2v-384z\"></path></svg>Programs</a>\n",
       "<ul class=\"sub-menu\" style=\"\">\n",
       "<li class=\"menu-item menu-item-type-taxonomy menu-item-object-category\" id=\"menu-item-9391\"><a class=\"menu-item-link js-smooth-scroll\" href=\"https://www.redrockcanyonlv.org/lasvegas/red-rock-canyon-a-to-z/\">Red Rock Canyon A To Z</a></li>\n",
       "<li class=\"menu-item menu-item-type-taxonomy menu-item-object-category\" id=\"menu-item-9390\"><a class=\"menu-item-link js-smooth-scroll\" href=\"https://www.redrockcanyonlv.org/lasvegas/wildlife-wednesday/\">Wildlife Wednesday</a></li>\n",
       "<li class=\"menu-item menu-item-type-taxonomy menu-item-object-category\" id=\"menu-item-9389\"><a class=\"menu-item-link js-smooth-scroll\" href=\"https://www.redrockcanyonlv.org/lasvegas/flower-friday/\">Flower Friday</a></li>\n",
       "<li class=\"menu-item menu-item-type-post_type menu-item-object-post\" id=\"menu-item-9417\"><a class=\"menu-item-link js-smooth-scroll\" href=\"https://www.redrockcanyonlv.org/jackson-the-burro/\">Jackson the Red Rock Canyon Burro</a></li>\n",
       "<li class=\"menu-item menu-item-type-post_type menu-item-object-post\" id=\"menu-item-1226\"><a class=\"menu-item-link js-smooth-scroll\" href=\"https://www.redrockcanyonlv.org/tortoise-habitat/\">Tortoise Habitat</a></li>\n",
       "<li class=\"menu-item menu-item-type-post_type menu-item-object-post\" id=\"menu-item-9416\"><a class=\"menu-item-link js-smooth-scroll\" href=\"https://www.redrockcanyonlv.org/artist-in-residence/\">Artist In Residence Program</a></li>\n",
       "</ul>\n",
       "</li>\n",
       "<li class=\"menu-item menu-item-type-post_type menu-item-object-page no-mega-menu\" id=\"menu-item-1184\"><a class=\"menu-item-link js-smooth-scroll\" href=\"https://www.redrockcanyonlv.org/shop/\"><svg class=\"mk-svg-icon\" data-cacheid=\"icon-62009b0c8b19a\" data-name=\"mk-icon-shopping-cart\" style=\" height:16px; width: 14.857142857143px; \" viewbox=\"0 0 1664 1792\" xmlns=\"http://www.w3.org/2000/svg\"><path d=\"M640 1536q0 53-37.5 90.5t-90.5 37.5-90.5-37.5-37.5-90.5 37.5-90.5 90.5-37.5 90.5 37.5 37.5 90.5zm896 0q0 53-37.5 90.5t-90.5 37.5-90.5-37.5-37.5-90.5 37.5-90.5 90.5-37.5 90.5 37.5 37.5 90.5zm128-1088v512q0 24-16 42.5t-41 21.5l-1044 122q1 7 4.5 21.5t6 26.5 2.5 22q0 16-24 64h920q26 0 45 19t19 45-19 45-45 19h-1024q-26 0-45-19t-19-45q0-14 11-39.5t29.5-59.5 20.5-38l-177-823h-204q-26 0-45-19t-19-45 19-45 45-19h256q16 0 28.5 6.5t20 15.5 13 24.5 7.5 26.5 5.5 29.5 4.5 25.5h1201q26 0 45 19t19 45z\"></path></svg>Shop</a></li>\n",
       "<li class=\"menu-item menu-item-type-post_type menu-item-object-page menu-item-has-children no-mega-menu\" id=\"menu-item-5076\"><a class=\"menu-item-link js-smooth-scroll\" href=\"https://www.redrockcanyonlv.org/our-mission/\"><svg class=\"mk-svg-icon\" data-cacheid=\"icon-62009b0c8b2eb\" data-name=\"mk-moon-users\" style=\" height:16px; width: 16px; \" viewbox=\"0 0 512 512\" xmlns=\"http://www.w3.org/2000/svg\"><path d=\"M367.497 402.687c-9.476-1.494-9.692-27.327-9.692-27.327s27.844-27.328 33.912-64.076c16.326 0 26.407-39.069 10.082-52.814.681-14.47 20.984-113.588-81.799-113.588-102.782 0-82.479 99.118-81.799 113.588-16.327 13.745-6.244 52.814 10.081 52.814 6.067 36.748 33.913 64.076 33.913 64.076s-.216 25.833-9.692 27.327c-30.524 4.816-144.503 54.658-144.503 109.313h384c0-54.655-113.979-104.497-144.503-109.313zm-195.47 8.718c22.047-13.575 48.813-26.154 70.769-33.712-7.876-11.216-16.647-26.468-22.165-44.531-7.703-6.283-13.972-15.266-17.999-26.301-4.033-11.052-5.561-23.426-4.304-34.842.902-8.196 3.239-15.833 6.825-22.544-2.175-23.293-3.707-69.017 26.224-102.366 11.607-12.933 26.278-22.23 43.85-27.843-3.137-32.38-19.58-70.385-83.227-70.385-102.782 0-82.479 99.118-81.799 113.588-16.327 13.745-6.244 52.814 10.081 52.814 6.067 36.748 33.913 64.076 33.913 64.076s-.216 25.833-9.692 27.327c-30.524 4.817-144.503 54.659-144.503 109.314h164.798c2.355-1.537 4.753-3.07 7.229-4.595z\"></path></svg>About</a>\n",
       "<ul class=\"sub-menu\" style=\"\">\n",
       "<li class=\"menu-item menu-item-type-post_type menu-item-object-page\" id=\"menu-item-89\"><a class=\"menu-item-link js-smooth-scroll\" href=\"https://www.redrockcanyonlv.org/contact-us/\">Contact Us</a></li>\n",
       "<li class=\"menu-item menu-item-type-taxonomy menu-item-object-category\" id=\"menu-item-9279\"><a class=\"menu-item-link js-smooth-scroll\" href=\"https://www.redrockcanyonlv.org/lasvegas/news/\">News</a></li>\n",
       "<li class=\"menu-item menu-item-type-post_type menu-item-object-page\" id=\"menu-item-5079\"><a class=\"menu-item-link js-smooth-scroll\" href=\"https://www.redrockcanyonlv.org/our-mission/\">Our Mission</a></li>\n",
       "<li class=\"menu-item menu-item-type-post_type menu-item-object-page\" id=\"menu-item-5078\"><a class=\"menu-item-link js-smooth-scroll\" href=\"https://www.redrockcanyonlv.org/opportunities/\">Opportunities</a></li>\n",
       "<li class=\"menu-item menu-item-type-post_type menu-item-object-page\" id=\"menu-item-1114\"><a class=\"menu-item-link js-smooth-scroll\" href=\"https://www.redrockcanyonlv.org/frequently-asked-questions/\">FAQ</a></li>\n",
       "</ul>\n",
       "</li>\n",
       "</ul></nav>\n",
       "<div class=\"main-nav-side-search\">\n",
       "<a class=\"mk-search-trigger add-header-height mk-fullscreen-trigger\" href=\"#\"><i class=\"mk-svg-icon-wrapper\"><svg class=\"mk-svg-icon\" data-cacheid=\"icon-62009b0c8b5ab\" data-name=\"mk-icon-search\" style=\" height:16px; width: 14.857142857143px; \" viewbox=\"0 0 1664 1792\" xmlns=\"http://www.w3.org/2000/svg\"><path d=\"M1152 832q0-185-131.5-316.5t-316.5-131.5-316.5 131.5-131.5 316.5 131.5 316.5 316.5 131.5 316.5-131.5 131.5-316.5zm512 832q0 52-38 90t-90 38q-54 0-90-38l-343-342q-179 124-399 124-143 0-273.5-55.5t-225-150-150-225-55.5-273.5 55.5-273.5 150-225 225-150 273.5-55.5 273.5 55.5 225 150 150 225 55.5 273.5q0 220-124 399l343 343q37 37 37 90z\"></path></svg></i></a>\n",
       "</div>\n",
       "</div>\n",
       "<div class=\"mk-nav-responsive-link\">\n",
       "<div class=\"mk-css-icon-menu\">\n",
       "<div class=\"mk-css-icon-menu-line-1\"></div>\n",
       "<div class=\"mk-css-icon-menu-line-2\"></div>\n",
       "<div class=\"mk-css-icon-menu-line-3\"></div>\n",
       "</div>\n",
       "</div> <div class=\"header-logo fit-logo-img add-header-height logo-is-responsive logo-has-sticky\">\n",
       "<a href=\"https://www.redrockcanyonlv.org/\" title=\"Red Rock Canyon Las Vegas\">\n",
       "<img alt=\"\" class=\"mk-desktop-logo dark-logo\" src=\"https://www.redrockcanyonlv.org/wp-content/uploads/red-rock-canyon-las-vegas.png\" title=\"\"/>\n",
       "<img alt=\"\" class=\"mk-desktop-logo light-logo\" src=\"https://www.redrockcanyonlv.org/wp-content/uploads/red-rock-canyon-las-vegas.png\" title=\"\"/>\n",
       "<img alt=\"\" class=\"mk-resposnive-logo\" src=\"https://www.redrockcanyonlv.org/wp-content/uploads/red-rock-canyon-las-vegas.png\" title=\"\"/>\n",
       "<img alt=\"\" class=\"mk-sticky-logo\" src=\"https://www.redrockcanyonlv.org/wp-content/uploads/red-rock-canyon-las-vegas.png\" title=\"\"/>\n",
       "</a>\n",
       "</div>\n",
       "<div class=\"mk-header-right\">\n",
       "</div>\n",
       "</div>\n",
       "<div class=\"mk-responsive-wrap\">\n",
       "<nav class=\"menu-main-menu-container\"><ul class=\"mk-responsive-nav\" id=\"menu-main-menu-1\"><li class=\"menu-item menu-item-type-post_type menu-item-object-page menu-item-home\" id=\"responsive-menu-item-9249\"><a class=\"menu-item-link js-smooth-scroll\" href=\"https://www.redrockcanyonlv.org/\"><svg class=\"mk-svg-icon\" data-cacheid=\"icon-62009b0c8cb6b\" data-name=\"mk-moon-home-3\" style=\" height:16px; width: 16px; \" viewbox=\"0 0 512 512\" xmlns=\"http://www.w3.org/2000/svg\"><path d=\"M512 304l-96-96v-144h-64v80l-96-96-256 256v16h64v160h160v-96h64v96h160v-160h64z\"></path></svg>Home</a></li>\n",
       "<li class=\"menu-item menu-item-type-taxonomy menu-item-object-category current-menu-ancestor current-menu-parent menu-item-has-children\" id=\"responsive-menu-item-472\"><a class=\"menu-item-link js-smooth-scroll\" href=\"https://www.redrockcanyonlv.org/lasvegas/redrockcanyon/\"><svg class=\"mk-svg-icon\" data-cacheid=\"icon-62009b0c8cc7c\" data-name=\"mk-icon-map-marker\" style=\" height:16px; width: 9.1428571428571px; \" viewbox=\"0 0 1024 1792\" xmlns=\"http://www.w3.org/2000/svg\"><path d=\"M768 640q0-106-75-181t-181-75-181 75-75 181 75 181 181 75 181-75 75-181zm256 0q0 109-33 179l-364 774q-16 33-47.5 52t-67.5 19-67.5-19-46.5-52l-365-774q-33-70-33-179 0-212 150-362t362-150 362 150 150 362z\"></path></svg>Plan A Visit</a><span class=\"mk-nav-arrow mk-nav-sub-closed\"><svg class=\"mk-svg-icon\" data-cacheid=\"icon-62009b0c8cdd0\" data-name=\"mk-moon-arrow-down\" style=\" height:16px; width: 16px; \" viewbox=\"0 0 512 512\" xmlns=\"http://www.w3.org/2000/svg\"><path d=\"M512 192l-96-96-160 160-160-160-96 96 256 255.999z\"></path></svg></span>\n",
       "<ul class=\"sub-menu\">\n",
       "<li class=\"menu-item menu-item-type-post_type menu-item-object-post\" id=\"responsive-menu-item-9251\"><a class=\"menu-item-link js-smooth-scroll\" href=\"https://www.redrockcanyonlv.org/fees/\">Fees &amp; Passes</a></li>\n",
       "<li class=\"menu-item menu-item-type-post_type menu-item-object-post\" id=\"responsive-menu-item-511\"><a class=\"menu-item-link js-smooth-scroll\" href=\"https://www.redrockcanyonlv.org/visitor-information/\">Visitor Information</a></li>\n",
       "<li class=\"menu-item menu-item-type-taxonomy menu-item-object-category current-menu-item\" id=\"responsive-menu-item-930\"><a class=\"menu-item-link js-smooth-scroll\" href=\"https://www.redrockcanyonlv.org/lasvegas/hikes-trails/\">Hikes &amp; Trails</a></li>\n",
       "<li class=\"menu-item menu-item-type-post_type menu-item-object-post\" id=\"responsive-menu-item-382\"><a class=\"menu-item-link js-smooth-scroll\" href=\"https://www.redrockcanyonlv.org/geology-highlights/\">Geology Highlights</a></li>\n",
       "<li class=\"menu-item menu-item-type-post_type menu-item-object-post\" id=\"responsive-menu-item-396\"><a class=\"menu-item-link js-smooth-scroll\" href=\"https://www.redrockcanyonlv.org/weather/\">Weather Information</a></li>\n",
       "</ul>\n",
       "</li>\n",
       "<li class=\"menu-item menu-item-type-taxonomy menu-item-object-category current-menu-item\" id=\"responsive-menu-item-862\"><a class=\"menu-item-link js-smooth-scroll\" href=\"https://www.redrockcanyonlv.org/lasvegas/hikes-trails/\"><svg class=\"mk-svg-icon\" data-cacheid=\"icon-62009b0c8d0b4\" data-name=\"mk-moon-direction\" style=\" height:16px; width: 16px; \" viewbox=\"0 0 512 512\" xmlns=\"http://www.w3.org/2000/svg\"><path d=\"M400 192l96-64-96-64h-112v-40c0-13.2-10.8-24-24-24h-16c-13.2 0-24 10.8-24 24v40h-160v128h160v32h-144l-64 48 64 48h144v192h64v-192h128v-96h-128v-32h112z\"></path></svg>Hikes &amp; Trails</a></li>\n",
       "<li class=\"menu-item menu-item-type-post_type menu-item-object-page menu-item-has-children\" id=\"responsive-menu-item-7306\"><a class=\"menu-item-link js-smooth-scroll\" href=\"https://www.redrockcanyonlv.org/events/\"><svg class=\"mk-svg-icon\" data-cacheid=\"icon-62009b0c8d1b4\" data-name=\"mk-icon-calendar\" style=\" height:16px; width: 14.857142857143px; \" viewbox=\"0 0 1664 1792\" xmlns=\"http://www.w3.org/2000/svg\"><path d=\"M128 1664h288v-288h-288v288zm352 0h320v-288h-320v288zm-352-352h288v-320h-288v320zm352 0h320v-320h-320v320zm-352-384h288v-288h-288v288zm736 736h320v-288h-320v288zm-384-736h320v-288h-320v288zm768 736h288v-288h-288v288zm-384-352h320v-320h-320v320zm-352-864v-288q0-13-9.5-22.5t-22.5-9.5h-64q-13 0-22.5 9.5t-9.5 22.5v288q0 13 9.5 22.5t22.5 9.5h64q13 0 22.5-9.5t9.5-22.5zm736 864h288v-320h-288v320zm-384-384h320v-288h-320v288zm384 0h288v-288h-288v288zm32-480v-288q0-13-9.5-22.5t-22.5-9.5h-64q-13 0-22.5 9.5t-9.5 22.5v288q0 13 9.5 22.5t22.5 9.5h64q13 0 22.5-9.5t9.5-22.5zm384-64v1280q0 52-38 90t-90 38h-1408q-52 0-90-38t-38-90v-1280q0-52 38-90t90-38h128v-96q0-66 47-113t113-47h64q66 0 113 47t47 113v96h384v-96q0-66 47-113t113-47h64q66 0 113 47t47 113v96h128q52 0 90 38t38 90z\"></path></svg>Events</a><span class=\"mk-nav-arrow mk-nav-sub-closed\"><svg class=\"mk-svg-icon\" data-cacheid=\"icon-62009b0c8d392\" data-name=\"mk-moon-arrow-down\" style=\" height:16px; width: 16px; \" viewbox=\"0 0 512 512\" xmlns=\"http://www.w3.org/2000/svg\"><path d=\"M512 192l-96-96-160 160-160-160-96 96 256 255.999z\"></path></svg></span>\n",
       "<ul class=\"sub-menu\">\n",
       "<li class=\"menu-item menu-item-type-post_type menu-item-object-page\" id=\"responsive-menu-item-7311\"><a class=\"menu-item-link js-smooth-scroll\" href=\"https://www.redrockcanyonlv.org/event-calendar/\">Event Calendar</a></li>\n",
       "<li class=\"menu-item menu-item-type-post_type menu-item-object-page\" id=\"responsive-menu-item-7304\"><a class=\"menu-item-link js-smooth-scroll\" href=\"https://www.redrockcanyonlv.org/upcoming-events/\">Upcoming Events List</a></li>\n",
       "</ul>\n",
       "</li>\n",
       "<li class=\"menu-item menu-item-type-taxonomy menu-item-object-category menu-item-has-children\" id=\"responsive-menu-item-9453\"><a class=\"menu-item-link js-smooth-scroll\" href=\"https://www.redrockcanyonlv.org/lasvegas/programs/\"><svg class=\"mk-svg-icon\" data-cacheid=\"icon-62009b0c8d675\" data-name=\"mk-moon-map-3\" style=\" height:16px; width: 16px; \" viewbox=\"0 0 512 512\" xmlns=\"http://www.w3.org/2000/svg\"><path d=\"M0 96l160-64v384l-160 64zm352 0v384l-160-53.333v-384zm160-64v384l-128 51.2v-384z\"></path></svg>Programs</a><span class=\"mk-nav-arrow mk-nav-sub-closed\"><svg class=\"mk-svg-icon\" data-cacheid=\"icon-62009b0c8d85c\" data-name=\"mk-moon-arrow-down\" style=\" height:16px; width: 16px; \" viewbox=\"0 0 512 512\" xmlns=\"http://www.w3.org/2000/svg\"><path d=\"M512 192l-96-96-160 160-160-160-96 96 256 255.999z\"></path></svg></span>\n",
       "<ul class=\"sub-menu\">\n",
       "<li class=\"menu-item menu-item-type-taxonomy menu-item-object-category\" id=\"responsive-menu-item-9391\"><a class=\"menu-item-link js-smooth-scroll\" href=\"https://www.redrockcanyonlv.org/lasvegas/red-rock-canyon-a-to-z/\">Red Rock Canyon A To Z</a></li>\n",
       "<li class=\"menu-item menu-item-type-taxonomy menu-item-object-category\" id=\"responsive-menu-item-9390\"><a class=\"menu-item-link js-smooth-scroll\" href=\"https://www.redrockcanyonlv.org/lasvegas/wildlife-wednesday/\">Wildlife Wednesday</a></li>\n",
       "<li class=\"menu-item menu-item-type-taxonomy menu-item-object-category\" id=\"responsive-menu-item-9389\"><a class=\"menu-item-link js-smooth-scroll\" href=\"https://www.redrockcanyonlv.org/lasvegas/flower-friday/\">Flower Friday</a></li>\n",
       "<li class=\"menu-item menu-item-type-post_type menu-item-object-post\" id=\"responsive-menu-item-9417\"><a class=\"menu-item-link js-smooth-scroll\" href=\"https://www.redrockcanyonlv.org/jackson-the-burro/\">Jackson the Red Rock Canyon Burro</a></li>\n",
       "<li class=\"menu-item menu-item-type-post_type menu-item-object-post\" id=\"responsive-menu-item-1226\"><a class=\"menu-item-link js-smooth-scroll\" href=\"https://www.redrockcanyonlv.org/tortoise-habitat/\">Tortoise Habitat</a></li>\n",
       "<li class=\"menu-item menu-item-type-post_type menu-item-object-post\" id=\"responsive-menu-item-9416\"><a class=\"menu-item-link js-smooth-scroll\" href=\"https://www.redrockcanyonlv.org/artist-in-residence/\">Artist In Residence Program</a></li>\n",
       "</ul>\n",
       "</li>\n",
       "<li class=\"menu-item menu-item-type-post_type menu-item-object-page\" id=\"responsive-menu-item-1184\"><a class=\"menu-item-link js-smooth-scroll\" href=\"https://www.redrockcanyonlv.org/shop/\"><svg class=\"mk-svg-icon\" data-cacheid=\"icon-62009b0c8db3b\" data-name=\"mk-icon-shopping-cart\" style=\" height:16px; width: 14.857142857143px; \" viewbox=\"0 0 1664 1792\" xmlns=\"http://www.w3.org/2000/svg\"><path d=\"M640 1536q0 53-37.5 90.5t-90.5 37.5-90.5-37.5-37.5-90.5 37.5-90.5 90.5-37.5 90.5 37.5 37.5 90.5zm896 0q0 53-37.5 90.5t-90.5 37.5-90.5-37.5-37.5-90.5 37.5-90.5 90.5-37.5 90.5 37.5 37.5 90.5zm128-1088v512q0 24-16 42.5t-41 21.5l-1044 122q1 7 4.5 21.5t6 26.5 2.5 22q0 16-24 64h920q26 0 45 19t19 45-19 45-45 19h-1024q-26 0-45-19t-19-45q0-14 11-39.5t29.5-59.5 20.5-38l-177-823h-204q-26 0-45-19t-19-45 19-45 45-19h256q16 0 28.5 6.5t20 15.5 13 24.5 7.5 26.5 5.5 29.5 4.5 25.5h1201q26 0 45 19t19 45z\"></path></svg>Shop</a></li>\n",
       "<li class=\"menu-item menu-item-type-post_type menu-item-object-page menu-item-has-children\" id=\"responsive-menu-item-5076\"><a class=\"menu-item-link js-smooth-scroll\" href=\"https://www.redrockcanyonlv.org/our-mission/\"><svg class=\"mk-svg-icon\" data-cacheid=\"icon-62009b0c8dca1\" data-name=\"mk-moon-users\" style=\" height:16px; width: 16px; \" viewbox=\"0 0 512 512\" xmlns=\"http://www.w3.org/2000/svg\"><path d=\"M367.497 402.687c-9.476-1.494-9.692-27.327-9.692-27.327s27.844-27.328 33.912-64.076c16.326 0 26.407-39.069 10.082-52.814.681-14.47 20.984-113.588-81.799-113.588-102.782 0-82.479 99.118-81.799 113.588-16.327 13.745-6.244 52.814 10.081 52.814 6.067 36.748 33.913 64.076 33.913 64.076s-.216 25.833-9.692 27.327c-30.524 4.816-144.503 54.658-144.503 109.313h384c0-54.655-113.979-104.497-144.503-109.313zm-195.47 8.718c22.047-13.575 48.813-26.154 70.769-33.712-7.876-11.216-16.647-26.468-22.165-44.531-7.703-6.283-13.972-15.266-17.999-26.301-4.033-11.052-5.561-23.426-4.304-34.842.902-8.196 3.239-15.833 6.825-22.544-2.175-23.293-3.707-69.017 26.224-102.366 11.607-12.933 26.278-22.23 43.85-27.843-3.137-32.38-19.58-70.385-83.227-70.385-102.782 0-82.479 99.118-81.799 113.588-16.327 13.745-6.244 52.814 10.081 52.814 6.067 36.748 33.913 64.076 33.913 64.076s-.216 25.833-9.692 27.327c-30.524 4.817-144.503 54.659-144.503 109.314h164.798c2.355-1.537 4.753-3.07 7.229-4.595z\"></path></svg>About</a><span class=\"mk-nav-arrow mk-nav-sub-closed\"><svg class=\"mk-svg-icon\" data-cacheid=\"icon-62009b0c8ddeb\" data-name=\"mk-moon-arrow-down\" style=\" height:16px; width: 16px; \" viewbox=\"0 0 512 512\" xmlns=\"http://www.w3.org/2000/svg\"><path d=\"M512 192l-96-96-160 160-160-160-96 96 256 255.999z\"></path></svg></span>\n",
       "<ul class=\"sub-menu\">\n",
       "<li class=\"menu-item menu-item-type-post_type menu-item-object-page\" id=\"responsive-menu-item-89\"><a class=\"menu-item-link js-smooth-scroll\" href=\"https://www.redrockcanyonlv.org/contact-us/\">Contact Us</a></li>\n",
       "<li class=\"menu-item menu-item-type-taxonomy menu-item-object-category\" id=\"responsive-menu-item-9279\"><a class=\"menu-item-link js-smooth-scroll\" href=\"https://www.redrockcanyonlv.org/lasvegas/news/\">News</a></li>\n",
       "<li class=\"menu-item menu-item-type-post_type menu-item-object-page\" id=\"responsive-menu-item-5079\"><a class=\"menu-item-link js-smooth-scroll\" href=\"https://www.redrockcanyonlv.org/our-mission/\">Our Mission</a></li>\n",
       "<li class=\"menu-item menu-item-type-post_type menu-item-object-page\" id=\"responsive-menu-item-5078\"><a class=\"menu-item-link js-smooth-scroll\" href=\"https://www.redrockcanyonlv.org/opportunities/\">Opportunities</a></li>\n",
       "<li class=\"menu-item menu-item-type-post_type menu-item-object-page\" id=\"responsive-menu-item-1114\"><a class=\"menu-item-link js-smooth-scroll\" href=\"https://www.redrockcanyonlv.org/frequently-asked-questions/\">FAQ</a></li>\n",
       "</ul>\n",
       "</li>\n",
       "</ul></nav>\n",
       "<form action=\"https://www.redrockcanyonlv.org/\" class=\"responsive-searchform\" method=\"get\">\n",
       "<input class=\"text-input\" id=\"s\" name=\"s\" placeholder=\"Search..\" type=\"text\" value=\"\"/>\n",
       "<i><input type=\"submit\" value=\"\"/><svg class=\"mk-svg-icon\" data-cacheid=\"icon-62009b0c8e102\" data-name=\"mk-icon-search\" viewbox=\"0 0 1664 1792\" xmlns=\"http://www.w3.org/2000/svg\"><path d=\"M1152 832q0-185-131.5-316.5t-316.5-131.5-316.5 131.5-131.5 316.5 131.5 316.5 316.5 131.5 316.5-131.5 131.5-316.5zm512 832q0 52-38 90t-90 38q-54 0-90-38l-343-342q-179 124-399 124-143 0-273.5-55.5t-225-150-150-225-55.5-273.5 55.5-273.5 150-225 225-150 273.5-55.5 273.5 55.5 225 150 150 225 55.5 273.5q0 220-124 399l343 343q37 37 37 90z\"></path></svg></i>\n",
       "</form>\n",
       "</div>\n",
       "</div>\n",
       "<div class=\"mk-header-padding-wrapper\"></div>\n",
       "<section class=\"intro-left\" id=\"mk-page-introduce\"><div class=\"mk-grid\"><h1 class=\"page-title mk-drop-shadow\">Hikes &amp; Trails – Round-Trip Distances &amp; Times</h1><div class=\"page-subtitle\">Hikes are numbered according to their location on the trail map. Georeferenced maps are also included with each trail and can be used with any georeferenced map mobile application.\n",
       "</div><div id=\"mk-breadcrumbs\"><div class=\"mk-breadcrumbs-inner dark-skin\"><span xmlns:v=\"http://rdf.data-vocabulary.org/#\"><span typeof=\"v:Breadcrumb\"><a href=\"https://www.redrockcanyonlv.org/\" property=\"v:title\" rel=\"v:url\">Home</a> / <span rel=\"v:child\" typeof=\"v:Breadcrumb\"><span class=\"breadcrumb-categoris-holder\"><a href=\"https://www.redrockcanyonlv.org/lasvegas/hikes-trails/\">Hikes &amp; Trails - Round-Trip Distances &amp; Times</a> <span>/</span> </span> (Page 2)</span></span></span></div></div><div class=\"clearboth\"></div></div></section>\n",
       "</header>\n",
       "<div class=\"master-holder clearfix\" id=\"theme-page\" itemprop=\"mainContentOfPage\" role=\"main\">\n",
       "<div class=\"master-holder-bg-holder\">\n",
       "<div class=\"master-holder-bg js-el\" id=\"theme-page-bg\"></div>\n",
       "</div>\n",
       "<div class=\"mk-main-wrapper-holder\">\n",
       "<div class=\"theme-page-wrapper mk-main-wrapper mk-grid right-layout\">\n",
       "<div class=\"theme-content\" itemprop=\"mainContentOfPage\">\n",
       "<section \"item\":\".mk-isotop-item\"}\"=\"\" class=\"js-loop js-el clearfix mk-blog-container mk-newspaper-wrapper mag-one-column mk-blog-container-lazyload js-loop--loaded\" container\":\"#loop-2\",=\"\" data-grid-config=\"{\" data-loop-iterator=\"10\" data-loop-posts=\"\" data-max-pages=\"1\" data-mk-component=\"Grid\" data-pagination-style=\"1\" id=\"loop-2\" itemscope=\"itemscope\" itemtype=\"https://schema.org/Blog\">\n",
       "<article class=\"mk-blog-newspaper-item image-post-type mk-isotop-item three-column mk-blog-newspaper-item--loaded post-12840 post type-post status-publish format-standard has-post-thumbnail hentry category-hikes-trails\" id=\"post-12840\">\n",
       "<div class=\"featured-image\">\n",
       "<a href=\"https://www.redrockcanyonlv.org/genes-trail/\">\n",
       "<img alt=\"\" class=\"attachment-500x500 size-500x500 colorbox-12840 wp-post-image\" height=\"500\" itemprop=\"image\" loading=\"lazy\" sizes=\"(max-width: 500px) 100vw, 500px\" src=\"https://www.redrockcanyonlv.org/wp-content/uploads/img_2842-500x500.jpg\" srcset=\"https://www.redrockcanyonlv.org/wp-content/uploads/img_2842-500x500.jpg 500w, https://www.redrockcanyonlv.org/wp-content/uploads/img_2842-300x300.jpg 300w, https://www.redrockcanyonlv.org/wp-content/uploads/img_2842-768x768.jpg 768w, https://www.redrockcanyonlv.org/wp-content/uploads/img_2842-1024x1024.jpg 1024w, https://www.redrockcanyonlv.org/wp-content/uploads/img_2842-1000x1000.jpg 1000w, https://www.redrockcanyonlv.org/wp-content/uploads/img_2842-266x266.jpg 266w, https://www.redrockcanyonlv.org/wp-content/uploads/img_2842-195x195.jpg 195w\" width=\"500\"/> </a>\n",
       "</div><!-- .post-thumbnail -->\n",
       "<div class=\"mk-blog-meta\">\n",
       "<h2 class=\"the-title\"><a href=\"https://www.redrockcanyonlv.org/genes-trail/\" rel=\"bookmark\">Gene’s Trail</a></h2> </div>\n",
       "<div class=\"newspaper-item-footer\"><div class=\"newspaper-item-footer-holder\"><a class=\"mk-readmore\" href=\"https://www.redrockcanyonlv.org/genes-trail/\"><svg class=\"mk-svg-icon\" data-cacheid=\"icon-62009b0c8fb4c\" data-name=\"mk-moon-arrow-right-2\" style=\" height:8px; width: 8px; \" viewbox=\"0 0 512 512\" xmlns=\"http://www.w3.org/2000/svg\"><path d=\"M192 0l-96 96 160 160-160 160 96 96 256-256z\"></path></svg>Read More</a> <span class=\"trailnum\">N/A</span>\n",
       "<div class=\"clearboth\"></div></div> </div></article><!-- #post-## -->\n",
       "<article class=\"mk-blog-newspaper-item image-post-type mk-isotop-item three-column mk-blog-newspaper-item--loaded post-12851 post type-post status-publish format-standard has-post-thumbnail hentry category-hikes-trails\" id=\"post-12851\">\n",
       "<div class=\"featured-image\">\n",
       "<a href=\"https://www.redrockcanyonlv.org/calico-overlook/\">\n",
       "<img alt=\"\" class=\"attachment-500x500 size-500x500 colorbox-12851 wp-post-image\" height=\"500\" itemprop=\"image\" loading=\"lazy\" sizes=\"(max-width: 500px) 100vw, 500px\" src=\"https://www.redrockcanyonlv.org/wp-content/uploads/img_2828-500x500.jpg\" srcset=\"https://www.redrockcanyonlv.org/wp-content/uploads/img_2828-500x500.jpg 500w, https://www.redrockcanyonlv.org/wp-content/uploads/img_2828-1000x1000.jpg 1000w, https://www.redrockcanyonlv.org/wp-content/uploads/img_2828-266x266.jpg 266w, https://www.redrockcanyonlv.org/wp-content/uploads/img_2828-195x195.jpg 195w\" width=\"500\"/> </a>\n",
       "</div><!-- .post-thumbnail -->\n",
       "<div class=\"mk-blog-meta\">\n",
       "<h2 class=\"the-title\"><a href=\"https://www.redrockcanyonlv.org/calico-overlook/\" rel=\"bookmark\">Calico Overlook</a></h2> </div>\n",
       "<div class=\"newspaper-item-footer\"><div class=\"newspaper-item-footer-holder\"><a class=\"mk-readmore\" href=\"https://www.redrockcanyonlv.org/calico-overlook/\"><svg class=\"mk-svg-icon\" data-cacheid=\"icon-62009b0c902ec\" data-name=\"mk-moon-arrow-right-2\" style=\" height:8px; width: 8px; \" viewbox=\"0 0 512 512\" xmlns=\"http://www.w3.org/2000/svg\"><path d=\"M192 0l-96 96 160 160-160 160 96 96 256-256z\"></path></svg>Read More</a> <span class=\"trailnum\">N/A</span>\n",
       "<div class=\"clearboth\"></div></div> </div></article><!-- #post-## -->\n",
       "<article class=\"mk-blog-newspaper-item image-post-type mk-isotop-item three-column mk-blog-newspaper-item--loaded post-12854 post type-post status-publish format-standard has-post-thumbnail hentry category-hikes-trails\" id=\"post-12854\">\n",
       "<div class=\"featured-image\">\n",
       "<a href=\"https://www.redrockcanyonlv.org/calico-basin-trail/\">\n",
       "<img alt=\"\" class=\"attachment-500x500 size-500x500 colorbox-12854 wp-post-image\" height=\"500\" itemprop=\"image\" loading=\"lazy\" sizes=\"(max-width: 500px) 100vw, 500px\" src=\"https://www.redrockcanyonlv.org/wp-content/uploads/img_2789-500x500.jpg\" srcset=\"https://www.redrockcanyonlv.org/wp-content/uploads/img_2789-500x500.jpg 500w, https://www.redrockcanyonlv.org/wp-content/uploads/img_2789-1000x1000.jpg 1000w, https://www.redrockcanyonlv.org/wp-content/uploads/img_2789-266x266.jpg 266w, https://www.redrockcanyonlv.org/wp-content/uploads/img_2789-195x195.jpg 195w\" width=\"500\"/> </a>\n",
       "</div><!-- .post-thumbnail -->\n",
       "<div class=\"mk-blog-meta\">\n",
       "<h2 class=\"the-title\"><a href=\"https://www.redrockcanyonlv.org/calico-basin-trail/\" rel=\"bookmark\">Calico Basin Trail</a></h2> </div>\n",
       "<div class=\"newspaper-item-footer\"><div class=\"newspaper-item-footer-holder\"><a class=\"mk-readmore\" href=\"https://www.redrockcanyonlv.org/calico-basin-trail/\"><svg class=\"mk-svg-icon\" data-cacheid=\"icon-62009b0c90961\" data-name=\"mk-moon-arrow-right-2\" style=\" height:8px; width: 8px; \" viewbox=\"0 0 512 512\" xmlns=\"http://www.w3.org/2000/svg\"><path d=\"M192 0l-96 96 160 160-160 160 96 96 256-256z\"></path></svg>Read More</a> <span class=\"trailnum\">N/A</span>\n",
       "<div class=\"clearboth\"></div></div> </div></article><!-- #post-## -->\n",
       "<article class=\"mk-blog-newspaper-item image-post-type mk-isotop-item three-column mk-blog-newspaper-item--loaded post-12857 post type-post status-publish format-standard has-post-thumbnail hentry category-hikes-trails\" id=\"post-12857\">\n",
       "<div class=\"featured-image\">\n",
       "<a href=\"https://www.redrockcanyonlv.org/girl-scout-trail/\">\n",
       "<img alt=\"\" class=\"attachment-500x500 size-500x500 colorbox-12857 wp-post-image\" height=\"500\" itemprop=\"image\" loading=\"lazy\" sizes=\"(max-width: 500px) 100vw, 500px\" src=\"https://www.redrockcanyonlv.org/wp-content/uploads/img_2814-500x500.jpg\" srcset=\"https://www.redrockcanyonlv.org/wp-content/uploads/img_2814-500x500.jpg 500w, https://www.redrockcanyonlv.org/wp-content/uploads/img_2814-1000x1000.jpg 1000w, https://www.redrockcanyonlv.org/wp-content/uploads/img_2814-266x266.jpg 266w, https://www.redrockcanyonlv.org/wp-content/uploads/img_2814-195x195.jpg 195w\" width=\"500\"/> </a>\n",
       "</div><!-- .post-thumbnail -->\n",
       "<div class=\"mk-blog-meta\">\n",
       "<h2 class=\"the-title\"><a href=\"https://www.redrockcanyonlv.org/girl-scout-trail/\" rel=\"bookmark\">Girl Scout Trail</a></h2> </div>\n",
       "<div class=\"newspaper-item-footer\"><div class=\"newspaper-item-footer-holder\"><a class=\"mk-readmore\" href=\"https://www.redrockcanyonlv.org/girl-scout-trail/\"><svg class=\"mk-svg-icon\" data-cacheid=\"icon-62009b0c90f7c\" data-name=\"mk-moon-arrow-right-2\" style=\" height:8px; width: 8px; \" viewbox=\"0 0 512 512\" xmlns=\"http://www.w3.org/2000/svg\"><path d=\"M192 0l-96 96 160 160-160 160 96 96 256-256z\"></path></svg>Read More</a> <span class=\"trailnum\">N/A</span>\n",
       "<div class=\"clearboth\"></div></div> </div></article><!-- #post-## -->\n",
       "<article class=\"mk-blog-newspaper-item image-post-type mk-isotop-item three-column mk-blog-newspaper-item--loaded post-12860 post type-post status-publish format-standard has-post-thumbnail hentry category-hikes-trails\" id=\"post-12860\">\n",
       "<div class=\"featured-image\">\n",
       "<a href=\"https://www.redrockcanyonlv.org/ash-spring-trail/\">\n",
       "<img alt=\"\" class=\"attachment-500x500 size-500x500 colorbox-12860 wp-post-image\" height=\"500\" itemprop=\"image\" loading=\"lazy\" sizes=\"(max-width: 500px) 100vw, 500px\" src=\"https://www.redrockcanyonlv.org/wp-content/uploads/ash-spring-8004599-500x500.jpeg\" srcset=\"https://www.redrockcanyonlv.org/wp-content/uploads/ash-spring-8004599-500x500.jpeg 500w, https://www.redrockcanyonlv.org/wp-content/uploads/ash-spring-8004599-266x266.jpeg 266w\" width=\"500\"/> </a>\n",
       "</div><!-- .post-thumbnail -->\n",
       "<div class=\"mk-blog-meta\">\n",
       "<h2 class=\"the-title\"><a href=\"https://www.redrockcanyonlv.org/ash-spring-trail/\" rel=\"bookmark\">Ash Spring Trail</a></h2> </div>\n",
       "<div class=\"newspaper-item-footer\"><div class=\"newspaper-item-footer-holder\"><a class=\"mk-readmore\" href=\"https://www.redrockcanyonlv.org/ash-spring-trail/\"><svg class=\"mk-svg-icon\" data-cacheid=\"icon-62009b0c91551\" data-name=\"mk-moon-arrow-right-2\" style=\" height:8px; width: 8px; \" viewbox=\"0 0 512 512\" xmlns=\"http://www.w3.org/2000/svg\"><path d=\"M192 0l-96 96 160 160-160 160 96 96 256-256z\"></path></svg>Read More</a> <span class=\"trailnum\">N/A</span>\n",
       "<div class=\"clearboth\"></div></div> </div></article><!-- #post-## -->\n",
       "</section><div class=\"wp-pagenavi\" role=\"navigation\">\n",
       "<span class=\"pages\">Page 2 of 2</span><a aria-label=\"Previous Page\" class=\"previouspostslink\" href=\"https://www.redrockcanyonlv.org/lasvegas/hikes-trails/\" rel=\"prev\">«</a><a class=\"page smaller\" href=\"https://www.redrockcanyonlv.org/lasvegas/hikes-trails/\" title=\"Page 1\">1</a><span aria-current=\"page\" class=\"current\">2</span>\n",
       "</div> <div class=\"clearboth\"></div>\n",
       "</div>\n",
       "<aside class=\"mk-builtin\" id=\"mk-sidebar\" itemscope=\"itemscope\" itemtype=\"https://schema.org/WPSideBar\" role=\"complementary\">\n",
       "<div class=\"sidebar-wrapper\">\n",
       "<section class=\"widget widget_text\" id=\"text-21\"><div class=\"widgettitle\">Upcoming Events</div> <div class=\"textwidget\"><div class=\"em-calendar-wrapper\" id=\"em-calendar-145\"><table class=\"em-calendar\">\n",
       "<thead>\n",
       "<tr>\n",
       "<td><a class=\"em-calnav em-calnav-prev\" href=\"/lasvegas/hikes-trails/page/2/?ajaxCalendar=1&amp;mo=1&amp;yr=2022\" rel=\"nofollow\">&lt;&lt;</a></td>\n",
       "<td class=\"month_name\" colspan=\"5\">Feb 2022</td>\n",
       "<td><a class=\"em-calnav em-calnav-next\" href=\"/lasvegas/hikes-trails/page/2/?ajaxCalendar=1&amp;mo=3&amp;yr=2022\" rel=\"nofollow\">&gt;&gt;</a></td>\n",
       "</tr>\n",
       "</thead>\n",
       "<tbody>\n",
       "<tr class=\"days-names\">\n",
       "<td>M</td><td>T</td><td>W</td><td>T</td><td>F</td><td>S</td><td>S</td>\n",
       "</tr>\n",
       "<tr>\n",
       "<td class=\"eventless-pre\">\n",
       "\t\t\t\t\t\t\t\t\t\t31\t\t\t\t\t\t\t\t\t</td>\n",
       "<td class=\"eventful\">\n",
       "<a href=\"https://www.redrockcanyonlv.org/events/trail-talk-tuesday-pine-creek-8am-2-1-22/\" title=\"Trail Talk Tuesday – Pine Creek\">1</a>\n",
       "</td>\n",
       "<td class=\"eventless\">\n",
       "\t\t\t\t\t\t\t\t\t\t2\t\t\t\t\t\t\t\t\t</td>\n",
       "<td class=\"eventful\">\n",
       "<a href=\"https://www.redrockcanyonlv.org/events/moenkopi-mornings-guided-hike-2-3-22/\" title=\"Moenkopi Mornings Guided Hike\">3</a>\n",
       "</td>\n",
       "<td class=\"eventless\">\n",
       "\t\t\t\t\t\t\t\t\t\t4\t\t\t\t\t\t\t\t\t</td>\n",
       "<td class=\"eventful\">\n",
       "<a href=\"https://www.redrockcanyonlv.org/events/geology-tabletop-at-calico-i-930am-2-5-22/\" title=\"Geology Tabletop at Calico I\">5</a>\n",
       "</td>\n",
       "<td class=\"eventless-today\">\n",
       "\t\t\t\t\t\t\t\t\t\t6\t\t\t\t\t\t\t\t\t</td>\n",
       "</tr><tr> <td class=\"eventless\">\n",
       "\t\t\t\t\t\t\t\t\t\t7\t\t\t\t\t\t\t\t\t</td>\n",
       "<td class=\"eventful\">\n",
       "<a href=\"https://www.redrockcanyonlv.org/events/tabletop-tuesday-mountain-lion-9am-2-8-22/\" title=\"Tabletop Tuesday – Mountain Lion\">8</a>\n",
       "</td>\n",
       "<td class=\"eventless\">\n",
       "\t\t\t\t\t\t\t\t\t\t9\t\t\t\t\t\t\t\t\t</td>\n",
       "<td class=\"eventful\">\n",
       "<a href=\"https://www.redrockcanyonlv.org/events/moenkopi-mornings-guided-hike-2-10-22/\" title=\"Moenkopi Mornings Guided Hike\">10</a>\n",
       "</td>\n",
       "<td class=\"eventless\">\n",
       "\t\t\t\t\t\t\t\t\t\t11\t\t\t\t\t\t\t\t\t</td>\n",
       "<td class=\"eventful\">\n",
       "<a href=\"https://www.redrockcanyonlv.org/events/geology-tabletop-at-calico-i-930am-2-12-22/\" title=\"Geology Tabletop at Calico I\">12</a>\n",
       "</td>\n",
       "<td class=\"eventful\">\n",
       "<a href=\"https://www.redrockcanyonlv.org/events/healthy-heart-hike-pine-creek-2-13-22/\" title=\"Healthy Heart Hike – Pine Creek\">13</a>\n",
       "</td>\n",
       "</tr><tr> <td class=\"eventless\">\n",
       "\t\t\t\t\t\t\t\t\t\t14\t\t\t\t\t\t\t\t\t</td>\n",
       "<td class=\"eventful\">\n",
       "<a href=\"https://www.redrockcanyonlv.org/events/tabletop-tuesday-canines-of-red-rock-9am-2-15-22/\" title=\"Tabletop Tuesday – Canines of Red Rock\">15</a>\n",
       "</td>\n",
       "<td class=\"eventful\">\n",
       "<a href=\"https://www.redrockcanyonlv.org/events/campground-program-gila-monsters-6pm-2-16-22/\" title=\"Campground Program – Gila Monsters\">16</a>\n",
       "</td>\n",
       "<td class=\"eventful\">\n",
       "<a href=\"https://www.redrockcanyonlv.org/events/moenkopi-mornings-guided-hike-2-17-22/\" title=\"Moenkopi Mornings Guided Hike\">17</a>\n",
       "</td>\n",
       "<td class=\"eventless\">\n",
       "\t\t\t\t\t\t\t\t\t\t18\t\t\t\t\t\t\t\t\t</td>\n",
       "<td class=\"eventful\">\n",
       "<a href=\"https://www.redrockcanyonlv.org/events/geology-tabletop-at-calico-i-930am-2-19-22/\" title=\"Geology Tabletop at Calico I\">19</a>\n",
       "</td>\n",
       "<td class=\"eventful\">\n",
       "<a href=\"https://www.redrockcanyonlv.org/events/fossil-ridge-hike-2-20-22/\" title=\"Fossil Ridge Hike\">20</a>\n",
       "</td>\n",
       "</tr><tr> <td class=\"eventless\">\n",
       "\t\t\t\t\t\t\t\t\t\t21\t\t\t\t\t\t\t\t\t</td>\n",
       "<td class=\"eventful\">\n",
       "<a href=\"https://www.redrockcanyonlv.org/events/tabletop-tuesday-eagles-9am-2-22-22/\" title=\"Tabletop Tuesday – Eagles\">22</a>\n",
       "</td>\n",
       "<td class=\"eventless\">\n",
       "\t\t\t\t\t\t\t\t\t\t23\t\t\t\t\t\t\t\t\t</td>\n",
       "<td class=\"eventful\">\n",
       "<a href=\"https://www.redrockcanyonlv.org/events/moenkopi-mornings-guided-hike-2-24-22/\" title=\"Moenkopi Mornings Guided Hike\">24</a>\n",
       "</td>\n",
       "<td class=\"eventless\">\n",
       "\t\t\t\t\t\t\t\t\t\t25\t\t\t\t\t\t\t\t\t</td>\n",
       "<td class=\"eventful\">\n",
       "<a href=\"https://www.redrockcanyonlv.org/events/geology-tabletop-at-calico-i-930am-2-26-22/\" title=\"Geology Tabletop at Calico I\">26</a>\n",
       "</td>\n",
       "<td class=\"eventful\">\n",
       "<a href=\"https://www.redrockcanyonlv.org/events/healthy-heart-hike-la-madre-spring-2-27-22/\" title=\"Healthy Heart Hike – La Madre Spring\">27</a>\n",
       "</td>\n",
       "</tr><tr> <td class=\"eventless\">\n",
       "\t\t\t\t\t\t\t\t\t\t28\t\t\t\t\t\t\t\t\t</td>\n",
       "<td class=\"eventful-post\">\n",
       "<a href=\"https://www.redrockcanyonlv.org/events/trail-talk-tuesday-calico-hills-8am-3-1-22/\" title=\"Trail Talk Tuesday – Calico Hills\">1</a>\n",
       "</td>\n",
       "<td class=\"eventless-post\">\n",
       "\t\t\t\t\t\t\t\t\t\t2\t\t\t\t\t\t\t\t\t</td>\n",
       "<td class=\"eventless-post\">\n",
       "\t\t\t\t\t\t\t\t\t\t3\t\t\t\t\t\t\t\t\t</td>\n",
       "<td class=\"eventless-post\">\n",
       "\t\t\t\t\t\t\t\t\t\t4\t\t\t\t\t\t\t\t\t</td>\n",
       "<td class=\"eventless-post\">\n",
       "\t\t\t\t\t\t\t\t\t\t5\t\t\t\t\t\t\t\t\t</td>\n",
       "<td class=\"eventless-post\">\n",
       "\t\t\t\t\t\t\t\t\t\t6\t\t\t\t\t\t\t\t\t</td>\n",
       "</tr>\n",
       "</tbody>\n",
       "</table></div>\n",
       "<a class=\"button\" href=\"https://www.redrockcanyonlv.org/event-calendar/\">View Full Calendar</a></div>\n",
       "</section> </div>\n",
       "</aside>\n",
       "<div class=\"clearboth\"></div>\n",
       "</div>\n",
       "</div>\n",
       "</div>\n",
       "<section id=\"mk-footer-unfold-spacer\"></section>\n",
       "<section class=\"\" id=\"mk-footer\" itemscope=\"itemscope\" itemtype=\"https://schema.org/WPFooter\" role=\"contentinfo\">\n",
       "<div class=\"footer-wrapper fullwidth-footer\">\n",
       "<div class=\"mk-padding-wrapper\">\n",
       "<div class=\"mk-col-1-4\"><section class=\"widget widget_text\" id=\"text-26\"><div class=\"widgettitle\">Who We Are</div> <div class=\"textwidget\"><p><a href=\"https://www.redrockcanyonlv.org/our-mission/\">Southern Nevada Conservancy</a>, a 501c3 nonprofit organization based in Las Vegas, NV, serves Red Rock Canyon National Conservation Area under a formal agreement with the Bureau of Land Management (BLM) in many ways, including interpretive programming, fee-station management, retail operations, and this website.</p>\n",
       "<p><a class=\"button\" href=\"https://www.redrockcanyonlv.org/redrockcanyon/fees/\">Fees &amp; Passes</a></p>\n",
       "</div>\n",
       "</section></div>\n",
       "<div class=\"mk-col-1-4\"><section class=\"widget widget_nav_menu\" id=\"nav_menu-2\"><div class=\"widgettitle\">Visit Red Rock Canyon</div>\n",
       "<div class=\"menu-footer-menu-container\"><ul class=\"menu\" id=\"menu-footer-menu\">\n",
       "<li class=\"menu-item menu-item-type-taxonomy menu-item-object-category current-menu-item menu-item-9245\" id=\"menu-item-9245\"><a aria-current=\"page\" href=\"https://www.redrockcanyonlv.org/lasvegas/hikes-trails/\"><svg class=\"mk-svg-icon\" data-cacheid=\"icon-62009b0c9a50b\" data-name=\"mk-icon-angle-right\" style=\" height:14px; width: 5px; \" viewbox=\"0 0 640 1792\" xmlns=\"http://www.w3.org/2000/svg\"><path d=\"M595 960q0 13-10 23l-466 466q-10 10-23 10t-23-10l-50-50q-10-10-10-23t10-23l393-393-393-393q-10-10-10-23t10-23l50-50q10-10 23-10t23 10l466 466q10 10 10 23z\"></path></svg>Hikes &amp; Trails – Round-Trip Distances &amp; Times</a></li>\n",
       "<li class=\"menu-item menu-item-type-post_type menu-item-object-post menu-item-9247\" id=\"menu-item-9247\"><a href=\"https://www.redrockcanyonlv.org/fees/\"><svg class=\"mk-svg-icon\" data-cacheid=\"icon-62009b0c9a50b\" data-name=\"mk-icon-angle-right\" style=\" height:14px; width: 5px; \" viewbox=\"0 0 640 1792\" xmlns=\"http://www.w3.org/2000/svg\"><path d=\"M595 960q0 13-10 23l-466 466q-10 10-23 10t-23-10l-50-50q-10-10-10-23t10-23l393-393-393-393q-10-10-10-23t10-23l50-50q10-10 23-10t23 10l466 466q10 10 10 23z\"></path></svg>Fees &amp; Passes</a></li>\n",
       "<li class=\"menu-item menu-item-type-post_type menu-item-object-post menu-item-9437\" id=\"menu-item-9437\"><a href=\"https://www.redrockcanyonlv.org/visitor-information/\"><svg class=\"mk-svg-icon\" data-cacheid=\"icon-62009b0c9a50b\" data-name=\"mk-icon-angle-right\" style=\" height:14px; width: 5px; \" viewbox=\"0 0 640 1792\" xmlns=\"http://www.w3.org/2000/svg\"><path d=\"M595 960q0 13-10 23l-466 466q-10 10-23 10t-23-10l-50-50q-10-10-10-23t10-23l393-393-393-393q-10-10-10-23t10-23l50-50q10-10 23-10t23 10l466 466q10 10 10 23z\"></path></svg>Visitor Information</a></li>\n",
       "<li class=\"menu-item menu-item-type-post_type menu-item-object-page menu-item-9246\" id=\"menu-item-9246\"><a href=\"https://www.redrockcanyonlv.org/shop/\"><svg class=\"mk-svg-icon\" data-cacheid=\"icon-62009b0c9a50b\" data-name=\"mk-icon-angle-right\" style=\" height:14px; width: 5px; \" viewbox=\"0 0 640 1792\" xmlns=\"http://www.w3.org/2000/svg\"><path d=\"M595 960q0 13-10 23l-466 466q-10 10-23 10t-23-10l-50-50q-10-10-10-23t10-23l393-393-393-393q-10-10-10-23t10-23l50-50q10-10 23-10t23 10l466 466q10 10 10 23z\"></path></svg>Shop</a></li>\n",
       "<li class=\"menu-item menu-item-type-post_type menu-item-object-page menu-item-9242\" id=\"menu-item-9242\"><a href=\"https://www.redrockcanyonlv.org/event-calendar/\"><svg class=\"mk-svg-icon\" data-cacheid=\"icon-62009b0c9a50b\" data-name=\"mk-icon-angle-right\" style=\" height:14px; width: 5px; \" viewbox=\"0 0 640 1792\" xmlns=\"http://www.w3.org/2000/svg\"><path d=\"M595 960q0 13-10 23l-466 466q-10 10-23 10t-23-10l-50-50q-10-10-10-23t10-23l393-393-393-393q-10-10-10-23t10-23l50-50q10-10 23-10t23 10l466 466q10 10 10 23z\"></path></svg>Event Calendar</a></li>\n",
       "<li class=\"menu-item menu-item-type-post_type menu-item-object-page menu-item-1339\" id=\"menu-item-1339\"><a href=\"https://www.redrockcanyonlv.org/frequently-asked-questions/\"><svg class=\"mk-svg-icon\" data-cacheid=\"icon-62009b0c9a50b\" data-name=\"mk-icon-angle-right\" style=\" height:14px; width: 5px; \" viewbox=\"0 0 640 1792\" xmlns=\"http://www.w3.org/2000/svg\"><path d=\"M595 960q0 13-10 23l-466 466q-10 10-23 10t-23-10l-50-50q-10-10-10-23t10-23l393-393-393-393q-10-10-10-23t10-23l50-50q10-10 23-10t23 10l466 466q10 10 10 23z\"></path></svg>FAQ</a></li>\n",
       "</ul></div></section></div>\n",
       "<div class=\"mk-col-1-4\"><section class=\"widget widget_text\" id=\"text-24\"><div class=\"widgettitle\">Operating Hours</div> <div class=\"textwidget\"><p><a href=\"https://www.redrockcanyonlv.org/red-rock-canyon-is-hot-hot-hot/\" rel=\"noopener\" target=\"_blank\"><strong>PLEASE VISIT THIS PAGE FOR CURRENT OPERATING HOURS &amp; FACILITIES.</strong></a></p>\n",
       "<p>The Visitor Center is open daily from 9<strong>:00 AM – 4:30 pm</strong>.</p>\n",
       "<p>The Scenic Drive is open every day of the year with hours changing slightly according to the season:</p>\n",
       "<p><strong>Nov – Feb</strong> – 6:00 AM to 5:00 PM<br/>\n",
       "<strong>March</strong> – 6:00 AM to 7:00 PM<br/>\n",
       "<strong>Apr – Sep</strong> – 6:00 AM to 8:00 PM<br/>\n",
       "<strong>Oct</strong> – 6:00 AM to 7:00 PM</p>\n",
       "</div>\n",
       "</section></div>\n",
       "<div class=\"mk-col-1-4\"><section class=\"widget widget_text\" id=\"text-25\"><div class=\"widgettitle\">Get In Touch</div> <div class=\"textwidget\"><p><strong>Red Rock Canyon</strong><br/>\n",
       "<strong>General Information &amp; Questions</strong><br/>\n",
       "Phone: <a href=\"tel:17025155350\">+1 (702) 515-5350</a></p>\n",
       "<p><strong>Programs &amp; Guided Hikes</strong><br/>\n",
       "Phone: <a href=\"tel:17025155350\">+1 (702) 515-5367</a></p>\n",
       "<p><strong>Elements Gift &amp; Book Store</strong><br/>\n",
       "Phone: <a href=\"tel:17025155379\">+1 (702) 515-5379</a></p>\n",
       "<p><a class=\"button\" href=\"https://goo.gl/maps/X8LKj9bXcMT2\" rel=\"noopener\" target=\"_blank\">Driving Directions</a></p>\n",
       "</div>\n",
       "</section></div>\n",
       "<div class=\"clearboth\"></div>\n",
       "</div>\n",
       "</div>\n",
       "<div id=\"sub-footer\">\n",
       "<div class=\"fullwidth-footer\">\n",
       "<span class=\"mk-footer-copyright\">© Copyright 2017 - <a href=\"https://www.southernnevadaconservancy.org/\" target=\"_blank\">Southern Nevada Conservancy</a> |  All Rights Reserved.  | Website by: <a href=\"http://www.sitesmartmarketing.com\" target=\"_blank\">Site Smart Marketing</a></span>\n",
       "</div>\n",
       "<div class=\"clearboth\"></div>\n",
       "</div>\n",
       "</section>\n",
       "</div>\n",
       "</div>\n",
       "<div class=\"bottom-corner-btns js-bottom-corner-btns\">\n",
       "</div>\n",
       "<div class=\"mk-fullscreen-search-overlay\">\n",
       "<a class=\"mk-fullscreen-close\" href=\"#\"><svg class=\"mk-svg-icon\" data-cacheid=\"icon-62009b0c9ae5b\" data-name=\"mk-moon-close-2\" viewbox=\"0 0 512 512\" xmlns=\"http://www.w3.org/2000/svg\"><path d=\"M390.628 345.372l-45.256 45.256-89.372-89.373-89.373 89.372-45.255-45.255 89.373-89.372-89.372-89.373 45.254-45.254 89.373 89.372 89.372-89.373 45.256 45.255-89.373 89.373 89.373 89.372z\"></path></svg></a>\n",
       "<div class=\"mk-fullscreen-search-wrapper\">\n",
       "<p>Start typing and press Enter to search</p>\n",
       "<form action=\"https://www.redrockcanyonlv.org/\" id=\"mk-fullscreen-searchform\" method=\"get\">\n",
       "<input id=\"mk-fullscreen-search-input\" name=\"s\" type=\"text\" value=\"\"/>\n",
       "<i class=\"fullscreen-search-icon\"><svg class=\"mk-svg-icon\" data-cacheid=\"icon-62009b0c9af13\" data-name=\"mk-icon-search\" style=\" height:25px; width: 23.214285714286px; \" viewbox=\"0 0 1664 1792\" xmlns=\"http://www.w3.org/2000/svg\"><path d=\"M1152 832q0-185-131.5-316.5t-316.5-131.5-316.5 131.5-131.5 316.5 131.5 316.5 316.5 131.5 316.5-131.5 131.5-316.5zm512 832q0 52-38 90t-90 38q-54 0-90-38l-343-342q-179 124-399 124-143 0-273.5-55.5t-225-150-150-225-55.5-273.5 55.5-273.5 150-225 225-150 273.5-55.5 273.5 55.5 225 150 150 225 55.5 273.5q0 220-124 399l343 343q37 37 37 90z\"></path></svg></i>\n",
       "</form>\n",
       "</div>\n",
       "</div>\n",
       "<style type=\"text/css\"></style><script type=\"text/javascript\">\n",
       "    php = {\n",
       "        hasAdminbar: false,\n",
       "        json: (null != null) ? null : \"\",\n",
       "        jsPath: 'https://www.redrockcanyonlv.org/wp-content/themes/jupiter/assets/js'\n",
       "      };\n",
       "    </script><script id=\"google-invisible-recaptcha-js-before\" type=\"text/javascript\">\n",
       "var renderInvisibleReCaptcha = function() {\n",
       "\n",
       "    for (var i = 0; i < document.forms.length; ++i) {\n",
       "        var form = document.forms[i];\n",
       "        var holder = form.querySelector('.inv-recaptcha-holder');\n",
       "\n",
       "        if (null === holder) continue;\n",
       "\t\tholder.innerHTML = '';\n",
       "\n",
       "         (function(frm){\n",
       "\t\t\tvar cf7SubmitElm = frm.querySelector('.wpcf7-submit');\n",
       "            var holderId = grecaptcha.render(holder,{\n",
       "                'sitekey': '6Lc1tbsZAAAAAA2NJDh7vLq2eDoOGmA2jYsM6-_z', 'size': 'invisible', 'badge' : 'bottomright',\n",
       "                'callback' : function (recaptchaToken) {\n",
       "\t\t\t\t\tif((null !== cf7SubmitElm) && (typeof jQuery != 'undefined')){jQuery(frm).submit();grecaptcha.reset(holderId);return;}\n",
       "\t\t\t\t\t HTMLFormElement.prototype.submit.call(frm);\n",
       "                },\n",
       "                'expired-callback' : function(){grecaptcha.reset(holderId);}\n",
       "            });\n",
       "\n",
       "\t\t\tif(null !== cf7SubmitElm && (typeof jQuery != 'undefined') ){\n",
       "\t\t\t\tjQuery(cf7SubmitElm).off('click').on('click', function(clickEvt){\n",
       "\t\t\t\t\tclickEvt.preventDefault();\n",
       "\t\t\t\t\tgrecaptcha.execute(holderId);\n",
       "\t\t\t\t});\n",
       "\t\t\t}\n",
       "\t\t\telse\n",
       "\t\t\t{\n",
       "\t\t\t\tfrm.onsubmit = function (evt){evt.preventDefault();grecaptcha.execute(holderId);};\n",
       "\t\t\t}\n",
       "\n",
       "\n",
       "        })(form);\n",
       "    }\n",
       "};\n",
       "</script>\n",
       "<script async=\"\" defer=\"\" id=\"google-invisible-recaptcha-js\" src=\"https://www.google.com/recaptcha/api.js?onload=renderInvisibleReCaptcha&amp;render=explicit\" type=\"text/javascript\"></script>\n",
       "<script id=\"smoothscroll-js\" src=\"https://www.redrockcanyonlv.org/wp-content/themes/jupiter/assets/js/plugins/wp-enqueue/min/smoothscroll.js\" type=\"text/javascript\"></script>\n",
       "<script id=\"theme-scripts-js\" src=\"https://www.redrockcanyonlv.org/wp-content/themes/jupiter/assets/js/min/full-scripts.6.10.0.js\" type=\"text/javascript\"></script>\n",
       "<script id=\"mkhb-render-js\" src=\"https://www.redrockcanyonlv.org/wp-content/themes/jupiter/header-builder/includes/assets/js/mkhb-render.js\" type=\"text/javascript\"></script>\n",
       "<script id=\"mkhb-column-js\" src=\"https://www.redrockcanyonlv.org/wp-content/themes/jupiter/header-builder/includes/assets/js/mkhb-column.js\" type=\"text/javascript\"></script>\n",
       "<script id=\"jupiter-donut-shortcodes-js-extra\" type=\"text/javascript\">\n",
       "/* <![CDATA[ */\n",
       "var jupiterDonutVars = {\"themeDir\":\"https:\\/\\/www.redrockcanyonlv.org\\/wp-content\\/themes\\/jupiter\",\"assetsUrl\":\"https:\\/\\/www.redrockcanyonlv.org\\/wp-content\\/plugins\\/jupiter-donut\\/assets\",\"gridWidth\":\"1200\",\"ajaxUrl\":\"https:\\/\\/www.redrockcanyonlv.org\\/wp-admin\\/admin-ajax.php\",\"nonce\":\"5e1f8c59c6\"};\n",
       "/* ]]> */\n",
       "</script>\n",
       "<script id=\"jupiter-donut-shortcodes-js\" src=\"https://www.redrockcanyonlv.org/wp-content/plugins/jupiter-donut/assets/js/shortcodes-scripts.min.js\" type=\"text/javascript\"></script>\n",
       "<script id=\"wp-embed-js\" src=\"https://www.redrockcanyonlv.org/wp-includes/js/wp-embed.min.js\" type=\"text/javascript\"></script>\n",
       "<script type=\"text/javascript\">\n",
       "\t\tjQuery(document).ready(function () { \n",
       "  equalHeight('article div.mk-blog-meta');\n",
       "\t//equalHeight('article div.featured-image');\n",
       "\t\n",
       "\t//jQuery(window).resize(function(){jQuery('article div.featured-image').removeAttr(\"style\");equalHeight('article div.featured-image');});\n",
       "\tjQuery(window).resize(function(){jQuery('article div.mk-blog-meta').removeAttr(\"style\");equalHeight('article div.mk-blog-meta');});\n",
       "});\n",
       "function equalHeight(columnClass){\n",
       "   var maxHeight = 0;\n",
       "\t \n",
       "jQuery(columnClass).each(function(){\n",
       "   if (jQuery(this).height() > maxHeight) { maxHeight = jQuery(this).height(); }\n",
       "});\n",
       "jQuery(columnClass).height(maxHeight);\n",
       "}\t\t</script>\n",
       "<script type=\"text/javascript\">\twindow.get = {};\twindow.get.captcha = function(enteredCaptcha) {\n",
       "                  return jQuery.get(ajaxurl, { action : \"mk_validate_captcha_input\", captcha: enteredCaptcha });\n",
       "              \t};</script>\n",
       "</body>\n",
       "</html>\n",
       "<!--\n",
       "Performance optimized by W3 Total Cache. Learn more: https://www.boldgrid.com/w3-total-cache/\n",
       "\n",
       "Page Caching using disk: enhanced \n",
       "Database Caching using disk (Request-wide modification query)\n",
       "\n",
       "Served from: www.redrockcanyonlv.org @ 2022-02-06 20:07:40 by W3 Total Cache\n",
       "-->"
      ]
     },
     "execution_count": 21,
     "metadata": {},
     "output_type": "execute_result"
    }
   ],
   "source": [
    "#There are actually two pages worth of trails. This does the same thing as above for the second page. \n",
    "trails_page2 = requests.get(url = 'https://www.redrockcanyonlv.org/lasvegas/hikes-trails/page/2/',headers = user_agent).text\n",
    "trails_soup2 = BeautifulSoup(trails_page2, 'html.parser')\n",
    "\n",
    "trails_soup2\n"
   ]
  },
  {
   "cell_type": "code",
   "execution_count": 22,
   "id": "a9684597",
   "metadata": {},
   "outputs": [],
   "source": [
    "#Two List comprehension to create a list of \"Trail Urls\" from our trails_soup objects. Finds all h2 tags with the class 'the-title.\n",
    "#Then uses the object created from find_all() to find all get 'href' from 'a' tags. \n",
    "\n",
    "page1_list = [x.find(\"a\").get('href') for x in trails_soup.find_all('h2',{'class':'the-title'})]\n",
    "page2_list = [x.find(\"a\").get('href') for x in trails_soup2.find_all('h2',{'class':'the-title'})]\n",
    "\n",
    "#Concatanate the two lists together to make one list of Urls.\n",
    "\n",
    "trail_urls = page1_list + page2_list"
   ]
  },
  {
   "cell_type": "code",
   "execution_count": 23,
   "id": "9d7b0929",
   "metadata": {},
   "outputs": [
    {
     "data": {
      "text/plain": [
       "['https://www.redrockcanyonlv.org/moenkopi-loop/',\n",
       " 'https://www.redrockcanyonlv.org/calico-hills/',\n",
       " 'https://www.redrockcanyonlv.org/calico-tanks/',\n",
       " 'https://www.redrockcanyonlv.org/turtlehead-peak/',\n",
       " 'https://www.redrockcanyonlv.org/keystone-thrust/',\n",
       " 'https://www.redrockcanyonlv.org/white-rock-willow-springs/',\n",
       " 'https://www.redrockcanyonlv.org/grand-circle-loop/',\n",
       " 'https://www.redrockcanyonlv.org/white-rock-la-madre-spring-loop/',\n",
       " 'https://www.redrockcanyonlv.org/willow-springs-loop/',\n",
       " 'https://www.redrockcanyonlv.org/la-madre-spring/',\n",
       " 'https://www.redrockcanyonlv.org/petroglyph-wall-trail/',\n",
       " 'https://www.redrockcanyonlv.org/north-peak-trail/',\n",
       " 'https://www.redrockcanyonlv.org/bridge-mountain-trail/',\n",
       " 'https://www.redrockcanyonlv.org/lost-creek-childrens-discovery/',\n",
       " 'https://www.redrockcanyonlv.org/smyc/',\n",
       " 'https://www.redrockcanyonlv.org/ice-box-canyon/',\n",
       " 'https://www.redrockcanyonlv.org/dales/',\n",
       " 'https://www.redrockcanyonlv.org/pine-creek-canyon/',\n",
       " 'https://www.redrockcanyonlv.org/fire-ecology/',\n",
       " 'https://www.redrockcanyonlv.org/arnight/',\n",
       " 'https://www.redrockcanyonlv.org/knoll/',\n",
       " 'https://www.redrockcanyonlv.org/oak-creek-canyon/',\n",
       " 'https://www.redrockcanyonlv.org/oak-creek-cutoff/',\n",
       " 'https://www.redrockcanyonlv.org/south-oak-creek/',\n",
       " 'https://www.redrockcanyonlv.org/first-creek-canyon/',\n",
       " 'https://www.redrockcanyonlv.org/kraft-boulders/',\n",
       " 'https://www.redrockcanyonlv.org/genes-trail/',\n",
       " 'https://www.redrockcanyonlv.org/calico-overlook/',\n",
       " 'https://www.redrockcanyonlv.org/calico-basin-trail/',\n",
       " 'https://www.redrockcanyonlv.org/girl-scout-trail/',\n",
       " 'https://www.redrockcanyonlv.org/ash-spring-trail/']"
      ]
     },
     "execution_count": 23,
     "metadata": {},
     "output_type": "execute_result"
    }
   ],
   "source": [
    "trail_urls"
   ]
  },
  {
   "cell_type": "code",
   "execution_count": null,
   "id": "b4b0f44c",
   "metadata": {},
   "outputs": [],
   "source": []
  },
  {
   "cell_type": "code",
   "execution_count": null,
   "id": "fd05464c",
   "metadata": {},
   "outputs": [],
   "source": []
  },
  {
   "cell_type": "code",
   "execution_count": 24,
   "id": "6d260895",
   "metadata": {},
   "outputs": [],
   "source": [
    "#With our list of URLs we will now be scraping each trail url to scrape the neccesary information from them. \n",
    "# First we create a list of html pages with list comprehension. \n",
    "\n",
    "trail_htmls = [BeautifulSoup(requests.get(url = link ,headers = user_agent).text, 'html.parser') for link in trail_urls]\n",
    "    \n",
    "#Then we scrape each list and "
   ]
  },
  {
   "cell_type": "code",
   "execution_count": null,
   "id": "866bcf10",
   "metadata": {},
   "outputs": [],
   "source": []
  },
  {
   "cell_type": "code",
   "execution_count": null,
   "id": "50cc80d6",
   "metadata": {},
   "outputs": [],
   "source": []
  },
  {
   "cell_type": "code",
   "execution_count": null,
   "id": "fd010d98",
   "metadata": {},
   "outputs": [],
   "source": []
  },
  {
   "cell_type": "code",
   "execution_count": null,
   "id": "4badd4ab",
   "metadata": {},
   "outputs": [],
   "source": []
  },
  {
   "cell_type": "code",
   "execution_count": 25,
   "id": "5dc52048",
   "metadata": {},
   "outputs": [],
   "source": [
    "#Creating DataFrame\n",
    "\n",
    "df = pd.DataFrame({'Name': [],\n",
    "                   'Distance (miles)': [],\n",
    "                   'Average Time (hours)':[],\n",
    "                   'Difficulty':[],\n",
    "                  })\n",
    "#For loop to grab needed data from htmls created above.\n",
    "\n",
    "for x in trail_htmls:\n",
    "    #This grabs some metrics from the web pages and then turns those metrics into a list.\n",
    "    scraped_metrics = x.find_all('div',{'class':'mk-single-content clearfix'})[0].find('p').text.split(';')\n",
    "\n",
    "    \n",
    "    #This grabs <title> of the webpage in order to get the name of the trail. \n",
    "    scraped_name = x.find_all('title')[0].get_text().split('|')[0].strip()\n",
    "\n",
    "    #This adds the trail name to the beggining of the metrics list.\n",
    "    scraped_metrics.insert(0, scraped_name) \n",
    "    \n",
    "    \n",
    "    \n",
    "    #This adds the list of information to the dataframe as row. \n",
    "    df.loc[len(df.index)] = scraped_metrics\n",
    "     "
   ]
  },
  {
   "cell_type": "code",
   "execution_count": null,
   "id": "c4fdee25",
   "metadata": {},
   "outputs": [],
   "source": []
  },
  {
   "cell_type": "code",
   "execution_count": null,
   "id": "a7ef9e2b",
   "metadata": {},
   "outputs": [],
   "source": []
  },
  {
   "cell_type": "code",
   "execution_count": null,
   "id": "fe2ca3fa",
   "metadata": {},
   "outputs": [],
   "source": []
  },
  {
   "cell_type": "code",
   "execution_count": 26,
   "id": "02db1165",
   "metadata": {},
   "outputs": [],
   "source": [
    "# Cleaning data.\n",
    "\n",
    "# Grabbing only the numeric value from distance column. \n",
    "for x,y in df.iterrows():\n",
    "    y[1] = y[1].split(' ')[1]\n",
    "    y[1]\n",
    "    \n"
   ]
  },
  {
   "cell_type": "code",
   "execution_count": 27,
   "id": "ecfcdec9",
   "metadata": {},
   "outputs": [],
   "source": [
    "#Cleaning Average Time data. \n",
    "\n",
    "#Stripping excess information from strings and turning values into numerics. \n",
    "\n",
    "for x,y in df.iterrows():\n",
    "    y[2] = y[2].strip().split(':')[1].split('h')[0].strip()\n",
    "    y[2]=y[2].split('-')[0]\n",
    "\n",
    "\n",
    "#Petroglyph Wall had it's value as '30 minutes'.\n",
    "\n",
    "df.loc[10,'Average Time (hours)'] = .5\n",
    "\n",
    "#Ash Spring trail had it's value as '1/2'\n",
    "df.loc[30,'Average Time (hours)'] = .5\n"
   ]
  },
  {
   "cell_type": "code",
   "execution_count": 28,
   "id": "ced0d2fa",
   "metadata": {},
   "outputs": [
    {
     "data": {
      "text/html": [
       "<div>\n",
       "<style scoped>\n",
       "    .dataframe tbody tr th:only-of-type {\n",
       "        vertical-align: middle;\n",
       "    }\n",
       "\n",
       "    .dataframe tbody tr th {\n",
       "        vertical-align: top;\n",
       "    }\n",
       "\n",
       "    .dataframe thead th {\n",
       "        text-align: right;\n",
       "    }\n",
       "</style>\n",
       "<table border=\"1\" class=\"dataframe\">\n",
       "  <thead>\n",
       "    <tr style=\"text-align: right;\">\n",
       "      <th></th>\n",
       "      <th>Name</th>\n",
       "      <th>Distance (miles)</th>\n",
       "      <th>Average Time (hours)</th>\n",
       "      <th>Difficulty</th>\n",
       "    </tr>\n",
       "  </thead>\n",
       "  <tbody>\n",
       "    <tr>\n",
       "      <th>0</th>\n",
       "      <td>Moenkopi Loop</td>\n",
       "      <td>2</td>\n",
       "      <td>1.5</td>\n",
       "      <td>Difficulty: EASY</td>\n",
       "    </tr>\n",
       "    <tr>\n",
       "      <th>1</th>\n",
       "      <td>Calico Hills</td>\n",
       "      <td>2-6</td>\n",
       "      <td>1.5 – 3.5</td>\n",
       "      <td>Difficulty: MODERATE</td>\n",
       "    </tr>\n",
       "    <tr>\n",
       "      <th>2</th>\n",
       "      <td>Calico Tanks</td>\n",
       "      <td>2.2</td>\n",
       "      <td>2</td>\n",
       "      <td>Difficulty: MODERATE – STRENUOUS</td>\n",
       "    </tr>\n",
       "    <tr>\n",
       "      <th>3</th>\n",
       "      <td>Turtlehead Peak</td>\n",
       "      <td>4.6</td>\n",
       "      <td>3.5</td>\n",
       "      <td>Difficulty: STRENUOUS</td>\n",
       "    </tr>\n",
       "    <tr>\n",
       "      <th>4</th>\n",
       "      <td>Keystone Thrust</td>\n",
       "      <td>2.4</td>\n",
       "      <td>1.5</td>\n",
       "      <td>Difficulty: MODERATE</td>\n",
       "    </tr>\n",
       "    <tr>\n",
       "      <th>5</th>\n",
       "      <td>White Rock – Willow Springs</td>\n",
       "      <td>4</td>\n",
       "      <td>2.5</td>\n",
       "      <td>Difficulty: MODERATE</td>\n",
       "    </tr>\n",
       "    <tr>\n",
       "      <th>6</th>\n",
       "      <td>Grand Circle Loop</td>\n",
       "      <td>11.4</td>\n",
       "      <td>6</td>\n",
       "      <td>Difficulty: Strenuous</td>\n",
       "    </tr>\n",
       "    <tr>\n",
       "      <th>7</th>\n",
       "      <td>White Rock Mountain Loop</td>\n",
       "      <td>6.2</td>\n",
       "      <td>3.5</td>\n",
       "      <td>Difficulty: STRENUOUS</td>\n",
       "    </tr>\n",
       "    <tr>\n",
       "      <th>8</th>\n",
       "      <td>Willow Spring Loop</td>\n",
       "      <td>1.1</td>\n",
       "      <td>1.25</td>\n",
       "      <td>Difficulty: EASY</td>\n",
       "    </tr>\n",
       "    <tr>\n",
       "      <th>9</th>\n",
       "      <td>La Madre Spring</td>\n",
       "      <td>3.6</td>\n",
       "      <td>2</td>\n",
       "      <td>Difficulty: MODERATE</td>\n",
       "    </tr>\n",
       "    <tr>\n",
       "      <th>10</th>\n",
       "      <td>Petroglyph Wall</td>\n",
       "      <td>0.20</td>\n",
       "      <td>0.5</td>\n",
       "      <td>Difficulty: Easy</td>\n",
       "    </tr>\n",
       "    <tr>\n",
       "      <th>11</th>\n",
       "      <td>North Peak</td>\n",
       "      <td>11.8</td>\n",
       "      <td>5</td>\n",
       "      <td>Difficulty: Strenuous</td>\n",
       "    </tr>\n",
       "    <tr>\n",
       "      <th>12</th>\n",
       "      <td>Bridge Mountain</td>\n",
       "      <td>15.8</td>\n",
       "      <td>6</td>\n",
       "      <td>Difficulty: Strenuous</td>\n",
       "    </tr>\n",
       "    <tr>\n",
       "      <th>13</th>\n",
       "      <td>Lost Creek – Children’s Discovery</td>\n",
       "      <td>0.80</td>\n",
       "      <td>1</td>\n",
       "      <td>Difficulty: EASY-MODERATE</td>\n",
       "    </tr>\n",
       "    <tr>\n",
       "      <th>14</th>\n",
       "      <td>SMYC</td>\n",
       "      <td>2</td>\n",
       "      <td>2</td>\n",
       "      <td>Difficulty: MODERATE</td>\n",
       "    </tr>\n",
       "    <tr>\n",
       "      <th>15</th>\n",
       "      <td>Ice Box Canyon</td>\n",
       "      <td>2.2</td>\n",
       "      <td>2</td>\n",
       "      <td>Difficulty: STRENUOUS</td>\n",
       "    </tr>\n",
       "    <tr>\n",
       "      <th>16</th>\n",
       "      <td>Dale’s</td>\n",
       "      <td>4</td>\n",
       "      <td>2.5</td>\n",
       "      <td>Difficulty: MODERATE</td>\n",
       "    </tr>\n",
       "    <tr>\n",
       "      <th>17</th>\n",
       "      <td>Pine Creek Canyon</td>\n",
       "      <td>2.4</td>\n",
       "      <td>2</td>\n",
       "      <td>Difficulty: EASY-MODERATE</td>\n",
       "    </tr>\n",
       "    <tr>\n",
       "      <th>18</th>\n",
       "      <td>Fire Ecology</td>\n",
       "      <td>0.4</td>\n",
       "      <td>1</td>\n",
       "      <td>Difficulty: EASY</td>\n",
       "    </tr>\n",
       "    <tr>\n",
       "      <th>19</th>\n",
       "      <td>Arnight</td>\n",
       "      <td>2.2</td>\n",
       "      <td>1.5</td>\n",
       "      <td>Difficulty: MODERATE</td>\n",
       "    </tr>\n",
       "    <tr>\n",
       "      <th>20</th>\n",
       "      <td>Knoll</td>\n",
       "      <td>3.6</td>\n",
       "      <td>2.5</td>\n",
       "      <td>Difficulty: MODERATE</td>\n",
       "    </tr>\n",
       "    <tr>\n",
       "      <th>21</th>\n",
       "      <td>Oak Creek Canyon</td>\n",
       "      <td>2</td>\n",
       "      <td>1.5</td>\n",
       "      <td>Difficulty: EASY-MODERATE</td>\n",
       "    </tr>\n",
       "    <tr>\n",
       "      <th>22</th>\n",
       "      <td>Middle Oak Creek</td>\n",
       "      <td>3</td>\n",
       "      <td>3</td>\n",
       "      <td>Difficulty: Moderate</td>\n",
       "    </tr>\n",
       "    <tr>\n",
       "      <th>23</th>\n",
       "      <td>South Oak Creek</td>\n",
       "      <td>4.8</td>\n",
       "      <td>3.5</td>\n",
       "      <td>Difficulty: Moderate</td>\n",
       "    </tr>\n",
       "    <tr>\n",
       "      <th>24</th>\n",
       "      <td>First Creek Canyon</td>\n",
       "      <td>4</td>\n",
       "      <td>2</td>\n",
       "      <td>Difficulty: EASY-MODERATE</td>\n",
       "    </tr>\n",
       "    <tr>\n",
       "      <th>25</th>\n",
       "      <td>Kraft Mountain Loop Hike</td>\n",
       "      <td>3.5</td>\n",
       "      <td>2.5</td>\n",
       "      <td>Difficulty: STRENUOUS</td>\n",
       "    </tr>\n",
       "    <tr>\n",
       "      <th>26</th>\n",
       "      <td>Gene’s Trail</td>\n",
       "      <td>2.6</td>\n",
       "      <td>1.5</td>\n",
       "      <td>Difficulty: Moderate</td>\n",
       "    </tr>\n",
       "    <tr>\n",
       "      <th>27</th>\n",
       "      <td>Calico Overlook</td>\n",
       "      <td>1.5</td>\n",
       "      <td>1</td>\n",
       "      <td>Difficulty: Easy to Moderate</td>\n",
       "    </tr>\n",
       "    <tr>\n",
       "      <th>28</th>\n",
       "      <td>Calico Basin Trail</td>\n",
       "      <td>1.5</td>\n",
       "      <td>1</td>\n",
       "      <td>Difficulty: Easy</td>\n",
       "    </tr>\n",
       "    <tr>\n",
       "      <th>29</th>\n",
       "      <td>Girl Scout Trail</td>\n",
       "      <td>1.3</td>\n",
       "      <td>1</td>\n",
       "      <td>Difficulty: Easy</td>\n",
       "    </tr>\n",
       "    <tr>\n",
       "      <th>30</th>\n",
       "      <td>Ash Spring Trail</td>\n",
       "      <td>1</td>\n",
       "      <td>0.5</td>\n",
       "      <td>Difficulty: Easy</td>\n",
       "    </tr>\n",
       "  </tbody>\n",
       "</table>\n",
       "</div>"
      ],
      "text/plain": [
       "                                 Name Distance (miles) Average Time (hours)  \\\n",
       "0                       Moenkopi Loop                2                  1.5   \n",
       "1                        Calico Hills              2-6            1.5 – 3.5   \n",
       "2                        Calico Tanks              2.2                    2   \n",
       "3                     Turtlehead Peak              4.6                  3.5   \n",
       "4                     Keystone Thrust              2.4                  1.5   \n",
       "5         White Rock – Willow Springs                4                  2.5   \n",
       "6                   Grand Circle Loop             11.4                    6   \n",
       "7            White Rock Mountain Loop              6.2                  3.5   \n",
       "8                  Willow Spring Loop              1.1                 1.25   \n",
       "9                     La Madre Spring              3.6                    2   \n",
       "10                    Petroglyph Wall             0.20                  0.5   \n",
       "11                         North Peak             11.8                    5   \n",
       "12                    Bridge Mountain             15.8                    6   \n",
       "13  Lost Creek – Children’s Discovery             0.80                    1   \n",
       "14                               SMYC                2                    2   \n",
       "15                     Ice Box Canyon              2.2                    2   \n",
       "16                             Dale’s                4                  2.5   \n",
       "17                  Pine Creek Canyon              2.4                    2   \n",
       "18                       Fire Ecology              0.4                    1   \n",
       "19                            Arnight              2.2                  1.5   \n",
       "20                              Knoll              3.6                  2.5   \n",
       "21                   Oak Creek Canyon                2                  1.5   \n",
       "22                   Middle Oak Creek                3                    3   \n",
       "23                    South Oak Creek              4.8                  3.5   \n",
       "24                 First Creek Canyon                4                    2   \n",
       "25           Kraft Mountain Loop Hike              3.5                  2.5   \n",
       "26                       Gene’s Trail              2.6                  1.5   \n",
       "27                    Calico Overlook              1.5                    1   \n",
       "28                 Calico Basin Trail              1.5                    1   \n",
       "29                   Girl Scout Trail              1.3                    1   \n",
       "30                   Ash Spring Trail                1                  0.5   \n",
       "\n",
       "                            Difficulty  \n",
       "0                     Difficulty: EASY  \n",
       "1                 Difficulty: MODERATE  \n",
       "2    Difficulty: MODERATE – STRENUOUS   \n",
       "3                Difficulty: STRENUOUS  \n",
       "4                 Difficulty: MODERATE  \n",
       "5                 Difficulty: MODERATE  \n",
       "6                Difficulty: Strenuous  \n",
       "7                Difficulty: STRENUOUS  \n",
       "8                     Difficulty: EASY  \n",
       "9                 Difficulty: MODERATE  \n",
       "10                    Difficulty: Easy  \n",
       "11               Difficulty: Strenuous  \n",
       "12               Difficulty: Strenuous  \n",
       "13           Difficulty: EASY-MODERATE  \n",
       "14                Difficulty: MODERATE  \n",
       "15               Difficulty: STRENUOUS  \n",
       "16                Difficulty: MODERATE  \n",
       "17           Difficulty: EASY-MODERATE  \n",
       "18                    Difficulty: EASY  \n",
       "19                Difficulty: MODERATE  \n",
       "20                Difficulty: MODERATE  \n",
       "21           Difficulty: EASY-MODERATE  \n",
       "22                Difficulty: Moderate  \n",
       "23                Difficulty: Moderate  \n",
       "24           Difficulty: EASY-MODERATE  \n",
       "25               Difficulty: STRENUOUS  \n",
       "26                Difficulty: Moderate  \n",
       "27        Difficulty: Easy to Moderate  \n",
       "28                    Difficulty: Easy  \n",
       "29                    Difficulty: Easy  \n",
       "30                    Difficulty: Easy  "
      ]
     },
     "execution_count": 28,
     "metadata": {},
     "output_type": "execute_result"
    }
   ],
   "source": [
    "df"
   ]
  },
  {
   "cell_type": "code",
   "execution_count": 29,
   "id": "b7c379f9",
   "metadata": {},
   "outputs": [
    {
     "data": {
      "text/plain": [
       "array([' Difficulty: EASY', '\\xa0Difficulty: MODERATE',\n",
       "       '\\xa0Difficulty: MODERATE – STRENUOUS\\xa0',\n",
       "       '\\xa0Difficulty: STRENUOUS', ' Difficulty: MODERATE',\n",
       "       ' Difficulty: Strenuous', ' Difficulty:\\xa0STRENUOUS',\n",
       "       ' Difficulty: Easy', ' Difficulty: EASY-MODERATE',\n",
       "       '\\xa0Difficulty: EASY-MODERATE', '\\xa0Difficulty: EASY',\n",
       "       ' Difficulty: Moderate', ' Difficulty: STRENUOUS',\n",
       "       ' Difficulty: Easy to Moderate'], dtype=object)"
      ]
     },
     "execution_count": 29,
     "metadata": {},
     "output_type": "execute_result"
    }
   ],
   "source": [
    "df['Difficulty'].unique()"
   ]
  },
  {
   "cell_type": "code",
   "execution_count": 30,
   "id": "f69eac8a",
   "metadata": {},
   "outputs": [],
   "source": [
    "for x,y in df.iterrows():\n",
    "    y[3]=y[3].split(':')[1].strip().lower()"
   ]
  },
  {
   "cell_type": "code",
   "execution_count": 31,
   "id": "32c6bf0a",
   "metadata": {},
   "outputs": [
    {
     "data": {
      "text/plain": [
       "array(['easy', 'moderate', 'moderate – strenuous', 'strenuous',\n",
       "       'easy-moderate', 'easy to moderate'], dtype=object)"
      ]
     },
     "execution_count": 31,
     "metadata": {},
     "output_type": "execute_result"
    }
   ],
   "source": [
    "df['Difficulty'].unique()"
   ]
  },
  {
   "cell_type": "code",
   "execution_count": 32,
   "id": "1d600a49",
   "metadata": {},
   "outputs": [],
   "source": [
    "for x,y in df.iterrows():   \n",
    "\n",
    "    if df.loc[x,'Difficulty'] == 'easy':\n",
    "        df.loc[x,'Difficulty'] = 1\n",
    "    elif df.loc[x,'Difficulty'] == 'easy-moderate':\n",
    "        df.loc[x,'Difficulty'] = 1.5\n",
    "    elif df.loc[x,'Difficulty'] == 'easy to moderate':\n",
    "        df.loc[x,'Difficulty'] = 1.5\n",
    "    elif df.loc[x,'Difficulty'] == 'moderate':\n",
    "        df.loc[x,'Difficulty'] = 2\n",
    "    elif df.loc[x,'Difficulty'] == 'moderate - strenuous':\n",
    "        df.loc[x,'Difficulty'] = 2.5\n",
    "    elif df.loc[x,'Difficulty'] == 'strenuous':\n",
    "        df.loc[x,'Difficulty'] = 3\n",
    "        \n",
    "df.loc[2,'Difficulty'] = 2.5"
   ]
  },
  {
   "cell_type": "code",
   "execution_count": 33,
   "id": "b53ec9fe",
   "metadata": {},
   "outputs": [],
   "source": [
    "#Calico hills had it's value as '1.5 – 3.5'. According to it's description on the website, this is because \n",
    "#There are two differen't \"vesions\" of the trial. It's Distance is also set to '2-6'. However it is only given\n",
    "#One difficulty rating. Based on the the fact that I'm trying to find the correleation between distance,\n",
    "# average time and Difficult, it kind of making it a guessing game which of these pairs, average time 1.5 and \n",
    "# distance 2, or average time 3.5 and distance 6, are considered to be moderate. After some thought I decided\n",
    "# to simply remove the row rather than choosing to guess. We already have a small amount of total rows, however\n",
    "# one small lie means a lot more to a small set of data than it would mean to large set of data. \n",
    "\n",
    "df.drop(1, inplace = True)"
   ]
  },
  {
   "cell_type": "code",
   "execution_count": 41,
   "id": "d01505d2",
   "metadata": {},
   "outputs": [],
   "source": [
    "#Lastly we make sure all of our string values are turned to numerics. \n",
    "\n",
    "\n",
    "df['Average Time (hours)'] = pd.to_numeric(df['Average Time (hours)'])\n",
    "df['Distance (miles)'] = pd.to_numeric(df['Distance (miles)'])\n",
    "df['Difficulty'] = pd.to_numeric(df['Difficulty'])\n"
   ]
  },
  {
   "cell_type": "code",
   "execution_count": null,
   "id": "017f54b9",
   "metadata": {},
   "outputs": [],
   "source": []
  },
  {
   "cell_type": "code",
   "execution_count": 42,
   "id": "96365913",
   "metadata": {},
   "outputs": [
    {
     "name": "stdout",
     "output_type": "stream",
     "text": [
      "<class 'pandas.core.frame.DataFrame'>\n",
      "Int64Index: 30 entries, 0 to 30\n",
      "Data columns (total 4 columns):\n",
      " #   Column                Non-Null Count  Dtype  \n",
      "---  ------                --------------  -----  \n",
      " 0   Name                  30 non-null     object \n",
      " 1   Distance (miles)      30 non-null     float64\n",
      " 2   Average Time (hours)  30 non-null     float64\n",
      " 3   Difficulty            30 non-null     float64\n",
      "dtypes: float64(3), object(1)\n",
      "memory usage: 1.2+ KB\n"
     ]
    }
   ],
   "source": [
    "df.info()"
   ]
  },
  {
   "cell_type": "code",
   "execution_count": 60,
   "id": "8ebafe04",
   "metadata": {},
   "outputs": [
    {
     "data": {
      "text/html": [
       "<div>\n",
       "<style scoped>\n",
       "    .dataframe tbody tr th:only-of-type {\n",
       "        vertical-align: middle;\n",
       "    }\n",
       "\n",
       "    .dataframe tbody tr th {\n",
       "        vertical-align: top;\n",
       "    }\n",
       "\n",
       "    .dataframe thead th {\n",
       "        text-align: right;\n",
       "    }\n",
       "</style>\n",
       "<table border=\"1\" class=\"dataframe\">\n",
       "  <thead>\n",
       "    <tr style=\"text-align: right;\">\n",
       "      <th></th>\n",
       "      <th>Distance (miles)</th>\n",
       "      <th>Average Time (hours)</th>\n",
       "      <th>Difficulty</th>\n",
       "    </tr>\n",
       "  </thead>\n",
       "  <tbody>\n",
       "    <tr>\n",
       "      <th>count</th>\n",
       "      <td>30.000000</td>\n",
       "      <td>30.000000</td>\n",
       "      <td>30.000000</td>\n",
       "    </tr>\n",
       "    <tr>\n",
       "      <th>mean</th>\n",
       "      <td>3.603333</td>\n",
       "      <td>2.241667</td>\n",
       "      <td>1.933333</td>\n",
       "    </tr>\n",
       "    <tr>\n",
       "      <th>std</th>\n",
       "      <td>3.529040</td>\n",
       "      <td>1.430100</td>\n",
       "      <td>0.727932</td>\n",
       "    </tr>\n",
       "    <tr>\n",
       "      <th>min</th>\n",
       "      <td>0.200000</td>\n",
       "      <td>0.500000</td>\n",
       "      <td>1.000000</td>\n",
       "    </tr>\n",
       "    <tr>\n",
       "      <th>25%</th>\n",
       "      <td>1.625000</td>\n",
       "      <td>1.312500</td>\n",
       "      <td>1.500000</td>\n",
       "    </tr>\n",
       "    <tr>\n",
       "      <th>50%</th>\n",
       "      <td>2.400000</td>\n",
       "      <td>2.000000</td>\n",
       "      <td>2.000000</td>\n",
       "    </tr>\n",
       "    <tr>\n",
       "      <th>75%</th>\n",
       "      <td>4.000000</td>\n",
       "      <td>2.500000</td>\n",
       "      <td>2.375000</td>\n",
       "    </tr>\n",
       "    <tr>\n",
       "      <th>max</th>\n",
       "      <td>15.800000</td>\n",
       "      <td>6.000000</td>\n",
       "      <td>3.000000</td>\n",
       "    </tr>\n",
       "  </tbody>\n",
       "</table>\n",
       "</div>"
      ],
      "text/plain": [
       "       Distance (miles)  Average Time (hours)  Difficulty\n",
       "count         30.000000             30.000000   30.000000\n",
       "mean           3.603333              2.241667    1.933333\n",
       "std            3.529040              1.430100    0.727932\n",
       "min            0.200000              0.500000    1.000000\n",
       "25%            1.625000              1.312500    1.500000\n",
       "50%            2.400000              2.000000    2.000000\n",
       "75%            4.000000              2.500000    2.375000\n",
       "max           15.800000              6.000000    3.000000"
      ]
     },
     "execution_count": 60,
     "metadata": {},
     "output_type": "execute_result"
    }
   ],
   "source": [
    "df.describe()"
   ]
  },
  {
   "cell_type": "code",
   "execution_count": 62,
   "id": "93c7a3a0",
   "metadata": {},
   "outputs": [
    {
     "data": {
      "text/html": [
       "<div>\n",
       "<style scoped>\n",
       "    .dataframe tbody tr th:only-of-type {\n",
       "        vertical-align: middle;\n",
       "    }\n",
       "\n",
       "    .dataframe tbody tr th {\n",
       "        vertical-align: top;\n",
       "    }\n",
       "\n",
       "    .dataframe thead th {\n",
       "        text-align: right;\n",
       "    }\n",
       "</style>\n",
       "<table border=\"1\" class=\"dataframe\">\n",
       "  <thead>\n",
       "    <tr style=\"text-align: right;\">\n",
       "      <th></th>\n",
       "      <th>Distance (miles)</th>\n",
       "      <th>Average Time (hours)</th>\n",
       "      <th>Difficulty</th>\n",
       "    </tr>\n",
       "  </thead>\n",
       "  <tbody>\n",
       "    <tr>\n",
       "      <th>Distance (miles)</th>\n",
       "      <td>1.000000</td>\n",
       "      <td>0.944939</td>\n",
       "      <td>0.683999</td>\n",
       "    </tr>\n",
       "    <tr>\n",
       "      <th>Average Time (hours)</th>\n",
       "      <td>0.944939</td>\n",
       "      <td>1.000000</td>\n",
       "      <td>0.777865</td>\n",
       "    </tr>\n",
       "    <tr>\n",
       "      <th>Difficulty</th>\n",
       "      <td>0.683999</td>\n",
       "      <td>0.777865</td>\n",
       "      <td>1.000000</td>\n",
       "    </tr>\n",
       "  </tbody>\n",
       "</table>\n",
       "</div>"
      ],
      "text/plain": [
       "                      Distance (miles)  Average Time (hours)  Difficulty\n",
       "Distance (miles)              1.000000              0.944939    0.683999\n",
       "Average Time (hours)          0.944939              1.000000    0.777865\n",
       "Difficulty                    0.683999              0.777865    1.000000"
      ]
     },
     "execution_count": 62,
     "metadata": {},
     "output_type": "execute_result"
    }
   ],
   "source": [
    "df.corr()"
   ]
  },
  {
   "cell_type": "code",
   "execution_count": 64,
   "id": "f0ec43cd",
   "metadata": {},
   "outputs": [
    {
     "data": {
      "application/vnd.plotly.v1+json": {
       "config": {
        "plotlyServerURL": "https://plot.ly"
       },
       "data": [
        {
         "alignmentgroup": "True",
         "bingroup": "x",
         "hovertemplate": "Distance (miles)=%{x}<br>count=%{y}<extra></extra>",
         "legendgroup": "",
         "marker": {
          "color": "#636efa",
          "pattern": {
           "shape": ""
          }
         },
         "name": "",
         "offsetgroup": "",
         "orientation": "v",
         "showlegend": false,
         "type": "histogram",
         "x": [
          2,
          2.2,
          4.6,
          2.4,
          4,
          11.4,
          6.2,
          1.1,
          3.6,
          0.2,
          11.8,
          15.8,
          0.8,
          2,
          2.2,
          4,
          2.4,
          0.4,
          2.2,
          3.6,
          2,
          3,
          4.8,
          4,
          3.5,
          2.6,
          1.5,
          1.5,
          1.3,
          1
         ],
         "xaxis": "x",
         "yaxis": "y"
        }
       ],
       "layout": {
        "barmode": "relative",
        "legend": {
         "tracegroupgap": 0
        },
        "margin": {
         "t": 60
        },
        "template": {
         "data": {
          "bar": [
           {
            "error_x": {
             "color": "#2a3f5f"
            },
            "error_y": {
             "color": "#2a3f5f"
            },
            "marker": {
             "line": {
              "color": "#E5ECF6",
              "width": 0.5
             },
             "pattern": {
              "fillmode": "overlay",
              "size": 10,
              "solidity": 0.2
             }
            },
            "type": "bar"
           }
          ],
          "barpolar": [
           {
            "marker": {
             "line": {
              "color": "#E5ECF6",
              "width": 0.5
             },
             "pattern": {
              "fillmode": "overlay",
              "size": 10,
              "solidity": 0.2
             }
            },
            "type": "barpolar"
           }
          ],
          "carpet": [
           {
            "aaxis": {
             "endlinecolor": "#2a3f5f",
             "gridcolor": "white",
             "linecolor": "white",
             "minorgridcolor": "white",
             "startlinecolor": "#2a3f5f"
            },
            "baxis": {
             "endlinecolor": "#2a3f5f",
             "gridcolor": "white",
             "linecolor": "white",
             "minorgridcolor": "white",
             "startlinecolor": "#2a3f5f"
            },
            "type": "carpet"
           }
          ],
          "choropleth": [
           {
            "colorbar": {
             "outlinewidth": 0,
             "ticks": ""
            },
            "type": "choropleth"
           }
          ],
          "contour": [
           {
            "colorbar": {
             "outlinewidth": 0,
             "ticks": ""
            },
            "colorscale": [
             [
              0,
              "#0d0887"
             ],
             [
              0.1111111111111111,
              "#46039f"
             ],
             [
              0.2222222222222222,
              "#7201a8"
             ],
             [
              0.3333333333333333,
              "#9c179e"
             ],
             [
              0.4444444444444444,
              "#bd3786"
             ],
             [
              0.5555555555555556,
              "#d8576b"
             ],
             [
              0.6666666666666666,
              "#ed7953"
             ],
             [
              0.7777777777777778,
              "#fb9f3a"
             ],
             [
              0.8888888888888888,
              "#fdca26"
             ],
             [
              1,
              "#f0f921"
             ]
            ],
            "type": "contour"
           }
          ],
          "contourcarpet": [
           {
            "colorbar": {
             "outlinewidth": 0,
             "ticks": ""
            },
            "type": "contourcarpet"
           }
          ],
          "heatmap": [
           {
            "colorbar": {
             "outlinewidth": 0,
             "ticks": ""
            },
            "colorscale": [
             [
              0,
              "#0d0887"
             ],
             [
              0.1111111111111111,
              "#46039f"
             ],
             [
              0.2222222222222222,
              "#7201a8"
             ],
             [
              0.3333333333333333,
              "#9c179e"
             ],
             [
              0.4444444444444444,
              "#bd3786"
             ],
             [
              0.5555555555555556,
              "#d8576b"
             ],
             [
              0.6666666666666666,
              "#ed7953"
             ],
             [
              0.7777777777777778,
              "#fb9f3a"
             ],
             [
              0.8888888888888888,
              "#fdca26"
             ],
             [
              1,
              "#f0f921"
             ]
            ],
            "type": "heatmap"
           }
          ],
          "heatmapgl": [
           {
            "colorbar": {
             "outlinewidth": 0,
             "ticks": ""
            },
            "colorscale": [
             [
              0,
              "#0d0887"
             ],
             [
              0.1111111111111111,
              "#46039f"
             ],
             [
              0.2222222222222222,
              "#7201a8"
             ],
             [
              0.3333333333333333,
              "#9c179e"
             ],
             [
              0.4444444444444444,
              "#bd3786"
             ],
             [
              0.5555555555555556,
              "#d8576b"
             ],
             [
              0.6666666666666666,
              "#ed7953"
             ],
             [
              0.7777777777777778,
              "#fb9f3a"
             ],
             [
              0.8888888888888888,
              "#fdca26"
             ],
             [
              1,
              "#f0f921"
             ]
            ],
            "type": "heatmapgl"
           }
          ],
          "histogram": [
           {
            "marker": {
             "pattern": {
              "fillmode": "overlay",
              "size": 10,
              "solidity": 0.2
             }
            },
            "type": "histogram"
           }
          ],
          "histogram2d": [
           {
            "colorbar": {
             "outlinewidth": 0,
             "ticks": ""
            },
            "colorscale": [
             [
              0,
              "#0d0887"
             ],
             [
              0.1111111111111111,
              "#46039f"
             ],
             [
              0.2222222222222222,
              "#7201a8"
             ],
             [
              0.3333333333333333,
              "#9c179e"
             ],
             [
              0.4444444444444444,
              "#bd3786"
             ],
             [
              0.5555555555555556,
              "#d8576b"
             ],
             [
              0.6666666666666666,
              "#ed7953"
             ],
             [
              0.7777777777777778,
              "#fb9f3a"
             ],
             [
              0.8888888888888888,
              "#fdca26"
             ],
             [
              1,
              "#f0f921"
             ]
            ],
            "type": "histogram2d"
           }
          ],
          "histogram2dcontour": [
           {
            "colorbar": {
             "outlinewidth": 0,
             "ticks": ""
            },
            "colorscale": [
             [
              0,
              "#0d0887"
             ],
             [
              0.1111111111111111,
              "#46039f"
             ],
             [
              0.2222222222222222,
              "#7201a8"
             ],
             [
              0.3333333333333333,
              "#9c179e"
             ],
             [
              0.4444444444444444,
              "#bd3786"
             ],
             [
              0.5555555555555556,
              "#d8576b"
             ],
             [
              0.6666666666666666,
              "#ed7953"
             ],
             [
              0.7777777777777778,
              "#fb9f3a"
             ],
             [
              0.8888888888888888,
              "#fdca26"
             ],
             [
              1,
              "#f0f921"
             ]
            ],
            "type": "histogram2dcontour"
           }
          ],
          "mesh3d": [
           {
            "colorbar": {
             "outlinewidth": 0,
             "ticks": ""
            },
            "type": "mesh3d"
           }
          ],
          "parcoords": [
           {
            "line": {
             "colorbar": {
              "outlinewidth": 0,
              "ticks": ""
             }
            },
            "type": "parcoords"
           }
          ],
          "pie": [
           {
            "automargin": true,
            "type": "pie"
           }
          ],
          "scatter": [
           {
            "marker": {
             "colorbar": {
              "outlinewidth": 0,
              "ticks": ""
             }
            },
            "type": "scatter"
           }
          ],
          "scatter3d": [
           {
            "line": {
             "colorbar": {
              "outlinewidth": 0,
              "ticks": ""
             }
            },
            "marker": {
             "colorbar": {
              "outlinewidth": 0,
              "ticks": ""
             }
            },
            "type": "scatter3d"
           }
          ],
          "scattercarpet": [
           {
            "marker": {
             "colorbar": {
              "outlinewidth": 0,
              "ticks": ""
             }
            },
            "type": "scattercarpet"
           }
          ],
          "scattergeo": [
           {
            "marker": {
             "colorbar": {
              "outlinewidth": 0,
              "ticks": ""
             }
            },
            "type": "scattergeo"
           }
          ],
          "scattergl": [
           {
            "marker": {
             "colorbar": {
              "outlinewidth": 0,
              "ticks": ""
             }
            },
            "type": "scattergl"
           }
          ],
          "scattermapbox": [
           {
            "marker": {
             "colorbar": {
              "outlinewidth": 0,
              "ticks": ""
             }
            },
            "type": "scattermapbox"
           }
          ],
          "scatterpolar": [
           {
            "marker": {
             "colorbar": {
              "outlinewidth": 0,
              "ticks": ""
             }
            },
            "type": "scatterpolar"
           }
          ],
          "scatterpolargl": [
           {
            "marker": {
             "colorbar": {
              "outlinewidth": 0,
              "ticks": ""
             }
            },
            "type": "scatterpolargl"
           }
          ],
          "scatterternary": [
           {
            "marker": {
             "colorbar": {
              "outlinewidth": 0,
              "ticks": ""
             }
            },
            "type": "scatterternary"
           }
          ],
          "surface": [
           {
            "colorbar": {
             "outlinewidth": 0,
             "ticks": ""
            },
            "colorscale": [
             [
              0,
              "#0d0887"
             ],
             [
              0.1111111111111111,
              "#46039f"
             ],
             [
              0.2222222222222222,
              "#7201a8"
             ],
             [
              0.3333333333333333,
              "#9c179e"
             ],
             [
              0.4444444444444444,
              "#bd3786"
             ],
             [
              0.5555555555555556,
              "#d8576b"
             ],
             [
              0.6666666666666666,
              "#ed7953"
             ],
             [
              0.7777777777777778,
              "#fb9f3a"
             ],
             [
              0.8888888888888888,
              "#fdca26"
             ],
             [
              1,
              "#f0f921"
             ]
            ],
            "type": "surface"
           }
          ],
          "table": [
           {
            "cells": {
             "fill": {
              "color": "#EBF0F8"
             },
             "line": {
              "color": "white"
             }
            },
            "header": {
             "fill": {
              "color": "#C8D4E3"
             },
             "line": {
              "color": "white"
             }
            },
            "type": "table"
           }
          ]
         },
         "layout": {
          "annotationdefaults": {
           "arrowcolor": "#2a3f5f",
           "arrowhead": 0,
           "arrowwidth": 1
          },
          "autotypenumbers": "strict",
          "coloraxis": {
           "colorbar": {
            "outlinewidth": 0,
            "ticks": ""
           }
          },
          "colorscale": {
           "diverging": [
            [
             0,
             "#8e0152"
            ],
            [
             0.1,
             "#c51b7d"
            ],
            [
             0.2,
             "#de77ae"
            ],
            [
             0.3,
             "#f1b6da"
            ],
            [
             0.4,
             "#fde0ef"
            ],
            [
             0.5,
             "#f7f7f7"
            ],
            [
             0.6,
             "#e6f5d0"
            ],
            [
             0.7,
             "#b8e186"
            ],
            [
             0.8,
             "#7fbc41"
            ],
            [
             0.9,
             "#4d9221"
            ],
            [
             1,
             "#276419"
            ]
           ],
           "sequential": [
            [
             0,
             "#0d0887"
            ],
            [
             0.1111111111111111,
             "#46039f"
            ],
            [
             0.2222222222222222,
             "#7201a8"
            ],
            [
             0.3333333333333333,
             "#9c179e"
            ],
            [
             0.4444444444444444,
             "#bd3786"
            ],
            [
             0.5555555555555556,
             "#d8576b"
            ],
            [
             0.6666666666666666,
             "#ed7953"
            ],
            [
             0.7777777777777778,
             "#fb9f3a"
            ],
            [
             0.8888888888888888,
             "#fdca26"
            ],
            [
             1,
             "#f0f921"
            ]
           ],
           "sequentialminus": [
            [
             0,
             "#0d0887"
            ],
            [
             0.1111111111111111,
             "#46039f"
            ],
            [
             0.2222222222222222,
             "#7201a8"
            ],
            [
             0.3333333333333333,
             "#9c179e"
            ],
            [
             0.4444444444444444,
             "#bd3786"
            ],
            [
             0.5555555555555556,
             "#d8576b"
            ],
            [
             0.6666666666666666,
             "#ed7953"
            ],
            [
             0.7777777777777778,
             "#fb9f3a"
            ],
            [
             0.8888888888888888,
             "#fdca26"
            ],
            [
             1,
             "#f0f921"
            ]
           ]
          },
          "colorway": [
           "#636efa",
           "#EF553B",
           "#00cc96",
           "#ab63fa",
           "#FFA15A",
           "#19d3f3",
           "#FF6692",
           "#B6E880",
           "#FF97FF",
           "#FECB52"
          ],
          "font": {
           "color": "#2a3f5f"
          },
          "geo": {
           "bgcolor": "white",
           "lakecolor": "white",
           "landcolor": "#E5ECF6",
           "showlakes": true,
           "showland": true,
           "subunitcolor": "white"
          },
          "hoverlabel": {
           "align": "left"
          },
          "hovermode": "closest",
          "mapbox": {
           "style": "light"
          },
          "paper_bgcolor": "white",
          "plot_bgcolor": "#E5ECF6",
          "polar": {
           "angularaxis": {
            "gridcolor": "white",
            "linecolor": "white",
            "ticks": ""
           },
           "bgcolor": "#E5ECF6",
           "radialaxis": {
            "gridcolor": "white",
            "linecolor": "white",
            "ticks": ""
           }
          },
          "scene": {
           "xaxis": {
            "backgroundcolor": "#E5ECF6",
            "gridcolor": "white",
            "gridwidth": 2,
            "linecolor": "white",
            "showbackground": true,
            "ticks": "",
            "zerolinecolor": "white"
           },
           "yaxis": {
            "backgroundcolor": "#E5ECF6",
            "gridcolor": "white",
            "gridwidth": 2,
            "linecolor": "white",
            "showbackground": true,
            "ticks": "",
            "zerolinecolor": "white"
           },
           "zaxis": {
            "backgroundcolor": "#E5ECF6",
            "gridcolor": "white",
            "gridwidth": 2,
            "linecolor": "white",
            "showbackground": true,
            "ticks": "",
            "zerolinecolor": "white"
           }
          },
          "shapedefaults": {
           "line": {
            "color": "#2a3f5f"
           }
          },
          "ternary": {
           "aaxis": {
            "gridcolor": "white",
            "linecolor": "white",
            "ticks": ""
           },
           "baxis": {
            "gridcolor": "white",
            "linecolor": "white",
            "ticks": ""
           },
           "bgcolor": "#E5ECF6",
           "caxis": {
            "gridcolor": "white",
            "linecolor": "white",
            "ticks": ""
           }
          },
          "title": {
           "x": 0.05
          },
          "xaxis": {
           "automargin": true,
           "gridcolor": "white",
           "linecolor": "white",
           "ticks": "",
           "title": {
            "standoff": 15
           },
           "zerolinecolor": "white",
           "zerolinewidth": 2
          },
          "yaxis": {
           "automargin": true,
           "gridcolor": "white",
           "linecolor": "white",
           "ticks": "",
           "title": {
            "standoff": 15
           },
           "zerolinecolor": "white",
           "zerolinewidth": 2
          }
         }
        },
        "xaxis": {
         "anchor": "y",
         "domain": [
          0,
          1
         ],
         "title": {
          "text": "Distance (miles)"
         }
        },
        "yaxis": {
         "anchor": "x",
         "domain": [
          0,
          1
         ],
         "title": {
          "text": "count"
         }
        }
       }
      },
      "text/html": [
       "<div>                            <div id=\"19791167-79e2-4644-9453-1ba5922f7105\" class=\"plotly-graph-div\" style=\"height:525px; width:100%;\"></div>            <script type=\"text/javascript\">                require([\"plotly\"], function(Plotly) {                    window.PLOTLYENV=window.PLOTLYENV || {};                                    if (document.getElementById(\"19791167-79e2-4644-9453-1ba5922f7105\")) {                    Plotly.newPlot(                        \"19791167-79e2-4644-9453-1ba5922f7105\",                        [{\"alignmentgroup\":\"True\",\"bingroup\":\"x\",\"hovertemplate\":\"Distance (miles)=%{x}<br>count=%{y}<extra></extra>\",\"legendgroup\":\"\",\"marker\":{\"color\":\"#636efa\",\"pattern\":{\"shape\":\"\"}},\"name\":\"\",\"offsetgroup\":\"\",\"orientation\":\"v\",\"showlegend\":false,\"type\":\"histogram\",\"x\":[2.0,2.2,4.6,2.4,4.0,11.4,6.2,1.1,3.6,0.2,11.8,15.8,0.8,2.0,2.2,4.0,2.4,0.4,2.2,3.6,2.0,3.0,4.8,4.0,3.5,2.6,1.5,1.5,1.3,1.0],\"xaxis\":\"x\",\"yaxis\":\"y\"}],                        {\"barmode\":\"relative\",\"legend\":{\"tracegroupgap\":0},\"margin\":{\"t\":60},\"template\":{\"data\":{\"bar\":[{\"error_x\":{\"color\":\"#2a3f5f\"},\"error_y\":{\"color\":\"#2a3f5f\"},\"marker\":{\"line\":{\"color\":\"#E5ECF6\",\"width\":0.5},\"pattern\":{\"fillmode\":\"overlay\",\"size\":10,\"solidity\":0.2}},\"type\":\"bar\"}],\"barpolar\":[{\"marker\":{\"line\":{\"color\":\"#E5ECF6\",\"width\":0.5},\"pattern\":{\"fillmode\":\"overlay\",\"size\":10,\"solidity\":0.2}},\"type\":\"barpolar\"}],\"carpet\":[{\"aaxis\":{\"endlinecolor\":\"#2a3f5f\",\"gridcolor\":\"white\",\"linecolor\":\"white\",\"minorgridcolor\":\"white\",\"startlinecolor\":\"#2a3f5f\"},\"baxis\":{\"endlinecolor\":\"#2a3f5f\",\"gridcolor\":\"white\",\"linecolor\":\"white\",\"minorgridcolor\":\"white\",\"startlinecolor\":\"#2a3f5f\"},\"type\":\"carpet\"}],\"choropleth\":[{\"colorbar\":{\"outlinewidth\":0,\"ticks\":\"\"},\"type\":\"choropleth\"}],\"contour\":[{\"colorbar\":{\"outlinewidth\":0,\"ticks\":\"\"},\"colorscale\":[[0.0,\"#0d0887\"],[0.1111111111111111,\"#46039f\"],[0.2222222222222222,\"#7201a8\"],[0.3333333333333333,\"#9c179e\"],[0.4444444444444444,\"#bd3786\"],[0.5555555555555556,\"#d8576b\"],[0.6666666666666666,\"#ed7953\"],[0.7777777777777778,\"#fb9f3a\"],[0.8888888888888888,\"#fdca26\"],[1.0,\"#f0f921\"]],\"type\":\"contour\"}],\"contourcarpet\":[{\"colorbar\":{\"outlinewidth\":0,\"ticks\":\"\"},\"type\":\"contourcarpet\"}],\"heatmap\":[{\"colorbar\":{\"outlinewidth\":0,\"ticks\":\"\"},\"colorscale\":[[0.0,\"#0d0887\"],[0.1111111111111111,\"#46039f\"],[0.2222222222222222,\"#7201a8\"],[0.3333333333333333,\"#9c179e\"],[0.4444444444444444,\"#bd3786\"],[0.5555555555555556,\"#d8576b\"],[0.6666666666666666,\"#ed7953\"],[0.7777777777777778,\"#fb9f3a\"],[0.8888888888888888,\"#fdca26\"],[1.0,\"#f0f921\"]],\"type\":\"heatmap\"}],\"heatmapgl\":[{\"colorbar\":{\"outlinewidth\":0,\"ticks\":\"\"},\"colorscale\":[[0.0,\"#0d0887\"],[0.1111111111111111,\"#46039f\"],[0.2222222222222222,\"#7201a8\"],[0.3333333333333333,\"#9c179e\"],[0.4444444444444444,\"#bd3786\"],[0.5555555555555556,\"#d8576b\"],[0.6666666666666666,\"#ed7953\"],[0.7777777777777778,\"#fb9f3a\"],[0.8888888888888888,\"#fdca26\"],[1.0,\"#f0f921\"]],\"type\":\"heatmapgl\"}],\"histogram\":[{\"marker\":{\"pattern\":{\"fillmode\":\"overlay\",\"size\":10,\"solidity\":0.2}},\"type\":\"histogram\"}],\"histogram2d\":[{\"colorbar\":{\"outlinewidth\":0,\"ticks\":\"\"},\"colorscale\":[[0.0,\"#0d0887\"],[0.1111111111111111,\"#46039f\"],[0.2222222222222222,\"#7201a8\"],[0.3333333333333333,\"#9c179e\"],[0.4444444444444444,\"#bd3786\"],[0.5555555555555556,\"#d8576b\"],[0.6666666666666666,\"#ed7953\"],[0.7777777777777778,\"#fb9f3a\"],[0.8888888888888888,\"#fdca26\"],[1.0,\"#f0f921\"]],\"type\":\"histogram2d\"}],\"histogram2dcontour\":[{\"colorbar\":{\"outlinewidth\":0,\"ticks\":\"\"},\"colorscale\":[[0.0,\"#0d0887\"],[0.1111111111111111,\"#46039f\"],[0.2222222222222222,\"#7201a8\"],[0.3333333333333333,\"#9c179e\"],[0.4444444444444444,\"#bd3786\"],[0.5555555555555556,\"#d8576b\"],[0.6666666666666666,\"#ed7953\"],[0.7777777777777778,\"#fb9f3a\"],[0.8888888888888888,\"#fdca26\"],[1.0,\"#f0f921\"]],\"type\":\"histogram2dcontour\"}],\"mesh3d\":[{\"colorbar\":{\"outlinewidth\":0,\"ticks\":\"\"},\"type\":\"mesh3d\"}],\"parcoords\":[{\"line\":{\"colorbar\":{\"outlinewidth\":0,\"ticks\":\"\"}},\"type\":\"parcoords\"}],\"pie\":[{\"automargin\":true,\"type\":\"pie\"}],\"scatter\":[{\"marker\":{\"colorbar\":{\"outlinewidth\":0,\"ticks\":\"\"}},\"type\":\"scatter\"}],\"scatter3d\":[{\"line\":{\"colorbar\":{\"outlinewidth\":0,\"ticks\":\"\"}},\"marker\":{\"colorbar\":{\"outlinewidth\":0,\"ticks\":\"\"}},\"type\":\"scatter3d\"}],\"scattercarpet\":[{\"marker\":{\"colorbar\":{\"outlinewidth\":0,\"ticks\":\"\"}},\"type\":\"scattercarpet\"}],\"scattergeo\":[{\"marker\":{\"colorbar\":{\"outlinewidth\":0,\"ticks\":\"\"}},\"type\":\"scattergeo\"}],\"scattergl\":[{\"marker\":{\"colorbar\":{\"outlinewidth\":0,\"ticks\":\"\"}},\"type\":\"scattergl\"}],\"scattermapbox\":[{\"marker\":{\"colorbar\":{\"outlinewidth\":0,\"ticks\":\"\"}},\"type\":\"scattermapbox\"}],\"scatterpolar\":[{\"marker\":{\"colorbar\":{\"outlinewidth\":0,\"ticks\":\"\"}},\"type\":\"scatterpolar\"}],\"scatterpolargl\":[{\"marker\":{\"colorbar\":{\"outlinewidth\":0,\"ticks\":\"\"}},\"type\":\"scatterpolargl\"}],\"scatterternary\":[{\"marker\":{\"colorbar\":{\"outlinewidth\":0,\"ticks\":\"\"}},\"type\":\"scatterternary\"}],\"surface\":[{\"colorbar\":{\"outlinewidth\":0,\"ticks\":\"\"},\"colorscale\":[[0.0,\"#0d0887\"],[0.1111111111111111,\"#46039f\"],[0.2222222222222222,\"#7201a8\"],[0.3333333333333333,\"#9c179e\"],[0.4444444444444444,\"#bd3786\"],[0.5555555555555556,\"#d8576b\"],[0.6666666666666666,\"#ed7953\"],[0.7777777777777778,\"#fb9f3a\"],[0.8888888888888888,\"#fdca26\"],[1.0,\"#f0f921\"]],\"type\":\"surface\"}],\"table\":[{\"cells\":{\"fill\":{\"color\":\"#EBF0F8\"},\"line\":{\"color\":\"white\"}},\"header\":{\"fill\":{\"color\":\"#C8D4E3\"},\"line\":{\"color\":\"white\"}},\"type\":\"table\"}]},\"layout\":{\"annotationdefaults\":{\"arrowcolor\":\"#2a3f5f\",\"arrowhead\":0,\"arrowwidth\":1},\"autotypenumbers\":\"strict\",\"coloraxis\":{\"colorbar\":{\"outlinewidth\":0,\"ticks\":\"\"}},\"colorscale\":{\"diverging\":[[0,\"#8e0152\"],[0.1,\"#c51b7d\"],[0.2,\"#de77ae\"],[0.3,\"#f1b6da\"],[0.4,\"#fde0ef\"],[0.5,\"#f7f7f7\"],[0.6,\"#e6f5d0\"],[0.7,\"#b8e186\"],[0.8,\"#7fbc41\"],[0.9,\"#4d9221\"],[1,\"#276419\"]],\"sequential\":[[0.0,\"#0d0887\"],[0.1111111111111111,\"#46039f\"],[0.2222222222222222,\"#7201a8\"],[0.3333333333333333,\"#9c179e\"],[0.4444444444444444,\"#bd3786\"],[0.5555555555555556,\"#d8576b\"],[0.6666666666666666,\"#ed7953\"],[0.7777777777777778,\"#fb9f3a\"],[0.8888888888888888,\"#fdca26\"],[1.0,\"#f0f921\"]],\"sequentialminus\":[[0.0,\"#0d0887\"],[0.1111111111111111,\"#46039f\"],[0.2222222222222222,\"#7201a8\"],[0.3333333333333333,\"#9c179e\"],[0.4444444444444444,\"#bd3786\"],[0.5555555555555556,\"#d8576b\"],[0.6666666666666666,\"#ed7953\"],[0.7777777777777778,\"#fb9f3a\"],[0.8888888888888888,\"#fdca26\"],[1.0,\"#f0f921\"]]},\"colorway\":[\"#636efa\",\"#EF553B\",\"#00cc96\",\"#ab63fa\",\"#FFA15A\",\"#19d3f3\",\"#FF6692\",\"#B6E880\",\"#FF97FF\",\"#FECB52\"],\"font\":{\"color\":\"#2a3f5f\"},\"geo\":{\"bgcolor\":\"white\",\"lakecolor\":\"white\",\"landcolor\":\"#E5ECF6\",\"showlakes\":true,\"showland\":true,\"subunitcolor\":\"white\"},\"hoverlabel\":{\"align\":\"left\"},\"hovermode\":\"closest\",\"mapbox\":{\"style\":\"light\"},\"paper_bgcolor\":\"white\",\"plot_bgcolor\":\"#E5ECF6\",\"polar\":{\"angularaxis\":{\"gridcolor\":\"white\",\"linecolor\":\"white\",\"ticks\":\"\"},\"bgcolor\":\"#E5ECF6\",\"radialaxis\":{\"gridcolor\":\"white\",\"linecolor\":\"white\",\"ticks\":\"\"}},\"scene\":{\"xaxis\":{\"backgroundcolor\":\"#E5ECF6\",\"gridcolor\":\"white\",\"gridwidth\":2,\"linecolor\":\"white\",\"showbackground\":true,\"ticks\":\"\",\"zerolinecolor\":\"white\"},\"yaxis\":{\"backgroundcolor\":\"#E5ECF6\",\"gridcolor\":\"white\",\"gridwidth\":2,\"linecolor\":\"white\",\"showbackground\":true,\"ticks\":\"\",\"zerolinecolor\":\"white\"},\"zaxis\":{\"backgroundcolor\":\"#E5ECF6\",\"gridcolor\":\"white\",\"gridwidth\":2,\"linecolor\":\"white\",\"showbackground\":true,\"ticks\":\"\",\"zerolinecolor\":\"white\"}},\"shapedefaults\":{\"line\":{\"color\":\"#2a3f5f\"}},\"ternary\":{\"aaxis\":{\"gridcolor\":\"white\",\"linecolor\":\"white\",\"ticks\":\"\"},\"baxis\":{\"gridcolor\":\"white\",\"linecolor\":\"white\",\"ticks\":\"\"},\"bgcolor\":\"#E5ECF6\",\"caxis\":{\"gridcolor\":\"white\",\"linecolor\":\"white\",\"ticks\":\"\"}},\"title\":{\"x\":0.05},\"xaxis\":{\"automargin\":true,\"gridcolor\":\"white\",\"linecolor\":\"white\",\"ticks\":\"\",\"title\":{\"standoff\":15},\"zerolinecolor\":\"white\",\"zerolinewidth\":2},\"yaxis\":{\"automargin\":true,\"gridcolor\":\"white\",\"linecolor\":\"white\",\"ticks\":\"\",\"title\":{\"standoff\":15},\"zerolinecolor\":\"white\",\"zerolinewidth\":2}}},\"xaxis\":{\"anchor\":\"y\",\"domain\":[0.0,1.0],\"title\":{\"text\":\"Distance (miles)\"}},\"yaxis\":{\"anchor\":\"x\",\"domain\":[0.0,1.0],\"title\":{\"text\":\"count\"}}},                        {\"responsive\": true}                    ).then(function(){\n",
       "                            \n",
       "var gd = document.getElementById('19791167-79e2-4644-9453-1ba5922f7105');\n",
       "var x = new MutationObserver(function (mutations, observer) {{\n",
       "        var display = window.getComputedStyle(gd).display;\n",
       "        if (!display || display === 'none') {{\n",
       "            console.log([gd, 'removed!']);\n",
       "            Plotly.purge(gd);\n",
       "            observer.disconnect();\n",
       "        }}\n",
       "}});\n",
       "\n",
       "// Listen for the removal of the full notebook cells\n",
       "var notebookContainer = gd.closest('#notebook-container');\n",
       "if (notebookContainer) {{\n",
       "    x.observe(notebookContainer, {childList: true});\n",
       "}}\n",
       "\n",
       "// Listen for the clearing of the current output cell\n",
       "var outputEl = gd.closest('.output');\n",
       "if (outputEl) {{\n",
       "    x.observe(outputEl, {childList: true});\n",
       "}}\n",
       "\n",
       "                        })                };                });            </script>        </div>"
      ]
     },
     "metadata": {},
     "output_type": "display_data"
    }
   ],
   "source": [
    "px.histogram(df, x = \"Distance (miles)\")"
   ]
  },
  {
   "cell_type": "code",
   "execution_count": 65,
   "id": "9fbc7b83",
   "metadata": {},
   "outputs": [
    {
     "data": {
      "application/vnd.plotly.v1+json": {
       "config": {
        "plotlyServerURL": "https://plot.ly"
       },
       "data": [
        {
         "alignmentgroup": "True",
         "bingroup": "x",
         "hovertemplate": "Average Time (hours)=%{x}<br>count=%{y}<extra></extra>",
         "legendgroup": "",
         "marker": {
          "color": "#636efa",
          "pattern": {
           "shape": ""
          }
         },
         "name": "",
         "offsetgroup": "",
         "orientation": "v",
         "showlegend": false,
         "type": "histogram",
         "x": [
          1.5,
          2,
          3.5,
          1.5,
          2.5,
          6,
          3.5,
          1.25,
          2,
          0.5,
          5,
          6,
          1,
          2,
          2,
          2.5,
          2,
          1,
          1.5,
          2.5,
          1.5,
          3,
          3.5,
          2,
          2.5,
          1.5,
          1,
          1,
          1,
          0.5
         ],
         "xaxis": "x",
         "yaxis": "y"
        }
       ],
       "layout": {
        "barmode": "relative",
        "legend": {
         "tracegroupgap": 0
        },
        "margin": {
         "t": 60
        },
        "template": {
         "data": {
          "bar": [
           {
            "error_x": {
             "color": "#2a3f5f"
            },
            "error_y": {
             "color": "#2a3f5f"
            },
            "marker": {
             "line": {
              "color": "#E5ECF6",
              "width": 0.5
             },
             "pattern": {
              "fillmode": "overlay",
              "size": 10,
              "solidity": 0.2
             }
            },
            "type": "bar"
           }
          ],
          "barpolar": [
           {
            "marker": {
             "line": {
              "color": "#E5ECF6",
              "width": 0.5
             },
             "pattern": {
              "fillmode": "overlay",
              "size": 10,
              "solidity": 0.2
             }
            },
            "type": "barpolar"
           }
          ],
          "carpet": [
           {
            "aaxis": {
             "endlinecolor": "#2a3f5f",
             "gridcolor": "white",
             "linecolor": "white",
             "minorgridcolor": "white",
             "startlinecolor": "#2a3f5f"
            },
            "baxis": {
             "endlinecolor": "#2a3f5f",
             "gridcolor": "white",
             "linecolor": "white",
             "minorgridcolor": "white",
             "startlinecolor": "#2a3f5f"
            },
            "type": "carpet"
           }
          ],
          "choropleth": [
           {
            "colorbar": {
             "outlinewidth": 0,
             "ticks": ""
            },
            "type": "choropleth"
           }
          ],
          "contour": [
           {
            "colorbar": {
             "outlinewidth": 0,
             "ticks": ""
            },
            "colorscale": [
             [
              0,
              "#0d0887"
             ],
             [
              0.1111111111111111,
              "#46039f"
             ],
             [
              0.2222222222222222,
              "#7201a8"
             ],
             [
              0.3333333333333333,
              "#9c179e"
             ],
             [
              0.4444444444444444,
              "#bd3786"
             ],
             [
              0.5555555555555556,
              "#d8576b"
             ],
             [
              0.6666666666666666,
              "#ed7953"
             ],
             [
              0.7777777777777778,
              "#fb9f3a"
             ],
             [
              0.8888888888888888,
              "#fdca26"
             ],
             [
              1,
              "#f0f921"
             ]
            ],
            "type": "contour"
           }
          ],
          "contourcarpet": [
           {
            "colorbar": {
             "outlinewidth": 0,
             "ticks": ""
            },
            "type": "contourcarpet"
           }
          ],
          "heatmap": [
           {
            "colorbar": {
             "outlinewidth": 0,
             "ticks": ""
            },
            "colorscale": [
             [
              0,
              "#0d0887"
             ],
             [
              0.1111111111111111,
              "#46039f"
             ],
             [
              0.2222222222222222,
              "#7201a8"
             ],
             [
              0.3333333333333333,
              "#9c179e"
             ],
             [
              0.4444444444444444,
              "#bd3786"
             ],
             [
              0.5555555555555556,
              "#d8576b"
             ],
             [
              0.6666666666666666,
              "#ed7953"
             ],
             [
              0.7777777777777778,
              "#fb9f3a"
             ],
             [
              0.8888888888888888,
              "#fdca26"
             ],
             [
              1,
              "#f0f921"
             ]
            ],
            "type": "heatmap"
           }
          ],
          "heatmapgl": [
           {
            "colorbar": {
             "outlinewidth": 0,
             "ticks": ""
            },
            "colorscale": [
             [
              0,
              "#0d0887"
             ],
             [
              0.1111111111111111,
              "#46039f"
             ],
             [
              0.2222222222222222,
              "#7201a8"
             ],
             [
              0.3333333333333333,
              "#9c179e"
             ],
             [
              0.4444444444444444,
              "#bd3786"
             ],
             [
              0.5555555555555556,
              "#d8576b"
             ],
             [
              0.6666666666666666,
              "#ed7953"
             ],
             [
              0.7777777777777778,
              "#fb9f3a"
             ],
             [
              0.8888888888888888,
              "#fdca26"
             ],
             [
              1,
              "#f0f921"
             ]
            ],
            "type": "heatmapgl"
           }
          ],
          "histogram": [
           {
            "marker": {
             "pattern": {
              "fillmode": "overlay",
              "size": 10,
              "solidity": 0.2
             }
            },
            "type": "histogram"
           }
          ],
          "histogram2d": [
           {
            "colorbar": {
             "outlinewidth": 0,
             "ticks": ""
            },
            "colorscale": [
             [
              0,
              "#0d0887"
             ],
             [
              0.1111111111111111,
              "#46039f"
             ],
             [
              0.2222222222222222,
              "#7201a8"
             ],
             [
              0.3333333333333333,
              "#9c179e"
             ],
             [
              0.4444444444444444,
              "#bd3786"
             ],
             [
              0.5555555555555556,
              "#d8576b"
             ],
             [
              0.6666666666666666,
              "#ed7953"
             ],
             [
              0.7777777777777778,
              "#fb9f3a"
             ],
             [
              0.8888888888888888,
              "#fdca26"
             ],
             [
              1,
              "#f0f921"
             ]
            ],
            "type": "histogram2d"
           }
          ],
          "histogram2dcontour": [
           {
            "colorbar": {
             "outlinewidth": 0,
             "ticks": ""
            },
            "colorscale": [
             [
              0,
              "#0d0887"
             ],
             [
              0.1111111111111111,
              "#46039f"
             ],
             [
              0.2222222222222222,
              "#7201a8"
             ],
             [
              0.3333333333333333,
              "#9c179e"
             ],
             [
              0.4444444444444444,
              "#bd3786"
             ],
             [
              0.5555555555555556,
              "#d8576b"
             ],
             [
              0.6666666666666666,
              "#ed7953"
             ],
             [
              0.7777777777777778,
              "#fb9f3a"
             ],
             [
              0.8888888888888888,
              "#fdca26"
             ],
             [
              1,
              "#f0f921"
             ]
            ],
            "type": "histogram2dcontour"
           }
          ],
          "mesh3d": [
           {
            "colorbar": {
             "outlinewidth": 0,
             "ticks": ""
            },
            "type": "mesh3d"
           }
          ],
          "parcoords": [
           {
            "line": {
             "colorbar": {
              "outlinewidth": 0,
              "ticks": ""
             }
            },
            "type": "parcoords"
           }
          ],
          "pie": [
           {
            "automargin": true,
            "type": "pie"
           }
          ],
          "scatter": [
           {
            "marker": {
             "colorbar": {
              "outlinewidth": 0,
              "ticks": ""
             }
            },
            "type": "scatter"
           }
          ],
          "scatter3d": [
           {
            "line": {
             "colorbar": {
              "outlinewidth": 0,
              "ticks": ""
             }
            },
            "marker": {
             "colorbar": {
              "outlinewidth": 0,
              "ticks": ""
             }
            },
            "type": "scatter3d"
           }
          ],
          "scattercarpet": [
           {
            "marker": {
             "colorbar": {
              "outlinewidth": 0,
              "ticks": ""
             }
            },
            "type": "scattercarpet"
           }
          ],
          "scattergeo": [
           {
            "marker": {
             "colorbar": {
              "outlinewidth": 0,
              "ticks": ""
             }
            },
            "type": "scattergeo"
           }
          ],
          "scattergl": [
           {
            "marker": {
             "colorbar": {
              "outlinewidth": 0,
              "ticks": ""
             }
            },
            "type": "scattergl"
           }
          ],
          "scattermapbox": [
           {
            "marker": {
             "colorbar": {
              "outlinewidth": 0,
              "ticks": ""
             }
            },
            "type": "scattermapbox"
           }
          ],
          "scatterpolar": [
           {
            "marker": {
             "colorbar": {
              "outlinewidth": 0,
              "ticks": ""
             }
            },
            "type": "scatterpolar"
           }
          ],
          "scatterpolargl": [
           {
            "marker": {
             "colorbar": {
              "outlinewidth": 0,
              "ticks": ""
             }
            },
            "type": "scatterpolargl"
           }
          ],
          "scatterternary": [
           {
            "marker": {
             "colorbar": {
              "outlinewidth": 0,
              "ticks": ""
             }
            },
            "type": "scatterternary"
           }
          ],
          "surface": [
           {
            "colorbar": {
             "outlinewidth": 0,
             "ticks": ""
            },
            "colorscale": [
             [
              0,
              "#0d0887"
             ],
             [
              0.1111111111111111,
              "#46039f"
             ],
             [
              0.2222222222222222,
              "#7201a8"
             ],
             [
              0.3333333333333333,
              "#9c179e"
             ],
             [
              0.4444444444444444,
              "#bd3786"
             ],
             [
              0.5555555555555556,
              "#d8576b"
             ],
             [
              0.6666666666666666,
              "#ed7953"
             ],
             [
              0.7777777777777778,
              "#fb9f3a"
             ],
             [
              0.8888888888888888,
              "#fdca26"
             ],
             [
              1,
              "#f0f921"
             ]
            ],
            "type": "surface"
           }
          ],
          "table": [
           {
            "cells": {
             "fill": {
              "color": "#EBF0F8"
             },
             "line": {
              "color": "white"
             }
            },
            "header": {
             "fill": {
              "color": "#C8D4E3"
             },
             "line": {
              "color": "white"
             }
            },
            "type": "table"
           }
          ]
         },
         "layout": {
          "annotationdefaults": {
           "arrowcolor": "#2a3f5f",
           "arrowhead": 0,
           "arrowwidth": 1
          },
          "autotypenumbers": "strict",
          "coloraxis": {
           "colorbar": {
            "outlinewidth": 0,
            "ticks": ""
           }
          },
          "colorscale": {
           "diverging": [
            [
             0,
             "#8e0152"
            ],
            [
             0.1,
             "#c51b7d"
            ],
            [
             0.2,
             "#de77ae"
            ],
            [
             0.3,
             "#f1b6da"
            ],
            [
             0.4,
             "#fde0ef"
            ],
            [
             0.5,
             "#f7f7f7"
            ],
            [
             0.6,
             "#e6f5d0"
            ],
            [
             0.7,
             "#b8e186"
            ],
            [
             0.8,
             "#7fbc41"
            ],
            [
             0.9,
             "#4d9221"
            ],
            [
             1,
             "#276419"
            ]
           ],
           "sequential": [
            [
             0,
             "#0d0887"
            ],
            [
             0.1111111111111111,
             "#46039f"
            ],
            [
             0.2222222222222222,
             "#7201a8"
            ],
            [
             0.3333333333333333,
             "#9c179e"
            ],
            [
             0.4444444444444444,
             "#bd3786"
            ],
            [
             0.5555555555555556,
             "#d8576b"
            ],
            [
             0.6666666666666666,
             "#ed7953"
            ],
            [
             0.7777777777777778,
             "#fb9f3a"
            ],
            [
             0.8888888888888888,
             "#fdca26"
            ],
            [
             1,
             "#f0f921"
            ]
           ],
           "sequentialminus": [
            [
             0,
             "#0d0887"
            ],
            [
             0.1111111111111111,
             "#46039f"
            ],
            [
             0.2222222222222222,
             "#7201a8"
            ],
            [
             0.3333333333333333,
             "#9c179e"
            ],
            [
             0.4444444444444444,
             "#bd3786"
            ],
            [
             0.5555555555555556,
             "#d8576b"
            ],
            [
             0.6666666666666666,
             "#ed7953"
            ],
            [
             0.7777777777777778,
             "#fb9f3a"
            ],
            [
             0.8888888888888888,
             "#fdca26"
            ],
            [
             1,
             "#f0f921"
            ]
           ]
          },
          "colorway": [
           "#636efa",
           "#EF553B",
           "#00cc96",
           "#ab63fa",
           "#FFA15A",
           "#19d3f3",
           "#FF6692",
           "#B6E880",
           "#FF97FF",
           "#FECB52"
          ],
          "font": {
           "color": "#2a3f5f"
          },
          "geo": {
           "bgcolor": "white",
           "lakecolor": "white",
           "landcolor": "#E5ECF6",
           "showlakes": true,
           "showland": true,
           "subunitcolor": "white"
          },
          "hoverlabel": {
           "align": "left"
          },
          "hovermode": "closest",
          "mapbox": {
           "style": "light"
          },
          "paper_bgcolor": "white",
          "plot_bgcolor": "#E5ECF6",
          "polar": {
           "angularaxis": {
            "gridcolor": "white",
            "linecolor": "white",
            "ticks": ""
           },
           "bgcolor": "#E5ECF6",
           "radialaxis": {
            "gridcolor": "white",
            "linecolor": "white",
            "ticks": ""
           }
          },
          "scene": {
           "xaxis": {
            "backgroundcolor": "#E5ECF6",
            "gridcolor": "white",
            "gridwidth": 2,
            "linecolor": "white",
            "showbackground": true,
            "ticks": "",
            "zerolinecolor": "white"
           },
           "yaxis": {
            "backgroundcolor": "#E5ECF6",
            "gridcolor": "white",
            "gridwidth": 2,
            "linecolor": "white",
            "showbackground": true,
            "ticks": "",
            "zerolinecolor": "white"
           },
           "zaxis": {
            "backgroundcolor": "#E5ECF6",
            "gridcolor": "white",
            "gridwidth": 2,
            "linecolor": "white",
            "showbackground": true,
            "ticks": "",
            "zerolinecolor": "white"
           }
          },
          "shapedefaults": {
           "line": {
            "color": "#2a3f5f"
           }
          },
          "ternary": {
           "aaxis": {
            "gridcolor": "white",
            "linecolor": "white",
            "ticks": ""
           },
           "baxis": {
            "gridcolor": "white",
            "linecolor": "white",
            "ticks": ""
           },
           "bgcolor": "#E5ECF6",
           "caxis": {
            "gridcolor": "white",
            "linecolor": "white",
            "ticks": ""
           }
          },
          "title": {
           "x": 0.05
          },
          "xaxis": {
           "automargin": true,
           "gridcolor": "white",
           "linecolor": "white",
           "ticks": "",
           "title": {
            "standoff": 15
           },
           "zerolinecolor": "white",
           "zerolinewidth": 2
          },
          "yaxis": {
           "automargin": true,
           "gridcolor": "white",
           "linecolor": "white",
           "ticks": "",
           "title": {
            "standoff": 15
           },
           "zerolinecolor": "white",
           "zerolinewidth": 2
          }
         }
        },
        "xaxis": {
         "anchor": "y",
         "domain": [
          0,
          1
         ],
         "title": {
          "text": "Average Time (hours)"
         }
        },
        "yaxis": {
         "anchor": "x",
         "domain": [
          0,
          1
         ],
         "title": {
          "text": "count"
         }
        }
       }
      },
      "text/html": [
       "<div>                            <div id=\"fda51161-c7f4-4fa8-82cf-d93638643d0e\" class=\"plotly-graph-div\" style=\"height:525px; width:100%;\"></div>            <script type=\"text/javascript\">                require([\"plotly\"], function(Plotly) {                    window.PLOTLYENV=window.PLOTLYENV || {};                                    if (document.getElementById(\"fda51161-c7f4-4fa8-82cf-d93638643d0e\")) {                    Plotly.newPlot(                        \"fda51161-c7f4-4fa8-82cf-d93638643d0e\",                        [{\"alignmentgroup\":\"True\",\"bingroup\":\"x\",\"hovertemplate\":\"Average Time (hours)=%{x}<br>count=%{y}<extra></extra>\",\"legendgroup\":\"\",\"marker\":{\"color\":\"#636efa\",\"pattern\":{\"shape\":\"\"}},\"name\":\"\",\"offsetgroup\":\"\",\"orientation\":\"v\",\"showlegend\":false,\"type\":\"histogram\",\"x\":[1.5,2.0,3.5,1.5,2.5,6.0,3.5,1.25,2.0,0.5,5.0,6.0,1.0,2.0,2.0,2.5,2.0,1.0,1.5,2.5,1.5,3.0,3.5,2.0,2.5,1.5,1.0,1.0,1.0,0.5],\"xaxis\":\"x\",\"yaxis\":\"y\"}],                        {\"barmode\":\"relative\",\"legend\":{\"tracegroupgap\":0},\"margin\":{\"t\":60},\"template\":{\"data\":{\"bar\":[{\"error_x\":{\"color\":\"#2a3f5f\"},\"error_y\":{\"color\":\"#2a3f5f\"},\"marker\":{\"line\":{\"color\":\"#E5ECF6\",\"width\":0.5},\"pattern\":{\"fillmode\":\"overlay\",\"size\":10,\"solidity\":0.2}},\"type\":\"bar\"}],\"barpolar\":[{\"marker\":{\"line\":{\"color\":\"#E5ECF6\",\"width\":0.5},\"pattern\":{\"fillmode\":\"overlay\",\"size\":10,\"solidity\":0.2}},\"type\":\"barpolar\"}],\"carpet\":[{\"aaxis\":{\"endlinecolor\":\"#2a3f5f\",\"gridcolor\":\"white\",\"linecolor\":\"white\",\"minorgridcolor\":\"white\",\"startlinecolor\":\"#2a3f5f\"},\"baxis\":{\"endlinecolor\":\"#2a3f5f\",\"gridcolor\":\"white\",\"linecolor\":\"white\",\"minorgridcolor\":\"white\",\"startlinecolor\":\"#2a3f5f\"},\"type\":\"carpet\"}],\"choropleth\":[{\"colorbar\":{\"outlinewidth\":0,\"ticks\":\"\"},\"type\":\"choropleth\"}],\"contour\":[{\"colorbar\":{\"outlinewidth\":0,\"ticks\":\"\"},\"colorscale\":[[0.0,\"#0d0887\"],[0.1111111111111111,\"#46039f\"],[0.2222222222222222,\"#7201a8\"],[0.3333333333333333,\"#9c179e\"],[0.4444444444444444,\"#bd3786\"],[0.5555555555555556,\"#d8576b\"],[0.6666666666666666,\"#ed7953\"],[0.7777777777777778,\"#fb9f3a\"],[0.8888888888888888,\"#fdca26\"],[1.0,\"#f0f921\"]],\"type\":\"contour\"}],\"contourcarpet\":[{\"colorbar\":{\"outlinewidth\":0,\"ticks\":\"\"},\"type\":\"contourcarpet\"}],\"heatmap\":[{\"colorbar\":{\"outlinewidth\":0,\"ticks\":\"\"},\"colorscale\":[[0.0,\"#0d0887\"],[0.1111111111111111,\"#46039f\"],[0.2222222222222222,\"#7201a8\"],[0.3333333333333333,\"#9c179e\"],[0.4444444444444444,\"#bd3786\"],[0.5555555555555556,\"#d8576b\"],[0.6666666666666666,\"#ed7953\"],[0.7777777777777778,\"#fb9f3a\"],[0.8888888888888888,\"#fdca26\"],[1.0,\"#f0f921\"]],\"type\":\"heatmap\"}],\"heatmapgl\":[{\"colorbar\":{\"outlinewidth\":0,\"ticks\":\"\"},\"colorscale\":[[0.0,\"#0d0887\"],[0.1111111111111111,\"#46039f\"],[0.2222222222222222,\"#7201a8\"],[0.3333333333333333,\"#9c179e\"],[0.4444444444444444,\"#bd3786\"],[0.5555555555555556,\"#d8576b\"],[0.6666666666666666,\"#ed7953\"],[0.7777777777777778,\"#fb9f3a\"],[0.8888888888888888,\"#fdca26\"],[1.0,\"#f0f921\"]],\"type\":\"heatmapgl\"}],\"histogram\":[{\"marker\":{\"pattern\":{\"fillmode\":\"overlay\",\"size\":10,\"solidity\":0.2}},\"type\":\"histogram\"}],\"histogram2d\":[{\"colorbar\":{\"outlinewidth\":0,\"ticks\":\"\"},\"colorscale\":[[0.0,\"#0d0887\"],[0.1111111111111111,\"#46039f\"],[0.2222222222222222,\"#7201a8\"],[0.3333333333333333,\"#9c179e\"],[0.4444444444444444,\"#bd3786\"],[0.5555555555555556,\"#d8576b\"],[0.6666666666666666,\"#ed7953\"],[0.7777777777777778,\"#fb9f3a\"],[0.8888888888888888,\"#fdca26\"],[1.0,\"#f0f921\"]],\"type\":\"histogram2d\"}],\"histogram2dcontour\":[{\"colorbar\":{\"outlinewidth\":0,\"ticks\":\"\"},\"colorscale\":[[0.0,\"#0d0887\"],[0.1111111111111111,\"#46039f\"],[0.2222222222222222,\"#7201a8\"],[0.3333333333333333,\"#9c179e\"],[0.4444444444444444,\"#bd3786\"],[0.5555555555555556,\"#d8576b\"],[0.6666666666666666,\"#ed7953\"],[0.7777777777777778,\"#fb9f3a\"],[0.8888888888888888,\"#fdca26\"],[1.0,\"#f0f921\"]],\"type\":\"histogram2dcontour\"}],\"mesh3d\":[{\"colorbar\":{\"outlinewidth\":0,\"ticks\":\"\"},\"type\":\"mesh3d\"}],\"parcoords\":[{\"line\":{\"colorbar\":{\"outlinewidth\":0,\"ticks\":\"\"}},\"type\":\"parcoords\"}],\"pie\":[{\"automargin\":true,\"type\":\"pie\"}],\"scatter\":[{\"marker\":{\"colorbar\":{\"outlinewidth\":0,\"ticks\":\"\"}},\"type\":\"scatter\"}],\"scatter3d\":[{\"line\":{\"colorbar\":{\"outlinewidth\":0,\"ticks\":\"\"}},\"marker\":{\"colorbar\":{\"outlinewidth\":0,\"ticks\":\"\"}},\"type\":\"scatter3d\"}],\"scattercarpet\":[{\"marker\":{\"colorbar\":{\"outlinewidth\":0,\"ticks\":\"\"}},\"type\":\"scattercarpet\"}],\"scattergeo\":[{\"marker\":{\"colorbar\":{\"outlinewidth\":0,\"ticks\":\"\"}},\"type\":\"scattergeo\"}],\"scattergl\":[{\"marker\":{\"colorbar\":{\"outlinewidth\":0,\"ticks\":\"\"}},\"type\":\"scattergl\"}],\"scattermapbox\":[{\"marker\":{\"colorbar\":{\"outlinewidth\":0,\"ticks\":\"\"}},\"type\":\"scattermapbox\"}],\"scatterpolar\":[{\"marker\":{\"colorbar\":{\"outlinewidth\":0,\"ticks\":\"\"}},\"type\":\"scatterpolar\"}],\"scatterpolargl\":[{\"marker\":{\"colorbar\":{\"outlinewidth\":0,\"ticks\":\"\"}},\"type\":\"scatterpolargl\"}],\"scatterternary\":[{\"marker\":{\"colorbar\":{\"outlinewidth\":0,\"ticks\":\"\"}},\"type\":\"scatterternary\"}],\"surface\":[{\"colorbar\":{\"outlinewidth\":0,\"ticks\":\"\"},\"colorscale\":[[0.0,\"#0d0887\"],[0.1111111111111111,\"#46039f\"],[0.2222222222222222,\"#7201a8\"],[0.3333333333333333,\"#9c179e\"],[0.4444444444444444,\"#bd3786\"],[0.5555555555555556,\"#d8576b\"],[0.6666666666666666,\"#ed7953\"],[0.7777777777777778,\"#fb9f3a\"],[0.8888888888888888,\"#fdca26\"],[1.0,\"#f0f921\"]],\"type\":\"surface\"}],\"table\":[{\"cells\":{\"fill\":{\"color\":\"#EBF0F8\"},\"line\":{\"color\":\"white\"}},\"header\":{\"fill\":{\"color\":\"#C8D4E3\"},\"line\":{\"color\":\"white\"}},\"type\":\"table\"}]},\"layout\":{\"annotationdefaults\":{\"arrowcolor\":\"#2a3f5f\",\"arrowhead\":0,\"arrowwidth\":1},\"autotypenumbers\":\"strict\",\"coloraxis\":{\"colorbar\":{\"outlinewidth\":0,\"ticks\":\"\"}},\"colorscale\":{\"diverging\":[[0,\"#8e0152\"],[0.1,\"#c51b7d\"],[0.2,\"#de77ae\"],[0.3,\"#f1b6da\"],[0.4,\"#fde0ef\"],[0.5,\"#f7f7f7\"],[0.6,\"#e6f5d0\"],[0.7,\"#b8e186\"],[0.8,\"#7fbc41\"],[0.9,\"#4d9221\"],[1,\"#276419\"]],\"sequential\":[[0.0,\"#0d0887\"],[0.1111111111111111,\"#46039f\"],[0.2222222222222222,\"#7201a8\"],[0.3333333333333333,\"#9c179e\"],[0.4444444444444444,\"#bd3786\"],[0.5555555555555556,\"#d8576b\"],[0.6666666666666666,\"#ed7953\"],[0.7777777777777778,\"#fb9f3a\"],[0.8888888888888888,\"#fdca26\"],[1.0,\"#f0f921\"]],\"sequentialminus\":[[0.0,\"#0d0887\"],[0.1111111111111111,\"#46039f\"],[0.2222222222222222,\"#7201a8\"],[0.3333333333333333,\"#9c179e\"],[0.4444444444444444,\"#bd3786\"],[0.5555555555555556,\"#d8576b\"],[0.6666666666666666,\"#ed7953\"],[0.7777777777777778,\"#fb9f3a\"],[0.8888888888888888,\"#fdca26\"],[1.0,\"#f0f921\"]]},\"colorway\":[\"#636efa\",\"#EF553B\",\"#00cc96\",\"#ab63fa\",\"#FFA15A\",\"#19d3f3\",\"#FF6692\",\"#B6E880\",\"#FF97FF\",\"#FECB52\"],\"font\":{\"color\":\"#2a3f5f\"},\"geo\":{\"bgcolor\":\"white\",\"lakecolor\":\"white\",\"landcolor\":\"#E5ECF6\",\"showlakes\":true,\"showland\":true,\"subunitcolor\":\"white\"},\"hoverlabel\":{\"align\":\"left\"},\"hovermode\":\"closest\",\"mapbox\":{\"style\":\"light\"},\"paper_bgcolor\":\"white\",\"plot_bgcolor\":\"#E5ECF6\",\"polar\":{\"angularaxis\":{\"gridcolor\":\"white\",\"linecolor\":\"white\",\"ticks\":\"\"},\"bgcolor\":\"#E5ECF6\",\"radialaxis\":{\"gridcolor\":\"white\",\"linecolor\":\"white\",\"ticks\":\"\"}},\"scene\":{\"xaxis\":{\"backgroundcolor\":\"#E5ECF6\",\"gridcolor\":\"white\",\"gridwidth\":2,\"linecolor\":\"white\",\"showbackground\":true,\"ticks\":\"\",\"zerolinecolor\":\"white\"},\"yaxis\":{\"backgroundcolor\":\"#E5ECF6\",\"gridcolor\":\"white\",\"gridwidth\":2,\"linecolor\":\"white\",\"showbackground\":true,\"ticks\":\"\",\"zerolinecolor\":\"white\"},\"zaxis\":{\"backgroundcolor\":\"#E5ECF6\",\"gridcolor\":\"white\",\"gridwidth\":2,\"linecolor\":\"white\",\"showbackground\":true,\"ticks\":\"\",\"zerolinecolor\":\"white\"}},\"shapedefaults\":{\"line\":{\"color\":\"#2a3f5f\"}},\"ternary\":{\"aaxis\":{\"gridcolor\":\"white\",\"linecolor\":\"white\",\"ticks\":\"\"},\"baxis\":{\"gridcolor\":\"white\",\"linecolor\":\"white\",\"ticks\":\"\"},\"bgcolor\":\"#E5ECF6\",\"caxis\":{\"gridcolor\":\"white\",\"linecolor\":\"white\",\"ticks\":\"\"}},\"title\":{\"x\":0.05},\"xaxis\":{\"automargin\":true,\"gridcolor\":\"white\",\"linecolor\":\"white\",\"ticks\":\"\",\"title\":{\"standoff\":15},\"zerolinecolor\":\"white\",\"zerolinewidth\":2},\"yaxis\":{\"automargin\":true,\"gridcolor\":\"white\",\"linecolor\":\"white\",\"ticks\":\"\",\"title\":{\"standoff\":15},\"zerolinecolor\":\"white\",\"zerolinewidth\":2}}},\"xaxis\":{\"anchor\":\"y\",\"domain\":[0.0,1.0],\"title\":{\"text\":\"Average Time (hours)\"}},\"yaxis\":{\"anchor\":\"x\",\"domain\":[0.0,1.0],\"title\":{\"text\":\"count\"}}},                        {\"responsive\": true}                    ).then(function(){\n",
       "                            \n",
       "var gd = document.getElementById('fda51161-c7f4-4fa8-82cf-d93638643d0e');\n",
       "var x = new MutationObserver(function (mutations, observer) {{\n",
       "        var display = window.getComputedStyle(gd).display;\n",
       "        if (!display || display === 'none') {{\n",
       "            console.log([gd, 'removed!']);\n",
       "            Plotly.purge(gd);\n",
       "            observer.disconnect();\n",
       "        }}\n",
       "}});\n",
       "\n",
       "// Listen for the removal of the full notebook cells\n",
       "var notebookContainer = gd.closest('#notebook-container');\n",
       "if (notebookContainer) {{\n",
       "    x.observe(notebookContainer, {childList: true});\n",
       "}}\n",
       "\n",
       "// Listen for the clearing of the current output cell\n",
       "var outputEl = gd.closest('.output');\n",
       "if (outputEl) {{\n",
       "    x.observe(outputEl, {childList: true});\n",
       "}}\n",
       "\n",
       "                        })                };                });            </script>        </div>"
      ]
     },
     "metadata": {},
     "output_type": "display_data"
    }
   ],
   "source": [
    "px.histogram(df, x = \"Average Time (hours)\")"
   ]
  },
  {
   "cell_type": "code",
   "execution_count": 66,
   "id": "aa8c4b72",
   "metadata": {},
   "outputs": [
    {
     "data": {
      "application/vnd.plotly.v1+json": {
       "config": {
        "plotlyServerURL": "https://plot.ly"
       },
       "data": [
        {
         "alignmentgroup": "True",
         "bingroup": "x",
         "hovertemplate": "Difficulty=%{x}<br>count=%{y}<extra></extra>",
         "legendgroup": "",
         "marker": {
          "color": "#636efa",
          "pattern": {
           "shape": ""
          }
         },
         "name": "",
         "offsetgroup": "",
         "orientation": "v",
         "showlegend": false,
         "type": "histogram",
         "x": [
          1,
          2.5,
          3,
          2,
          2,
          3,
          3,
          1,
          2,
          1,
          3,
          3,
          1.5,
          2,
          3,
          2,
          1.5,
          1,
          2,
          2,
          1.5,
          2,
          2,
          1.5,
          3,
          2,
          1.5,
          1,
          1,
          1
         ],
         "xaxis": "x",
         "yaxis": "y"
        }
       ],
       "layout": {
        "barmode": "relative",
        "legend": {
         "tracegroupgap": 0
        },
        "margin": {
         "t": 60
        },
        "template": {
         "data": {
          "bar": [
           {
            "error_x": {
             "color": "#2a3f5f"
            },
            "error_y": {
             "color": "#2a3f5f"
            },
            "marker": {
             "line": {
              "color": "#E5ECF6",
              "width": 0.5
             },
             "pattern": {
              "fillmode": "overlay",
              "size": 10,
              "solidity": 0.2
             }
            },
            "type": "bar"
           }
          ],
          "barpolar": [
           {
            "marker": {
             "line": {
              "color": "#E5ECF6",
              "width": 0.5
             },
             "pattern": {
              "fillmode": "overlay",
              "size": 10,
              "solidity": 0.2
             }
            },
            "type": "barpolar"
           }
          ],
          "carpet": [
           {
            "aaxis": {
             "endlinecolor": "#2a3f5f",
             "gridcolor": "white",
             "linecolor": "white",
             "minorgridcolor": "white",
             "startlinecolor": "#2a3f5f"
            },
            "baxis": {
             "endlinecolor": "#2a3f5f",
             "gridcolor": "white",
             "linecolor": "white",
             "minorgridcolor": "white",
             "startlinecolor": "#2a3f5f"
            },
            "type": "carpet"
           }
          ],
          "choropleth": [
           {
            "colorbar": {
             "outlinewidth": 0,
             "ticks": ""
            },
            "type": "choropleth"
           }
          ],
          "contour": [
           {
            "colorbar": {
             "outlinewidth": 0,
             "ticks": ""
            },
            "colorscale": [
             [
              0,
              "#0d0887"
             ],
             [
              0.1111111111111111,
              "#46039f"
             ],
             [
              0.2222222222222222,
              "#7201a8"
             ],
             [
              0.3333333333333333,
              "#9c179e"
             ],
             [
              0.4444444444444444,
              "#bd3786"
             ],
             [
              0.5555555555555556,
              "#d8576b"
             ],
             [
              0.6666666666666666,
              "#ed7953"
             ],
             [
              0.7777777777777778,
              "#fb9f3a"
             ],
             [
              0.8888888888888888,
              "#fdca26"
             ],
             [
              1,
              "#f0f921"
             ]
            ],
            "type": "contour"
           }
          ],
          "contourcarpet": [
           {
            "colorbar": {
             "outlinewidth": 0,
             "ticks": ""
            },
            "type": "contourcarpet"
           }
          ],
          "heatmap": [
           {
            "colorbar": {
             "outlinewidth": 0,
             "ticks": ""
            },
            "colorscale": [
             [
              0,
              "#0d0887"
             ],
             [
              0.1111111111111111,
              "#46039f"
             ],
             [
              0.2222222222222222,
              "#7201a8"
             ],
             [
              0.3333333333333333,
              "#9c179e"
             ],
             [
              0.4444444444444444,
              "#bd3786"
             ],
             [
              0.5555555555555556,
              "#d8576b"
             ],
             [
              0.6666666666666666,
              "#ed7953"
             ],
             [
              0.7777777777777778,
              "#fb9f3a"
             ],
             [
              0.8888888888888888,
              "#fdca26"
             ],
             [
              1,
              "#f0f921"
             ]
            ],
            "type": "heatmap"
           }
          ],
          "heatmapgl": [
           {
            "colorbar": {
             "outlinewidth": 0,
             "ticks": ""
            },
            "colorscale": [
             [
              0,
              "#0d0887"
             ],
             [
              0.1111111111111111,
              "#46039f"
             ],
             [
              0.2222222222222222,
              "#7201a8"
             ],
             [
              0.3333333333333333,
              "#9c179e"
             ],
             [
              0.4444444444444444,
              "#bd3786"
             ],
             [
              0.5555555555555556,
              "#d8576b"
             ],
             [
              0.6666666666666666,
              "#ed7953"
             ],
             [
              0.7777777777777778,
              "#fb9f3a"
             ],
             [
              0.8888888888888888,
              "#fdca26"
             ],
             [
              1,
              "#f0f921"
             ]
            ],
            "type": "heatmapgl"
           }
          ],
          "histogram": [
           {
            "marker": {
             "pattern": {
              "fillmode": "overlay",
              "size": 10,
              "solidity": 0.2
             }
            },
            "type": "histogram"
           }
          ],
          "histogram2d": [
           {
            "colorbar": {
             "outlinewidth": 0,
             "ticks": ""
            },
            "colorscale": [
             [
              0,
              "#0d0887"
             ],
             [
              0.1111111111111111,
              "#46039f"
             ],
             [
              0.2222222222222222,
              "#7201a8"
             ],
             [
              0.3333333333333333,
              "#9c179e"
             ],
             [
              0.4444444444444444,
              "#bd3786"
             ],
             [
              0.5555555555555556,
              "#d8576b"
             ],
             [
              0.6666666666666666,
              "#ed7953"
             ],
             [
              0.7777777777777778,
              "#fb9f3a"
             ],
             [
              0.8888888888888888,
              "#fdca26"
             ],
             [
              1,
              "#f0f921"
             ]
            ],
            "type": "histogram2d"
           }
          ],
          "histogram2dcontour": [
           {
            "colorbar": {
             "outlinewidth": 0,
             "ticks": ""
            },
            "colorscale": [
             [
              0,
              "#0d0887"
             ],
             [
              0.1111111111111111,
              "#46039f"
             ],
             [
              0.2222222222222222,
              "#7201a8"
             ],
             [
              0.3333333333333333,
              "#9c179e"
             ],
             [
              0.4444444444444444,
              "#bd3786"
             ],
             [
              0.5555555555555556,
              "#d8576b"
             ],
             [
              0.6666666666666666,
              "#ed7953"
             ],
             [
              0.7777777777777778,
              "#fb9f3a"
             ],
             [
              0.8888888888888888,
              "#fdca26"
             ],
             [
              1,
              "#f0f921"
             ]
            ],
            "type": "histogram2dcontour"
           }
          ],
          "mesh3d": [
           {
            "colorbar": {
             "outlinewidth": 0,
             "ticks": ""
            },
            "type": "mesh3d"
           }
          ],
          "parcoords": [
           {
            "line": {
             "colorbar": {
              "outlinewidth": 0,
              "ticks": ""
             }
            },
            "type": "parcoords"
           }
          ],
          "pie": [
           {
            "automargin": true,
            "type": "pie"
           }
          ],
          "scatter": [
           {
            "marker": {
             "colorbar": {
              "outlinewidth": 0,
              "ticks": ""
             }
            },
            "type": "scatter"
           }
          ],
          "scatter3d": [
           {
            "line": {
             "colorbar": {
              "outlinewidth": 0,
              "ticks": ""
             }
            },
            "marker": {
             "colorbar": {
              "outlinewidth": 0,
              "ticks": ""
             }
            },
            "type": "scatter3d"
           }
          ],
          "scattercarpet": [
           {
            "marker": {
             "colorbar": {
              "outlinewidth": 0,
              "ticks": ""
             }
            },
            "type": "scattercarpet"
           }
          ],
          "scattergeo": [
           {
            "marker": {
             "colorbar": {
              "outlinewidth": 0,
              "ticks": ""
             }
            },
            "type": "scattergeo"
           }
          ],
          "scattergl": [
           {
            "marker": {
             "colorbar": {
              "outlinewidth": 0,
              "ticks": ""
             }
            },
            "type": "scattergl"
           }
          ],
          "scattermapbox": [
           {
            "marker": {
             "colorbar": {
              "outlinewidth": 0,
              "ticks": ""
             }
            },
            "type": "scattermapbox"
           }
          ],
          "scatterpolar": [
           {
            "marker": {
             "colorbar": {
              "outlinewidth": 0,
              "ticks": ""
             }
            },
            "type": "scatterpolar"
           }
          ],
          "scatterpolargl": [
           {
            "marker": {
             "colorbar": {
              "outlinewidth": 0,
              "ticks": ""
             }
            },
            "type": "scatterpolargl"
           }
          ],
          "scatterternary": [
           {
            "marker": {
             "colorbar": {
              "outlinewidth": 0,
              "ticks": ""
             }
            },
            "type": "scatterternary"
           }
          ],
          "surface": [
           {
            "colorbar": {
             "outlinewidth": 0,
             "ticks": ""
            },
            "colorscale": [
             [
              0,
              "#0d0887"
             ],
             [
              0.1111111111111111,
              "#46039f"
             ],
             [
              0.2222222222222222,
              "#7201a8"
             ],
             [
              0.3333333333333333,
              "#9c179e"
             ],
             [
              0.4444444444444444,
              "#bd3786"
             ],
             [
              0.5555555555555556,
              "#d8576b"
             ],
             [
              0.6666666666666666,
              "#ed7953"
             ],
             [
              0.7777777777777778,
              "#fb9f3a"
             ],
             [
              0.8888888888888888,
              "#fdca26"
             ],
             [
              1,
              "#f0f921"
             ]
            ],
            "type": "surface"
           }
          ],
          "table": [
           {
            "cells": {
             "fill": {
              "color": "#EBF0F8"
             },
             "line": {
              "color": "white"
             }
            },
            "header": {
             "fill": {
              "color": "#C8D4E3"
             },
             "line": {
              "color": "white"
             }
            },
            "type": "table"
           }
          ]
         },
         "layout": {
          "annotationdefaults": {
           "arrowcolor": "#2a3f5f",
           "arrowhead": 0,
           "arrowwidth": 1
          },
          "autotypenumbers": "strict",
          "coloraxis": {
           "colorbar": {
            "outlinewidth": 0,
            "ticks": ""
           }
          },
          "colorscale": {
           "diverging": [
            [
             0,
             "#8e0152"
            ],
            [
             0.1,
             "#c51b7d"
            ],
            [
             0.2,
             "#de77ae"
            ],
            [
             0.3,
             "#f1b6da"
            ],
            [
             0.4,
             "#fde0ef"
            ],
            [
             0.5,
             "#f7f7f7"
            ],
            [
             0.6,
             "#e6f5d0"
            ],
            [
             0.7,
             "#b8e186"
            ],
            [
             0.8,
             "#7fbc41"
            ],
            [
             0.9,
             "#4d9221"
            ],
            [
             1,
             "#276419"
            ]
           ],
           "sequential": [
            [
             0,
             "#0d0887"
            ],
            [
             0.1111111111111111,
             "#46039f"
            ],
            [
             0.2222222222222222,
             "#7201a8"
            ],
            [
             0.3333333333333333,
             "#9c179e"
            ],
            [
             0.4444444444444444,
             "#bd3786"
            ],
            [
             0.5555555555555556,
             "#d8576b"
            ],
            [
             0.6666666666666666,
             "#ed7953"
            ],
            [
             0.7777777777777778,
             "#fb9f3a"
            ],
            [
             0.8888888888888888,
             "#fdca26"
            ],
            [
             1,
             "#f0f921"
            ]
           ],
           "sequentialminus": [
            [
             0,
             "#0d0887"
            ],
            [
             0.1111111111111111,
             "#46039f"
            ],
            [
             0.2222222222222222,
             "#7201a8"
            ],
            [
             0.3333333333333333,
             "#9c179e"
            ],
            [
             0.4444444444444444,
             "#bd3786"
            ],
            [
             0.5555555555555556,
             "#d8576b"
            ],
            [
             0.6666666666666666,
             "#ed7953"
            ],
            [
             0.7777777777777778,
             "#fb9f3a"
            ],
            [
             0.8888888888888888,
             "#fdca26"
            ],
            [
             1,
             "#f0f921"
            ]
           ]
          },
          "colorway": [
           "#636efa",
           "#EF553B",
           "#00cc96",
           "#ab63fa",
           "#FFA15A",
           "#19d3f3",
           "#FF6692",
           "#B6E880",
           "#FF97FF",
           "#FECB52"
          ],
          "font": {
           "color": "#2a3f5f"
          },
          "geo": {
           "bgcolor": "white",
           "lakecolor": "white",
           "landcolor": "#E5ECF6",
           "showlakes": true,
           "showland": true,
           "subunitcolor": "white"
          },
          "hoverlabel": {
           "align": "left"
          },
          "hovermode": "closest",
          "mapbox": {
           "style": "light"
          },
          "paper_bgcolor": "white",
          "plot_bgcolor": "#E5ECF6",
          "polar": {
           "angularaxis": {
            "gridcolor": "white",
            "linecolor": "white",
            "ticks": ""
           },
           "bgcolor": "#E5ECF6",
           "radialaxis": {
            "gridcolor": "white",
            "linecolor": "white",
            "ticks": ""
           }
          },
          "scene": {
           "xaxis": {
            "backgroundcolor": "#E5ECF6",
            "gridcolor": "white",
            "gridwidth": 2,
            "linecolor": "white",
            "showbackground": true,
            "ticks": "",
            "zerolinecolor": "white"
           },
           "yaxis": {
            "backgroundcolor": "#E5ECF6",
            "gridcolor": "white",
            "gridwidth": 2,
            "linecolor": "white",
            "showbackground": true,
            "ticks": "",
            "zerolinecolor": "white"
           },
           "zaxis": {
            "backgroundcolor": "#E5ECF6",
            "gridcolor": "white",
            "gridwidth": 2,
            "linecolor": "white",
            "showbackground": true,
            "ticks": "",
            "zerolinecolor": "white"
           }
          },
          "shapedefaults": {
           "line": {
            "color": "#2a3f5f"
           }
          },
          "ternary": {
           "aaxis": {
            "gridcolor": "white",
            "linecolor": "white",
            "ticks": ""
           },
           "baxis": {
            "gridcolor": "white",
            "linecolor": "white",
            "ticks": ""
           },
           "bgcolor": "#E5ECF6",
           "caxis": {
            "gridcolor": "white",
            "linecolor": "white",
            "ticks": ""
           }
          },
          "title": {
           "x": 0.05
          },
          "xaxis": {
           "automargin": true,
           "gridcolor": "white",
           "linecolor": "white",
           "ticks": "",
           "title": {
            "standoff": 15
           },
           "zerolinecolor": "white",
           "zerolinewidth": 2
          },
          "yaxis": {
           "automargin": true,
           "gridcolor": "white",
           "linecolor": "white",
           "ticks": "",
           "title": {
            "standoff": 15
           },
           "zerolinecolor": "white",
           "zerolinewidth": 2
          }
         }
        },
        "xaxis": {
         "anchor": "y",
         "domain": [
          0,
          1
         ],
         "title": {
          "text": "Difficulty"
         }
        },
        "yaxis": {
         "anchor": "x",
         "domain": [
          0,
          1
         ],
         "title": {
          "text": "count"
         }
        }
       }
      },
      "text/html": [
       "<div>                            <div id=\"37c0eed3-7549-4aa9-b291-a08ca9c419c4\" class=\"plotly-graph-div\" style=\"height:525px; width:100%;\"></div>            <script type=\"text/javascript\">                require([\"plotly\"], function(Plotly) {                    window.PLOTLYENV=window.PLOTLYENV || {};                                    if (document.getElementById(\"37c0eed3-7549-4aa9-b291-a08ca9c419c4\")) {                    Plotly.newPlot(                        \"37c0eed3-7549-4aa9-b291-a08ca9c419c4\",                        [{\"alignmentgroup\":\"True\",\"bingroup\":\"x\",\"hovertemplate\":\"Difficulty=%{x}<br>count=%{y}<extra></extra>\",\"legendgroup\":\"\",\"marker\":{\"color\":\"#636efa\",\"pattern\":{\"shape\":\"\"}},\"name\":\"\",\"offsetgroup\":\"\",\"orientation\":\"v\",\"showlegend\":false,\"type\":\"histogram\",\"x\":[1.0,2.5,3.0,2.0,2.0,3.0,3.0,1.0,2.0,1.0,3.0,3.0,1.5,2.0,3.0,2.0,1.5,1.0,2.0,2.0,1.5,2.0,2.0,1.5,3.0,2.0,1.5,1.0,1.0,1.0],\"xaxis\":\"x\",\"yaxis\":\"y\"}],                        {\"barmode\":\"relative\",\"legend\":{\"tracegroupgap\":0},\"margin\":{\"t\":60},\"template\":{\"data\":{\"bar\":[{\"error_x\":{\"color\":\"#2a3f5f\"},\"error_y\":{\"color\":\"#2a3f5f\"},\"marker\":{\"line\":{\"color\":\"#E5ECF6\",\"width\":0.5},\"pattern\":{\"fillmode\":\"overlay\",\"size\":10,\"solidity\":0.2}},\"type\":\"bar\"}],\"barpolar\":[{\"marker\":{\"line\":{\"color\":\"#E5ECF6\",\"width\":0.5},\"pattern\":{\"fillmode\":\"overlay\",\"size\":10,\"solidity\":0.2}},\"type\":\"barpolar\"}],\"carpet\":[{\"aaxis\":{\"endlinecolor\":\"#2a3f5f\",\"gridcolor\":\"white\",\"linecolor\":\"white\",\"minorgridcolor\":\"white\",\"startlinecolor\":\"#2a3f5f\"},\"baxis\":{\"endlinecolor\":\"#2a3f5f\",\"gridcolor\":\"white\",\"linecolor\":\"white\",\"minorgridcolor\":\"white\",\"startlinecolor\":\"#2a3f5f\"},\"type\":\"carpet\"}],\"choropleth\":[{\"colorbar\":{\"outlinewidth\":0,\"ticks\":\"\"},\"type\":\"choropleth\"}],\"contour\":[{\"colorbar\":{\"outlinewidth\":0,\"ticks\":\"\"},\"colorscale\":[[0.0,\"#0d0887\"],[0.1111111111111111,\"#46039f\"],[0.2222222222222222,\"#7201a8\"],[0.3333333333333333,\"#9c179e\"],[0.4444444444444444,\"#bd3786\"],[0.5555555555555556,\"#d8576b\"],[0.6666666666666666,\"#ed7953\"],[0.7777777777777778,\"#fb9f3a\"],[0.8888888888888888,\"#fdca26\"],[1.0,\"#f0f921\"]],\"type\":\"contour\"}],\"contourcarpet\":[{\"colorbar\":{\"outlinewidth\":0,\"ticks\":\"\"},\"type\":\"contourcarpet\"}],\"heatmap\":[{\"colorbar\":{\"outlinewidth\":0,\"ticks\":\"\"},\"colorscale\":[[0.0,\"#0d0887\"],[0.1111111111111111,\"#46039f\"],[0.2222222222222222,\"#7201a8\"],[0.3333333333333333,\"#9c179e\"],[0.4444444444444444,\"#bd3786\"],[0.5555555555555556,\"#d8576b\"],[0.6666666666666666,\"#ed7953\"],[0.7777777777777778,\"#fb9f3a\"],[0.8888888888888888,\"#fdca26\"],[1.0,\"#f0f921\"]],\"type\":\"heatmap\"}],\"heatmapgl\":[{\"colorbar\":{\"outlinewidth\":0,\"ticks\":\"\"},\"colorscale\":[[0.0,\"#0d0887\"],[0.1111111111111111,\"#46039f\"],[0.2222222222222222,\"#7201a8\"],[0.3333333333333333,\"#9c179e\"],[0.4444444444444444,\"#bd3786\"],[0.5555555555555556,\"#d8576b\"],[0.6666666666666666,\"#ed7953\"],[0.7777777777777778,\"#fb9f3a\"],[0.8888888888888888,\"#fdca26\"],[1.0,\"#f0f921\"]],\"type\":\"heatmapgl\"}],\"histogram\":[{\"marker\":{\"pattern\":{\"fillmode\":\"overlay\",\"size\":10,\"solidity\":0.2}},\"type\":\"histogram\"}],\"histogram2d\":[{\"colorbar\":{\"outlinewidth\":0,\"ticks\":\"\"},\"colorscale\":[[0.0,\"#0d0887\"],[0.1111111111111111,\"#46039f\"],[0.2222222222222222,\"#7201a8\"],[0.3333333333333333,\"#9c179e\"],[0.4444444444444444,\"#bd3786\"],[0.5555555555555556,\"#d8576b\"],[0.6666666666666666,\"#ed7953\"],[0.7777777777777778,\"#fb9f3a\"],[0.8888888888888888,\"#fdca26\"],[1.0,\"#f0f921\"]],\"type\":\"histogram2d\"}],\"histogram2dcontour\":[{\"colorbar\":{\"outlinewidth\":0,\"ticks\":\"\"},\"colorscale\":[[0.0,\"#0d0887\"],[0.1111111111111111,\"#46039f\"],[0.2222222222222222,\"#7201a8\"],[0.3333333333333333,\"#9c179e\"],[0.4444444444444444,\"#bd3786\"],[0.5555555555555556,\"#d8576b\"],[0.6666666666666666,\"#ed7953\"],[0.7777777777777778,\"#fb9f3a\"],[0.8888888888888888,\"#fdca26\"],[1.0,\"#f0f921\"]],\"type\":\"histogram2dcontour\"}],\"mesh3d\":[{\"colorbar\":{\"outlinewidth\":0,\"ticks\":\"\"},\"type\":\"mesh3d\"}],\"parcoords\":[{\"line\":{\"colorbar\":{\"outlinewidth\":0,\"ticks\":\"\"}},\"type\":\"parcoords\"}],\"pie\":[{\"automargin\":true,\"type\":\"pie\"}],\"scatter\":[{\"marker\":{\"colorbar\":{\"outlinewidth\":0,\"ticks\":\"\"}},\"type\":\"scatter\"}],\"scatter3d\":[{\"line\":{\"colorbar\":{\"outlinewidth\":0,\"ticks\":\"\"}},\"marker\":{\"colorbar\":{\"outlinewidth\":0,\"ticks\":\"\"}},\"type\":\"scatter3d\"}],\"scattercarpet\":[{\"marker\":{\"colorbar\":{\"outlinewidth\":0,\"ticks\":\"\"}},\"type\":\"scattercarpet\"}],\"scattergeo\":[{\"marker\":{\"colorbar\":{\"outlinewidth\":0,\"ticks\":\"\"}},\"type\":\"scattergeo\"}],\"scattergl\":[{\"marker\":{\"colorbar\":{\"outlinewidth\":0,\"ticks\":\"\"}},\"type\":\"scattergl\"}],\"scattermapbox\":[{\"marker\":{\"colorbar\":{\"outlinewidth\":0,\"ticks\":\"\"}},\"type\":\"scattermapbox\"}],\"scatterpolar\":[{\"marker\":{\"colorbar\":{\"outlinewidth\":0,\"ticks\":\"\"}},\"type\":\"scatterpolar\"}],\"scatterpolargl\":[{\"marker\":{\"colorbar\":{\"outlinewidth\":0,\"ticks\":\"\"}},\"type\":\"scatterpolargl\"}],\"scatterternary\":[{\"marker\":{\"colorbar\":{\"outlinewidth\":0,\"ticks\":\"\"}},\"type\":\"scatterternary\"}],\"surface\":[{\"colorbar\":{\"outlinewidth\":0,\"ticks\":\"\"},\"colorscale\":[[0.0,\"#0d0887\"],[0.1111111111111111,\"#46039f\"],[0.2222222222222222,\"#7201a8\"],[0.3333333333333333,\"#9c179e\"],[0.4444444444444444,\"#bd3786\"],[0.5555555555555556,\"#d8576b\"],[0.6666666666666666,\"#ed7953\"],[0.7777777777777778,\"#fb9f3a\"],[0.8888888888888888,\"#fdca26\"],[1.0,\"#f0f921\"]],\"type\":\"surface\"}],\"table\":[{\"cells\":{\"fill\":{\"color\":\"#EBF0F8\"},\"line\":{\"color\":\"white\"}},\"header\":{\"fill\":{\"color\":\"#C8D4E3\"},\"line\":{\"color\":\"white\"}},\"type\":\"table\"}]},\"layout\":{\"annotationdefaults\":{\"arrowcolor\":\"#2a3f5f\",\"arrowhead\":0,\"arrowwidth\":1},\"autotypenumbers\":\"strict\",\"coloraxis\":{\"colorbar\":{\"outlinewidth\":0,\"ticks\":\"\"}},\"colorscale\":{\"diverging\":[[0,\"#8e0152\"],[0.1,\"#c51b7d\"],[0.2,\"#de77ae\"],[0.3,\"#f1b6da\"],[0.4,\"#fde0ef\"],[0.5,\"#f7f7f7\"],[0.6,\"#e6f5d0\"],[0.7,\"#b8e186\"],[0.8,\"#7fbc41\"],[0.9,\"#4d9221\"],[1,\"#276419\"]],\"sequential\":[[0.0,\"#0d0887\"],[0.1111111111111111,\"#46039f\"],[0.2222222222222222,\"#7201a8\"],[0.3333333333333333,\"#9c179e\"],[0.4444444444444444,\"#bd3786\"],[0.5555555555555556,\"#d8576b\"],[0.6666666666666666,\"#ed7953\"],[0.7777777777777778,\"#fb9f3a\"],[0.8888888888888888,\"#fdca26\"],[1.0,\"#f0f921\"]],\"sequentialminus\":[[0.0,\"#0d0887\"],[0.1111111111111111,\"#46039f\"],[0.2222222222222222,\"#7201a8\"],[0.3333333333333333,\"#9c179e\"],[0.4444444444444444,\"#bd3786\"],[0.5555555555555556,\"#d8576b\"],[0.6666666666666666,\"#ed7953\"],[0.7777777777777778,\"#fb9f3a\"],[0.8888888888888888,\"#fdca26\"],[1.0,\"#f0f921\"]]},\"colorway\":[\"#636efa\",\"#EF553B\",\"#00cc96\",\"#ab63fa\",\"#FFA15A\",\"#19d3f3\",\"#FF6692\",\"#B6E880\",\"#FF97FF\",\"#FECB52\"],\"font\":{\"color\":\"#2a3f5f\"},\"geo\":{\"bgcolor\":\"white\",\"lakecolor\":\"white\",\"landcolor\":\"#E5ECF6\",\"showlakes\":true,\"showland\":true,\"subunitcolor\":\"white\"},\"hoverlabel\":{\"align\":\"left\"},\"hovermode\":\"closest\",\"mapbox\":{\"style\":\"light\"},\"paper_bgcolor\":\"white\",\"plot_bgcolor\":\"#E5ECF6\",\"polar\":{\"angularaxis\":{\"gridcolor\":\"white\",\"linecolor\":\"white\",\"ticks\":\"\"},\"bgcolor\":\"#E5ECF6\",\"radialaxis\":{\"gridcolor\":\"white\",\"linecolor\":\"white\",\"ticks\":\"\"}},\"scene\":{\"xaxis\":{\"backgroundcolor\":\"#E5ECF6\",\"gridcolor\":\"white\",\"gridwidth\":2,\"linecolor\":\"white\",\"showbackground\":true,\"ticks\":\"\",\"zerolinecolor\":\"white\"},\"yaxis\":{\"backgroundcolor\":\"#E5ECF6\",\"gridcolor\":\"white\",\"gridwidth\":2,\"linecolor\":\"white\",\"showbackground\":true,\"ticks\":\"\",\"zerolinecolor\":\"white\"},\"zaxis\":{\"backgroundcolor\":\"#E5ECF6\",\"gridcolor\":\"white\",\"gridwidth\":2,\"linecolor\":\"white\",\"showbackground\":true,\"ticks\":\"\",\"zerolinecolor\":\"white\"}},\"shapedefaults\":{\"line\":{\"color\":\"#2a3f5f\"}},\"ternary\":{\"aaxis\":{\"gridcolor\":\"white\",\"linecolor\":\"white\",\"ticks\":\"\"},\"baxis\":{\"gridcolor\":\"white\",\"linecolor\":\"white\",\"ticks\":\"\"},\"bgcolor\":\"#E5ECF6\",\"caxis\":{\"gridcolor\":\"white\",\"linecolor\":\"white\",\"ticks\":\"\"}},\"title\":{\"x\":0.05},\"xaxis\":{\"automargin\":true,\"gridcolor\":\"white\",\"linecolor\":\"white\",\"ticks\":\"\",\"title\":{\"standoff\":15},\"zerolinecolor\":\"white\",\"zerolinewidth\":2},\"yaxis\":{\"automargin\":true,\"gridcolor\":\"white\",\"linecolor\":\"white\",\"ticks\":\"\",\"title\":{\"standoff\":15},\"zerolinecolor\":\"white\",\"zerolinewidth\":2}}},\"xaxis\":{\"anchor\":\"y\",\"domain\":[0.0,1.0],\"title\":{\"text\":\"Difficulty\"}},\"yaxis\":{\"anchor\":\"x\",\"domain\":[0.0,1.0],\"title\":{\"text\":\"count\"}}},                        {\"responsive\": true}                    ).then(function(){\n",
       "                            \n",
       "var gd = document.getElementById('37c0eed3-7549-4aa9-b291-a08ca9c419c4');\n",
       "var x = new MutationObserver(function (mutations, observer) {{\n",
       "        var display = window.getComputedStyle(gd).display;\n",
       "        if (!display || display === 'none') {{\n",
       "            console.log([gd, 'removed!']);\n",
       "            Plotly.purge(gd);\n",
       "            observer.disconnect();\n",
       "        }}\n",
       "}});\n",
       "\n",
       "// Listen for the removal of the full notebook cells\n",
       "var notebookContainer = gd.closest('#notebook-container');\n",
       "if (notebookContainer) {{\n",
       "    x.observe(notebookContainer, {childList: true});\n",
       "}}\n",
       "\n",
       "// Listen for the clearing of the current output cell\n",
       "var outputEl = gd.closest('.output');\n",
       "if (outputEl) {{\n",
       "    x.observe(outputEl, {childList: true});\n",
       "}}\n",
       "\n",
       "                        })                };                });            </script>        </div>"
      ]
     },
     "metadata": {},
     "output_type": "display_data"
    }
   ],
   "source": [
    "px.histogram(df , x = \"Difficulty\")"
   ]
  },
  {
   "cell_type": "code",
   "execution_count": 72,
   "id": "d89eb6d8",
   "metadata": {},
   "outputs": [
    {
     "data": {
      "application/vnd.plotly.v1+json": {
       "config": {
        "plotlyServerURL": "https://plot.ly"
       },
       "data": [
        {
         "hovertemplate": "Distance (miles)=%{x}<br>Average Time (hours)=%{y}<br>Difficulty=%{marker.color}<extra></extra>",
         "legendgroup": "",
         "marker": {
          "color": [
           1,
           2.5,
           3,
           2,
           2,
           3,
           3,
           1,
           2,
           1,
           3,
           3,
           1.5,
           2,
           3,
           2,
           1.5,
           1,
           2,
           2,
           1.5,
           2,
           2,
           1.5,
           3,
           2,
           1.5,
           1,
           1,
           1
          ],
          "coloraxis": "coloraxis",
          "symbol": "circle"
         },
         "mode": "markers",
         "name": "",
         "orientation": "v",
         "showlegend": false,
         "type": "scatter",
         "x": [
          2,
          2.2,
          4.6,
          2.4,
          4,
          11.4,
          6.2,
          1.1,
          3.6,
          0.2,
          11.8,
          15.8,
          0.8,
          2,
          2.2,
          4,
          2.4,
          0.4,
          2.2,
          3.6,
          2,
          3,
          4.8,
          4,
          3.5,
          2.6,
          1.5,
          1.5,
          1.3,
          1
         ],
         "xaxis": "x",
         "y": [
          1.5,
          2,
          3.5,
          1.5,
          2.5,
          6,
          3.5,
          1.25,
          2,
          0.5,
          5,
          6,
          1,
          2,
          2,
          2.5,
          2,
          1,
          1.5,
          2.5,
          1.5,
          3,
          3.5,
          2,
          2.5,
          1.5,
          1,
          1,
          1,
          0.5
         ],
         "yaxis": "y"
        }
       ],
       "layout": {
        "coloraxis": {
         "colorbar": {
          "title": {
           "text": "Difficulty"
          }
         },
         "colorscale": [
          [
           0,
           "rgb(255,245,240)"
          ],
          [
           0.125,
           "rgb(254,224,210)"
          ],
          [
           0.25,
           "rgb(252,187,161)"
          ],
          [
           0.375,
           "rgb(252,146,114)"
          ],
          [
           0.5,
           "rgb(251,106,74)"
          ],
          [
           0.625,
           "rgb(239,59,44)"
          ],
          [
           0.75,
           "rgb(203,24,29)"
          ],
          [
           0.875,
           "rgb(165,15,21)"
          ],
          [
           1,
           "rgb(103,0,13)"
          ]
         ]
        },
        "legend": {
         "tracegroupgap": 0
        },
        "margin": {
         "t": 60
        },
        "template": {
         "data": {
          "bar": [
           {
            "error_x": {
             "color": "#f2f5fa"
            },
            "error_y": {
             "color": "#f2f5fa"
            },
            "marker": {
             "line": {
              "color": "rgb(17,17,17)",
              "width": 0.5
             },
             "pattern": {
              "fillmode": "overlay",
              "size": 10,
              "solidity": 0.2
             }
            },
            "type": "bar"
           }
          ],
          "barpolar": [
           {
            "marker": {
             "line": {
              "color": "rgb(17,17,17)",
              "width": 0.5
             },
             "pattern": {
              "fillmode": "overlay",
              "size": 10,
              "solidity": 0.2
             }
            },
            "type": "barpolar"
           }
          ],
          "carpet": [
           {
            "aaxis": {
             "endlinecolor": "#A2B1C6",
             "gridcolor": "#506784",
             "linecolor": "#506784",
             "minorgridcolor": "#506784",
             "startlinecolor": "#A2B1C6"
            },
            "baxis": {
             "endlinecolor": "#A2B1C6",
             "gridcolor": "#506784",
             "linecolor": "#506784",
             "minorgridcolor": "#506784",
             "startlinecolor": "#A2B1C6"
            },
            "type": "carpet"
           }
          ],
          "choropleth": [
           {
            "colorbar": {
             "outlinewidth": 0,
             "ticks": ""
            },
            "type": "choropleth"
           }
          ],
          "contour": [
           {
            "colorbar": {
             "outlinewidth": 0,
             "ticks": ""
            },
            "colorscale": [
             [
              0,
              "#0d0887"
             ],
             [
              0.1111111111111111,
              "#46039f"
             ],
             [
              0.2222222222222222,
              "#7201a8"
             ],
             [
              0.3333333333333333,
              "#9c179e"
             ],
             [
              0.4444444444444444,
              "#bd3786"
             ],
             [
              0.5555555555555556,
              "#d8576b"
             ],
             [
              0.6666666666666666,
              "#ed7953"
             ],
             [
              0.7777777777777778,
              "#fb9f3a"
             ],
             [
              0.8888888888888888,
              "#fdca26"
             ],
             [
              1,
              "#f0f921"
             ]
            ],
            "type": "contour"
           }
          ],
          "contourcarpet": [
           {
            "colorbar": {
             "outlinewidth": 0,
             "ticks": ""
            },
            "type": "contourcarpet"
           }
          ],
          "heatmap": [
           {
            "colorbar": {
             "outlinewidth": 0,
             "ticks": ""
            },
            "colorscale": [
             [
              0,
              "#0d0887"
             ],
             [
              0.1111111111111111,
              "#46039f"
             ],
             [
              0.2222222222222222,
              "#7201a8"
             ],
             [
              0.3333333333333333,
              "#9c179e"
             ],
             [
              0.4444444444444444,
              "#bd3786"
             ],
             [
              0.5555555555555556,
              "#d8576b"
             ],
             [
              0.6666666666666666,
              "#ed7953"
             ],
             [
              0.7777777777777778,
              "#fb9f3a"
             ],
             [
              0.8888888888888888,
              "#fdca26"
             ],
             [
              1,
              "#f0f921"
             ]
            ],
            "type": "heatmap"
           }
          ],
          "heatmapgl": [
           {
            "colorbar": {
             "outlinewidth": 0,
             "ticks": ""
            },
            "colorscale": [
             [
              0,
              "#0d0887"
             ],
             [
              0.1111111111111111,
              "#46039f"
             ],
             [
              0.2222222222222222,
              "#7201a8"
             ],
             [
              0.3333333333333333,
              "#9c179e"
             ],
             [
              0.4444444444444444,
              "#bd3786"
             ],
             [
              0.5555555555555556,
              "#d8576b"
             ],
             [
              0.6666666666666666,
              "#ed7953"
             ],
             [
              0.7777777777777778,
              "#fb9f3a"
             ],
             [
              0.8888888888888888,
              "#fdca26"
             ],
             [
              1,
              "#f0f921"
             ]
            ],
            "type": "heatmapgl"
           }
          ],
          "histogram": [
           {
            "marker": {
             "pattern": {
              "fillmode": "overlay",
              "size": 10,
              "solidity": 0.2
             }
            },
            "type": "histogram"
           }
          ],
          "histogram2d": [
           {
            "colorbar": {
             "outlinewidth": 0,
             "ticks": ""
            },
            "colorscale": [
             [
              0,
              "#0d0887"
             ],
             [
              0.1111111111111111,
              "#46039f"
             ],
             [
              0.2222222222222222,
              "#7201a8"
             ],
             [
              0.3333333333333333,
              "#9c179e"
             ],
             [
              0.4444444444444444,
              "#bd3786"
             ],
             [
              0.5555555555555556,
              "#d8576b"
             ],
             [
              0.6666666666666666,
              "#ed7953"
             ],
             [
              0.7777777777777778,
              "#fb9f3a"
             ],
             [
              0.8888888888888888,
              "#fdca26"
             ],
             [
              1,
              "#f0f921"
             ]
            ],
            "type": "histogram2d"
           }
          ],
          "histogram2dcontour": [
           {
            "colorbar": {
             "outlinewidth": 0,
             "ticks": ""
            },
            "colorscale": [
             [
              0,
              "#0d0887"
             ],
             [
              0.1111111111111111,
              "#46039f"
             ],
             [
              0.2222222222222222,
              "#7201a8"
             ],
             [
              0.3333333333333333,
              "#9c179e"
             ],
             [
              0.4444444444444444,
              "#bd3786"
             ],
             [
              0.5555555555555556,
              "#d8576b"
             ],
             [
              0.6666666666666666,
              "#ed7953"
             ],
             [
              0.7777777777777778,
              "#fb9f3a"
             ],
             [
              0.8888888888888888,
              "#fdca26"
             ],
             [
              1,
              "#f0f921"
             ]
            ],
            "type": "histogram2dcontour"
           }
          ],
          "mesh3d": [
           {
            "colorbar": {
             "outlinewidth": 0,
             "ticks": ""
            },
            "type": "mesh3d"
           }
          ],
          "parcoords": [
           {
            "line": {
             "colorbar": {
              "outlinewidth": 0,
              "ticks": ""
             }
            },
            "type": "parcoords"
           }
          ],
          "pie": [
           {
            "automargin": true,
            "type": "pie"
           }
          ],
          "scatter": [
           {
            "marker": {
             "line": {
              "color": "#283442"
             }
            },
            "type": "scatter"
           }
          ],
          "scatter3d": [
           {
            "line": {
             "colorbar": {
              "outlinewidth": 0,
              "ticks": ""
             }
            },
            "marker": {
             "colorbar": {
              "outlinewidth": 0,
              "ticks": ""
             }
            },
            "type": "scatter3d"
           }
          ],
          "scattercarpet": [
           {
            "marker": {
             "colorbar": {
              "outlinewidth": 0,
              "ticks": ""
             }
            },
            "type": "scattercarpet"
           }
          ],
          "scattergeo": [
           {
            "marker": {
             "colorbar": {
              "outlinewidth": 0,
              "ticks": ""
             }
            },
            "type": "scattergeo"
           }
          ],
          "scattergl": [
           {
            "marker": {
             "line": {
              "color": "#283442"
             }
            },
            "type": "scattergl"
           }
          ],
          "scattermapbox": [
           {
            "marker": {
             "colorbar": {
              "outlinewidth": 0,
              "ticks": ""
             }
            },
            "type": "scattermapbox"
           }
          ],
          "scatterpolar": [
           {
            "marker": {
             "colorbar": {
              "outlinewidth": 0,
              "ticks": ""
             }
            },
            "type": "scatterpolar"
           }
          ],
          "scatterpolargl": [
           {
            "marker": {
             "colorbar": {
              "outlinewidth": 0,
              "ticks": ""
             }
            },
            "type": "scatterpolargl"
           }
          ],
          "scatterternary": [
           {
            "marker": {
             "colorbar": {
              "outlinewidth": 0,
              "ticks": ""
             }
            },
            "type": "scatterternary"
           }
          ],
          "surface": [
           {
            "colorbar": {
             "outlinewidth": 0,
             "ticks": ""
            },
            "colorscale": [
             [
              0,
              "#0d0887"
             ],
             [
              0.1111111111111111,
              "#46039f"
             ],
             [
              0.2222222222222222,
              "#7201a8"
             ],
             [
              0.3333333333333333,
              "#9c179e"
             ],
             [
              0.4444444444444444,
              "#bd3786"
             ],
             [
              0.5555555555555556,
              "#d8576b"
             ],
             [
              0.6666666666666666,
              "#ed7953"
             ],
             [
              0.7777777777777778,
              "#fb9f3a"
             ],
             [
              0.8888888888888888,
              "#fdca26"
             ],
             [
              1,
              "#f0f921"
             ]
            ],
            "type": "surface"
           }
          ],
          "table": [
           {
            "cells": {
             "fill": {
              "color": "#506784"
             },
             "line": {
              "color": "rgb(17,17,17)"
             }
            },
            "header": {
             "fill": {
              "color": "#2a3f5f"
             },
             "line": {
              "color": "rgb(17,17,17)"
             }
            },
            "type": "table"
           }
          ]
         },
         "layout": {
          "annotationdefaults": {
           "arrowcolor": "#f2f5fa",
           "arrowhead": 0,
           "arrowwidth": 1
          },
          "autotypenumbers": "strict",
          "coloraxis": {
           "colorbar": {
            "outlinewidth": 0,
            "ticks": ""
           }
          },
          "colorscale": {
           "diverging": [
            [
             0,
             "#8e0152"
            ],
            [
             0.1,
             "#c51b7d"
            ],
            [
             0.2,
             "#de77ae"
            ],
            [
             0.3,
             "#f1b6da"
            ],
            [
             0.4,
             "#fde0ef"
            ],
            [
             0.5,
             "#f7f7f7"
            ],
            [
             0.6,
             "#e6f5d0"
            ],
            [
             0.7,
             "#b8e186"
            ],
            [
             0.8,
             "#7fbc41"
            ],
            [
             0.9,
             "#4d9221"
            ],
            [
             1,
             "#276419"
            ]
           ],
           "sequential": [
            [
             0,
             "#0d0887"
            ],
            [
             0.1111111111111111,
             "#46039f"
            ],
            [
             0.2222222222222222,
             "#7201a8"
            ],
            [
             0.3333333333333333,
             "#9c179e"
            ],
            [
             0.4444444444444444,
             "#bd3786"
            ],
            [
             0.5555555555555556,
             "#d8576b"
            ],
            [
             0.6666666666666666,
             "#ed7953"
            ],
            [
             0.7777777777777778,
             "#fb9f3a"
            ],
            [
             0.8888888888888888,
             "#fdca26"
            ],
            [
             1,
             "#f0f921"
            ]
           ],
           "sequentialminus": [
            [
             0,
             "#0d0887"
            ],
            [
             0.1111111111111111,
             "#46039f"
            ],
            [
             0.2222222222222222,
             "#7201a8"
            ],
            [
             0.3333333333333333,
             "#9c179e"
            ],
            [
             0.4444444444444444,
             "#bd3786"
            ],
            [
             0.5555555555555556,
             "#d8576b"
            ],
            [
             0.6666666666666666,
             "#ed7953"
            ],
            [
             0.7777777777777778,
             "#fb9f3a"
            ],
            [
             0.8888888888888888,
             "#fdca26"
            ],
            [
             1,
             "#f0f921"
            ]
           ]
          },
          "colorway": [
           "#636efa",
           "#EF553B",
           "#00cc96",
           "#ab63fa",
           "#FFA15A",
           "#19d3f3",
           "#FF6692",
           "#B6E880",
           "#FF97FF",
           "#FECB52"
          ],
          "font": {
           "color": "#f2f5fa"
          },
          "geo": {
           "bgcolor": "rgb(17,17,17)",
           "lakecolor": "rgb(17,17,17)",
           "landcolor": "rgb(17,17,17)",
           "showlakes": true,
           "showland": true,
           "subunitcolor": "#506784"
          },
          "hoverlabel": {
           "align": "left"
          },
          "hovermode": "closest",
          "mapbox": {
           "style": "dark"
          },
          "paper_bgcolor": "rgb(17,17,17)",
          "plot_bgcolor": "rgb(17,17,17)",
          "polar": {
           "angularaxis": {
            "gridcolor": "#506784",
            "linecolor": "#506784",
            "ticks": ""
           },
           "bgcolor": "rgb(17,17,17)",
           "radialaxis": {
            "gridcolor": "#506784",
            "linecolor": "#506784",
            "ticks": ""
           }
          },
          "scene": {
           "xaxis": {
            "backgroundcolor": "rgb(17,17,17)",
            "gridcolor": "#506784",
            "gridwidth": 2,
            "linecolor": "#506784",
            "showbackground": true,
            "ticks": "",
            "zerolinecolor": "#C8D4E3"
           },
           "yaxis": {
            "backgroundcolor": "rgb(17,17,17)",
            "gridcolor": "#506784",
            "gridwidth": 2,
            "linecolor": "#506784",
            "showbackground": true,
            "ticks": "",
            "zerolinecolor": "#C8D4E3"
           },
           "zaxis": {
            "backgroundcolor": "rgb(17,17,17)",
            "gridcolor": "#506784",
            "gridwidth": 2,
            "linecolor": "#506784",
            "showbackground": true,
            "ticks": "",
            "zerolinecolor": "#C8D4E3"
           }
          },
          "shapedefaults": {
           "line": {
            "color": "#f2f5fa"
           }
          },
          "sliderdefaults": {
           "bgcolor": "#C8D4E3",
           "bordercolor": "rgb(17,17,17)",
           "borderwidth": 1,
           "tickwidth": 0
          },
          "ternary": {
           "aaxis": {
            "gridcolor": "#506784",
            "linecolor": "#506784",
            "ticks": ""
           },
           "baxis": {
            "gridcolor": "#506784",
            "linecolor": "#506784",
            "ticks": ""
           },
           "bgcolor": "rgb(17,17,17)",
           "caxis": {
            "gridcolor": "#506784",
            "linecolor": "#506784",
            "ticks": ""
           }
          },
          "title": {
           "x": 0.05
          },
          "updatemenudefaults": {
           "bgcolor": "#506784",
           "borderwidth": 0
          },
          "xaxis": {
           "automargin": true,
           "gridcolor": "#283442",
           "linecolor": "#506784",
           "ticks": "",
           "title": {
            "standoff": 15
           },
           "zerolinecolor": "#283442",
           "zerolinewidth": 2
          },
          "yaxis": {
           "automargin": true,
           "gridcolor": "#283442",
           "linecolor": "#506784",
           "ticks": "",
           "title": {
            "standoff": 15
           },
           "zerolinecolor": "#283442",
           "zerolinewidth": 2
          }
         }
        },
        "xaxis": {
         "anchor": "y",
         "domain": [
          0,
          1
         ],
         "title": {
          "text": "Distance (miles)"
         }
        },
        "yaxis": {
         "anchor": "x",
         "domain": [
          0,
          1
         ],
         "title": {
          "text": "Average Time (hours)"
         }
        }
       }
      },
      "text/html": [
       "<div>                            <div id=\"adc4b521-9ce9-434d-a5bd-8a4fee94efd1\" class=\"plotly-graph-div\" style=\"height:525px; width:100%;\"></div>            <script type=\"text/javascript\">                require([\"plotly\"], function(Plotly) {                    window.PLOTLYENV=window.PLOTLYENV || {};                                    if (document.getElementById(\"adc4b521-9ce9-434d-a5bd-8a4fee94efd1\")) {                    Plotly.newPlot(                        \"adc4b521-9ce9-434d-a5bd-8a4fee94efd1\",                        [{\"hovertemplate\":\"Distance (miles)=%{x}<br>Average Time (hours)=%{y}<br>Difficulty=%{marker.color}<extra></extra>\",\"legendgroup\":\"\",\"marker\":{\"color\":[1.0,2.5,3.0,2.0,2.0,3.0,3.0,1.0,2.0,1.0,3.0,3.0,1.5,2.0,3.0,2.0,1.5,1.0,2.0,2.0,1.5,2.0,2.0,1.5,3.0,2.0,1.5,1.0,1.0,1.0],\"coloraxis\":\"coloraxis\",\"symbol\":\"circle\"},\"mode\":\"markers\",\"name\":\"\",\"orientation\":\"v\",\"showlegend\":false,\"type\":\"scatter\",\"x\":[2.0,2.2,4.6,2.4,4.0,11.4,6.2,1.1,3.6,0.2,11.8,15.8,0.8,2.0,2.2,4.0,2.4,0.4,2.2,3.6,2.0,3.0,4.8,4.0,3.5,2.6,1.5,1.5,1.3,1.0],\"xaxis\":\"x\",\"y\":[1.5,2.0,3.5,1.5,2.5,6.0,3.5,1.25,2.0,0.5,5.0,6.0,1.0,2.0,2.0,2.5,2.0,1.0,1.5,2.5,1.5,3.0,3.5,2.0,2.5,1.5,1.0,1.0,1.0,0.5],\"yaxis\":\"y\"}],                        {\"coloraxis\":{\"colorbar\":{\"title\":{\"text\":\"Difficulty\"}},\"colorscale\":[[0.0,\"rgb(255,245,240)\"],[0.125,\"rgb(254,224,210)\"],[0.25,\"rgb(252,187,161)\"],[0.375,\"rgb(252,146,114)\"],[0.5,\"rgb(251,106,74)\"],[0.625,\"rgb(239,59,44)\"],[0.75,\"rgb(203,24,29)\"],[0.875,\"rgb(165,15,21)\"],[1.0,\"rgb(103,0,13)\"]]},\"legend\":{\"tracegroupgap\":0},\"margin\":{\"t\":60},\"template\":{\"data\":{\"bar\":[{\"error_x\":{\"color\":\"#f2f5fa\"},\"error_y\":{\"color\":\"#f2f5fa\"},\"marker\":{\"line\":{\"color\":\"rgb(17,17,17)\",\"width\":0.5},\"pattern\":{\"fillmode\":\"overlay\",\"size\":10,\"solidity\":0.2}},\"type\":\"bar\"}],\"barpolar\":[{\"marker\":{\"line\":{\"color\":\"rgb(17,17,17)\",\"width\":0.5},\"pattern\":{\"fillmode\":\"overlay\",\"size\":10,\"solidity\":0.2}},\"type\":\"barpolar\"}],\"carpet\":[{\"aaxis\":{\"endlinecolor\":\"#A2B1C6\",\"gridcolor\":\"#506784\",\"linecolor\":\"#506784\",\"minorgridcolor\":\"#506784\",\"startlinecolor\":\"#A2B1C6\"},\"baxis\":{\"endlinecolor\":\"#A2B1C6\",\"gridcolor\":\"#506784\",\"linecolor\":\"#506784\",\"minorgridcolor\":\"#506784\",\"startlinecolor\":\"#A2B1C6\"},\"type\":\"carpet\"}],\"choropleth\":[{\"colorbar\":{\"outlinewidth\":0,\"ticks\":\"\"},\"type\":\"choropleth\"}],\"contour\":[{\"colorbar\":{\"outlinewidth\":0,\"ticks\":\"\"},\"colorscale\":[[0.0,\"#0d0887\"],[0.1111111111111111,\"#46039f\"],[0.2222222222222222,\"#7201a8\"],[0.3333333333333333,\"#9c179e\"],[0.4444444444444444,\"#bd3786\"],[0.5555555555555556,\"#d8576b\"],[0.6666666666666666,\"#ed7953\"],[0.7777777777777778,\"#fb9f3a\"],[0.8888888888888888,\"#fdca26\"],[1.0,\"#f0f921\"]],\"type\":\"contour\"}],\"contourcarpet\":[{\"colorbar\":{\"outlinewidth\":0,\"ticks\":\"\"},\"type\":\"contourcarpet\"}],\"heatmap\":[{\"colorbar\":{\"outlinewidth\":0,\"ticks\":\"\"},\"colorscale\":[[0.0,\"#0d0887\"],[0.1111111111111111,\"#46039f\"],[0.2222222222222222,\"#7201a8\"],[0.3333333333333333,\"#9c179e\"],[0.4444444444444444,\"#bd3786\"],[0.5555555555555556,\"#d8576b\"],[0.6666666666666666,\"#ed7953\"],[0.7777777777777778,\"#fb9f3a\"],[0.8888888888888888,\"#fdca26\"],[1.0,\"#f0f921\"]],\"type\":\"heatmap\"}],\"heatmapgl\":[{\"colorbar\":{\"outlinewidth\":0,\"ticks\":\"\"},\"colorscale\":[[0.0,\"#0d0887\"],[0.1111111111111111,\"#46039f\"],[0.2222222222222222,\"#7201a8\"],[0.3333333333333333,\"#9c179e\"],[0.4444444444444444,\"#bd3786\"],[0.5555555555555556,\"#d8576b\"],[0.6666666666666666,\"#ed7953\"],[0.7777777777777778,\"#fb9f3a\"],[0.8888888888888888,\"#fdca26\"],[1.0,\"#f0f921\"]],\"type\":\"heatmapgl\"}],\"histogram\":[{\"marker\":{\"pattern\":{\"fillmode\":\"overlay\",\"size\":10,\"solidity\":0.2}},\"type\":\"histogram\"}],\"histogram2d\":[{\"colorbar\":{\"outlinewidth\":0,\"ticks\":\"\"},\"colorscale\":[[0.0,\"#0d0887\"],[0.1111111111111111,\"#46039f\"],[0.2222222222222222,\"#7201a8\"],[0.3333333333333333,\"#9c179e\"],[0.4444444444444444,\"#bd3786\"],[0.5555555555555556,\"#d8576b\"],[0.6666666666666666,\"#ed7953\"],[0.7777777777777778,\"#fb9f3a\"],[0.8888888888888888,\"#fdca26\"],[1.0,\"#f0f921\"]],\"type\":\"histogram2d\"}],\"histogram2dcontour\":[{\"colorbar\":{\"outlinewidth\":0,\"ticks\":\"\"},\"colorscale\":[[0.0,\"#0d0887\"],[0.1111111111111111,\"#46039f\"],[0.2222222222222222,\"#7201a8\"],[0.3333333333333333,\"#9c179e\"],[0.4444444444444444,\"#bd3786\"],[0.5555555555555556,\"#d8576b\"],[0.6666666666666666,\"#ed7953\"],[0.7777777777777778,\"#fb9f3a\"],[0.8888888888888888,\"#fdca26\"],[1.0,\"#f0f921\"]],\"type\":\"histogram2dcontour\"}],\"mesh3d\":[{\"colorbar\":{\"outlinewidth\":0,\"ticks\":\"\"},\"type\":\"mesh3d\"}],\"parcoords\":[{\"line\":{\"colorbar\":{\"outlinewidth\":0,\"ticks\":\"\"}},\"type\":\"parcoords\"}],\"pie\":[{\"automargin\":true,\"type\":\"pie\"}],\"scatter\":[{\"marker\":{\"line\":{\"color\":\"#283442\"}},\"type\":\"scatter\"}],\"scatter3d\":[{\"line\":{\"colorbar\":{\"outlinewidth\":0,\"ticks\":\"\"}},\"marker\":{\"colorbar\":{\"outlinewidth\":0,\"ticks\":\"\"}},\"type\":\"scatter3d\"}],\"scattercarpet\":[{\"marker\":{\"colorbar\":{\"outlinewidth\":0,\"ticks\":\"\"}},\"type\":\"scattercarpet\"}],\"scattergeo\":[{\"marker\":{\"colorbar\":{\"outlinewidth\":0,\"ticks\":\"\"}},\"type\":\"scattergeo\"}],\"scattergl\":[{\"marker\":{\"line\":{\"color\":\"#283442\"}},\"type\":\"scattergl\"}],\"scattermapbox\":[{\"marker\":{\"colorbar\":{\"outlinewidth\":0,\"ticks\":\"\"}},\"type\":\"scattermapbox\"}],\"scatterpolar\":[{\"marker\":{\"colorbar\":{\"outlinewidth\":0,\"ticks\":\"\"}},\"type\":\"scatterpolar\"}],\"scatterpolargl\":[{\"marker\":{\"colorbar\":{\"outlinewidth\":0,\"ticks\":\"\"}},\"type\":\"scatterpolargl\"}],\"scatterternary\":[{\"marker\":{\"colorbar\":{\"outlinewidth\":0,\"ticks\":\"\"}},\"type\":\"scatterternary\"}],\"surface\":[{\"colorbar\":{\"outlinewidth\":0,\"ticks\":\"\"},\"colorscale\":[[0.0,\"#0d0887\"],[0.1111111111111111,\"#46039f\"],[0.2222222222222222,\"#7201a8\"],[0.3333333333333333,\"#9c179e\"],[0.4444444444444444,\"#bd3786\"],[0.5555555555555556,\"#d8576b\"],[0.6666666666666666,\"#ed7953\"],[0.7777777777777778,\"#fb9f3a\"],[0.8888888888888888,\"#fdca26\"],[1.0,\"#f0f921\"]],\"type\":\"surface\"}],\"table\":[{\"cells\":{\"fill\":{\"color\":\"#506784\"},\"line\":{\"color\":\"rgb(17,17,17)\"}},\"header\":{\"fill\":{\"color\":\"#2a3f5f\"},\"line\":{\"color\":\"rgb(17,17,17)\"}},\"type\":\"table\"}]},\"layout\":{\"annotationdefaults\":{\"arrowcolor\":\"#f2f5fa\",\"arrowhead\":0,\"arrowwidth\":1},\"autotypenumbers\":\"strict\",\"coloraxis\":{\"colorbar\":{\"outlinewidth\":0,\"ticks\":\"\"}},\"colorscale\":{\"diverging\":[[0,\"#8e0152\"],[0.1,\"#c51b7d\"],[0.2,\"#de77ae\"],[0.3,\"#f1b6da\"],[0.4,\"#fde0ef\"],[0.5,\"#f7f7f7\"],[0.6,\"#e6f5d0\"],[0.7,\"#b8e186\"],[0.8,\"#7fbc41\"],[0.9,\"#4d9221\"],[1,\"#276419\"]],\"sequential\":[[0.0,\"#0d0887\"],[0.1111111111111111,\"#46039f\"],[0.2222222222222222,\"#7201a8\"],[0.3333333333333333,\"#9c179e\"],[0.4444444444444444,\"#bd3786\"],[0.5555555555555556,\"#d8576b\"],[0.6666666666666666,\"#ed7953\"],[0.7777777777777778,\"#fb9f3a\"],[0.8888888888888888,\"#fdca26\"],[1.0,\"#f0f921\"]],\"sequentialminus\":[[0.0,\"#0d0887\"],[0.1111111111111111,\"#46039f\"],[0.2222222222222222,\"#7201a8\"],[0.3333333333333333,\"#9c179e\"],[0.4444444444444444,\"#bd3786\"],[0.5555555555555556,\"#d8576b\"],[0.6666666666666666,\"#ed7953\"],[0.7777777777777778,\"#fb9f3a\"],[0.8888888888888888,\"#fdca26\"],[1.0,\"#f0f921\"]]},\"colorway\":[\"#636efa\",\"#EF553B\",\"#00cc96\",\"#ab63fa\",\"#FFA15A\",\"#19d3f3\",\"#FF6692\",\"#B6E880\",\"#FF97FF\",\"#FECB52\"],\"font\":{\"color\":\"#f2f5fa\"},\"geo\":{\"bgcolor\":\"rgb(17,17,17)\",\"lakecolor\":\"rgb(17,17,17)\",\"landcolor\":\"rgb(17,17,17)\",\"showlakes\":true,\"showland\":true,\"subunitcolor\":\"#506784\"},\"hoverlabel\":{\"align\":\"left\"},\"hovermode\":\"closest\",\"mapbox\":{\"style\":\"dark\"},\"paper_bgcolor\":\"rgb(17,17,17)\",\"plot_bgcolor\":\"rgb(17,17,17)\",\"polar\":{\"angularaxis\":{\"gridcolor\":\"#506784\",\"linecolor\":\"#506784\",\"ticks\":\"\"},\"bgcolor\":\"rgb(17,17,17)\",\"radialaxis\":{\"gridcolor\":\"#506784\",\"linecolor\":\"#506784\",\"ticks\":\"\"}},\"scene\":{\"xaxis\":{\"backgroundcolor\":\"rgb(17,17,17)\",\"gridcolor\":\"#506784\",\"gridwidth\":2,\"linecolor\":\"#506784\",\"showbackground\":true,\"ticks\":\"\",\"zerolinecolor\":\"#C8D4E3\"},\"yaxis\":{\"backgroundcolor\":\"rgb(17,17,17)\",\"gridcolor\":\"#506784\",\"gridwidth\":2,\"linecolor\":\"#506784\",\"showbackground\":true,\"ticks\":\"\",\"zerolinecolor\":\"#C8D4E3\"},\"zaxis\":{\"backgroundcolor\":\"rgb(17,17,17)\",\"gridcolor\":\"#506784\",\"gridwidth\":2,\"linecolor\":\"#506784\",\"showbackground\":true,\"ticks\":\"\",\"zerolinecolor\":\"#C8D4E3\"}},\"shapedefaults\":{\"line\":{\"color\":\"#f2f5fa\"}},\"sliderdefaults\":{\"bgcolor\":\"#C8D4E3\",\"bordercolor\":\"rgb(17,17,17)\",\"borderwidth\":1,\"tickwidth\":0},\"ternary\":{\"aaxis\":{\"gridcolor\":\"#506784\",\"linecolor\":\"#506784\",\"ticks\":\"\"},\"baxis\":{\"gridcolor\":\"#506784\",\"linecolor\":\"#506784\",\"ticks\":\"\"},\"bgcolor\":\"rgb(17,17,17)\",\"caxis\":{\"gridcolor\":\"#506784\",\"linecolor\":\"#506784\",\"ticks\":\"\"}},\"title\":{\"x\":0.05},\"updatemenudefaults\":{\"bgcolor\":\"#506784\",\"borderwidth\":0},\"xaxis\":{\"automargin\":true,\"gridcolor\":\"#283442\",\"linecolor\":\"#506784\",\"ticks\":\"\",\"title\":{\"standoff\":15},\"zerolinecolor\":\"#283442\",\"zerolinewidth\":2},\"yaxis\":{\"automargin\":true,\"gridcolor\":\"#283442\",\"linecolor\":\"#506784\",\"ticks\":\"\",\"title\":{\"standoff\":15},\"zerolinecolor\":\"#283442\",\"zerolinewidth\":2}}},\"xaxis\":{\"anchor\":\"y\",\"domain\":[0.0,1.0],\"title\":{\"text\":\"Distance (miles)\"}},\"yaxis\":{\"anchor\":\"x\",\"domain\":[0.0,1.0],\"title\":{\"text\":\"Average Time (hours)\"}}},                        {\"responsive\": true}                    ).then(function(){\n",
       "                            \n",
       "var gd = document.getElementById('adc4b521-9ce9-434d-a5bd-8a4fee94efd1');\n",
       "var x = new MutationObserver(function (mutations, observer) {{\n",
       "        var display = window.getComputedStyle(gd).display;\n",
       "        if (!display || display === 'none') {{\n",
       "            console.log([gd, 'removed!']);\n",
       "            Plotly.purge(gd);\n",
       "            observer.disconnect();\n",
       "        }}\n",
       "}});\n",
       "\n",
       "// Listen for the removal of the full notebook cells\n",
       "var notebookContainer = gd.closest('#notebook-container');\n",
       "if (notebookContainer) {{\n",
       "    x.observe(notebookContainer, {childList: true});\n",
       "}}\n",
       "\n",
       "// Listen for the clearing of the current output cell\n",
       "var outputEl = gd.closest('.output');\n",
       "if (outputEl) {{\n",
       "    x.observe(outputEl, {childList: true});\n",
       "}}\n",
       "\n",
       "                        })                };                });            </script>        </div>"
      ]
     },
     "metadata": {},
     "output_type": "display_data"
    }
   ],
   "source": [
    "px.scatter(df, x = \"Distance (miles)\", y = \"Average Time (hours)\", \n",
    "           color = \"Difficulty\", color_continuous_scale = \"reds\", template = \"plotly_dark\",symbols)"
   ]
  },
  {
   "cell_type": "code",
   "execution_count": null,
   "id": "68f6155f",
   "metadata": {},
   "outputs": [],
   "source": []
  }
 ],
 "metadata": {
  "kernelspec": {
   "display_name": "Python 3 (ipykernel)",
   "language": "python",
   "name": "python3"
  },
  "language_info": {
   "codemirror_mode": {
    "name": "ipython",
    "version": 3
   },
   "file_extension": ".py",
   "mimetype": "text/x-python",
   "name": "python",
   "nbconvert_exporter": "python",
   "pygments_lexer": "ipython3",
   "version": "3.9.7"
  }
 },
 "nbformat": 4,
 "nbformat_minor": 5
}
